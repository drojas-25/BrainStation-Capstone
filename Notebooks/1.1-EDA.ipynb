{
 "cells": [
  {
   "cell_type": "markdown",
   "id": "b5dcec2d-e570-498b-af37-8bb47529852e",
   "metadata": {},
   "source": [
    "# Introduction\n",
    "## Title:\n",
    "### Urban Explorer: Machine Learning Driven Discoveries\n",
    "## Goal:\n",
    "My project aims to develop a machine learning-based solution that provides personalized recommendations for travelers based on their preferences and past travel history\n",
    "## Notebook Overview:\n",
    "The notebook includes steps for exploring and analyzing data for a better understanding of the datasets involved. The final goal of the notebook is to export this cleaned and structured data for further data manipulation and modeling.\n",
    "## Data Overview:\n",
    "My data is sourced directly from Yelp. Follow the steps below in order to run the notebook. \n",
    "1. The most recent version of this data set can be obtained [here](https://www.yelp.com/dataset)\n",
    "2. You'll only need the JSON data which will be in a compressed .tgz file\n",
    "3. Copy decompressed files into the following directory: ~/BrainStation-Capstone/Data/original_data_sets\n",
    "4. You'll need the three JSON files below, you may delete the rest\n",
    "    - yelp_academic_dataset_business.json\n",
    "    - yelp_academic_dataset_review.json\n",
    "    - yelp_academic_dataset_user.json"
   ]
  },
  {
   "cell_type": "markdown",
   "id": "e3fbe312",
   "metadata": {},
   "source": [
    "# Table of Contents\n",
    "\n",
    "- [Introduction](#introduction)\n",
    "- [Setup](#setup)\n",
    "- [Business Data Set](#business-data-set)\n",
    "  - [Business Details](#business-details)\n",
    "  - [Stars](#stars)\n",
    "  - [Review Count](#review-count)\n",
    "  - [Is Open](#is-open)\n",
    "  - [Attributes](#attributes)\n",
    "  - [Categories](#categories)\n",
    "  - [Hours](#hours)\n",
    "- [User Data Set](#user-data-set)\n",
    "  - [Users](#users)\n",
    "  - [Review Count](#review-count)\n",
    "  - [Average Stars](#average-stars)\n",
    "- [Review Data Set](#review-data-set)\n",
    "      - [Data Dictionary](#data-dictionary)\n",
    "  - [Unique Identifiers](#unique-identifiers)\n",
    "  - [Stars](#stars)\n",
    "  - [Date](#date)\n",
    "- [Exporting Data](#exporting-data)\n",
    "\n"
   ]
  },
  {
   "cell_type": "markdown",
   "id": "02f10aad-513f-40d4-b39e-005c27b4bede",
   "metadata": {},
   "source": [
    "# Setup\n",
    "\n",
    "Let's get started by importing the required packages and defining some convenience functions. "
   ]
  },
  {
   "cell_type": "code",
   "execution_count": 20,
   "id": "ce33e36c-0a7a-45b5-be38-d32de3faea11",
   "metadata": {},
   "outputs": [],
   "source": [
    "# Imports\n",
    "import pandas as pd\n",
    "import numpy as np\n",
    "import json\n",
    "from collections import defaultdict\n",
    "import matplotlib.pyplot as plt\n",
    "\n",
    "# Function to print the structure of the JSON data\n",
    "def print_json_structure(data, indent=0):\n",
    "    \"\"\"\n",
    "    Prints the structure of the JSON data.\n",
    "\n",
    "    Parameters:\n",
    "    data (dict or list): The JSON data to be analyzed.\n",
    "    indent (int): The indentation level to make it more readable. Default is 0.\n",
    "\n",
    "    Returns:\n",
    "    Note: This function prints the structure of the JSON data.\n",
    "    \"\"\"\n",
    "    if isinstance(data, dict):\n",
    "        for key, value in data.items():\n",
    "            print(' ' * indent + str(key))\n",
    "            print_json_structure(value, indent + 2)\n",
    "    elif isinstance(data, list):\n",
    "        print(' ' * indent + '[List of {} elements]'.format(len(data)))\n",
    "        if len(data) > 0:\n",
    "            print_json_structure(data[0], indent + 2)\n",
    "    else:\n",
    "        print(' ' * indent + str(type(data)))\n",
    "\n",
    "# Check for missing values\n",
    "def check_missing_values(data):\n",
    "    \"\"\"\n",
    "    Checks for missing values in the dataset.\n",
    "\n",
    "    Parameters:\n",
    "    data (list of dict): The dataset to check for missing values.\n",
    "\n",
    "    Returns:\n",
    "    dict: A dictionary containing the count of missing values for each key in the dataset.\n",
    "    \"\"\"\n",
    "    all_keys = set()\n",
    "    for entry in data:\n",
    "        all_keys.update(entry.keys())\n",
    "    missing_values = {key: 0 for key in all_keys}\n",
    "    for entry in data:\n",
    "        for key in all_keys:\n",
    "            if key not in entry or entry[key] is None:\n",
    "                missing_values[key] += 1\n",
    "    return missing_values\n",
    "\n",
    "def check_duplicate_ids(data, id_column):\n",
    "    \"\"\"\n",
    "    Check for duplicate IDs in the given dataset.\n",
    "\n",
    "    Parameters:\n",
    "    data (list of dict): The dataset to check for duplicates.\n",
    "    id_column (str): The column name for the ID to check duplicates.\n",
    "\n",
    "    Returns:\n",
    "    DataFrame: A DataFrame containing the duplicate IDs and their counts.\n",
    "    \"\"\"\n",
    "    # Convert the data into a DataFrame\n",
    "    df = pd.DataFrame(data)\n",
    "    \n",
    "    # Check for duplicates\n",
    "    duplicate_ids = df[df.duplicated(subset=[id_column], keep=False)]\n",
    "    \n",
    "    # Group by ID and count occurrences\n",
    "    duplicate_counts = duplicate_ids.groupby(id_column).size().reset_index(name='count')\n",
    "    \n",
    "    return duplicate_counts\n",
    "\n",
    "def plot_distribution(df, column, title, xlabel, ylabel='Frequency', bins=20):\n",
    "    \"\"\"\n",
    "    Plots the distribution of a given column in the DataFrame with mean and median lines.\n",
    "    \n",
    "    Parameters:\n",
    "    df (pd.DataFrame): The DataFrame containing the data.\n",
    "    column (str): The column name for which the distribution is to be plotted.\n",
    "    title (str): The title of the plot.\n",
    "    xlabel (str): The label for the x-axis.\n",
    "    ylabel (str): The label for the y-axis.\n",
    "    bins (int): The number of bins for the histogram. Default is 20.\n",
    "    \"\"\"\n",
    "    values = df[column].dropna()\n",
    "    mean = round(values.mean(), 2)\n",
    "    median = values.median()\n",
    "\n",
    "    plt.figure(figsize=(10, 6))\n",
    "    plt.hist(values, bins=bins, edgecolor='k', alpha=0.7)\n",
    "    plt.title(title)\n",
    "    plt.xlabel(xlabel)\n",
    "    plt.ylabel(ylabel)\n",
    "    \n",
    "    plt.axvline(mean, color='red', linestyle='dashed', linewidth=1, label=f'Mean: {mean}')\n",
    "    plt.axvline(median, color='black', linestyle='solid', linewidth=1, label=f'Median: {median}')\n",
    "    \n",
    "    plt.legend()\n",
    "    plt.grid(True)\n",
    "\n",
    "    plt.show()"
   ]
  },
  {
   "cell_type": "markdown",
   "id": "50732ef8",
   "metadata": {},
   "source": [
    "# Business Data Set\n",
    "#### Data Dictionary\n",
    "Contains business data including location data, attributes, and categories.<br/>\n",
    "Info sourced from the data set [documentation](https://www.yelp.com/dataset/documentation/main)<br/>\n",
    "\n",
    "| COLUMN NAME   | DESCRIPTION                                    | DATA TYPE   |\n",
    "|---------------|------------------------------------------------|-------------|\n",
    "| `business_id` | 22 character unique string business id         | string      |\n",
    "| `name`        | The business's name                            | string      |\n",
    "| `address`     | The full address of the business               | string      |\n",
    "| `city`        | The city                                       | string      |\n",
    "| `state`       | 2 character state code, if applicable          | string      |\n",
    "| `postal_code` | The postal code                                | string      |\n",
    "| `latitude`    | Latitude                                       | float       |\n",
    "| `longitude`   | Longitude                                      | float       |\n",
    "| `stars`       | Star rating(1-5), rounded to half-stars        | float       |\n",
    "| `review_count`| Number of reviews                              | int         |\n",
    "| `is_open`     | 0 or 1 for closed or open, respectively        | int         |\n",
    "| `attributes`  | Business attributes to values                  | dict        |\n",
    "| `categories`  | Array of strings of business categories        | list        |\n",
    "| `hours`       | Key day to value hours, hours are using a 24hr clock | dict  |"
   ]
  },
  {
   "cell_type": "markdown",
   "id": "1dd92fc7",
   "metadata": {},
   "source": [
    "##### Loading Data\n",
    "- I'll go ahead load the JSON file which contains multiple JSON objects, each representing a different business.\n",
    "- I'm going to go ahead and exclude objects the contain null values for certain fields such as name, city, categories, etc. These fields are necessary for either modeling or for filtering purposes.\n",
    "- I'll also remove the attributes object from each business to conserve memory before converting data into a pandas data frame. "
   ]
  },
  {
   "cell_type": "code",
   "execution_count": 21,
   "id": "28794e96-1170-40fd-904c-b98f8da45836",
   "metadata": {},
   "outputs": [
    {
     "name": "stdout",
     "output_type": "stream",
     "text": [
      "Number of entries: 150243\n"
     ]
    }
   ],
   "source": [
    "# Initialize an empty list to hold the data\n",
    "data = []\n",
    "\n",
    "# List of required fields\n",
    "required_fields = ['business_id', 'name', 'city', 'state', 'postal_code', \n",
    "                   'latitude', 'longitude', 'stars', 'review_count', 'is_open', 'categories']\n",
    "\n",
    "# Read the file line by line and parse each JSON object\n",
    "with open('../Data/original_data_sets/yelp_academic_dataset_business.json') as f:\n",
    "    for line in f:\n",
    "        try:\n",
    "            entry = json.loads(line)\n",
    "            # Check if all required fields are present and not null\n",
    "            if all(field in entry and entry[field] is not None for field in required_fields):\n",
    "                # Exclude the 'attributes' object\n",
    "                filtered_entry = {key: value for key, value in entry.items() if key != 'attributes'}\n",
    "                data.append(filtered_entry)\n",
    "        except json.JSONDecodeError as e:\n",
    "            print(f\"Error decoding JSON on line: {line}\")\n",
    "            print(e)\n",
    "# Checking the number of entries\n",
    "num_entries = len(data)\n",
    "print(f\"Number of entries: {num_entries}\")\n"
   ]
  },
  {
   "cell_type": "code",
   "execution_count": 22,
   "id": "4b58af4c",
   "metadata": {},
   "outputs": [
    {
     "name": "stdout",
     "output_type": "stream",
     "text": [
      "\n",
      "Sample entry:\n",
      "{\n",
      "   \"business_id\": \"Pns2l4eNsfO8kk83dixA6A\",\n",
      "   \"name\": \"Abby Rappoport, LAC, CMQ\",\n",
      "   \"address\": \"1616 Chapala St, Ste 2\",\n",
      "   \"city\": \"Santa Barbara\",\n",
      "   \"state\": \"CA\",\n",
      "   \"postal_code\": \"93101\",\n",
      "   \"latitude\": 34.4266787,\n",
      "   \"longitude\": -119.7111968,\n",
      "   \"stars\": 5.0,\n",
      "   \"review_count\": 7,\n",
      "   \"is_open\": 0,\n",
      "   \"categories\": \"Doctors, Traditional Chinese Medicine, Naturopathic/Holistic, Acupuncture, Health & Medical, Nutritionists\",\n",
      "   \"hours\": null\n",
      "}\n"
     ]
    }
   ],
   "source": [
    "# Inspecting the first entry to understand the structure\n",
    "print(\"\\nSample entry:\")\n",
    "print(json.dumps(data[0], indent=3))"
   ]
  },
  {
   "cell_type": "code",
   "execution_count": 23,
   "id": "b1bb49da",
   "metadata": {},
   "outputs": [
    {
     "name": "stdout",
     "output_type": "stream",
     "text": [
      "\n",
      "Top-level keys: ['business_id', 'categories', 'city', 'longitude', 'name', 'postal_code', 'stars', 'review_count', 'is_open', 'hours', 'state', 'address', 'latitude']\n"
     ]
    }
   ],
   "source": [
    "# All unique keys at the top level\n",
    "keys = set()\n",
    "for entry in data:\n",
    "    keys.update(entry.keys())\n",
    "print(f\"\\nTop-level keys: {list(keys)}\")"
   ]
  },
  {
   "cell_type": "code",
   "execution_count": 24,
   "id": "cd72162c",
   "metadata": {},
   "outputs": [
    {
     "name": "stdout",
     "output_type": "stream",
     "text": [
      "\n",
      "Data Types:\n",
      "business_id: str\n",
      "name: str\n",
      "address: str\n",
      "city: str\n",
      "state: str\n",
      "postal_code: str\n",
      "latitude: float\n",
      "longitude: float\n",
      "stars: float\n",
      "review_count: int\n",
      "is_open: int\n",
      "categories: str\n",
      "hours: NoneType, dict\n"
     ]
    }
   ],
   "source": [
    "# Summarize data types for each key\n",
    "data_types = defaultdict(set)\n",
    "for entry in data:\n",
    "    for key, value in entry.items():\n",
    "        data_types[key].add(type(value).__name__)\n",
    "\n",
    "print(\"\\nData Types:\")\n",
    "for key, types in data_types.items():\n",
    "    print(f\"{key}: {', '.join(types)}\")"
   ]
  },
  {
   "cell_type": "code",
   "execution_count": 25,
   "id": "2a20f6a8",
   "metadata": {},
   "outputs": [
    {
     "name": "stdout",
     "output_type": "stream",
     "text": [
      "Missing Values:\n",
      "business_id: 0 missing values\n",
      "categories: 0 missing values\n",
      "city: 0 missing values\n",
      "longitude: 0 missing values\n",
      "name: 0 missing values\n",
      "postal_code: 0 missing values\n",
      "stars: 0 missing values\n",
      "review_count: 0 missing values\n",
      "is_open: 0 missing values\n",
      "hours: 23120 missing values\n",
      "state: 0 missing values\n",
      "address: 0 missing values\n",
      "latitude: 0 missing values\n"
     ]
    }
   ],
   "source": [
    "# Checking missing values using function defined earlier\n",
    "missing_values = check_missing_values(data)\n",
    "print(\"Missing Values:\")\n",
    "for key, count in missing_values.items():\n",
    "    print(f\"{key}: {count} missing values\")"
   ]
  },
  {
   "cell_type": "code",
   "execution_count": 26,
   "id": "e4d78224",
   "metadata": {},
   "outputs": [
    {
     "data": {
      "text/html": [
       "<div>\n",
       "<style scoped>\n",
       "    .dataframe tbody tr th:only-of-type {\n",
       "        vertical-align: middle;\n",
       "    }\n",
       "\n",
       "    .dataframe tbody tr th {\n",
       "        vertical-align: top;\n",
       "    }\n",
       "\n",
       "    .dataframe thead th {\n",
       "        text-align: right;\n",
       "    }\n",
       "</style>\n",
       "<table border=\"1\" class=\"dataframe\">\n",
       "  <thead>\n",
       "    <tr style=\"text-align: right;\">\n",
       "      <th></th>\n",
       "      <th>business_id</th>\n",
       "      <th>count</th>\n",
       "    </tr>\n",
       "  </thead>\n",
       "  <tbody>\n",
       "  </tbody>\n",
       "</table>\n",
       "</div>"
      ],
      "text/plain": [
       "Empty DataFrame\n",
       "Columns: [business_id, count]\n",
       "Index: []"
      ]
     },
     "execution_count": 26,
     "metadata": {},
     "output_type": "execute_result"
    }
   ],
   "source": [
    "# Checking duplicate businesses using function defined earlier\n",
    "check_duplicate_ids(data, 'business_id')"
   ]
  },
  {
   "cell_type": "code",
   "execution_count": 27,
   "id": "70fba427-79c6-4da6-86dc-b91493eef243",
   "metadata": {},
   "outputs": [
    {
     "data": {
      "text/html": [
       "<div>\n",
       "<style scoped>\n",
       "    .dataframe tbody tr th:only-of-type {\n",
       "        vertical-align: middle;\n",
       "    }\n",
       "\n",
       "    .dataframe tbody tr th {\n",
       "        vertical-align: top;\n",
       "    }\n",
       "\n",
       "    .dataframe thead th {\n",
       "        text-align: right;\n",
       "    }\n",
       "</style>\n",
       "<table border=\"1\" class=\"dataframe\">\n",
       "  <thead>\n",
       "    <tr style=\"text-align: right;\">\n",
       "      <th></th>\n",
       "      <th>business_id</th>\n",
       "      <th>name</th>\n",
       "      <th>address</th>\n",
       "      <th>city</th>\n",
       "      <th>state</th>\n",
       "      <th>postal_code</th>\n",
       "      <th>latitude</th>\n",
       "      <th>longitude</th>\n",
       "      <th>stars</th>\n",
       "      <th>review_count</th>\n",
       "      <th>is_open</th>\n",
       "      <th>categories</th>\n",
       "      <th>hours</th>\n",
       "    </tr>\n",
       "  </thead>\n",
       "  <tbody>\n",
       "    <tr>\n",
       "      <th>0</th>\n",
       "      <td>Pns2l4eNsfO8kk83dixA6A</td>\n",
       "      <td>Abby Rappoport, LAC, CMQ</td>\n",
       "      <td>1616 Chapala St, Ste 2</td>\n",
       "      <td>Santa Barbara</td>\n",
       "      <td>CA</td>\n",
       "      <td>93101</td>\n",
       "      <td>34.426679</td>\n",
       "      <td>-119.711197</td>\n",
       "      <td>5.0</td>\n",
       "      <td>7</td>\n",
       "      <td>0</td>\n",
       "      <td>Doctors, Traditional Chinese Medicine, Naturop...</td>\n",
       "      <td>None</td>\n",
       "    </tr>\n",
       "    <tr>\n",
       "      <th>1</th>\n",
       "      <td>mpf3x-BjTdTEA3yCZrAYPw</td>\n",
       "      <td>The UPS Store</td>\n",
       "      <td>87 Grasso Plaza Shopping Center</td>\n",
       "      <td>Affton</td>\n",
       "      <td>MO</td>\n",
       "      <td>63123</td>\n",
       "      <td>38.551126</td>\n",
       "      <td>-90.335695</td>\n",
       "      <td>3.0</td>\n",
       "      <td>15</td>\n",
       "      <td>1</td>\n",
       "      <td>Shipping Centers, Local Services, Notaries, Ma...</td>\n",
       "      <td>{'Monday': '0:0-0:0', 'Tuesday': '8:0-18:30', ...</td>\n",
       "    </tr>\n",
       "    <tr>\n",
       "      <th>2</th>\n",
       "      <td>tUFrWirKiKi_TAnsVWINQQ</td>\n",
       "      <td>Target</td>\n",
       "      <td>5255 E Broadway Blvd</td>\n",
       "      <td>Tucson</td>\n",
       "      <td>AZ</td>\n",
       "      <td>85711</td>\n",
       "      <td>32.223236</td>\n",
       "      <td>-110.880452</td>\n",
       "      <td>3.5</td>\n",
       "      <td>22</td>\n",
       "      <td>0</td>\n",
       "      <td>Department Stores, Shopping, Fashion, Home &amp; G...</td>\n",
       "      <td>{'Monday': '8:0-22:0', 'Tuesday': '8:0-22:0', ...</td>\n",
       "    </tr>\n",
       "    <tr>\n",
       "      <th>3</th>\n",
       "      <td>MTSW4McQd7CbVtyjqoe9mw</td>\n",
       "      <td>St Honore Pastries</td>\n",
       "      <td>935 Race St</td>\n",
       "      <td>Philadelphia</td>\n",
       "      <td>PA</td>\n",
       "      <td>19107</td>\n",
       "      <td>39.955505</td>\n",
       "      <td>-75.155564</td>\n",
       "      <td>4.0</td>\n",
       "      <td>80</td>\n",
       "      <td>1</td>\n",
       "      <td>Restaurants, Food, Bubble Tea, Coffee &amp; Tea, B...</td>\n",
       "      <td>{'Monday': '7:0-20:0', 'Tuesday': '7:0-20:0', ...</td>\n",
       "    </tr>\n",
       "    <tr>\n",
       "      <th>4</th>\n",
       "      <td>mWMc6_wTdE0EUBKIGXDVfA</td>\n",
       "      <td>Perkiomen Valley Brewery</td>\n",
       "      <td>101 Walnut St</td>\n",
       "      <td>Green Lane</td>\n",
       "      <td>PA</td>\n",
       "      <td>18054</td>\n",
       "      <td>40.338183</td>\n",
       "      <td>-75.471659</td>\n",
       "      <td>4.5</td>\n",
       "      <td>13</td>\n",
       "      <td>1</td>\n",
       "      <td>Brewpubs, Breweries, Food</td>\n",
       "      <td>{'Wednesday': '14:0-22:0', 'Thursday': '16:0-2...</td>\n",
       "    </tr>\n",
       "  </tbody>\n",
       "</table>\n",
       "</div>"
      ],
      "text/plain": [
       "              business_id                      name  \\\n",
       "0  Pns2l4eNsfO8kk83dixA6A  Abby Rappoport, LAC, CMQ   \n",
       "1  mpf3x-BjTdTEA3yCZrAYPw             The UPS Store   \n",
       "2  tUFrWirKiKi_TAnsVWINQQ                    Target   \n",
       "3  MTSW4McQd7CbVtyjqoe9mw        St Honore Pastries   \n",
       "4  mWMc6_wTdE0EUBKIGXDVfA  Perkiomen Valley Brewery   \n",
       "\n",
       "                           address           city state postal_code  \\\n",
       "0           1616 Chapala St, Ste 2  Santa Barbara    CA       93101   \n",
       "1  87 Grasso Plaza Shopping Center         Affton    MO       63123   \n",
       "2             5255 E Broadway Blvd         Tucson    AZ       85711   \n",
       "3                      935 Race St   Philadelphia    PA       19107   \n",
       "4                    101 Walnut St     Green Lane    PA       18054   \n",
       "\n",
       "    latitude   longitude  stars  review_count  is_open  \\\n",
       "0  34.426679 -119.711197    5.0             7        0   \n",
       "1  38.551126  -90.335695    3.0            15        1   \n",
       "2  32.223236 -110.880452    3.5            22        0   \n",
       "3  39.955505  -75.155564    4.0            80        1   \n",
       "4  40.338183  -75.471659    4.5            13        1   \n",
       "\n",
       "                                          categories  \\\n",
       "0  Doctors, Traditional Chinese Medicine, Naturop...   \n",
       "1  Shipping Centers, Local Services, Notaries, Ma...   \n",
       "2  Department Stores, Shopping, Fashion, Home & G...   \n",
       "3  Restaurants, Food, Bubble Tea, Coffee & Tea, B...   \n",
       "4                          Brewpubs, Breweries, Food   \n",
       "\n",
       "                                               hours  \n",
       "0                                               None  \n",
       "1  {'Monday': '0:0-0:0', 'Tuesday': '8:0-18:30', ...  \n",
       "2  {'Monday': '8:0-22:0', 'Tuesday': '8:0-22:0', ...  \n",
       "3  {'Monday': '7:0-20:0', 'Tuesday': '7:0-20:0', ...  \n",
       "4  {'Wednesday': '14:0-22:0', 'Thursday': '16:0-2...  "
      ]
     },
     "execution_count": 27,
     "metadata": {},
     "output_type": "execute_result"
    }
   ],
   "source": [
    "# Convert the filtered list of dictionaries to a pandas DataFrame\n",
    "df_b = pd.DataFrame(data)\n",
    "df_b.head()"
   ]
  },
  {
   "cell_type": "code",
   "execution_count": 28,
   "id": "d20f4b92-fbb2-4daf-894f-ae4663e18d3e",
   "metadata": {},
   "outputs": [
    {
     "name": "stdout",
     "output_type": "stream",
     "text": [
      "<class 'pandas.core.frame.DataFrame'>\n",
      "RangeIndex: 150243 entries, 0 to 150242\n",
      "Data columns (total 13 columns):\n",
      " #   Column        Non-Null Count   Dtype  \n",
      "---  ------        --------------   -----  \n",
      " 0   business_id   150243 non-null  object \n",
      " 1   name          150243 non-null  object \n",
      " 2   address       150243 non-null  object \n",
      " 3   city          150243 non-null  object \n",
      " 4   state         150243 non-null  object \n",
      " 5   postal_code   150243 non-null  object \n",
      " 6   latitude      150243 non-null  float64\n",
      " 7   longitude     150243 non-null  float64\n",
      " 8   stars         150243 non-null  float64\n",
      " 9   review_count  150243 non-null  int64  \n",
      " 10  is_open       150243 non-null  int64  \n",
      " 11  categories    150243 non-null  object \n",
      " 12  hours         127123 non-null  object \n",
      "dtypes: float64(3), int64(2), object(8)\n",
      "memory usage: 14.9+ MB\n"
     ]
    }
   ],
   "source": [
    "# Gives me a a quick look at the data types for each column, number of entries, and columns.\n",
    "df_b.info()"
   ]
  },
  {
   "cell_type": "markdown",
   "id": "1b2cc7ba-d14e-416d-ad62-7ced4a07ea85",
   "metadata": {},
   "source": [
    "## Business Details\n",
    "The first eight columns contain information about the business, such as a business id, name of the business, address, city, state, postal code, and geo-location coordinates."
   ]
  },
  {
   "cell_type": "markdown",
   "id": "9428acb1-7c06-453a-8680-fe77682fba0d",
   "metadata": {},
   "source": [
    "**City**"
   ]
  },
  {
   "cell_type": "code",
   "execution_count": 29,
   "id": "e4c9a66d-ca12-4c0a-9255-3a32722dbed3",
   "metadata": {},
   "outputs": [
    {
     "data": {
      "text/plain": [
       "city\n",
       "Philadelphia      14560\n",
       "Tucson             9244\n",
       "Tampa              9042\n",
       "Indianapolis       7537\n",
       "Nashville          6969\n",
       "                  ...  \n",
       "Danboro               1\n",
       "Spokane               1\n",
       "ST. PETE BEACH        1\n",
       "Mt Ephraim            1\n",
       "Apollo beach          1\n",
       "Name: count, Length: 1415, dtype: int64"
      ]
     },
     "execution_count": 29,
     "metadata": {},
     "output_type": "execute_result"
    }
   ],
   "source": [
    "df_b['city'].value_counts()"
   ]
  },
  {
   "cell_type": "markdown",
   "id": "921be99e-53b6-45b8-9c9b-f91939a6fe8c",
   "metadata": {},
   "source": [
    "Interestingly, the dataset seems to represent significantly more cities than initially expected. I will have to do a deeper investigation, as the majority could represent suburbs surrounding major metropolitan areas."
   ]
  },
  {
   "cell_type": "markdown",
   "id": "6b2abb43-16d7-45d4-8e9f-26ffc631217d",
   "metadata": {},
   "source": [
    "**State**"
   ]
  },
  {
   "cell_type": "code",
   "execution_count": 30,
   "id": "070d0c02-11c6-49b4-92ec-df9069979fb8",
   "metadata": {},
   "outputs": [
    {
     "data": {
      "text/plain": [
       "state\n",
       "PA     34013\n",
       "FL     26309\n",
       "TN     12051\n",
       "IN     11243\n",
       "MO     10907\n",
       "LA      9916\n",
       "AZ      9906\n",
       "NJ      8527\n",
       "NV      7706\n",
       "AB      5572\n",
       "CA      5202\n",
       "ID      4464\n",
       "DE      2262\n",
       "IL      2144\n",
       "TX         4\n",
       "CO         3\n",
       "WA         2\n",
       "HI         2\n",
       "MA         2\n",
       "NC         1\n",
       "UT         1\n",
       "MT         1\n",
       "MI         1\n",
       "SD         1\n",
       "XMS        1\n",
       "VI         1\n",
       "VT         1\n",
       "Name: count, dtype: int64"
      ]
     },
     "execution_count": 30,
     "metadata": {},
     "output_type": "execute_result"
    }
   ],
   "source": [
    "df_b['state'].value_counts()"
   ]
  },
  {
   "cell_type": "markdown",
   "id": "c2c359e4-18e4-4360-9748-557f118f66ce",
   "metadata": {},
   "source": [
    "Data represent various states across the US and Canada"
   ]
  },
  {
   "cell_type": "markdown",
   "id": "a9909a44-41f6-458c-aeb9-9023149ef199",
   "metadata": {},
   "source": [
    "**Postal Code**"
   ]
  },
  {
   "cell_type": "code",
   "execution_count": 31,
   "id": "e855057a-6eb0-491e-8297-b60f62c61445",
   "metadata": {},
   "outputs": [
    {
     "data": {
      "text/plain": [
       "postal_code\n",
       "93101      1865\n",
       "89502      1803\n",
       "70130      1512\n",
       "19103      1362\n",
       "19107      1353\n",
       "           ... \n",
       "T5G 0N5       1\n",
       "46211         1\n",
       "T5K 1C4       1\n",
       "T6G 0W8       1\n",
       "T5J 4X6       1\n",
       "Name: count, Length: 3360, dtype: int64"
      ]
     },
     "execution_count": 31,
     "metadata": {},
     "output_type": "execute_result"
    }
   ],
   "source": [
    "df_b['postal_code'].value_counts()"
   ]
  },
  {
   "cell_type": "markdown",
   "id": "973e3bd6-ae56-49d9-a536-d594f2f5c2bf",
   "metadata": {},
   "source": [
    "An interesting thing to note is that Canadian postal codes have a noticeably different format; incorporating non-numeric values may be another layer of difficulty when performing an analysis. "
   ]
  },
  {
   "cell_type": "markdown",
   "id": "df5ffa0f-f858-4551-b935-909602c7611c",
   "metadata": {},
   "source": [
    "## Stars \n",
    "Column contains the average of all user ratings for a business (rounded to half star)."
   ]
  },
  {
   "cell_type": "code",
   "execution_count": 32,
   "id": "c264583c-6160-4575-b20a-2fb1d7b80f8d",
   "metadata": {},
   "outputs": [
    {
     "data": {
      "text/plain": [
       "stars\n",
       "4.0    31120\n",
       "4.5    27174\n",
       "3.5    26512\n",
       "3.0    18448\n",
       "5.0    16301\n",
       "2.5    14307\n",
       "2.0     9515\n",
       "1.5     4918\n",
       "1.0     1948\n",
       "Name: count, dtype: int64"
      ]
     },
     "execution_count": 32,
     "metadata": {},
     "output_type": "execute_result"
    }
   ],
   "source": [
    "df_b['stars'].value_counts()"
   ]
  },
  {
   "cell_type": "code",
   "execution_count": 33,
   "id": "2ac4cb66-ee0f-40e6-aee0-ae23566b4dad",
   "metadata": {},
   "outputs": [
    {
     "data": {
      "text/plain": [
       "3.5976817555559992"
      ]
     },
     "execution_count": 33,
     "metadata": {},
     "output_type": "execute_result"
    }
   ],
   "source": [
    "df_b['stars'].agg('average')"
   ]
  },
  {
   "cell_type": "markdown",
   "id": "104ad5ed-7261-453e-9602-488eb9729e09",
   "metadata": {},
   "source": [
    "Star ratings are given in increments of .5 with 4.0 the most common rating given to businesses and 3.6 being the average rating. "
   ]
  },
  {
   "cell_type": "code",
   "execution_count": 34,
   "id": "50a902fa",
   "metadata": {},
   "outputs": [
    {
     "data": {
      "image/png": "[encoded data removed]",
      "text/plain": [
       "<Figure size 1000x600 with 1 Axes>"
      ]
     },
     "metadata": {},
     "output_type": "display_data"
    }
   ],
   "source": [
    "# Distribution for review ratings\n",
    "plot_distribution(df_b, 'stars', 'Distribution of Star Ratings', 'Star Ratings','Number of Ratings',9)"
   ]
  },
  {
   "cell_type": "markdown",
   "id": "1144059f-25d2-44fc-a97d-c74bc785cb97",
   "metadata": {},
   "source": [
    "Plot visualizes a slightly right-skewed distribution. Show users tend to give higher ratings. "
   ]
  },
  {
   "cell_type": "markdown",
   "id": "a76b6baf-5c38-4e23-9825-8e5a4457436e",
   "metadata": {},
   "source": [
    "## Review Count \n",
    "The column contains a count of the number of user reviews for each business."
   ]
  },
  {
   "cell_type": "code",
   "execution_count": 35,
   "id": "9ccf6b60",
   "metadata": {},
   "outputs": [
    {
     "data": {
      "image/png": "[encoded data removed]",
      "text/plain": [
       "<Figure size 1000x600 with 1 Axes>"
      ]
     },
     "metadata": {},
     "output_type": "display_data"
    }
   ],
   "source": [
    "# Review count distribution\n",
    "plot_distribution(df_b, 'review_count', 'Distribution of Review Counts', 'Review Counts','Frequency', bins=10)"
   ]
  },
  {
   "cell_type": "markdown",
   "id": "e42ab19e-1d85-4854-92ac-1ab0e51e5031",
   "metadata": {},
   "source": [
    "The plot wasn't the best visual, but it did highlight the enormous range in the number of reviews a business receives. The median and mean also give a sense of the spread, the latter being significantly higher at 45 average reviews per business. "
   ]
  },
  {
   "cell_type": "markdown",
   "id": "f75e0ef9-935f-4904-b417-123ca9c0447a",
   "metadata": {},
   "source": [
    "## Is Open\n",
    "The binary column indicates where a business is still open and operating or permanently closed."
   ]
  },
  {
   "cell_type": "code",
   "execution_count": 36,
   "id": "0d172f19-8659-4484-a49f-dee77fab674f",
   "metadata": {},
   "outputs": [
    {
     "data": {
      "text/plain": [
       "is_open\n",
       "1    119603\n",
       "0     30640\n",
       "Name: count, dtype: int64"
      ]
     },
     "execution_count": 36,
     "metadata": {},
     "output_type": "execute_result"
    }
   ],
   "source": [
    "# Count of open and closed businesses\n",
    "df_b['is_open'].value_counts()"
   ]
  },
  {
   "cell_type": "code",
   "execution_count": 37,
   "id": "e008e7f8-4ff7-4693-92a0-4b55269d3878",
   "metadata": {},
   "outputs": [
    {
     "data": {
      "image/png": "[encoded data removed]",
      "text/plain": [
       "<Figure size 640x480 with 1 Axes>"
      ]
     },
     "metadata": {},
     "output_type": "display_data"
    }
   ],
   "source": [
    "# Plot of open vs closed businesses \n",
    "is_open_vc = df_b['is_open'].value_counts()\n",
    "is_open_vc.plot(kind='bar', color=['lightblue', 'blue'])\n",
    "\n",
    "plt.title('Open vs Closed Businesses')\n",
    "plt.xlabel('Business Status (1: Open, 0: Closed)')\n",
    "plt.ylabel('Number of Businesses')\n",
    "plt.xticks(rotation=0)\n",
    "\n",
    "# Save as PNG\n",
    "#plt.savefig('figures/OpenVsClosedBusinesses.png')\n",
    "\n",
    "plt.show()"
   ]
  },
  {
   "cell_type": "markdown",
   "id": "84687b9d-750d-4ea3-ae65-4d7042d03a43",
   "metadata": {},
   "source": [
    "30,640 businesses are closed, which accounts for 20% of the data. On the surface, you probably wouldn't want 'out-of-date' data; however, for my project, it could still be helpful to make connections between users and businesses they visited, regardless of whether they are still open. "
   ]
  },
  {
   "cell_type": "markdown",
   "id": "8425288d-b40a-43f2-90db-bd495971ea93",
   "metadata": {},
   "source": [
    "## Categories\n",
    "[Yelp Categories](https://blog.yelp.com/businesses/yelp_category_list/)<br/>\n",
    "The column contains a list of categories the business falls under; for more info, click the link above, where Yelp provides a breakdown of their category organization. "
   ]
  },
  {
   "cell_type": "markdown",
   "id": "5a8a4808-2fcb-4f38-a469-ab6fd465ead8",
   "metadata": {},
   "source": [
    "Will be dropping categories not relevent for travelling"
   ]
  },
  {
   "cell_type": "code",
   "execution_count": 38,
   "id": "c47489a0-123c-4e9d-bf86-1450ceddef78",
   "metadata": {},
   "outputs": [
    {
     "name": "stdout",
     "output_type": "stream",
     "text": [
      "               Category  Count\n",
      "0           Restaurants  52268\n",
      "1                  Food  14533\n",
      "5             Nightlife  12281\n",
      "2           Active Life   7687\n",
      "4       Hotels & Travel   5857\n",
      "3  Arts & Entertainment   5434\n"
     ]
    }
   ],
   "source": [
    "# initialize list using counts of each main category I plan on using\n",
    "category_counts = [['Restaurants', df_b['categories'].str.contains(\"Restaurants\").fillna(False).sum()], \n",
    "        ['Food', df_b['categories'].str.contains(\", Food,\").fillna(False).sum()], \n",
    "        ['Active Life', df_b['categories'].str.contains(\"Active Life\").fillna(False).sum()],\n",
    "        ['Arts & Entertainment', df_b['categories'].str.contains(\"Arts & Entertainment\").fillna(False).sum()],\n",
    "        ['Hotels & Travel', df_b['categories'].str.contains(\"Hotels & Travel\").fillna(False).sum()],\n",
    "        ['Nightlife', df_b['categories'].str.contains(\"Nightlife\").fillna(False).sum()]]\n",
    " \n",
    "# Create the pandas DataFrame\n",
    "df_categories = pd.DataFrame(category_counts, columns=['Category', 'Count'])\n",
    "\n",
    "# Sort Values\n",
    "df_categories = df_categories.sort_values('Count', ascending=False)\n",
    "# print dataframe.\n",
    "print(df_categories)"
   ]
  },
  {
   "cell_type": "code",
   "execution_count": 39,
   "id": "3f78c1a0-d644-4c03-9bc1-677d53ef4e9a",
   "metadata": {},
   "outputs": [
    {
     "data": {
      "text/plain": [
       "98060"
      ]
     },
     "execution_count": 39,
     "metadata": {},
     "output_type": "execute_result"
    }
   ],
   "source": [
    "# Get a total count of all travel related businesses\n",
    "df_categories['Count'].sum()"
   ]
  },
  {
   "cell_type": "code",
   "execution_count": 40,
   "id": "15c13e62-94f3-41e2-9cff-150d7ff191b0",
   "metadata": {},
   "outputs": [
    {
     "data": {
      "image/png": "[encoded data removed]",
      "text/plain": [
       "<Figure size 1000x500 with 1 Axes>"
      ]
     },
     "metadata": {},
     "output_type": "display_data"
    }
   ],
   "source": [
    "# Plot visualizing \n",
    "df_categories.plot('Category', 'Count', kind='bar', width=.75, figsize=(10,5))\n",
    "\n",
    "# Rotating X-axis labels\n",
    "plt.xticks(rotation = -60)\n",
    " \n",
    "# Setting title and axis labels\n",
    "plt.title('Businesses per Category')\n",
    "plt.xlabel(\"Categories\")\n",
    "plt.ylabel(\"Number of Businesses\")\n",
    "\n",
    "# Save bar chart to file\n",
    "#plt.savefig('figures/BusinessMainCategoriesChart.png', bbox_inches='tight')\n",
    " \n",
    "# Show plot\n",
    "plt.show()"
   ]
  },
  {
   "cell_type": "markdown",
   "id": "47026cb6-46b0-4c8c-960a-03e5ce7214d7",
   "metadata": {},
   "source": [
    "These six categories represent the businesses you typically would visit when traveling. <br>\n",
    "Restaurants are by far the most represented business category, which is further broken down by the type of cuisine served. The food category is a catch-all category for any food-related business that isn't a restaurant—places like bakeries, coffee shops, pastry shops, food trucks, etc. The nightlife category contains businesses such as bars, comedy clubs, dance clubs, etc. Active life includes Amusement parks, experiences, parks, zoos, etc. The hotels & travel category can include hotels, hostels, tours, vacation rentals, etc. Lastly, the least represented group can include places such as cultural centers, festivals, museums, etc. "
   ]
  },
  {
   "cell_type": "markdown",
   "id": "21d0a48e-02ea-4b1e-9d86-fb4450fcea67",
   "metadata": {},
   "source": [
    "## Hours\n",
    "The column contains a dictionary of business hours by day of the week.\n",
    "This could be important for a future feature, maybe filtering businesses that are open when a user requests a recommendation. "
   ]
  },
  {
   "cell_type": "code",
   "execution_count": 41,
   "id": "68a15dac-3355-4e12-aaa4-7c7fea539d42",
   "metadata": {},
   "outputs": [
    {
     "data": {
      "text/plain": [
       "23120"
      ]
     },
     "execution_count": 41,
     "metadata": {},
     "output_type": "execute_result"
    }
   ],
   "source": [
    "# Check for null values\n",
    "df_b['hours'].isna().sum()"
   ]
  },
  {
   "cell_type": "markdown",
   "id": "6e38f8de-c191-4791-87a6-cfbff5601072",
   "metadata": {},
   "source": [
    "May need to address the null values in the future, but will leave alone for now as 'hours' aren't needed for modeling"
   ]
  },
  {
   "cell_type": "markdown",
   "id": "eca252dd-e810-48c9-b4de-d832eb7d72bf",
   "metadata": {},
   "source": [
    "# User Data Set\n",
    "#### Data Dictionary\n",
    "User data including the user's friend mapping and all the metadata associated with the user.<br/>\n",
    "Info sourced from the data set [documentation](https://www.yelp.com/dataset/documentation/main)<br/>\n",
    "| COLUMN NAME               | DESCRIPTION                                                        | DATA TYPE |\n",
    "|---------------------------|--------------------------------------------------------------------|-----------|\n",
    "| `user_id`                   | Unique user ID                                                     | string    |\n",
    "| `name`                      | The user's first name                                              | string    |\n",
    "| `review_count`              | Number of reviews written by the user                              | integer   |\n",
    "| `yelping_since`             | When the user joined Yelp, formatted as YYYY-MM-DD                 | string    |\n",
    "| `friends`                   | Array of the user's friends as user_ids                            | array     |\n",
    "| `useful`                    | Number of useful votes sent by the user                            | integer   |\n",
    "| `funny`                     | Number of funny votes sent by the user                             | integer   |\n",
    "| `cool`                      | Number of cool votes sent by the user                              | integer   |\n",
    "| `fans`                      | Number of fans the user has                                        | integer   |\n",
    "| `elite`                     | Array of years the user was elite                                  | array     |\n",
    "| `average_stars`             | Average rating of all reviews                                      | float     |\n",
    "| `compliment_hot`            | Number of hot compliments received by the user                     | integer   |\n",
    "| `compliment_more`           | Number of more compliments received by the user                    | integer   |\n",
    "| `compliment_profile`        | Number of profile compliments received by the user                 | integer   |\n",
    "| `compliment_cute`           | Number of cute compliments received by the user                    | integer   |\n",
    "| `compliment_list`           | Number of list compliments received by the user                    | integer   |\n",
    "| `compliment_note`           | Number of note compliments received by the user                    | integer   |\n",
    "| `compliment_plain`          | Number of plain compliments received by the user                   | integer   |\n",
    "| `compliment_cool`           | Number of cool compliments received by the user                    | integer   |\n",
    "| `compliment_funny`          | Number of funny compliments received by the user                   | integer   |\n",
    "| `compliment_writer`         | Number of writer compliments received by the user                  | integer   |\n",
    "| `compliment_photos`         | Number of photo compliments received by the user                   | integer   |\n"
   ]
  },
  {
   "cell_type": "markdown",
   "id": "2a83e66f",
   "metadata": {},
   "source": [
    "##### Loading Data\n",
    "- Similar to the previous JSON file this contains multiple JSON objects, each representing a different users.\n",
    "- I'm going to go ahead and exclude objects the contain null values for certain fields such as user_id and name. These fields are necessary for either modeling or for filtering purposes.\n",
    "- I'll also remove metadata not relevant to current modelling procedure from each user to conserve memory before converting data into a pandas data frame. "
   ]
  },
  {
   "cell_type": "code",
   "execution_count": 42,
   "id": "68079a90",
   "metadata": {},
   "outputs": [
    {
     "name": "stdout",
     "output_type": "stream",
     "text": [
      "Number of entries: 1987897\n"
     ]
    }
   ],
   "source": [
    "# Function to filter the user data\n",
    "def filter_user_data(user):\n",
    "    return {\n",
    "        'user_id': user.get('user_id'),\n",
    "        'name': user.get('name'),\n",
    "        'review_count': user.get('review_count'),\n",
    "        'average_stars': user.get('average_stars')\n",
    "    }\n",
    "# List of required fields\n",
    "required_fields = ['user_id', 'name']\n",
    "\n",
    "# Initialize an empty list to store the filtered users\n",
    "data = []\n",
    "\n",
    "# Load and filter the JSON file line by line\n",
    "with open('../Data/original_data_sets/yelp_academic_dataset_user.json', 'r') as file:\n",
    "    for line in file:\n",
    "        try:\n",
    "            entry = json.loads(line)\n",
    "            # Check if all required fields are present and not null\n",
    "            if all(field in entry and entry[field] is not None for field in required_fields):\n",
    "                # Using function to only return specific user data\n",
    "                filtered_user = filter_user_data(entry)\n",
    "                data.append(filtered_user)\n",
    "        except json.JSONDecodeError as e:\n",
    "            print(f\"Error decoding JSON on line: {line}\")\n",
    "            print(e)\n",
    "\n",
    "# Checking the number of entries\n",
    "num_entries = len(data)\n",
    "print(f\"Number of entries: {num_entries}\")\n"
   ]
  },
  {
   "cell_type": "code",
   "execution_count": 43,
   "id": "93118f86",
   "metadata": {},
   "outputs": [
    {
     "name": "stdout",
     "output_type": "stream",
     "text": [
      "\n",
      "Sample entry:\n",
      "{\n",
      "   \"user_id\": \"qVc8ODYU5SZjKXVBgXdI7w\",\n",
      "   \"name\": \"Walker\",\n",
      "   \"review_count\": 585,\n",
      "   \"average_stars\": 3.91\n",
      "}\n"
     ]
    }
   ],
   "source": [
    "# Inspecting the first entry to understand the structure\n",
    "print(\"\\nSample entry:\")\n",
    "print(json.dumps(data[0], indent=3))"
   ]
  },
  {
   "cell_type": "code",
   "execution_count": 44,
   "id": "61474df9",
   "metadata": {},
   "outputs": [
    {
     "name": "stdout",
     "output_type": "stream",
     "text": [
      "\n",
      "Top-level keys: ['name', 'average_stars', 'user_id', 'review_count']\n"
     ]
    }
   ],
   "source": [
    "# All unique keys at the top level\n",
    "keys = set()\n",
    "for entry in data:\n",
    "    keys.update(entry.keys())\n",
    "print(f\"\\nTop-level keys: {list(keys)}\")"
   ]
  },
  {
   "cell_type": "code",
   "execution_count": 45,
   "id": "04452d6a",
   "metadata": {},
   "outputs": [
    {
     "name": "stdout",
     "output_type": "stream",
     "text": [
      "\n",
      "Data Types:\n",
      "user_id: str\n",
      "name: str\n",
      "review_count: int\n",
      "average_stars: float\n"
     ]
    }
   ],
   "source": [
    "# Summarize data types for each key\n",
    "data_types = defaultdict(set)\n",
    "for entry in data:\n",
    "    for key, value in entry.items():\n",
    "        data_types[key].add(type(value).__name__)\n",
    "\n",
    "print(\"\\nData Types:\")\n",
    "for key, types in data_types.items():\n",
    "    print(f\"{key}: {', '.join(types)}\")"
   ]
  },
  {
   "cell_type": "code",
   "execution_count": 46,
   "id": "2528e7e1",
   "metadata": {},
   "outputs": [
    {
     "name": "stdout",
     "output_type": "stream",
     "text": [
      "Missing Values:\n",
      "name: 0 missing values\n",
      "average_stars: 0 missing values\n",
      "user_id: 0 missing values\n",
      "review_count: 0 missing values\n"
     ]
    }
   ],
   "source": [
    "# Checking missing values using function defined earlier\n",
    "missing_values = check_missing_values(data)\n",
    "print(\"Missing Values:\")\n",
    "for key, count in missing_values.items():\n",
    "    print(f\"{key}: {count} missing values\")"
   ]
  },
  {
   "cell_type": "code",
   "execution_count": 47,
   "id": "c88be4ff",
   "metadata": {},
   "outputs": [
    {
     "data": {
      "text/html": [
       "<div>\n",
       "<style scoped>\n",
       "    .dataframe tbody tr th:only-of-type {\n",
       "        vertical-align: middle;\n",
       "    }\n",
       "\n",
       "    .dataframe tbody tr th {\n",
       "        vertical-align: top;\n",
       "    }\n",
       "\n",
       "    .dataframe thead th {\n",
       "        text-align: right;\n",
       "    }\n",
       "</style>\n",
       "<table border=\"1\" class=\"dataframe\">\n",
       "  <thead>\n",
       "    <tr style=\"text-align: right;\">\n",
       "      <th></th>\n",
       "      <th>user_id</th>\n",
       "      <th>count</th>\n",
       "    </tr>\n",
       "  </thead>\n",
       "  <tbody>\n",
       "  </tbody>\n",
       "</table>\n",
       "</div>"
      ],
      "text/plain": [
       "Empty DataFrame\n",
       "Columns: [user_id, count]\n",
       "Index: []"
      ]
     },
     "execution_count": 47,
     "metadata": {},
     "output_type": "execute_result"
    }
   ],
   "source": [
    "# Checking duplicate users using function defined earlier\n",
    "check_duplicate_ids(data, 'user_id')"
   ]
  },
  {
   "cell_type": "code",
   "execution_count": 48,
   "id": "2f8bb014",
   "metadata": {},
   "outputs": [
    {
     "data": {
      "text/html": [
       "<div>\n",
       "<style scoped>\n",
       "    .dataframe tbody tr th:only-of-type {\n",
       "        vertical-align: middle;\n",
       "    }\n",
       "\n",
       "    .dataframe tbody tr th {\n",
       "        vertical-align: top;\n",
       "    }\n",
       "\n",
       "    .dataframe thead th {\n",
       "        text-align: right;\n",
       "    }\n",
       "</style>\n",
       "<table border=\"1\" class=\"dataframe\">\n",
       "  <thead>\n",
       "    <tr style=\"text-align: right;\">\n",
       "      <th></th>\n",
       "      <th>user_id</th>\n",
       "      <th>name</th>\n",
       "      <th>review_count</th>\n",
       "      <th>average_stars</th>\n",
       "    </tr>\n",
       "  </thead>\n",
       "  <tbody>\n",
       "    <tr>\n",
       "      <th>0</th>\n",
       "      <td>qVc8ODYU5SZjKXVBgXdI7w</td>\n",
       "      <td>Walker</td>\n",
       "      <td>585</td>\n",
       "      <td>3.91</td>\n",
       "    </tr>\n",
       "    <tr>\n",
       "      <th>1</th>\n",
       "      <td>j14WgRoU_-2ZE1aw1dXrJg</td>\n",
       "      <td>Daniel</td>\n",
       "      <td>4333</td>\n",
       "      <td>3.74</td>\n",
       "    </tr>\n",
       "    <tr>\n",
       "      <th>2</th>\n",
       "      <td>2WnXYQFK0hXEoTxPtV2zvg</td>\n",
       "      <td>Steph</td>\n",
       "      <td>665</td>\n",
       "      <td>3.32</td>\n",
       "    </tr>\n",
       "    <tr>\n",
       "      <th>3</th>\n",
       "      <td>SZDeASXq7o05mMNLshsdIA</td>\n",
       "      <td>Gwen</td>\n",
       "      <td>224</td>\n",
       "      <td>4.27</td>\n",
       "    </tr>\n",
       "    <tr>\n",
       "      <th>4</th>\n",
       "      <td>hA5lMy-EnncsH4JoR-hFGQ</td>\n",
       "      <td>Karen</td>\n",
       "      <td>79</td>\n",
       "      <td>3.54</td>\n",
       "    </tr>\n",
       "  </tbody>\n",
       "</table>\n",
       "</div>"
      ],
      "text/plain": [
       "                  user_id    name  review_count  average_stars\n",
       "0  qVc8ODYU5SZjKXVBgXdI7w  Walker           585           3.91\n",
       "1  j14WgRoU_-2ZE1aw1dXrJg  Daniel          4333           3.74\n",
       "2  2WnXYQFK0hXEoTxPtV2zvg   Steph           665           3.32\n",
       "3  SZDeASXq7o05mMNLshsdIA    Gwen           224           4.27\n",
       "4  hA5lMy-EnncsH4JoR-hFGQ   Karen            79           3.54"
      ]
     },
     "execution_count": 48,
     "metadata": {},
     "output_type": "execute_result"
    }
   ],
   "source": [
    "# Convert the filtered list of users to a pandas DataFrame\n",
    "df_u = pd.DataFrame(data)\n",
    "df_u.head()"
   ]
  },
  {
   "cell_type": "code",
   "execution_count": 49,
   "id": "dfdcd83d",
   "metadata": {},
   "outputs": [
    {
     "name": "stdout",
     "output_type": "stream",
     "text": [
      "<class 'pandas.core.frame.DataFrame'>\n",
      "RangeIndex: 1987897 entries, 0 to 1987896\n",
      "Data columns (total 4 columns):\n",
      " #   Column         Dtype  \n",
      "---  ------         -----  \n",
      " 0   user_id        object \n",
      " 1   name           object \n",
      " 2   review_count   int64  \n",
      " 3   average_stars  float64\n",
      "dtypes: float64(1), int64(1), object(2)\n",
      "memory usage: 60.7+ MB\n"
     ]
    }
   ],
   "source": [
    "# Gives me a a quick look at the data types for each column, number of entries, and columns.\n",
    "df_u.info()"
   ]
  },
  {
   "cell_type": "markdown",
   "id": "1aa77cc9-1f0d-4fad-9cf4-08815c6499a1",
   "metadata": {},
   "source": [
    "## Users\n",
    "First column is a unique identifier assigned by Yelp for each user. Second column provides the users first name."
   ]
  },
  {
   "cell_type": "markdown",
   "id": "9eb1d2bf-69f1-42a7-9d36-484c845a5958",
   "metadata": {},
   "source": [
    "## Review Count\n",
    "Column contains a count of how many reviews a user has provided."
   ]
  },
  {
   "cell_type": "code",
   "execution_count": 50,
   "id": "3efdc212",
   "metadata": {},
   "outputs": [
    {
     "data": {
      "image/png": "[encoded data removed]",
      "text/plain": [
       "<Figure size 1000x600 with 1 Axes>"
      ]
     },
     "metadata": {},
     "output_type": "display_data"
    }
   ],
   "source": [
    "# Review count distribution\n",
    "plot_distribution(df_u, 'review_count', 'Distribution of Review Counts', 'Review Counts','Frequency', bins=5)"
   ]
  },
  {
   "cell_type": "markdown",
   "id": "a1bedc6a-9ca0-4574-ad80-27236cd83a58",
   "metadata": {},
   "source": [
    "Similar to the number of reviews a business receives, in this data set although hard to see, some users are very prolific reviewers, but the vast majority of the number of user reviews lies somewhere between the median and the mean."
   ]
  },
  {
   "cell_type": "markdown",
   "id": "e9410724-29bc-44b4-aeaf-405c66495199",
   "metadata": {},
   "source": [
    "## Average Stars\n",
    "Column contains average of all user ratings for businesses  "
   ]
  },
  {
   "cell_type": "code",
   "execution_count": 51,
   "id": "ffd477cd-4fd8-46a6-b00e-2b4553f6f1d3",
   "metadata": {},
   "outputs": [
    {
     "data": {
      "image/png": "[encoded data removed]",
      "text/plain": [
       "<Figure size 1000x600 with 1 Axes>"
      ]
     },
     "metadata": {},
     "output_type": "display_data"
    }
   ],
   "source": [
    "# Average star distribution\n",
    "plot_distribution(df_u, 'average_stars', 'Distribution of Average User Ratings', 'Stars','Number of Ratings', bins=9)"
   ]
  },
  {
   "cell_type": "markdown",
   "id": "2bb2b8ff-adb0-408a-9841-4aa8d1d406a1",
   "metadata": {},
   "source": [
    "Similar to the business ratings, this has a right skew. Users tend to give 4+ star reviews. However, many users just review businesses to express their displeasure, as there are about 18000 users with an average review score of 1."
   ]
  },
  {
   "cell_type": "markdown",
   "id": "93abddea-be8e-447e-89c7-de15ad527406",
   "metadata": {},
   "source": [
    "# Review Data Set\n",
    "#### Data Dictionary\n",
    "Contains full review text data including the user_id that wrote the review and the business_id the review is written for.<br/>\n",
    "Info sourced from the data set [documentation](https://www.yelp.com/dataset/documentation/main)<br/>\n",
    "\n",
    "| COLUMN NAME  | DESCRIPTION                                                   | DATA TYPE |\n",
    "|--------------|---------------------------------------------------------------|-----------|\n",
    "| `review_id`  | Unique identifier for each review (22 character string)       | string    |\n",
    "| `user_id`    | Unique identifier for each user (22 character string)         | string    |\n",
    "| `business_id`| Unique identifier for businesses (22 character string)        | string    |\n",
    "| `stars`      | Star rating given to the business (integer)                   | int       |\n",
    "| `date`       | Date formatted YYYY-MM-DD                                     | string    |\n",
    "| `text`       | The review itself                                             | string    |\n",
    "| `useful`     | Number of useful votes received (integer)                     | int       |\n",
    "| `funny`      | Number of funny votes received (integer)                      | int       |\n",
    "| `cool`       | Number of cool votes received (integer)                       | int       |"
   ]
  },
  {
   "cell_type": "markdown",
   "id": "982bbf28",
   "metadata": {},
   "source": [
    "##### Loading Data\n",
    "- Similar to the previous JSON file this contains multiple JSON objects, each representing a different users.\n",
    "- I'm going to go ahead and exclude objects the contain null values for certain fields such as ids, date, and stars. These fields are necessary for either modeling or for filtering purposes.\n",
    "- I'll also remove metadata not relevant to current modelling procedure this is especially important for this large data set to conserve memory."
   ]
  },
  {
   "cell_type": "code",
   "execution_count": 53,
   "id": "2e2b120e",
   "metadata": {},
   "outputs": [
    {
     "name": "stdout",
     "output_type": "stream",
     "text": [
      "Number of entries: 6990280\n"
     ]
    }
   ],
   "source": [
    "# Function to filter the review data\n",
    "def filter_review_data(review):\n",
    "    return {\n",
    "        'review_id': review.get('review_id'),\n",
    "        'user_id': review.get('user_id'),\n",
    "        'business_id': review.get('business_id'),\n",
    "        'stars': review.get('stars'),\n",
    "        'date': review.get('date'),\n",
    "    }\n",
    "# List of required fields\n",
    "required_fields = ['user_id', 'review_id', 'business_id', 'stars']\n",
    "\n",
    "# Initialize an empty list to store the filtered users\n",
    "data = []\n",
    "\n",
    "# Load and filter the JSON file line by line\n",
    "with open('../Data/original_data_sets/yelp_academic_dataset_review.json', 'r') as file:\n",
    "    for line in file:\n",
    "        try:\n",
    "            entry = json.loads(line)\n",
    "            # Check if all required fields are present and not null\n",
    "            if all(field in entry and entry[field] is not None for field in required_fields):\n",
    "                # Using function to only return specific user data\n",
    "                filter_review = filter_review_data(entry)\n",
    "                data.append(filter_review)\n",
    "        except json.JSONDecodeError as e:\n",
    "            print(f\"Error decoding JSON on line: {line}\")\n",
    "            print(e)\n",
    "\n",
    "# Checking the number of entries\n",
    "num_entries = len(data)\n",
    "print(f\"Number of entries: {num_entries}\")\n"
   ]
  },
  {
   "cell_type": "code",
   "execution_count": 55,
   "id": "f9c2afe5",
   "metadata": {},
   "outputs": [
    {
     "name": "stdout",
     "output_type": "stream",
     "text": [
      "\n",
      "Sample entry:\n",
      "{\n",
      "   \"review_id\": \"KU_O5udG6zpxOg-VcAEodg\",\n",
      "   \"user_id\": \"mh_-eMZ6K5RLWhZyISBhwA\",\n",
      "   \"business_id\": \"XQfwVwDr-v0ZS3_CbbE5Xw\",\n",
      "   \"stars\": 3.0,\n",
      "   \"date\": \"2018-07-07 22:09:11\"\n",
      "}\n"
     ]
    }
   ],
   "source": [
    "# Inspecting the first entry to understand the structure\n",
    "print(\"\\nSample entry:\")\n",
    "print(json.dumps(data[0], indent=3))"
   ]
  },
  {
   "cell_type": "code",
   "execution_count": 56,
   "id": "c2b58e88",
   "metadata": {},
   "outputs": [
    {
     "name": "stdout",
     "output_type": "stream",
     "text": [
      "\n",
      "Top-level keys: ['business_id', 'stars', 'user_id', 'date', 'review_id']\n"
     ]
    }
   ],
   "source": [
    "# All unique keys at the top level\n",
    "keys = set()\n",
    "for entry in data:\n",
    "    keys.update(entry.keys())\n",
    "print(f\"\\nTop-level keys: {list(keys)}\")"
   ]
  },
  {
   "cell_type": "code",
   "execution_count": 57,
   "id": "47662d79",
   "metadata": {},
   "outputs": [
    {
     "name": "stdout",
     "output_type": "stream",
     "text": [
      "\n",
      "Data Types:\n",
      "review_id: str\n",
      "user_id: str\n",
      "business_id: str\n",
      "stars: float\n",
      "date: str\n"
     ]
    }
   ],
   "source": [
    "# Summarize data types for each key\n",
    "data_types = defaultdict(set)\n",
    "for entry in data:\n",
    "    for key, value in entry.items():\n",
    "        data_types[key].add(type(value).__name__)\n",
    "\n",
    "print(\"\\nData Types:\")\n",
    "for key, types in data_types.items():\n",
    "    print(f\"{key}: {', '.join(types)}\")"
   ]
  },
  {
   "cell_type": "code",
   "execution_count": 58,
   "id": "95ea1301",
   "metadata": {},
   "outputs": [
    {
     "name": "stdout",
     "output_type": "stream",
     "text": [
      "Missing Values:\n",
      "business_id: 0 missing values\n",
      "stars: 0 missing values\n",
      "user_id: 0 missing values\n",
      "date: 0 missing values\n",
      "review_id: 0 missing values\n"
     ]
    }
   ],
   "source": [
    "# Checking missing values using function defined earlier\n",
    "missing_values = check_missing_values(data)\n",
    "print(\"Missing Values:\")\n",
    "for key, count in missing_values.items():\n",
    "    print(f\"{key}: {count} missing values\")"
   ]
  },
  {
   "cell_type": "code",
   "execution_count": 59,
   "id": "7fd17ff5",
   "metadata": {},
   "outputs": [
    {
     "data": {
      "text/html": [
       "<div>\n",
       "<style scoped>\n",
       "    .dataframe tbody tr th:only-of-type {\n",
       "        vertical-align: middle;\n",
       "    }\n",
       "\n",
       "    .dataframe tbody tr th {\n",
       "        vertical-align: top;\n",
       "    }\n",
       "\n",
       "    .dataframe thead th {\n",
       "        text-align: right;\n",
       "    }\n",
       "</style>\n",
       "<table border=\"1\" class=\"dataframe\">\n",
       "  <thead>\n",
       "    <tr style=\"text-align: right;\">\n",
       "      <th></th>\n",
       "      <th>review_id</th>\n",
       "      <th>count</th>\n",
       "    </tr>\n",
       "  </thead>\n",
       "  <tbody>\n",
       "  </tbody>\n",
       "</table>\n",
       "</div>"
      ],
      "text/plain": [
       "Empty DataFrame\n",
       "Columns: [review_id, count]\n",
       "Index: []"
      ]
     },
     "execution_count": 59,
     "metadata": {},
     "output_type": "execute_result"
    }
   ],
   "source": [
    "# Checking duplicate reviews using function defined earlier\n",
    "check_duplicate_ids(data, 'review_id')"
   ]
  },
  {
   "cell_type": "code",
   "execution_count": 60,
   "id": "ceede51d",
   "metadata": {},
   "outputs": [
    {
     "data": {
      "text/html": [
       "<div>\n",
       "<style scoped>\n",
       "    .dataframe tbody tr th:only-of-type {\n",
       "        vertical-align: middle;\n",
       "    }\n",
       "\n",
       "    .dataframe tbody tr th {\n",
       "        vertical-align: top;\n",
       "    }\n",
       "\n",
       "    .dataframe thead th {\n",
       "        text-align: right;\n",
       "    }\n",
       "</style>\n",
       "<table border=\"1\" class=\"dataframe\">\n",
       "  <thead>\n",
       "    <tr style=\"text-align: right;\">\n",
       "      <th></th>\n",
       "      <th>review_id</th>\n",
       "      <th>user_id</th>\n",
       "      <th>business_id</th>\n",
       "      <th>stars</th>\n",
       "      <th>date</th>\n",
       "    </tr>\n",
       "  </thead>\n",
       "  <tbody>\n",
       "    <tr>\n",
       "      <th>0</th>\n",
       "      <td>KU_O5udG6zpxOg-VcAEodg</td>\n",
       "      <td>mh_-eMZ6K5RLWhZyISBhwA</td>\n",
       "      <td>XQfwVwDr-v0ZS3_CbbE5Xw</td>\n",
       "      <td>3.0</td>\n",
       "      <td>2018-07-07 22:09:11</td>\n",
       "    </tr>\n",
       "    <tr>\n",
       "      <th>1</th>\n",
       "      <td>BiTunyQ73aT9WBnpR9DZGw</td>\n",
       "      <td>OyoGAe7OKpv6SyGZT5g77Q</td>\n",
       "      <td>7ATYjTIgM3jUlt4UM3IypQ</td>\n",
       "      <td>5.0</td>\n",
       "      <td>2012-01-03 15:28:18</td>\n",
       "    </tr>\n",
       "    <tr>\n",
       "      <th>2</th>\n",
       "      <td>saUsX_uimxRlCVr67Z4Jig</td>\n",
       "      <td>8g_iMtfSiwikVnbP2etR0A</td>\n",
       "      <td>YjUWPpI6HXG530lwP-fb2A</td>\n",
       "      <td>3.0</td>\n",
       "      <td>2014-02-05 20:30:30</td>\n",
       "    </tr>\n",
       "    <tr>\n",
       "      <th>3</th>\n",
       "      <td>AqPFMleE6RsU23_auESxiA</td>\n",
       "      <td>_7bHUi9Uuf5__HHc_Q8guQ</td>\n",
       "      <td>kxX2SOes4o-D3ZQBkiMRfA</td>\n",
       "      <td>5.0</td>\n",
       "      <td>2015-01-04 00:01:03</td>\n",
       "    </tr>\n",
       "    <tr>\n",
       "      <th>4</th>\n",
       "      <td>Sx8TMOWLNuJBWer-0pcmoA</td>\n",
       "      <td>bcjbaE6dDog4jkNY91ncLQ</td>\n",
       "      <td>e4Vwtrqf-wpJfwesgvdgxQ</td>\n",
       "      <td>4.0</td>\n",
       "      <td>2017-01-14 20:54:15</td>\n",
       "    </tr>\n",
       "  </tbody>\n",
       "</table>\n",
       "</div>"
      ],
      "text/plain": [
       "                review_id                 user_id             business_id  \\\n",
       "0  KU_O5udG6zpxOg-VcAEodg  mh_-eMZ6K5RLWhZyISBhwA  XQfwVwDr-v0ZS3_CbbE5Xw   \n",
       "1  BiTunyQ73aT9WBnpR9DZGw  OyoGAe7OKpv6SyGZT5g77Q  7ATYjTIgM3jUlt4UM3IypQ   \n",
       "2  saUsX_uimxRlCVr67Z4Jig  8g_iMtfSiwikVnbP2etR0A  YjUWPpI6HXG530lwP-fb2A   \n",
       "3  AqPFMleE6RsU23_auESxiA  _7bHUi9Uuf5__HHc_Q8guQ  kxX2SOes4o-D3ZQBkiMRfA   \n",
       "4  Sx8TMOWLNuJBWer-0pcmoA  bcjbaE6dDog4jkNY91ncLQ  e4Vwtrqf-wpJfwesgvdgxQ   \n",
       "\n",
       "   stars                 date  \n",
       "0    3.0  2018-07-07 22:09:11  \n",
       "1    5.0  2012-01-03 15:28:18  \n",
       "2    3.0  2014-02-05 20:30:30  \n",
       "3    5.0  2015-01-04 00:01:03  \n",
       "4    4.0  2017-01-14 20:54:15  "
      ]
     },
     "execution_count": 60,
     "metadata": {},
     "output_type": "execute_result"
    }
   ],
   "source": [
    "# Convert the filtered list of dictionaries to a pandas DataFrame\n",
    "df_r = pd.DataFrame(data)\n",
    "df_r.head()"
   ]
  },
  {
   "cell_type": "code",
   "execution_count": 61,
   "id": "2a7252fe",
   "metadata": {},
   "outputs": [
    {
     "name": "stdout",
     "output_type": "stream",
     "text": [
      "<class 'pandas.core.frame.DataFrame'>\n",
      "RangeIndex: 6990280 entries, 0 to 6990279\n",
      "Data columns (total 5 columns):\n",
      " #   Column       Dtype  \n",
      "---  ------       -----  \n",
      " 0   review_id    object \n",
      " 1   user_id      object \n",
      " 2   business_id  object \n",
      " 3   stars        float64\n",
      " 4   date         object \n",
      "dtypes: float64(1), object(4)\n",
      "memory usage: 266.7+ MB\n"
     ]
    }
   ],
   "source": [
    "# Gives me a a quick look at the data types for each column, number of entries, and columns.\n",
    "df_r.info()"
   ]
  },
  {
   "cell_type": "markdown",
   "id": "5758d32f-cd80-4bb2-96bd-250891a39bd5",
   "metadata": {},
   "source": [
    "The data set needs minimal cleaning; there is definitely a lot of value to be discovered as I explore relationships between users, businesses, and their ratings. "
   ]
  },
  {
   "cell_type": "markdown",
   "id": "6f449310-c4d2-415d-abd4-73ab041b44de",
   "metadata": {},
   "source": [
    "## Unique Identifiers\n",
    "The first column contains a unique identifier for each review. The second and Third columns act as foreign keys to link with the business and user data tables.  "
   ]
  },
  {
   "cell_type": "markdown",
   "id": "c9dbf032-0889-46d2-90b6-387d21043b92",
   "metadata": {},
   "source": [
    "## Stars\n",
    "Column contains the rating between 1 and 5 given to the specified business.Users can only give whole ratings."
   ]
  },
  {
   "cell_type": "code",
   "execution_count": 62,
   "id": "ac0eddcf",
   "metadata": {},
   "outputs": [
    {
     "data": {
      "image/png": "[encoded data removed]",
      "text/plain": [
       "<Figure size 1000x600 with 1 Axes>"
      ]
     },
     "metadata": {},
     "output_type": "display_data"
    }
   ],
   "source": [
    "# Star distribution for all reviews\n",
    "plot_distribution(df_r, 'stars', 'Distribution of All Ratings', 'Stars','Frequency', bins=9)"
   ]
  },
  {
   "cell_type": "markdown",
   "id": "578785c0-b5f1-4bee-82f8-3ec488f2685d",
   "metadata": {},
   "source": [
    "## Date\n",
    "Column contains a date-time object for the date the review was submitted. "
   ]
  },
  {
   "cell_type": "code",
   "execution_count": 63,
   "id": "0f1bcdb5-420b-4764-9940-caa6ff2e348a",
   "metadata": {},
   "outputs": [],
   "source": [
    "# Convert to date time\n",
    "df_r['date'] = pd.to_datetime(df_r['date'])"
   ]
  },
  {
   "cell_type": "code",
   "execution_count": 64,
   "id": "7debcd8d-7a32-4ce9-9a6f-2446b1df5f38",
   "metadata": {},
   "outputs": [
    {
     "name": "stdout",
     "output_type": "stream",
     "text": [
      "<class 'pandas.core.frame.DataFrame'>\n",
      "RangeIndex: 6990280 entries, 0 to 6990279\n",
      "Data columns (total 5 columns):\n",
      " #   Column       Dtype         \n",
      "---  ------       -----         \n",
      " 0   review_id    object        \n",
      " 1   user_id      object        \n",
      " 2   business_id  object        \n",
      " 3   stars        float64       \n",
      " 4   date         datetime64[ns]\n",
      "dtypes: datetime64[ns](1), float64(1), object(3)\n",
      "memory usage: 266.7+ MB\n"
     ]
    }
   ],
   "source": [
    "# Verify Changes\n",
    "df_r.info()"
   ]
  },
  {
   "cell_type": "code",
   "execution_count": 65,
   "id": "91e27260-9617-4967-9c7a-65471a7d0e80",
   "metadata": {},
   "outputs": [],
   "source": [
    "# Save total reviews per year to new df\n",
    "reviews_grouped_year = df_r.groupby(df_r.date.dt.year)['review_id'].count()"
   ]
  },
  {
   "cell_type": "code",
   "execution_count": 66,
   "id": "ecb4f311-329f-459a-b564-da0e75a7a335",
   "metadata": {},
   "outputs": [
    {
     "data": {
      "image/png": "[encoded data removed]",
      "text/plain": [
       "<Figure size 2000x1000 with 1 Axes>"
      ]
     },
     "metadata": {},
     "output_type": "display_data"
    }
   ],
   "source": [
    "# Plot that shows distribution of reviews by year.\n",
    "reviews_grouped_year.plot.bar(figsize=(20,10))\n",
    "\n",
    "# Rotating X-axis labels\n",
    "plt.xticks(rotation = 0)\n",
    " \n",
    "# Setting title and axis labels\n",
    "plt.title('Reviews by Year', size=24)\n",
    "plt.xlabel(\"Year\", size=18)\n",
    "plt.ylabel(\"Number of Reviews\", size=18)\n",
    "\n",
    "# Save distribution to file\n",
    "#plt.savefig('figures/ReviewsByYear.png')\n",
    " \n",
    "# Show plot\n",
    "plt.show()"
   ]
  },
  {
   "cell_type": "markdown",
   "id": "59b6f98d",
   "metadata": {},
   "source": [
    "# Exporting Data\n",
    "Run the cell below to generate files necessary for next steps. "
   ]
  },
  {
   "cell_type": "code",
   "execution_count": 71,
   "id": "e22f7e1a",
   "metadata": {},
   "outputs": [],
   "source": [
    "# export prepared data for businesses, users, and reviews\n",
    "df_b.to_parquet('../Data/cleaned_data_sets/dataset_business.parquet', index=False) #Setting index=False to drop index column\n",
    "df_u.to_parquet('../Data/cleaned_data_sets/dataset_user.parquet', index=False)\n",
    "df_r.to_parquet('../Data/cleaned_data_sets/dataset_review.parquet', index=False)"
   ]
  }
 ],
 "metadata": {
  "kernelspec": {
   "display_name": "Python 3 (ipykernel)",
   "language": "python",
   "name": "python3"
  },
  "language_info": {
   "codemirror_mode": {
    "name": "ipython",
    "version": 3
   },
   "file_extension": ".py",
   "mimetype": "text/x-python",
   "name": "python",
   "nbconvert_exporter": "python",
   "pygments_lexer": "ipython3",
   "version": "3.12.3"
  }
 },
 "nbformat": 4,
 "nbformat_minor": 5
}
