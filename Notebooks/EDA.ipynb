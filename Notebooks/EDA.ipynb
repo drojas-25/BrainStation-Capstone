{
 "cells": [
  {
   "cell_type": "markdown",
   "id": "442eafcd-bed6-4248-be46-5e079b9fefb1",
   "metadata": {},
   "source": [
    "# Introduction\n",
    "# Providing Travel Recommendations Using Machine Learning\n",
    "# Goal:\n",
    "## My project aims to develop a machine learning-based solution that provides personalized recommendations for travelers based on their preferences and past travel history\n",
    "# Data Overview\n",
    "My data is sourced directly from Yelp. The files were originally in JSON format and were converted to CSV prior to this exploration. \n",
    "In this notebook, I'll be exploring three different files business, user, and review data. "
   ]
  },
  {
   "cell_type": "markdown",
   "id": "02f10aad-513f-40d4-b39e-005c27b4bede",
   "metadata": {},
   "source": [
    "#### Packages Import"
   ]
  },
  {
   "cell_type": "code",
   "execution_count": 2,
   "id": "ce33e36c-0a7a-45b5-be38-d32de3faea11",
   "metadata": {},
   "outputs": [],
   "source": [
    "import pandas as pd\n",
    "import numpy as np\n",
    "import matplotlib.pyplot as plt\n",
    "import seaborn as sns"
   ]
  },
  {
   "cell_type": "markdown",
   "id": "d910b968-e3d1-42b9-a1e1-7a37d276b977",
   "metadata": {
    "jp-MarkdownHeadingCollapsed": true
   },
   "source": [
    "# Business Data Set\n",
    "#### Data Dictionary\n",
    "- **business_id**  \tUnique identifier for the business  \t**string**\n",
    "- **name**\t        Name of the business\t                **string**\n",
    "- **address**\tAddress where the business is located\t**string**\n",
    "- **city**\tCity where the business is located\t**string**\n",
    "- **state**\tState where the business is located\t**string**\n",
    "- **postal_code**\tpostal_code where the business is located\t**string**\n",
    "- **latitude**\tGeographical latitude of the business\t**float64**\n",
    "- **longitude**\tGeographical longitude of the business\t**float64**\n",
    "- **stars**\tStar rating of the business\t**float64**\n",
    "- **review_count**\tNumber of reviews the business has received\t**int64**\n",
    "- **is_open**\t0 is closed and 1 is open\t**int64**\n",
    "- **attributes**\tAttribute: Boolean\t**string-Dict**\n",
    "- **categories**\tCategories the business falls under\t**string**\n",
    "- **hours**\tDay of the week: Hours of operation\t**string-Dict**"
   ]
  },
  {
   "cell_type": "code",
   "execution_count": 7,
   "id": "28794e96-1170-40fd-904c-b98f8da45836",
   "metadata": {},
   "outputs": [],
   "source": [
    "# Reading CSV file into notebook and saving it to pandas df\n",
    "df_b = pd.read_csv('../Data/original_data_sets/yelp_business.csv', index_col=0)"
   ]
  },
  {
   "cell_type": "code",
   "execution_count": 8,
   "id": "70fba427-79c6-4da6-86dc-b91493eef243",
   "metadata": {},
   "outputs": [
    {
     "data": {
      "text/html": [
       "<div>\n",
       "<style scoped>\n",
       "    .dataframe tbody tr th:only-of-type {\n",
       "        vertical-align: middle;\n",
       "    }\n",
       "\n",
       "    .dataframe tbody tr th {\n",
       "        vertical-align: top;\n",
       "    }\n",
       "\n",
       "    .dataframe thead th {\n",
       "        text-align: right;\n",
       "    }\n",
       "</style>\n",
       "<table border=\"1\" class=\"dataframe\">\n",
       "  <thead>\n",
       "    <tr style=\"text-align: right;\">\n",
       "      <th></th>\n",
       "      <th>business_id</th>\n",
       "      <th>name</th>\n",
       "      <th>address</th>\n",
       "      <th>city</th>\n",
       "      <th>state</th>\n",
       "      <th>postal_code</th>\n",
       "      <th>latitude</th>\n",
       "      <th>longitude</th>\n",
       "      <th>stars</th>\n",
       "      <th>review_count</th>\n",
       "      <th>is_open</th>\n",
       "      <th>attributes</th>\n",
       "      <th>categories</th>\n",
       "      <th>hours</th>\n",
       "    </tr>\n",
       "  </thead>\n",
       "  <tbody>\n",
       "    <tr>\n",
       "      <th>0</th>\n",
       "      <td>Pns2l4eNsfO8kk83dixA6A</td>\n",
       "      <td>Abby Rappoport, LAC, CMQ</td>\n",
       "      <td>1616 Chapala St, Ste 2</td>\n",
       "      <td>Santa Barbara</td>\n",
       "      <td>CA</td>\n",
       "      <td>93101</td>\n",
       "      <td>34.426679</td>\n",
       "      <td>-119.711197</td>\n",
       "      <td>5.0</td>\n",
       "      <td>7</td>\n",
       "      <td>0</td>\n",
       "      <td>{'ByAppointmentOnly': 'True'}</td>\n",
       "      <td>Doctors, Traditional Chinese Medicine, Naturop...</td>\n",
       "      <td>NaN</td>\n",
       "    </tr>\n",
       "    <tr>\n",
       "      <th>1</th>\n",
       "      <td>mpf3x-BjTdTEA3yCZrAYPw</td>\n",
       "      <td>The UPS Store</td>\n",
       "      <td>87 Grasso Plaza Shopping Center</td>\n",
       "      <td>Affton</td>\n",
       "      <td>MO</td>\n",
       "      <td>63123</td>\n",
       "      <td>38.551126</td>\n",
       "      <td>-90.335695</td>\n",
       "      <td>3.0</td>\n",
       "      <td>15</td>\n",
       "      <td>1</td>\n",
       "      <td>{'BusinessAcceptsCreditCards': 'True'}</td>\n",
       "      <td>Shipping Centers, Local Services, Notaries, Ma...</td>\n",
       "      <td>{'Monday': '0:0-0:0', 'Tuesday': '8:0-18:30', ...</td>\n",
       "    </tr>\n",
       "    <tr>\n",
       "      <th>2</th>\n",
       "      <td>tUFrWirKiKi_TAnsVWINQQ</td>\n",
       "      <td>Target</td>\n",
       "      <td>5255 E Broadway Blvd</td>\n",
       "      <td>Tucson</td>\n",
       "      <td>AZ</td>\n",
       "      <td>85711</td>\n",
       "      <td>32.223236</td>\n",
       "      <td>-110.880452</td>\n",
       "      <td>3.5</td>\n",
       "      <td>22</td>\n",
       "      <td>0</td>\n",
       "      <td>{'BikeParking': 'True', 'BusinessAcceptsCredit...</td>\n",
       "      <td>Department Stores, Shopping, Fashion, Home &amp; G...</td>\n",
       "      <td>{'Monday': '8:0-22:0', 'Tuesday': '8:0-22:0', ...</td>\n",
       "    </tr>\n",
       "    <tr>\n",
       "      <th>3</th>\n",
       "      <td>MTSW4McQd7CbVtyjqoe9mw</td>\n",
       "      <td>St Honore Pastries</td>\n",
       "      <td>935 Race St</td>\n",
       "      <td>Philadelphia</td>\n",
       "      <td>PA</td>\n",
       "      <td>19107</td>\n",
       "      <td>39.955505</td>\n",
       "      <td>-75.155564</td>\n",
       "      <td>4.0</td>\n",
       "      <td>80</td>\n",
       "      <td>1</td>\n",
       "      <td>{'RestaurantsDelivery': 'False', 'OutdoorSeati...</td>\n",
       "      <td>Restaurants, Food, Bubble Tea, Coffee &amp; Tea, B...</td>\n",
       "      <td>{'Monday': '7:0-20:0', 'Tuesday': '7:0-20:0', ...</td>\n",
       "    </tr>\n",
       "    <tr>\n",
       "      <th>4</th>\n",
       "      <td>mWMc6_wTdE0EUBKIGXDVfA</td>\n",
       "      <td>Perkiomen Valley Brewery</td>\n",
       "      <td>101 Walnut St</td>\n",
       "      <td>Green Lane</td>\n",
       "      <td>PA</td>\n",
       "      <td>18054</td>\n",
       "      <td>40.338183</td>\n",
       "      <td>-75.471659</td>\n",
       "      <td>4.5</td>\n",
       "      <td>13</td>\n",
       "      <td>1</td>\n",
       "      <td>{'BusinessAcceptsCreditCards': 'True', 'Wheelc...</td>\n",
       "      <td>Brewpubs, Breweries, Food</td>\n",
       "      <td>{'Wednesday': '14:0-22:0', 'Thursday': '16:0-2...</td>\n",
       "    </tr>\n",
       "  </tbody>\n",
       "</table>\n",
       "</div>"
      ],
      "text/plain": [
       "              business_id                      name  \\\n",
       "0  Pns2l4eNsfO8kk83dixA6A  Abby Rappoport, LAC, CMQ   \n",
       "1  mpf3x-BjTdTEA3yCZrAYPw             The UPS Store   \n",
       "2  tUFrWirKiKi_TAnsVWINQQ                    Target   \n",
       "3  MTSW4McQd7CbVtyjqoe9mw        St Honore Pastries   \n",
       "4  mWMc6_wTdE0EUBKIGXDVfA  Perkiomen Valley Brewery   \n",
       "\n",
       "                           address           city state postal_code  \\\n",
       "0           1616 Chapala St, Ste 2  Santa Barbara    CA       93101   \n",
       "1  87 Grasso Plaza Shopping Center         Affton    MO       63123   \n",
       "2             5255 E Broadway Blvd         Tucson    AZ       85711   \n",
       "3                      935 Race St   Philadelphia    PA       19107   \n",
       "4                    101 Walnut St     Green Lane    PA       18054   \n",
       "\n",
       "    latitude   longitude  stars  review_count  is_open  \\\n",
       "0  34.426679 -119.711197    5.0             7        0   \n",
       "1  38.551126  -90.335695    3.0            15        1   \n",
       "2  32.223236 -110.880452    3.5            22        0   \n",
       "3  39.955505  -75.155564    4.0            80        1   \n",
       "4  40.338183  -75.471659    4.5            13        1   \n",
       "\n",
       "                                          attributes  \\\n",
       "0                      {'ByAppointmentOnly': 'True'}   \n",
       "1             {'BusinessAcceptsCreditCards': 'True'}   \n",
       "2  {'BikeParking': 'True', 'BusinessAcceptsCredit...   \n",
       "3  {'RestaurantsDelivery': 'False', 'OutdoorSeati...   \n",
       "4  {'BusinessAcceptsCreditCards': 'True', 'Wheelc...   \n",
       "\n",
       "                                          categories  \\\n",
       "0  Doctors, Traditional Chinese Medicine, Naturop...   \n",
       "1  Shipping Centers, Local Services, Notaries, Ma...   \n",
       "2  Department Stores, Shopping, Fashion, Home & G...   \n",
       "3  Restaurants, Food, Bubble Tea, Coffee & Tea, B...   \n",
       "4                          Brewpubs, Breweries, Food   \n",
       "\n",
       "                                               hours  \n",
       "0                                                NaN  \n",
       "1  {'Monday': '0:0-0:0', 'Tuesday': '8:0-18:30', ...  \n",
       "2  {'Monday': '8:0-22:0', 'Tuesday': '8:0-22:0', ...  \n",
       "3  {'Monday': '7:0-20:0', 'Tuesday': '7:0-20:0', ...  \n",
       "4  {'Wednesday': '14:0-22:0', 'Thursday': '16:0-2...  "
      ]
     },
     "execution_count": 8,
     "metadata": {},
     "output_type": "execute_result"
    }
   ],
   "source": [
    "# Quick peak into data \n",
    "df_b.head()"
   ]
  },
  {
   "cell_type": "code",
   "execution_count": 5,
   "id": "d20f4b92-fbb2-4daf-894f-ae4663e18d3e",
   "metadata": {
    "scrolled": true
   },
   "outputs": [
    {
     "name": "stdout",
     "output_type": "stream",
     "text": [
      "<class 'pandas.core.frame.DataFrame'>\n",
      "Int64Index: 150346 entries, 0 to 150345\n",
      "Data columns (total 14 columns):\n",
      " #   Column        Non-Null Count   Dtype  \n",
      "---  ------        --------------   -----  \n",
      " 0   business_id   150346 non-null  object \n",
      " 1   name          150346 non-null  object \n",
      " 2   address       145219 non-null  object \n",
      " 3   city          150346 non-null  object \n",
      " 4   state         150346 non-null  object \n",
      " 5   postal_code   150273 non-null  object \n",
      " 6   latitude      150346 non-null  float64\n",
      " 7   longitude     150346 non-null  float64\n",
      " 8   stars         150346 non-null  float64\n",
      " 9   review_count  150346 non-null  int64  \n",
      " 10  is_open       150346 non-null  int64  \n",
      " 11  attributes    136602 non-null  object \n",
      " 12  categories    150243 non-null  object \n",
      " 13  hours         127123 non-null  object \n",
      "dtypes: float64(3), int64(2), object(9)\n",
      "memory usage: 17.2+ MB\n"
     ]
    }
   ],
   "source": [
    "# Gives me a a quick look at the data types for each column, number of entries, and columns.\n",
    "df_b.info()"
   ]
  },
  {
   "cell_type": "code",
   "execution_count": 20,
   "id": "03359613-e10a-4b76-ab0f-4ea194d6869e",
   "metadata": {
    "scrolled": true
   },
   "outputs": [
    {
     "data": {
      "text/plain": [
       "business_id         0\n",
       "name                0\n",
       "address          5127\n",
       "city                0\n",
       "state               0\n",
       "postal_code        73\n",
       "latitude            0\n",
       "longitude           0\n",
       "stars               0\n",
       "review_count        0\n",
       "is_open             0\n",
       "attributes      13744\n",
       "categories        103\n",
       "hours           23223\n",
       "dtype: int64"
      ]
     },
     "execution_count": 20,
     "metadata": {},
     "output_type": "execute_result"
    }
   ],
   "source": [
    "# Quick check to count the number of null values per column\n",
    "df_b.isna().sum()"
   ]
  },
  {
   "cell_type": "code",
   "execution_count": 18,
   "id": "f3a1e460-68f7-4693-95f4-8ff4500ae640",
   "metadata": {
    "scrolled": true
   },
   "outputs": [
    {
     "data": {
      "text/plain": [
       "business_id     0.0\n",
       "name            0.0\n",
       "address         0.0\n",
       "city            0.0\n",
       "state           0.0\n",
       "postal_code     0.0\n",
       "latitude        0.0\n",
       "longitude       0.0\n",
       "stars           0.0\n",
       "review_count    0.0\n",
       "is_open         0.0\n",
       "attributes      0.0\n",
       "categories      0.0\n",
       "hours           0.0\n",
       "dtype: float64"
      ]
     },
     "execution_count": 18,
     "metadata": {},
     "output_type": "execute_result"
    }
   ],
   "source": [
    "# Check for duplicate rows \n",
    "df_b[df_b.duplicated()].sum()"
   ]
  },
  {
   "cell_type": "code",
   "execution_count": null,
   "id": "a5bbbb0c-e9cc-43eb-9d65-749d5e81b581",
   "metadata": {},
   "outputs": [],
   "source": []
  },
  {
   "cell_type": "markdown",
   "id": "1b2cc7ba-d14e-416d-ad62-7ced4a07ea85",
   "metadata": {
    "jp-MarkdownHeadingCollapsed": true
   },
   "source": [
    "## Business Details\n",
    "The first eight columns contain information about the business, such as a business id, name of the business, address, city, state, postal code, and geo-location coordinates."
   ]
  },
  {
   "cell_type": "markdown",
   "id": "19873761-966c-49de-8edd-0fa8999a03a3",
   "metadata": {},
   "source": [
    "**Address**"
   ]
  },
  {
   "cell_type": "code",
   "execution_count": 20,
   "id": "bf19f789-5555-4879-ab5b-1cd3dedbe721",
   "metadata": {},
   "outputs": [
    {
     "data": {
      "text/plain": [
       "5127"
      ]
     },
     "execution_count": 20,
     "metadata": {},
     "output_type": "execute_result"
    }
   ],
   "source": [
    "df_b['address'].isna().sum()\n",
    "# null values will need to be address later "
   ]
  },
  {
   "cell_type": "markdown",
   "id": "9428acb1-7c06-453a-8680-fe77682fba0d",
   "metadata": {},
   "source": [
    "**City**"
   ]
  },
  {
   "cell_type": "code",
   "execution_count": 7,
   "id": "e4c9a66d-ca12-4c0a-9255-3a32722dbed3",
   "metadata": {},
   "outputs": [
    {
     "data": {
      "text/plain": [
       "Philadelphia      14569\n",
       "Tucson             9250\n",
       "Tampa              9050\n",
       "Indianapolis       7540\n",
       "Nashville          6971\n",
       "                  ...  \n",
       "Gentilly              1\n",
       "pennsauken            1\n",
       "Hamiltion             1\n",
       "Newtown square        1\n",
       "Apollo beach          1\n",
       "Name: city, Length: 1416, dtype: int64"
      ]
     },
     "execution_count": 7,
     "metadata": {},
     "output_type": "execute_result"
    }
   ],
   "source": [
    "df_b['city'].value_counts()"
   ]
  },
  {
   "cell_type": "markdown",
   "id": "921be99e-53b6-45b8-9c9b-f91939a6fe8c",
   "metadata": {},
   "source": [
    "Interestingly, there seems to be significantly more cities represented in the dataset than initially expected. I will have to do a deeper investigation as the majority could represent suburbs surrounding major metropolitan areas."
   ]
  },
  {
   "cell_type": "code",
   "execution_count": 39,
   "id": "3493a312-a4c5-4404-b06a-97ffdcb89ee8",
   "metadata": {},
   "outputs": [],
   "source": [
    "# Save value counts of city column to new data frame\n",
    "vc_city = df_b['city'].value_counts()"
   ]
  },
  {
   "cell_type": "code",
   "execution_count": 37,
   "id": "0eb8720e-5dd9-4cd4-8a95-2b72caf954a9",
   "metadata": {
    "scrolled": true
   },
   "outputs": [
    {
     "name": "stdout",
     "output_type": "stream",
     "text": [
      "Philadelphia        14569\n",
      "Tucson               9250\n",
      "Tampa                9050\n",
      "Indianapolis         7540\n",
      "Nashville            6971\n",
      "New Orleans          6209\n",
      "Reno                 5935\n",
      "Edmonton             5054\n",
      "Saint Louis          4827\n",
      "Santa Barbara        3829\n",
      "Boise                2937\n",
      "Clearwater           2221\n",
      "Saint Petersburg     1663\n",
      "Metairie             1643\n",
      "Sparks               1624\n",
      "Name: city, dtype: int64\n"
     ]
    }
   ],
   "source": [
    "# returns cities with more than 1500 business entries\n",
    "print(vc_city[vc_city > 1500])"
   ]
  },
  {
   "cell_type": "markdown",
   "id": "6b2abb43-16d7-45d4-8e9f-26ffc631217d",
   "metadata": {},
   "source": [
    "**State**"
   ]
  },
  {
   "cell_type": "code",
   "execution_count": 40,
   "id": "070d0c02-11c6-49b4-92ec-df9069979fb8",
   "metadata": {
    "scrolled": true
   },
   "outputs": [
    {
     "data": {
      "text/plain": [
       "PA     34039\n",
       "FL     26330\n",
       "TN     12056\n",
       "IN     11247\n",
       "MO     10913\n",
       "LA      9924\n",
       "AZ      9912\n",
       "NJ      8536\n",
       "NV      7715\n",
       "AB      5573\n",
       "CA      5203\n",
       "ID      4467\n",
       "DE      2265\n",
       "IL      2145\n",
       "TX         4\n",
       "CO         3\n",
       "WA         2\n",
       "HI         2\n",
       "MA         2\n",
       "NC         1\n",
       "UT         1\n",
       "MT         1\n",
       "MI         1\n",
       "SD         1\n",
       "XMS        1\n",
       "VI         1\n",
       "VT         1\n",
       "Name: state, dtype: int64"
      ]
     },
     "execution_count": 40,
     "metadata": {},
     "output_type": "execute_result"
    }
   ],
   "source": [
    "df_b['state'].value_counts()"
   ]
  },
  {
   "cell_type": "markdown",
   "id": "c2c359e4-18e4-4360-9748-557f118f66ce",
   "metadata": {},
   "source": [
    "Data represent various states across the US and Canada"
   ]
  },
  {
   "cell_type": "markdown",
   "id": "a9909a44-41f6-458c-aeb9-9023149ef199",
   "metadata": {},
   "source": [
    "**Postal Code**"
   ]
  },
  {
   "cell_type": "code",
   "execution_count": 21,
   "id": "35c9ea2c-957e-4ec3-93f0-35ca82d2161e",
   "metadata": {},
   "outputs": [
    {
     "data": {
      "text/plain": [
       "73"
      ]
     },
     "execution_count": 21,
     "metadata": {},
     "output_type": "execute_result"
    }
   ],
   "source": [
    "df_b['postal_code'].isna().sum()\n",
    "# null values will need to be addressed later "
   ]
  },
  {
   "cell_type": "code",
   "execution_count": 36,
   "id": "e855057a-6eb0-491e-8297-b60f62c61445",
   "metadata": {},
   "outputs": [
    {
     "data": {
      "text/plain": [
       "93101      1866\n",
       "89502      1804\n",
       "70130      1512\n",
       "19103      1362\n",
       "19107      1353\n",
       "           ... \n",
       "46211         1\n",
       "T5K 1C4       1\n",
       "T6G 0W8       1\n",
       "T5H 0R8       1\n",
       "T5J 4X6       1\n",
       "Name: postal_code, Length: 3361, dtype: int64"
      ]
     },
     "execution_count": 36,
     "metadata": {},
     "output_type": "execute_result"
    }
   ],
   "source": [
    "df_b['postal_code'].value_counts()"
   ]
  },
  {
   "cell_type": "markdown",
   "id": "973e3bd6-ae56-49d9-a536-d594f2f5c2bf",
   "metadata": {},
   "source": [
    "An interesting thing to note is that Canadian postal codes have a noticablly format; the incorporation of nonnumeric values may be another layer of difficulty when performing an analysis. "
   ]
  },
  {
   "cell_type": "markdown",
   "id": "df5ffa0f-f858-4551-b935-909602c7611c",
   "metadata": {
    "jp-MarkdownHeadingCollapsed": true
   },
   "source": [
    "## Stars \n",
    "Column contains the average of all user ratings for a business."
   ]
  },
  {
   "cell_type": "code",
   "execution_count": 43,
   "id": "c264583c-6160-4575-b20a-2fb1d7b80f8d",
   "metadata": {},
   "outputs": [
    {
     "data": {
      "text/plain": [
       "4.0    31125\n",
       "4.5    27181\n",
       "3.5    26519\n",
       "3.0    18453\n",
       "5.0    16307\n",
       "2.5    14316\n",
       "2.0     9527\n",
       "1.5     4932\n",
       "1.0     1986\n",
       "Name: stars, dtype: int64"
      ]
     },
     "execution_count": 43,
     "metadata": {},
     "output_type": "execute_result"
    }
   ],
   "source": [
    "df_b['stars'].value_counts()"
   ]
  },
  {
   "cell_type": "code",
   "execution_count": 46,
   "id": "2ac4cb66-ee0f-40e6-aee0-ae23566b4dad",
   "metadata": {},
   "outputs": [
    {
     "data": {
      "text/plain": [
       "3.5967235576603303"
      ]
     },
     "execution_count": 46,
     "metadata": {},
     "output_type": "execute_result"
    }
   ],
   "source": [
    "df_b['stars'].agg('average')"
   ]
  },
  {
   "cell_type": "markdown",
   "id": "104ad5ed-7261-453e-9602-488eb9729e09",
   "metadata": {},
   "source": [
    "Star ratings are given in increments of .5 with 4.0 the most common rating given to businesses and 3.6 the being the average rating. "
   ]
  },
  {
   "cell_type": "code",
   "execution_count": 63,
   "id": "12428ca8-2923-4f89-bdec-b1a7610b8621",
   "metadata": {},
   "outputs": [
    {
     "data": {
      "image/png": "[encoded data removed]",
      "text/plain": [
       "<Figure size 640x480 with 1 Axes>"
      ]
     },
     "metadata": {},
     "output_type": "display_data"
    }
   ],
   "source": [
    "# Histogram distribution for review ratings\n",
    "mean = round(df_b['stars'].mean(),2)\n",
    "median = df_b['stars'].median()\n",
    "\n",
    "df_b['stars'].hist(bins=9) \n",
    "plt.xlabel('Stars')\n",
    "plt.ylabel('Number of Ratings')\n",
    "plt.title('Distribution of Star Ratings')\n",
    "\n",
    "plt.axvline(mean, color='red', label=f'Mean: {mean}')\n",
    "plt.axvline(median, color='black', label=f'Median: {median}')\n",
    "plt.legend()\n",
    "\n",
    "# Save as PNG\n",
    "#plt.savefig('figures/BusinessRatingsDistribution.png')\n",
    "\n",
    "plt.show()"
   ]
  },
  {
   "cell_type": "markdown",
   "id": "1144059f-25d2-44fc-a97d-c74bc785cb97",
   "metadata": {},
   "source": [
    "Plot visualizes a slightly right-skewed distribution. Users tend to give higher ratings. "
   ]
  },
  {
   "cell_type": "markdown",
   "id": "a76b6baf-5c38-4e23-9825-8e5a4457436e",
   "metadata": {
    "jp-MarkdownHeadingCollapsed": true
   },
   "source": [
    "## Review Count \n",
    "The column contains a count of the number of user reviews for each business."
   ]
  },
  {
   "cell_type": "code",
   "execution_count": 86,
   "id": "d83b633c-2ac8-470f-bb5a-c6bb97079e05",
   "metadata": {},
   "outputs": [
    {
     "data": {
      "text/plain": [
       "<Axes: xlabel='review_count'>"
      ]
     },
     "execution_count": 86,
     "metadata": {},
     "output_type": "execute_result"
    },
    {
     "data": {
      "image/png": "[encoded data removed]",
      "text/plain": [
       "<Figure size 5000x1000 with 1 Axes>"
      ]
     },
     "metadata": {},
     "output_type": "display_data"
    }
   ],
   "source": [
    "# Boxplot of review count\n",
    "# Resource: https://www.geeksforgeeks.org/boxplot-using-seaborn-in-python/\n",
    "# Create a figure with a specific size\n",
    "plt.figure(figsize=(50, 10))\n",
    "# use to set style of background of plot\n",
    "sns.set(style=\"whitegrid\")\n",
    " \n",
    "sns.boxplot(x =df_b['review_count'])"
   ]
  },
  {
   "cell_type": "code",
   "execution_count": null,
   "id": "cc0af744-ded7-4d9c-a91f-4d8ef250b20e",
   "metadata": {},
   "outputs": [],
   "source": []
  },
  {
   "cell_type": "code",
   "execution_count": 83,
   "id": "740396b2-f45f-4d00-aafb-437cc917208e",
   "metadata": {},
   "outputs": [
    {
     "data": {
      "text/plain": [
       "44.87"
      ]
     },
     "execution_count": 83,
     "metadata": {},
     "output_type": "execute_result"
    }
   ],
   "source": [
    "round(df_b['review_count'].mean(),2)"
   ]
  },
  {
   "cell_type": "code",
   "execution_count": 85,
   "id": "343dd529-ad6d-4b49-8d18-aaa3c632f4c4",
   "metadata": {},
   "outputs": [
    {
     "data": {
      "text/plain": [
       "15.0"
      ]
     },
     "execution_count": 85,
     "metadata": {},
     "output_type": "execute_result"
    }
   ],
   "source": [
    "df_b['review_count'].median()"
   ]
  },
  {
   "cell_type": "markdown",
   "id": "e42ab19e-1d85-4854-92ac-1ab0e51e5031",
   "metadata": {},
   "source": [
    "The plot wasn't the best visual, but it did highlight the enormous range in the number of reviews a business receives. You can also get a sense of spread from the median and mean, the latter being significantly higher at 45 average reviews per business. "
   ]
  },
  {
   "cell_type": "code",
   "execution_count": null,
   "id": "069871a0-b93d-4e89-a62b-d0b143639337",
   "metadata": {},
   "outputs": [],
   "source": []
  },
  {
   "cell_type": "markdown",
   "id": "f75e0ef9-935f-4904-b417-123ca9c0447a",
   "metadata": {
    "jp-MarkdownHeadingCollapsed": true
   },
   "source": [
    "## Is Open\n",
    "The binary column indicates where a business is still open and operating or permanently closed."
   ]
  },
  {
   "cell_type": "code",
   "execution_count": 36,
   "id": "0d172f19-8659-4484-a49f-dee77fab674f",
   "metadata": {},
   "outputs": [
    {
     "data": {
      "text/plain": [
       "1    119698\n",
       "0     30648\n",
       "Name: is_open, dtype: int64"
      ]
     },
     "execution_count": 36,
     "metadata": {},
     "output_type": "execute_result"
    }
   ],
   "source": [
    "# Count of open and closed businesses\n",
    "df_b['is_open'].value_counts()"
   ]
  },
  {
   "cell_type": "code",
   "execution_count": 37,
   "id": "74793e28-fb35-4011-8450-e94ac8733029",
   "metadata": {},
   "outputs": [],
   "source": [
    "is_open_vc = df_b['is_open'].value_counts()"
   ]
  },
  {
   "cell_type": "code",
   "execution_count": null,
   "id": "c5749106-e2cd-4aca-ae5b-99a60480241a",
   "metadata": {},
   "outputs": [],
   "source": []
  },
  {
   "cell_type": "code",
   "execution_count": 64,
   "id": "e008e7f8-4ff7-4693-92a0-4b55269d3878",
   "metadata": {},
   "outputs": [
    {
     "data": {
      "image/png": "[encoded data removed]",
      "text/plain": [
       "<Figure size 640x480 with 1 Axes>"
      ]
     },
     "metadata": {},
     "output_type": "display_data"
    }
   ],
   "source": [
    "is_open_vc.plot(kind='bar', color=['lightblue', 'blue'])\n",
    "\n",
    "plt.title('Open vs Closed Businesses')\n",
    "plt.xlabel('Business Status (1: Open, 0: Closed)')\n",
    "plt.ylabel('Number of Businesses')\n",
    "plt.xticks(rotation=0)\n",
    "\n",
    "# Save as PNG\n",
    "#plt.savefig('figures/OpenVsClosedBusinesses.png')\n",
    "\n",
    "plt.show()"
   ]
  },
  {
   "cell_type": "markdown",
   "id": "84687b9d-750d-4ea3-ae65-4d7042d03a43",
   "metadata": {},
   "source": [
    "30,648 businesses are closed which accounts for 20% of the data. On the surface, you probably wouldn't want 'out-of-date' data; however, for my project, it could still be helpful to make connections between users and businesses that they visited, regardless of whether they are still open. "
   ]
  },
  {
   "cell_type": "markdown",
   "id": "89b7f25c-71aa-420c-a38c-ccf7efab658b",
   "metadata": {},
   "source": [
    "## Attributes\n",
    "The column contains a dictionary containing a set of attributes that are different for each business category and the boolean value represents whether the business offers that attribute or not."
   ]
  },
  {
   "cell_type": "code",
   "execution_count": 10,
   "id": "145aa742-7f14-4784-a86d-6ce25426d6bd",
   "metadata": {
    "scrolled": true
   },
   "outputs": [
    {
     "ename": "KeyError",
     "evalue": "\"['attributes'] not found in axis\"",
     "output_type": "error",
     "traceback": [
      "\u001b[0;31m---------------------------------------------------------------------------\u001b[0m",
      "\u001b[0;31mKeyError\u001b[0m                                  Traceback (most recent call last)",
      "Cell \u001b[0;32mIn[10], line 2\u001b[0m\n\u001b[1;32m      1\u001b[0m \u001b[38;5;66;03m# Dropping column that won't be used for modelling or application\u001b[39;00m\n\u001b[0;32m----> 2\u001b[0m df_b \u001b[38;5;241m=\u001b[39m df_b\u001b[38;5;241m.\u001b[39mdrop(columns\u001b[38;5;241m=\u001b[39m\u001b[38;5;124m'\u001b[39m\u001b[38;5;124mattributes\u001b[39m\u001b[38;5;124m'\u001b[39m)\n\u001b[1;32m      3\u001b[0m df_b\u001b[38;5;241m.\u001b[39mshape\n",
      "File \u001b[0;32m~/anaconda3/lib/python3.11/site-packages/pandas/util/_decorators.py:331\u001b[0m, in \u001b[0;36mdeprecate_nonkeyword_arguments.<locals>.decorate.<locals>.wrapper\u001b[0;34m(*args, **kwargs)\u001b[0m\n\u001b[1;32m    325\u001b[0m \u001b[38;5;28;01mif\u001b[39;00m \u001b[38;5;28mlen\u001b[39m(args) \u001b[38;5;241m>\u001b[39m num_allow_args:\n\u001b[1;32m    326\u001b[0m     warnings\u001b[38;5;241m.\u001b[39mwarn(\n\u001b[1;32m    327\u001b[0m         msg\u001b[38;5;241m.\u001b[39mformat(arguments\u001b[38;5;241m=\u001b[39m_format_argument_list(allow_args)),\n\u001b[1;32m    328\u001b[0m         \u001b[38;5;167;01mFutureWarning\u001b[39;00m,\n\u001b[1;32m    329\u001b[0m         stacklevel\u001b[38;5;241m=\u001b[39mfind_stack_level(),\n\u001b[1;32m    330\u001b[0m     )\n\u001b[0;32m--> 331\u001b[0m \u001b[38;5;28;01mreturn\u001b[39;00m func(\u001b[38;5;241m*\u001b[39margs, \u001b[38;5;241m*\u001b[39m\u001b[38;5;241m*\u001b[39mkwargs)\n",
      "File \u001b[0;32m~/anaconda3/lib/python3.11/site-packages/pandas/core/frame.py:5399\u001b[0m, in \u001b[0;36mDataFrame.drop\u001b[0;34m(self, labels, axis, index, columns, level, inplace, errors)\u001b[0m\n\u001b[1;32m   5251\u001b[0m \u001b[38;5;129m@deprecate_nonkeyword_arguments\u001b[39m(version\u001b[38;5;241m=\u001b[39m\u001b[38;5;28;01mNone\u001b[39;00m, allowed_args\u001b[38;5;241m=\u001b[39m[\u001b[38;5;124m\"\u001b[39m\u001b[38;5;124mself\u001b[39m\u001b[38;5;124m\"\u001b[39m, \u001b[38;5;124m\"\u001b[39m\u001b[38;5;124mlabels\u001b[39m\u001b[38;5;124m\"\u001b[39m])\n\u001b[1;32m   5252\u001b[0m \u001b[38;5;28;01mdef\u001b[39;00m \u001b[38;5;21mdrop\u001b[39m(  \u001b[38;5;66;03m# type: ignore[override]\u001b[39;00m\n\u001b[1;32m   5253\u001b[0m     \u001b[38;5;28mself\u001b[39m,\n\u001b[0;32m   (...)\u001b[0m\n\u001b[1;32m   5260\u001b[0m     errors: IgnoreRaise \u001b[38;5;241m=\u001b[39m \u001b[38;5;124m\"\u001b[39m\u001b[38;5;124mraise\u001b[39m\u001b[38;5;124m\"\u001b[39m,\n\u001b[1;32m   5261\u001b[0m ) \u001b[38;5;241m-\u001b[39m\u001b[38;5;241m>\u001b[39m DataFrame \u001b[38;5;241m|\u001b[39m \u001b[38;5;28;01mNone\u001b[39;00m:\n\u001b[1;32m   5262\u001b[0m \u001b[38;5;250m    \u001b[39m\u001b[38;5;124;03m\"\"\"\u001b[39;00m\n\u001b[1;32m   5263\u001b[0m \u001b[38;5;124;03m    Drop specified labels from rows or columns.\u001b[39;00m\n\u001b[1;32m   5264\u001b[0m \n\u001b[0;32m   (...)\u001b[0m\n\u001b[1;32m   5397\u001b[0m \u001b[38;5;124;03m            weight  1.0     0.8\u001b[39;00m\n\u001b[1;32m   5398\u001b[0m \u001b[38;5;124;03m    \"\"\"\u001b[39;00m\n\u001b[0;32m-> 5399\u001b[0m     \u001b[38;5;28;01mreturn\u001b[39;00m \u001b[38;5;28msuper\u001b[39m()\u001b[38;5;241m.\u001b[39mdrop(\n\u001b[1;32m   5400\u001b[0m         labels\u001b[38;5;241m=\u001b[39mlabels,\n\u001b[1;32m   5401\u001b[0m         axis\u001b[38;5;241m=\u001b[39maxis,\n\u001b[1;32m   5402\u001b[0m         index\u001b[38;5;241m=\u001b[39mindex,\n\u001b[1;32m   5403\u001b[0m         columns\u001b[38;5;241m=\u001b[39mcolumns,\n\u001b[1;32m   5404\u001b[0m         level\u001b[38;5;241m=\u001b[39mlevel,\n\u001b[1;32m   5405\u001b[0m         inplace\u001b[38;5;241m=\u001b[39minplace,\n\u001b[1;32m   5406\u001b[0m         errors\u001b[38;5;241m=\u001b[39merrors,\n\u001b[1;32m   5407\u001b[0m     )\n",
      "File \u001b[0;32m~/anaconda3/lib/python3.11/site-packages/pandas/util/_decorators.py:331\u001b[0m, in \u001b[0;36mdeprecate_nonkeyword_arguments.<locals>.decorate.<locals>.wrapper\u001b[0;34m(*args, **kwargs)\u001b[0m\n\u001b[1;32m    325\u001b[0m \u001b[38;5;28;01mif\u001b[39;00m \u001b[38;5;28mlen\u001b[39m(args) \u001b[38;5;241m>\u001b[39m num_allow_args:\n\u001b[1;32m    326\u001b[0m     warnings\u001b[38;5;241m.\u001b[39mwarn(\n\u001b[1;32m    327\u001b[0m         msg\u001b[38;5;241m.\u001b[39mformat(arguments\u001b[38;5;241m=\u001b[39m_format_argument_list(allow_args)),\n\u001b[1;32m    328\u001b[0m         \u001b[38;5;167;01mFutureWarning\u001b[39;00m,\n\u001b[1;32m    329\u001b[0m         stacklevel\u001b[38;5;241m=\u001b[39mfind_stack_level(),\n\u001b[1;32m    330\u001b[0m     )\n\u001b[0;32m--> 331\u001b[0m \u001b[38;5;28;01mreturn\u001b[39;00m func(\u001b[38;5;241m*\u001b[39margs, \u001b[38;5;241m*\u001b[39m\u001b[38;5;241m*\u001b[39mkwargs)\n",
      "File \u001b[0;32m~/anaconda3/lib/python3.11/site-packages/pandas/core/generic.py:4505\u001b[0m, in \u001b[0;36mNDFrame.drop\u001b[0;34m(self, labels, axis, index, columns, level, inplace, errors)\u001b[0m\n\u001b[1;32m   4503\u001b[0m \u001b[38;5;28;01mfor\u001b[39;00m axis, labels \u001b[38;5;129;01min\u001b[39;00m axes\u001b[38;5;241m.\u001b[39mitems():\n\u001b[1;32m   4504\u001b[0m     \u001b[38;5;28;01mif\u001b[39;00m labels \u001b[38;5;129;01mis\u001b[39;00m \u001b[38;5;129;01mnot\u001b[39;00m \u001b[38;5;28;01mNone\u001b[39;00m:\n\u001b[0;32m-> 4505\u001b[0m         obj \u001b[38;5;241m=\u001b[39m obj\u001b[38;5;241m.\u001b[39m_drop_axis(labels, axis, level\u001b[38;5;241m=\u001b[39mlevel, errors\u001b[38;5;241m=\u001b[39merrors)\n\u001b[1;32m   4507\u001b[0m \u001b[38;5;28;01mif\u001b[39;00m inplace:\n\u001b[1;32m   4508\u001b[0m     \u001b[38;5;28mself\u001b[39m\u001b[38;5;241m.\u001b[39m_update_inplace(obj)\n",
      "File \u001b[0;32m~/anaconda3/lib/python3.11/site-packages/pandas/core/generic.py:4546\u001b[0m, in \u001b[0;36mNDFrame._drop_axis\u001b[0;34m(self, labels, axis, level, errors, only_slice)\u001b[0m\n\u001b[1;32m   4544\u001b[0m         new_axis \u001b[38;5;241m=\u001b[39m axis\u001b[38;5;241m.\u001b[39mdrop(labels, level\u001b[38;5;241m=\u001b[39mlevel, errors\u001b[38;5;241m=\u001b[39merrors)\n\u001b[1;32m   4545\u001b[0m     \u001b[38;5;28;01melse\u001b[39;00m:\n\u001b[0;32m-> 4546\u001b[0m         new_axis \u001b[38;5;241m=\u001b[39m axis\u001b[38;5;241m.\u001b[39mdrop(labels, errors\u001b[38;5;241m=\u001b[39merrors)\n\u001b[1;32m   4547\u001b[0m     indexer \u001b[38;5;241m=\u001b[39m axis\u001b[38;5;241m.\u001b[39mget_indexer(new_axis)\n\u001b[1;32m   4549\u001b[0m \u001b[38;5;66;03m# Case for non-unique axis\u001b[39;00m\n\u001b[1;32m   4550\u001b[0m \u001b[38;5;28;01melse\u001b[39;00m:\n",
      "File \u001b[0;32m~/anaconda3/lib/python3.11/site-packages/pandas/core/indexes/base.py:6934\u001b[0m, in \u001b[0;36mIndex.drop\u001b[0;34m(self, labels, errors)\u001b[0m\n\u001b[1;32m   6932\u001b[0m \u001b[38;5;28;01mif\u001b[39;00m mask\u001b[38;5;241m.\u001b[39many():\n\u001b[1;32m   6933\u001b[0m     \u001b[38;5;28;01mif\u001b[39;00m errors \u001b[38;5;241m!=\u001b[39m \u001b[38;5;124m\"\u001b[39m\u001b[38;5;124mignore\u001b[39m\u001b[38;5;124m\"\u001b[39m:\n\u001b[0;32m-> 6934\u001b[0m         \u001b[38;5;28;01mraise\u001b[39;00m \u001b[38;5;167;01mKeyError\u001b[39;00m(\u001b[38;5;124mf\u001b[39m\u001b[38;5;124m\"\u001b[39m\u001b[38;5;132;01m{\u001b[39;00m\u001b[38;5;28mlist\u001b[39m(labels[mask])\u001b[38;5;132;01m}\u001b[39;00m\u001b[38;5;124m not found in axis\u001b[39m\u001b[38;5;124m\"\u001b[39m)\n\u001b[1;32m   6935\u001b[0m     indexer \u001b[38;5;241m=\u001b[39m indexer[\u001b[38;5;241m~\u001b[39mmask]\n\u001b[1;32m   6936\u001b[0m \u001b[38;5;28;01mreturn\u001b[39;00m \u001b[38;5;28mself\u001b[39m\u001b[38;5;241m.\u001b[39mdelete(indexer)\n",
      "\u001b[0;31mKeyError\u001b[0m: \"['attributes'] not found in axis\""
     ]
    }
   ],
   "source": [
    "# Dropping column that won't be used for modelling or application\n",
    "df_b = df_b.drop(columns='attributes')\n",
    "df_b.shape"
   ]
  },
  {
   "cell_type": "markdown",
   "id": "8425288d-b40a-43f2-90db-bd495971ea93",
   "metadata": {},
   "source": [
    "## Categories\n",
    "[Yelp Categories](https://blog.yelp.com/businesses/yelp_category_list/)<br/>\n",
    "The column contains a list of categories the business falls under; for more info, click the link above, where Yelp provides a breakdown of their category organization. "
   ]
  },
  {
   "cell_type": "code",
   "execution_count": 11,
   "id": "aa2198fb-03d3-4492-81c0-267a7bcf81b9",
   "metadata": {},
   "outputs": [
    {
     "data": {
      "text/plain": [
       "103"
      ]
     },
     "execution_count": 11,
     "metadata": {},
     "output_type": "execute_result"
    }
   ],
   "source": [
    "# Check for null values\n",
    "df_b['categories'].isna().sum()"
   ]
  },
  {
   "cell_type": "markdown",
   "id": "ef086602-d917-472b-801a-9870d31b5037",
   "metadata": {},
   "source": [
    "I'll go ahead and drop these rows from the data frame. Filtering businesses is essential for modeling, these empty values won't help. "
   ]
  },
  {
   "cell_type": "code",
   "execution_count": 12,
   "id": "ef050a63-f3ca-43f8-99a9-030add387bc2",
   "metadata": {},
   "outputs": [],
   "source": [
    "# dropping rows with empty category data\n",
    "df_b.dropna(subset=['categories'], inplace=True)"
   ]
  },
  {
   "cell_type": "code",
   "execution_count": 13,
   "id": "803ad3cb-fff4-4b30-a75b-ca842c9fc9d7",
   "metadata": {},
   "outputs": [
    {
     "data": {
      "text/plain": [
       "0"
      ]
     },
     "execution_count": 13,
     "metadata": {},
     "output_type": "execute_result"
    }
   ],
   "source": [
    "df_b['categories'].isna().sum()"
   ]
  },
  {
   "cell_type": "code",
   "execution_count": null,
   "id": "5c9efdb7-845d-4fb4-9fc1-c563e483ef68",
   "metadata": {},
   "outputs": [],
   "source": [
    "# Will be dropping categories not relevent for travelling"
   ]
  },
  {
   "cell_type": "code",
   "execution_count": 14,
   "id": "c47489a0-123c-4e9d-bf86-1450ceddef78",
   "metadata": {},
   "outputs": [
    {
     "name": "stdout",
     "output_type": "stream",
     "text": [
      "               Category  Count\n",
      "0           Restaurants  52268\n",
      "1                  Food  14533\n",
      "5             Nightlife  12281\n",
      "2           Active Life   7687\n",
      "4       Hotels & Travel   5857\n",
      "3  Arts & Entertainment   5434\n"
     ]
    }
   ],
   "source": [
    "# initialize list using counts of each main category\n",
    "category_counts = [['Restaurants', df_b['categories'].str.contains(\"Restaurants\").fillna(False).sum()], \n",
    "        ['Food', df_b['categories'].str.contains(\", Food,\").fillna(False).sum()], \n",
    "        ['Active Life', df_b['categories'].str.contains(\"Active Life\").fillna(False).sum()],\n",
    "        ['Arts & Entertainment', df_b['categories'].str.contains(\"Arts & Entertainment\").fillna(False).sum()],\n",
    "        ['Hotels & Travel', df_b['categories'].str.contains(\"Hotels & Travel\").fillna(False).sum()],\n",
    "        ['Nightlife', df_b['categories'].str.contains(\"Nightlife\").fillna(False).sum()]]\n",
    " \n",
    "# Create the pandas DataFrame\n",
    "df_categories = pd.DataFrame(category_counts, columns=['Category', 'Count'])\n",
    "\n",
    "# Sort Values\n",
    "df_categories = df_categories.sort_values('Count', ascending=False)\n",
    "# print dataframe.\n",
    "print(df_categories)"
   ]
  },
  {
   "cell_type": "code",
   "execution_count": 15,
   "id": "3f78c1a0-d644-4c03-9bc1-677d53ef4e9a",
   "metadata": {},
   "outputs": [
    {
     "data": {
      "text/plain": [
       "98060"
      ]
     },
     "execution_count": 15,
     "metadata": {},
     "output_type": "execute_result"
    }
   ],
   "source": [
    "# Get a total count of all travel related businesses\n",
    "df_categories['Count'].sum()"
   ]
  },
  {
   "cell_type": "code",
   "execution_count": 26,
   "id": "15c13e62-94f3-41e2-9cff-150d7ff191b0",
   "metadata": {
    "scrolled": true
   },
   "outputs": [
    {
     "data": {
      "image/png": "[encoded data removed]",
      "text/plain": [
       "<Figure size 1000x500 with 1 Axes>"
      ]
     },
     "metadata": {},
     "output_type": "display_data"
    }
   ],
   "source": [
    "df_categories.plot('Category', 'Count', kind='bar', width=.75, figsize=(10,5))\n",
    "\n",
    "# Rotating X-axis labels\n",
    "plt.xticks(rotation = -60)\n",
    " \n",
    "# Setting title and axis labels\n",
    "plt.title('Businesses per Category')\n",
    "plt.xlabel(\"Categories\")\n",
    "plt.ylabel(\"Number of Businesses\")\n",
    "\n",
    "# Save bar chart to file\n",
    "plt.savefig('figures/BusinessMainCategoriesChart.png', bbox_inches='tight')\n",
    " \n",
    "# Show plot\n",
    "plt.show()"
   ]
  },
  {
   "cell_type": "markdown",
   "id": "47026cb6-46b0-4c8c-960a-03e5ce7214d7",
   "metadata": {},
   "source": [
    "These six categories represent the businesses you typically would visit when traveling. <br>\n",
    "Restaurants are by far the most represented business category, this category is further broken down by the type of cuisine served. The food category is a catch-all category for any food-related business that isn't a restaurant—places like bakeries, coffee shops, pastry shops, food trucks, etc. The nightlife category contains businesses such as bars, comedy clubs, dance clubs, etc. Active life includes Amusement parks, experiences, parks, zoos, etc. The hotels & travel category can include hotels, hostels, tours, vacation rentals, etc. Lastly, the least represented group can include places such as cultural centers, festivals, museums, etc. In total, I have almost 100,000 businesses I can use for the model. "
   ]
  },
  {
   "cell_type": "markdown",
   "id": "21d0a48e-02ea-4b1e-9d86-fb4450fcea67",
   "metadata": {},
   "source": [
    "## Hours\n",
    "The column contains a dictionary of business hours by day of the week."
   ]
  },
  {
   "cell_type": "code",
   "execution_count": null,
   "id": "4344c3fc-e8f5-479b-9c13-203c65d20a3b",
   "metadata": {},
   "outputs": [],
   "source": []
  },
  {
   "cell_type": "markdown",
   "id": "eca252dd-e810-48c9-b4de-d832eb7d72bf",
   "metadata": {
    "jp-MarkdownHeadingCollapsed": true
   },
   "source": [
    "# User Data Set\n",
    "#### Data Dictionary\n",
    "- **user_id**  \tUnique identifier for each user  \t**string**\n",
    "- **name**\t        Name of user\t                **string**\n",
    "- **review_count**\tNumber of reviews by user\t**int64**\n",
    "- **yelping_since**\tDate account opened\t**Datetime**\n",
    "- **useful**\tCount of how many other users found current user reviews useful\t**int64**\n",
    "- **funny**\tCount of how many other users found current user reviews funny\t**int64**\n",
    "- **cool**\tCount of how many other users found current user reviews cool\t**int64**\n",
    "- **elite**\tyears user was labeled as elite reviewer\t**string**\n",
    "- **friends**\tlist of friends user ids\t**string**\n",
    "- **fans**\tnumber of other users considered fans\t**int64**\n",
    "- **average_stars**\taverage number of stars given to businesses\t**float64**\n",
    "- **compliment_hot**\tcompliments received labeled as hot\t**int64**\n",
    "- **compliment_more**\tcompliments received labeled as more\t**int64**\n",
    "- **compliment_profile**\tcompliments received labeled as profile\t**int64**\n",
    "- **compliment_cute**\tcompliments received labeled as cute\t**int64**\n",
    "- **compliment_list**\tcompliments received labeled as list\t**int64**\n",
    "- **compliment_note**\tcompliments received labeled as note\t**int64**\n",
    "- **compliment_plain**\tcompliments received labeled as plain\t**int64**\n",
    "- **compliment_cool**\tcompliments received labeled as cool\t**int64**\n",
    "- **compliment_funny**\tcompliments received labeled as funny\t**int64**\n",
    "- **compliment_writer**\tcompliments received labeled as writer\t**int64**\n",
    "- **compliment_photos**\tcompliments received labeled as photos\t**int64**"
   ]
  },
  {
   "cell_type": "code",
   "execution_count": 4,
   "id": "2764d565-d988-4146-813c-8d6183cfa774",
   "metadata": {},
   "outputs": [],
   "source": [
    "# Reading CSV file into notebook and saving it to pandas df\n",
    "df_u = pd.read_csv('../Data/original_data_sets/yelp_user.csv', index_col=0)"
   ]
  },
  {
   "cell_type": "code",
   "execution_count": 5,
   "id": "fbfddc1b-74e9-4674-81ab-46c913c57d7d",
   "metadata": {
    "scrolled": true
   },
   "outputs": [
    {
     "data": {
      "text/html": [
       "<div>\n",
       "<style scoped>\n",
       "    .dataframe tbody tr th:only-of-type {\n",
       "        vertical-align: middle;\n",
       "    }\n",
       "\n",
       "    .dataframe tbody tr th {\n",
       "        vertical-align: top;\n",
       "    }\n",
       "\n",
       "    .dataframe thead th {\n",
       "        text-align: right;\n",
       "    }\n",
       "</style>\n",
       "<table border=\"1\" class=\"dataframe\">\n",
       "  <thead>\n",
       "    <tr style=\"text-align: right;\">\n",
       "      <th></th>\n",
       "      <th>user_id</th>\n",
       "      <th>name</th>\n",
       "      <th>review_count</th>\n",
       "      <th>yelping_since</th>\n",
       "      <th>useful</th>\n",
       "      <th>funny</th>\n",
       "      <th>cool</th>\n",
       "      <th>elite</th>\n",
       "      <th>fans</th>\n",
       "      <th>average_stars</th>\n",
       "      <th>...</th>\n",
       "      <th>compliment_more</th>\n",
       "      <th>compliment_profile</th>\n",
       "      <th>compliment_cute</th>\n",
       "      <th>compliment_list</th>\n",
       "      <th>compliment_note</th>\n",
       "      <th>compliment_plain</th>\n",
       "      <th>compliment_cool</th>\n",
       "      <th>compliment_funny</th>\n",
       "      <th>compliment_writer</th>\n",
       "      <th>compliment_photos</th>\n",
       "    </tr>\n",
       "  </thead>\n",
       "  <tbody>\n",
       "    <tr>\n",
       "      <th>0</th>\n",
       "      <td>qVc8ODYU5SZjKXVBgXdI7w</td>\n",
       "      <td>Walker</td>\n",
       "      <td>585</td>\n",
       "      <td>2007-01-25 16:47:26</td>\n",
       "      <td>7217</td>\n",
       "      <td>1259</td>\n",
       "      <td>5994</td>\n",
       "      <td>2007</td>\n",
       "      <td>267</td>\n",
       "      <td>3.91</td>\n",
       "      <td>...</td>\n",
       "      <td>65</td>\n",
       "      <td>55</td>\n",
       "      <td>56</td>\n",
       "      <td>18</td>\n",
       "      <td>232</td>\n",
       "      <td>844</td>\n",
       "      <td>467</td>\n",
       "      <td>467</td>\n",
       "      <td>239</td>\n",
       "      <td>180</td>\n",
       "    </tr>\n",
       "    <tr>\n",
       "      <th>1</th>\n",
       "      <td>j14WgRoU_-2ZE1aw1dXrJg</td>\n",
       "      <td>Daniel</td>\n",
       "      <td>4333</td>\n",
       "      <td>2009-01-25 04:35:42</td>\n",
       "      <td>43091</td>\n",
       "      <td>13066</td>\n",
       "      <td>27281</td>\n",
       "      <td>2009,2010,2011,2012,2013,2014,2015,2016,2017,2...</td>\n",
       "      <td>3138</td>\n",
       "      <td>3.74</td>\n",
       "      <td>...</td>\n",
       "      <td>264</td>\n",
       "      <td>184</td>\n",
       "      <td>157</td>\n",
       "      <td>251</td>\n",
       "      <td>1847</td>\n",
       "      <td>7054</td>\n",
       "      <td>3131</td>\n",
       "      <td>3131</td>\n",
       "      <td>1521</td>\n",
       "      <td>1946</td>\n",
       "    </tr>\n",
       "    <tr>\n",
       "      <th>2</th>\n",
       "      <td>2WnXYQFK0hXEoTxPtV2zvg</td>\n",
       "      <td>Steph</td>\n",
       "      <td>665</td>\n",
       "      <td>2008-07-25 10:41:00</td>\n",
       "      <td>2086</td>\n",
       "      <td>1010</td>\n",
       "      <td>1003</td>\n",
       "      <td>2009,2010,2011,2012,2013</td>\n",
       "      <td>52</td>\n",
       "      <td>3.32</td>\n",
       "      <td>...</td>\n",
       "      <td>13</td>\n",
       "      <td>10</td>\n",
       "      <td>17</td>\n",
       "      <td>3</td>\n",
       "      <td>66</td>\n",
       "      <td>96</td>\n",
       "      <td>119</td>\n",
       "      <td>119</td>\n",
       "      <td>35</td>\n",
       "      <td>18</td>\n",
       "    </tr>\n",
       "    <tr>\n",
       "      <th>3</th>\n",
       "      <td>SZDeASXq7o05mMNLshsdIA</td>\n",
       "      <td>Gwen</td>\n",
       "      <td>224</td>\n",
       "      <td>2005-11-29 04:38:33</td>\n",
       "      <td>512</td>\n",
       "      <td>330</td>\n",
       "      <td>299</td>\n",
       "      <td>2009,2010,2011</td>\n",
       "      <td>28</td>\n",
       "      <td>4.27</td>\n",
       "      <td>...</td>\n",
       "      <td>4</td>\n",
       "      <td>1</td>\n",
       "      <td>6</td>\n",
       "      <td>2</td>\n",
       "      <td>12</td>\n",
       "      <td>16</td>\n",
       "      <td>26</td>\n",
       "      <td>26</td>\n",
       "      <td>10</td>\n",
       "      <td>9</td>\n",
       "    </tr>\n",
       "    <tr>\n",
       "      <th>4</th>\n",
       "      <td>hA5lMy-EnncsH4JoR-hFGQ</td>\n",
       "      <td>Karen</td>\n",
       "      <td>79</td>\n",
       "      <td>2007-01-05 19:40:59</td>\n",
       "      <td>29</td>\n",
       "      <td>15</td>\n",
       "      <td>7</td>\n",
       "      <td>NaN</td>\n",
       "      <td>1</td>\n",
       "      <td>3.54</td>\n",
       "      <td>...</td>\n",
       "      <td>1</td>\n",
       "      <td>0</td>\n",
       "      <td>0</td>\n",
       "      <td>0</td>\n",
       "      <td>1</td>\n",
       "      <td>1</td>\n",
       "      <td>0</td>\n",
       "      <td>0</td>\n",
       "      <td>0</td>\n",
       "      <td>0</td>\n",
       "    </tr>\n",
       "  </tbody>\n",
       "</table>\n",
       "<p>5 rows × 21 columns</p>\n",
       "</div>"
      ],
      "text/plain": [
       "                  user_id    name  review_count        yelping_since  useful  \\\n",
       "0  qVc8ODYU5SZjKXVBgXdI7w  Walker           585  2007-01-25 16:47:26    7217   \n",
       "1  j14WgRoU_-2ZE1aw1dXrJg  Daniel          4333  2009-01-25 04:35:42   43091   \n",
       "2  2WnXYQFK0hXEoTxPtV2zvg   Steph           665  2008-07-25 10:41:00    2086   \n",
       "3  SZDeASXq7o05mMNLshsdIA    Gwen           224  2005-11-29 04:38:33     512   \n",
       "4  hA5lMy-EnncsH4JoR-hFGQ   Karen            79  2007-01-05 19:40:59      29   \n",
       "\n",
       "   funny   cool                                              elite  fans  \\\n",
       "0   1259   5994                                               2007   267   \n",
       "1  13066  27281  2009,2010,2011,2012,2013,2014,2015,2016,2017,2...  3138   \n",
       "2   1010   1003                           2009,2010,2011,2012,2013    52   \n",
       "3    330    299                                     2009,2010,2011    28   \n",
       "4     15      7                                                NaN     1   \n",
       "\n",
       "   average_stars  ...  compliment_more  compliment_profile  compliment_cute  \\\n",
       "0           3.91  ...               65                  55               56   \n",
       "1           3.74  ...              264                 184              157   \n",
       "2           3.32  ...               13                  10               17   \n",
       "3           4.27  ...                4                   1                6   \n",
       "4           3.54  ...                1                   0                0   \n",
       "\n",
       "   compliment_list  compliment_note  compliment_plain  compliment_cool  \\\n",
       "0               18              232               844              467   \n",
       "1              251             1847              7054             3131   \n",
       "2                3               66                96              119   \n",
       "3                2               12                16               26   \n",
       "4                0                1                 1                0   \n",
       "\n",
       "   compliment_funny  compliment_writer  compliment_photos  \n",
       "0               467                239                180  \n",
       "1              3131               1521               1946  \n",
       "2               119                 35                 18  \n",
       "3                26                 10                  9  \n",
       "4                 0                  0                  0  \n",
       "\n",
       "[5 rows x 21 columns]"
      ]
     },
     "execution_count": 5,
     "metadata": {},
     "output_type": "execute_result"
    }
   ],
   "source": [
    "# Quick peak into data \n",
    "df_u.head()"
   ]
  },
  {
   "cell_type": "code",
   "execution_count": 4,
   "id": "c4068070-e651-4779-911c-be6c367b08f1",
   "metadata": {
    "scrolled": true
   },
   "outputs": [
    {
     "name": "stdout",
     "output_type": "stream",
     "text": [
      "<class 'pandas.core.frame.DataFrame'>\n",
      "Int64Index: 1987897 entries, 0 to 1987896\n",
      "Data columns (total 21 columns):\n",
      " #   Column              Dtype  \n",
      "---  ------              -----  \n",
      " 0   user_id             object \n",
      " 1   name                object \n",
      " 2   review_count        int64  \n",
      " 3   yelping_since       object \n",
      " 4   useful              int64  \n",
      " 5   funny               int64  \n",
      " 6   cool                int64  \n",
      " 7   elite               object \n",
      " 8   fans                int64  \n",
      " 9   average_stars       float64\n",
      " 10  compliment_hot      int64  \n",
      " 11  compliment_more     int64  \n",
      " 12  compliment_profile  int64  \n",
      " 13  compliment_cute     int64  \n",
      " 14  compliment_list     int64  \n",
      " 15  compliment_note     int64  \n",
      " 16  compliment_plain    int64  \n",
      " 17  compliment_cool     int64  \n",
      " 18  compliment_funny    int64  \n",
      " 19  compliment_writer   int64  \n",
      " 20  compliment_photos   int64  \n",
      "dtypes: float64(1), int64(16), object(4)\n",
      "memory usage: 333.7+ MB\n"
     ]
    }
   ],
   "source": [
    "# Gives me a a quick look at the data types for each column, number of entries, and columns.\n",
    "df_u.info()"
   ]
  },
  {
   "cell_type": "code",
   "execution_count": 153,
   "id": "340f89e7-b1f9-4ec9-9e1a-89249aa08f41",
   "metadata": {
    "scrolled": true
   },
   "outputs": [
    {
     "data": {
      "text/plain": [
       "user_id                     0\n",
       "name                        8\n",
       "review_count                0\n",
       "yelping_since               0\n",
       "useful                      0\n",
       "funny                       0\n",
       "cool                        0\n",
       "elite                 1896699\n",
       "fans                        0\n",
       "average_stars               0\n",
       "compliment_hot              0\n",
       "compliment_more             0\n",
       "compliment_profile          0\n",
       "compliment_cute             0\n",
       "compliment_list             0\n",
       "compliment_note             0\n",
       "compliment_plain            0\n",
       "compliment_cool             0\n",
       "compliment_funny            0\n",
       "compliment_writer           0\n",
       "compliment_photos           0\n",
       "dtype: int64"
      ]
     },
     "execution_count": 153,
     "metadata": {},
     "output_type": "execute_result"
    }
   ],
   "source": [
    "# Quick check to count the number of null values per column\n",
    "df_u.isna().sum()"
   ]
  },
  {
   "cell_type": "code",
   "execution_count": 164,
   "id": "89655a39-e53c-4266-be1e-920c36ccf6e5",
   "metadata": {
    "scrolled": true
   },
   "outputs": [
    {
     "data": {
      "text/plain": [
       "user_id               0.0\n",
       "name                  0.0\n",
       "review_count          0.0\n",
       "yelping_since         0.0\n",
       "useful                0.0\n",
       "funny                 0.0\n",
       "cool                  0.0\n",
       "elite                 0.0\n",
       "fans                  0.0\n",
       "average_stars         0.0\n",
       "compliment_hot        0.0\n",
       "compliment_more       0.0\n",
       "compliment_profile    0.0\n",
       "compliment_cute       0.0\n",
       "compliment_list       0.0\n",
       "compliment_note       0.0\n",
       "compliment_plain      0.0\n",
       "compliment_cool       0.0\n",
       "compliment_funny      0.0\n",
       "compliment_writer     0.0\n",
       "compliment_photos     0.0\n",
       "dtype: float64"
      ]
     },
     "execution_count": 164,
     "metadata": {},
     "output_type": "execute_result"
    }
   ],
   "source": [
    "# Check for duplicate rows \n",
    "df_u[df_u.duplicated()].sum()"
   ]
  },
  {
   "cell_type": "markdown",
   "id": "1aa77cc9-1f0d-4fad-9cf4-08815c6499a1",
   "metadata": {
    "jp-MarkdownHeadingCollapsed": true
   },
   "source": [
    "## Users\n",
    "First column is a unique identifier assigned by Yelp for each user. Second column provides the users first name."
   ]
  },
  {
   "cell_type": "code",
   "execution_count": 12,
   "id": "26f0350c-ebc1-470d-ad59-e4777308c217",
   "metadata": {},
   "outputs": [
    {
     "data": {
      "text/plain": [
       "8"
      ]
     },
     "execution_count": 12,
     "metadata": {},
     "output_type": "execute_result"
    }
   ],
   "source": [
    "df_u['name'].isna().sum()\n",
    "# May need to drop 8 rows that are missing user names"
   ]
  },
  {
   "cell_type": "code",
   "execution_count": 13,
   "id": "71940ad9-8aff-447a-9546-0ed8aceaf1dd",
   "metadata": {
    "scrolled": true
   },
   "outputs": [
    {
     "data": {
      "text/html": [
       "<div>\n",
       "<style scoped>\n",
       "    .dataframe tbody tr th:only-of-type {\n",
       "        vertical-align: middle;\n",
       "    }\n",
       "\n",
       "    .dataframe tbody tr th {\n",
       "        vertical-align: top;\n",
       "    }\n",
       "\n",
       "    .dataframe thead th {\n",
       "        text-align: right;\n",
       "    }\n",
       "</style>\n",
       "<table border=\"1\" class=\"dataframe\">\n",
       "  <thead>\n",
       "    <tr style=\"text-align: right;\">\n",
       "      <th></th>\n",
       "      <th>user_id</th>\n",
       "      <th>name</th>\n",
       "      <th>review_count</th>\n",
       "      <th>yelping_since</th>\n",
       "      <th>useful</th>\n",
       "      <th>funny</th>\n",
       "      <th>cool</th>\n",
       "      <th>elite</th>\n",
       "      <th>fans</th>\n",
       "      <th>average_stars</th>\n",
       "      <th>...</th>\n",
       "      <th>compliment_more</th>\n",
       "      <th>compliment_profile</th>\n",
       "      <th>compliment_cute</th>\n",
       "      <th>compliment_list</th>\n",
       "      <th>compliment_note</th>\n",
       "      <th>compliment_plain</th>\n",
       "      <th>compliment_cool</th>\n",
       "      <th>compliment_funny</th>\n",
       "      <th>compliment_writer</th>\n",
       "      <th>compliment_photos</th>\n",
       "    </tr>\n",
       "  </thead>\n",
       "  <tbody>\n",
       "    <tr>\n",
       "      <th>346342</th>\n",
       "      <td>jL7vRW4ipQV1ys1g-AZSng</td>\n",
       "      <td>NaN</td>\n",
       "      <td>8</td>\n",
       "      <td>2011-05-04 23:46:26</td>\n",
       "      <td>3</td>\n",
       "      <td>1</td>\n",
       "      <td>1</td>\n",
       "      <td>NaN</td>\n",
       "      <td>0</td>\n",
       "      <td>4.38</td>\n",
       "      <td>...</td>\n",
       "      <td>0</td>\n",
       "      <td>0</td>\n",
       "      <td>0</td>\n",
       "      <td>0</td>\n",
       "      <td>0</td>\n",
       "      <td>0</td>\n",
       "      <td>0</td>\n",
       "      <td>0</td>\n",
       "      <td>0</td>\n",
       "      <td>0</td>\n",
       "    </tr>\n",
       "    <tr>\n",
       "      <th>888148</th>\n",
       "      <td>znZjQUJC8RbUYSsDz8uKzQ</td>\n",
       "      <td>NaN</td>\n",
       "      <td>4</td>\n",
       "      <td>2013-06-13 10:36:31</td>\n",
       "      <td>1</td>\n",
       "      <td>0</td>\n",
       "      <td>0</td>\n",
       "      <td>NaN</td>\n",
       "      <td>0</td>\n",
       "      <td>3.25</td>\n",
       "      <td>...</td>\n",
       "      <td>0</td>\n",
       "      <td>0</td>\n",
       "      <td>0</td>\n",
       "      <td>0</td>\n",
       "      <td>0</td>\n",
       "      <td>0</td>\n",
       "      <td>0</td>\n",
       "      <td>0</td>\n",
       "      <td>0</td>\n",
       "      <td>0</td>\n",
       "    </tr>\n",
       "    <tr>\n",
       "      <th>1251800</th>\n",
       "      <td>rkgt2TDkIYnk_QpDpSoXnA</td>\n",
       "      <td>NaN</td>\n",
       "      <td>5</td>\n",
       "      <td>2013-07-28 17:10:40</td>\n",
       "      <td>9</td>\n",
       "      <td>7</td>\n",
       "      <td>1</td>\n",
       "      <td>NaN</td>\n",
       "      <td>0</td>\n",
       "      <td>1.83</td>\n",
       "      <td>...</td>\n",
       "      <td>0</td>\n",
       "      <td>0</td>\n",
       "      <td>0</td>\n",
       "      <td>0</td>\n",
       "      <td>1</td>\n",
       "      <td>1</td>\n",
       "      <td>0</td>\n",
       "      <td>0</td>\n",
       "      <td>0</td>\n",
       "      <td>0</td>\n",
       "    </tr>\n",
       "    <tr>\n",
       "      <th>1516282</th>\n",
       "      <td>mvDQ8dj2nZyfELVgsj9Y8g</td>\n",
       "      <td>NaN</td>\n",
       "      <td>1</td>\n",
       "      <td>2012-09-17 15:11:23</td>\n",
       "      <td>0</td>\n",
       "      <td>0</td>\n",
       "      <td>0</td>\n",
       "      <td>NaN</td>\n",
       "      <td>0</td>\n",
       "      <td>5.00</td>\n",
       "      <td>...</td>\n",
       "      <td>0</td>\n",
       "      <td>0</td>\n",
       "      <td>0</td>\n",
       "      <td>0</td>\n",
       "      <td>0</td>\n",
       "      <td>0</td>\n",
       "      <td>0</td>\n",
       "      <td>0</td>\n",
       "      <td>0</td>\n",
       "      <td>0</td>\n",
       "    </tr>\n",
       "    <tr>\n",
       "      <th>1568939</th>\n",
       "      <td>ny_zgxiINq-G4ek0atyeVQ</td>\n",
       "      <td>NaN</td>\n",
       "      <td>4</td>\n",
       "      <td>2011-09-09 06:18:50</td>\n",
       "      <td>7</td>\n",
       "      <td>1</td>\n",
       "      <td>1</td>\n",
       "      <td>NaN</td>\n",
       "      <td>0</td>\n",
       "      <td>3.50</td>\n",
       "      <td>...</td>\n",
       "      <td>0</td>\n",
       "      <td>0</td>\n",
       "      <td>0</td>\n",
       "      <td>0</td>\n",
       "      <td>0</td>\n",
       "      <td>0</td>\n",
       "      <td>0</td>\n",
       "      <td>0</td>\n",
       "      <td>0</td>\n",
       "      <td>0</td>\n",
       "    </tr>\n",
       "    <tr>\n",
       "      <th>1580519</th>\n",
       "      <td>xtXs7f8kFEjdZJ7CF5gtDA</td>\n",
       "      <td>NaN</td>\n",
       "      <td>1</td>\n",
       "      <td>2012-08-11 06:46:51</td>\n",
       "      <td>5</td>\n",
       "      <td>1</td>\n",
       "      <td>0</td>\n",
       "      <td>NaN</td>\n",
       "      <td>0</td>\n",
       "      <td>1.00</td>\n",
       "      <td>...</td>\n",
       "      <td>0</td>\n",
       "      <td>0</td>\n",
       "      <td>0</td>\n",
       "      <td>0</td>\n",
       "      <td>0</td>\n",
       "      <td>1</td>\n",
       "      <td>0</td>\n",
       "      <td>0</td>\n",
       "      <td>0</td>\n",
       "      <td>0</td>\n",
       "    </tr>\n",
       "    <tr>\n",
       "      <th>1722449</th>\n",
       "      <td>YQ3GIzXYGw0E7SqWxhRLKA</td>\n",
       "      <td>NaN</td>\n",
       "      <td>3</td>\n",
       "      <td>2016-06-28 13:08:03</td>\n",
       "      <td>1</td>\n",
       "      <td>0</td>\n",
       "      <td>0</td>\n",
       "      <td>NaN</td>\n",
       "      <td>0</td>\n",
       "      <td>3.67</td>\n",
       "      <td>...</td>\n",
       "      <td>0</td>\n",
       "      <td>0</td>\n",
       "      <td>0</td>\n",
       "      <td>0</td>\n",
       "      <td>0</td>\n",
       "      <td>0</td>\n",
       "      <td>0</td>\n",
       "      <td>0</td>\n",
       "      <td>0</td>\n",
       "      <td>0</td>\n",
       "    </tr>\n",
       "    <tr>\n",
       "      <th>1968196</th>\n",
       "      <td>oL-7HEGiaffWfCeB0Kwj0g</td>\n",
       "      <td>NaN</td>\n",
       "      <td>1</td>\n",
       "      <td>2011-10-25 17:47:58</td>\n",
       "      <td>1</td>\n",
       "      <td>0</td>\n",
       "      <td>0</td>\n",
       "      <td>NaN</td>\n",
       "      <td>0</td>\n",
       "      <td>5.00</td>\n",
       "      <td>...</td>\n",
       "      <td>0</td>\n",
       "      <td>0</td>\n",
       "      <td>0</td>\n",
       "      <td>0</td>\n",
       "      <td>0</td>\n",
       "      <td>0</td>\n",
       "      <td>0</td>\n",
       "      <td>0</td>\n",
       "      <td>0</td>\n",
       "      <td>0</td>\n",
       "    </tr>\n",
       "  </tbody>\n",
       "</table>\n",
       "<p>8 rows × 21 columns</p>\n",
       "</div>"
      ],
      "text/plain": [
       "                        user_id name  review_count        yelping_since  \\\n",
       "346342   jL7vRW4ipQV1ys1g-AZSng  NaN             8  2011-05-04 23:46:26   \n",
       "888148   znZjQUJC8RbUYSsDz8uKzQ  NaN             4  2013-06-13 10:36:31   \n",
       "1251800  rkgt2TDkIYnk_QpDpSoXnA  NaN             5  2013-07-28 17:10:40   \n",
       "1516282  mvDQ8dj2nZyfELVgsj9Y8g  NaN             1  2012-09-17 15:11:23   \n",
       "1568939  ny_zgxiINq-G4ek0atyeVQ  NaN             4  2011-09-09 06:18:50   \n",
       "1580519  xtXs7f8kFEjdZJ7CF5gtDA  NaN             1  2012-08-11 06:46:51   \n",
       "1722449  YQ3GIzXYGw0E7SqWxhRLKA  NaN             3  2016-06-28 13:08:03   \n",
       "1968196  oL-7HEGiaffWfCeB0Kwj0g  NaN             1  2011-10-25 17:47:58   \n",
       "\n",
       "         useful  funny  cool elite  fans  average_stars  ...  compliment_more  \\\n",
       "346342        3      1     1   NaN     0           4.38  ...                0   \n",
       "888148        1      0     0   NaN     0           3.25  ...                0   \n",
       "1251800       9      7     1   NaN     0           1.83  ...                0   \n",
       "1516282       0      0     0   NaN     0           5.00  ...                0   \n",
       "1568939       7      1     1   NaN     0           3.50  ...                0   \n",
       "1580519       5      1     0   NaN     0           1.00  ...                0   \n",
       "1722449       1      0     0   NaN     0           3.67  ...                0   \n",
       "1968196       1      0     0   NaN     0           5.00  ...                0   \n",
       "\n",
       "         compliment_profile  compliment_cute  compliment_list  \\\n",
       "346342                    0                0                0   \n",
       "888148                    0                0                0   \n",
       "1251800                   0                0                0   \n",
       "1516282                   0                0                0   \n",
       "1568939                   0                0                0   \n",
       "1580519                   0                0                0   \n",
       "1722449                   0                0                0   \n",
       "1968196                   0                0                0   \n",
       "\n",
       "         compliment_note  compliment_plain  compliment_cool  compliment_funny  \\\n",
       "346342                 0                 0                0                 0   \n",
       "888148                 0                 0                0                 0   \n",
       "1251800                1                 1                0                 0   \n",
       "1516282                0                 0                0                 0   \n",
       "1568939                0                 0                0                 0   \n",
       "1580519                0                 1                0                 0   \n",
       "1722449                0                 0                0                 0   \n",
       "1968196                0                 0                0                 0   \n",
       "\n",
       "         compliment_writer  compliment_photos  \n",
       "346342                   0                  0  \n",
       "888148                   0                  0  \n",
       "1251800                  0                  0  \n",
       "1516282                  0                  0  \n",
       "1568939                  0                  0  \n",
       "1580519                  0                  0  \n",
       "1722449                  0                  0  \n",
       "1968196                  0                  0  \n",
       "\n",
       "[8 rows x 21 columns]"
      ]
     },
     "execution_count": 13,
     "metadata": {},
     "output_type": "execute_result"
    }
   ],
   "source": [
    "df_u[df_u['name'].isna()]"
   ]
  },
  {
   "cell_type": "markdown",
   "id": "388f9ec5-7733-4562-b2ff-b13dc942a9d6",
   "metadata": {},
   "source": [
    "Dropping these eight rows shouldn't impact analysis"
   ]
  },
  {
   "cell_type": "markdown",
   "id": "9eb1d2bf-69f1-42a7-9d36-484c845a5958",
   "metadata": {
    "jp-MarkdownHeadingCollapsed": true
   },
   "source": [
    "## Review Count\n",
    "Column contains a count of how many reviews a user has provided."
   ]
  },
  {
   "cell_type": "code",
   "execution_count": null,
   "id": "2806b572-c2ea-4d1b-9d55-dff6b1d8d021",
   "metadata": {},
   "outputs": [],
   "source": []
  },
  {
   "cell_type": "code",
   "execution_count": 19,
   "id": "3b34602f-7cea-413e-bfad-4bc79c9c6a69",
   "metadata": {
    "scrolled": true
   },
   "outputs": [
    {
     "data": {
      "image/png": "[encoded data removed]",
      "text/plain": [
       "<Figure size 640x480 with 1 Axes>"
      ]
     },
     "metadata": {},
     "output_type": "display_data"
    }
   ],
   "source": [
    "# Histogram distribution for review counts for all users\n",
    "mean = round(df_u['review_count'].mean(),2)\n",
    "median = df_u['review_count'].median()\n",
    "\n",
    "df_u['review_count'].hist() \n",
    "plt.xlabel('review_count')\n",
    "plt.ylabel('Number of Reviews')\n",
    "plt.title('Distribution of review_count')\n",
    "\n",
    "plt.axvline(mean, color='red', label=f'Mean: {mean}')\n",
    "plt.axvline(median, color='black', label=f'Median: {median}')\n",
    "plt.legend()\n",
    "\n",
    "plt.show()"
   ]
  },
  {
   "cell_type": "code",
   "execution_count": 16,
   "id": "bc6ab104-80c6-40c3-ab8f-c8d41b5079b6",
   "metadata": {},
   "outputs": [
    {
     "data": {
      "text/plain": [
       "<Axes: xlabel='review_count'>"
      ]
     },
     "execution_count": 16,
     "metadata": {},
     "output_type": "execute_result"
    },
    {
     "data": {
      "image/png": "[encoded data removed]",
      "text/plain": [
       "<Figure size 5000x1000 with 1 Axes>"
      ]
     },
     "metadata": {},
     "output_type": "display_data"
    }
   ],
   "source": [
    "# Create a figure with a specific size\n",
    "plt.figure(figsize=(50, 10))\n",
    "# use to set style of background of plot\n",
    "sns.set(style=\"whitegrid\")\n",
    " \n",
    "sns.boxplot(x =df_u['review_count'])"
   ]
  },
  {
   "cell_type": "code",
   "execution_count": 20,
   "id": "2bc3b580-3fa8-4e70-afcb-8ba0a0201adc",
   "metadata": {},
   "outputs": [
    {
     "name": "stdout",
     "output_type": "stream",
     "text": [
      "23.39\n",
      "5.0\n"
     ]
    }
   ],
   "source": [
    "print(mean)\n",
    "print(median)"
   ]
  },
  {
   "cell_type": "markdown",
   "id": "a1bedc6a-9ca0-4574-ad80-27236cd83a58",
   "metadata": {},
   "source": [
    "Similar to the amount of reviews businesses receive, in this data set you can clearly see some power users who are very prolific reviewers, but the vast majority of the amount of user reviews lie somewhere in between the median and the mean"
   ]
  },
  {
   "cell_type": "markdown",
   "id": "af2ad296-6a4e-4642-bd49-ed345ec9d23b",
   "metadata": {
    "jp-MarkdownHeadingCollapsed": true
   },
   "source": [
    "## Yelping Since\n",
    "Column contains the date the user created their Yelp account."
   ]
  },
  {
   "cell_type": "code",
   "execution_count": null,
   "id": "7b16c1ae-3fa1-4f8e-bf50-815cd1bce3f7",
   "metadata": {},
   "outputs": [],
   "source": [
    "# Possibly unrelated to my goal but could preform a time series of register user on the site and spot any trends"
   ]
  },
  {
   "cell_type": "code",
   "execution_count": 17,
   "id": "3c7fefa4-035e-49a3-9c96-e7c657c8ef7f",
   "metadata": {},
   "outputs": [],
   "source": [
    "# Convert to date time\n",
    "df_u['yelping_since'] = pd.to_datetime(df_u['yelping_since'])"
   ]
  },
  {
   "cell_type": "code",
   "execution_count": 18,
   "id": "f6c94708-7f5e-43f8-beb0-bdc9899f8284",
   "metadata": {
    "scrolled": true
   },
   "outputs": [
    {
     "name": "stdout",
     "output_type": "stream",
     "text": [
      "<class 'pandas.core.frame.DataFrame'>\n",
      "Int64Index: 1987897 entries, 0 to 1987896\n",
      "Data columns (total 21 columns):\n",
      " #   Column              Dtype         \n",
      "---  ------              -----         \n",
      " 0   user_id             object        \n",
      " 1   name                object        \n",
      " 2   review_count        int64         \n",
      " 3   yelping_since       datetime64[ns]\n",
      " 4   useful              int64         \n",
      " 5   funny               int64         \n",
      " 6   cool                int64         \n",
      " 7   elite               object        \n",
      " 8   fans                int64         \n",
      " 9   average_stars       float64       \n",
      " 10  compliment_hot      int64         \n",
      " 11  compliment_more     int64         \n",
      " 12  compliment_profile  int64         \n",
      " 13  compliment_cute     int64         \n",
      " 14  compliment_list     int64         \n",
      " 15  compliment_note     int64         \n",
      " 16  compliment_plain    int64         \n",
      " 17  compliment_cool     int64         \n",
      " 18  compliment_funny    int64         \n",
      " 19  compliment_writer   int64         \n",
      " 20  compliment_photos   int64         \n",
      "dtypes: datetime64[ns](1), float64(1), int64(16), object(3)\n",
      "memory usage: 333.7+ MB\n"
     ]
    }
   ],
   "source": [
    "# Verify changes\n",
    "df_u.info()"
   ]
  },
  {
   "cell_type": "markdown",
   "id": "7b6686c9-11f9-4f99-8733-a905c1f8fd4c",
   "metadata": {
    "jp-MarkdownHeadingCollapsed": true
   },
   "source": [
    "## Review Feedback\n",
    "Columns useful, funny, and cool all provide a count of feedback received from other users regarding their written reviews."
   ]
  },
  {
   "cell_type": "code",
   "execution_count": null,
   "id": "a08a91a9-6def-4d30-a140-2acd6ed05aae",
   "metadata": {},
   "outputs": [],
   "source": [
    "# Visualize responses to user reviews "
   ]
  },
  {
   "cell_type": "code",
   "execution_count": 26,
   "id": "034d9382-ffa6-49c7-87b6-dd2e4cf4be51",
   "metadata": {},
   "outputs": [],
   "source": [
    "feeback_sum = df_u[['useful','funny','cool']].sum()"
   ]
  },
  {
   "cell_type": "code",
   "execution_count": 27,
   "id": "6fed2020-65e3-4788-a189-2c33c3ea5150",
   "metadata": {},
   "outputs": [
    {
     "data": {
      "text/plain": [
       "useful    84080758\n",
       "funny     33735678\n",
       "cool      47297862\n",
       "dtype: int64"
      ]
     },
     "execution_count": 27,
     "metadata": {},
     "output_type": "execute_result"
    }
   ],
   "source": [
    "feeback_sum"
   ]
  },
  {
   "cell_type": "code",
   "execution_count": 33,
   "id": "06d1e0db-786c-42bc-b773-4874e5cf1e99",
   "metadata": {},
   "outputs": [
    {
     "data": {
      "image/png": "[encoded data removed]",
      "text/plain": [
       "<Figure size 640x480 with 1 Axes>"
      ]
     },
     "metadata": {},
     "output_type": "display_data"
    }
   ],
   "source": [
    "feeback_sum.plot.bar()\n",
    "\n",
    "# Rotating X-axis labels\n",
    "plt.xticks(rotation = 0)\n",
    " \n",
    "# Setting title and axis labels\n",
    "plt.title('Review Feeback')\n",
    "plt.xlabel(\"Feedback\")\n",
    "plt.ylabel(\"Count of feedback\")\n",
    " \n",
    "# Show plot\n",
    "plt.show()"
   ]
  },
  {
   "cell_type": "markdown",
   "id": "38694b8c-db2f-4c87-9a98-e6d982bcaf45",
   "metadata": {},
   "source": [
    "## Elite \n",
    "List of years a user was considered an 'elite' reviewer"
   ]
  },
  {
   "cell_type": "code",
   "execution_count": null,
   "id": "67a76cfd-8a1e-45c9-a516-e8062f999c73",
   "metadata": {},
   "outputs": [],
   "source": [
    "# May drop this column not sure is this will add value "
   ]
  },
  {
   "cell_type": "markdown",
   "id": "8590bd8f-eb47-4058-ae0d-0e3d519161a8",
   "metadata": {},
   "source": [
    "## Friends - Dropped\n",
    "The column contains a list of other user IDs who have connected as friends within the Yelp platform.\n",
    "The column was deleted before import to reduce the size of the data for computational efficiency. "
   ]
  },
  {
   "cell_type": "markdown",
   "id": "a7c0dd7c-6758-429f-8101-07cfae48f31f",
   "metadata": {},
   "source": [
    "## Fans\n",
    "Column contains a count of how many fans each user has. "
   ]
  },
  {
   "cell_type": "code",
   "execution_count": null,
   "id": "79f62a49-b49e-4ede-a3b0-2f49e18cea91",
   "metadata": {},
   "outputs": [],
   "source": [
    "# Histogram of distribution of fans"
   ]
  },
  {
   "cell_type": "markdown",
   "id": "e9410724-29bc-44b4-aeaf-405c66495199",
   "metadata": {
    "jp-MarkdownHeadingCollapsed": true
   },
   "source": [
    "## Average Stars\n",
    "Column contains average of all user ratings for businesses  "
   ]
  },
  {
   "cell_type": "code",
   "execution_count": 69,
   "id": "ffd477cd-4fd8-46a6-b00e-2b4553f6f1d3",
   "metadata": {},
   "outputs": [
    {
     "data": {
      "image/png": "[encoded data removed]",
      "text/plain": [
       "<Figure size 640x480 with 1 Axes>"
      ]
     },
     "metadata": {},
     "output_type": "display_data"
    }
   ],
   "source": [
    "# Histogram distribution for review ratings\n",
    "mean = round(df_u['average_stars'].mean(),2)\n",
    "median = df_u['average_stars'].median()\n",
    "\n",
    "df_u['average_stars'].hist(bins=9) \n",
    "plt.xlabel('Stars')\n",
    "plt.ylabel('Number of Ratings')\n",
    "plt.title('Distribution of Average User Ratings')\n",
    "\n",
    "plt.axvline(mean, color='red', label=f'Mean: {mean}')\n",
    "plt.axvline(median, color='black', label=f'Median: {median}')\n",
    "plt.legend()\n",
    "\n",
    "# Save distribution to file\n",
    "#plt.savefig('figures/AverageUserRatingDistribution.png')\n",
    "\n",
    "plt.show()"
   ]
  },
  {
   "cell_type": "markdown",
   "id": "2bb2b8ff-adb0-408a-9841-4aa8d1d406a1",
   "metadata": {},
   "source": [
    "Similar to the business ratings, this has a right skew to it. Users tend to give 4+ star reviews. However, a large portion of the users like to express their displeasure, as there are about 18000 users with an average review score of 1."
   ]
  },
  {
   "cell_type": "markdown",
   "id": "1aff9729-2f30-4e8a-bac9-b3bbbcba07b2",
   "metadata": {},
   "source": [
    "## Compliments \n",
    "The last 11 columns contain counts for various compliments that other users can send each other. "
   ]
  },
  {
   "cell_type": "code",
   "execution_count": 18,
   "id": "418a19c3-8e97-46aa-8fc5-4758c7c46688",
   "metadata": {},
   "outputs": [],
   "source": [
    "# Visualize the amount of compliments users receive\n",
    "compliments_sum = df_u.iloc[:,10:].sum()"
   ]
  },
  {
   "cell_type": "code",
   "execution_count": 23,
   "id": "20c1856e-eaa0-43be-9add-b92d85985a9d",
   "metadata": {},
   "outputs": [
    {
     "data": {
      "image/png": "[encoded data removed]",
      "text/plain": [
       "<Figure size 640x480 with 1 Axes>"
      ]
     },
     "metadata": {},
     "output_type": "display_data"
    }
   ],
   "source": [
    "compliments_sum.plot.bar()\n",
    "\n",
    "# Rotating X-axis labels\n",
    "plt.xticks(rotation = 60)\n",
    " \n",
    "# Setting title and axis labels\n",
    "plt.title('Compliment Feeback')\n",
    "plt.xlabel(\"Compliments\")\n",
    "plt.ylabel(\"Count of Compliments\")\n",
    " \n",
    "# Show plot\n",
    "plt.show()"
   ]
  },
  {
   "cell_type": "markdown",
   "id": "b3b96782-6d6b-4964-b4d3-fa1696a3e8ed",
   "metadata": {},
   "source": [
    "### Dimensionality Reduction\n",
    "I'll be dropping the following columns that aren't relevant to my model or application\n",
    "- yelping_since\n",
    "- useful\n",
    "- funny\n",
    "- cool\n",
    "- elite\n",
    "- fans\n",
    "- compliment_hot\t\n",
    "- compliment_more\n",
    "- compliment_profile\n",
    "- compliment_cute\n",
    "- compliment_list\n",
    "- compliment_note\n",
    "- compliment_plain\n",
    "- compliment_cool\n",
    "- compliment_funny\n",
    "- compliment_writer\n",
    "- compliment_photos"
   ]
  },
  {
   "cell_type": "code",
   "execution_count": 6,
   "id": "bda43d29-e516-4434-845b-1cda66a8a631",
   "metadata": {},
   "outputs": [
    {
     "data": {
      "text/html": [
       "<div>\n",
       "<style scoped>\n",
       "    .dataframe tbody tr th:only-of-type {\n",
       "        vertical-align: middle;\n",
       "    }\n",
       "\n",
       "    .dataframe tbody tr th {\n",
       "        vertical-align: top;\n",
       "    }\n",
       "\n",
       "    .dataframe thead th {\n",
       "        text-align: right;\n",
       "    }\n",
       "</style>\n",
       "<table border=\"1\" class=\"dataframe\">\n",
       "  <thead>\n",
       "    <tr style=\"text-align: right;\">\n",
       "      <th></th>\n",
       "      <th>user_id</th>\n",
       "      <th>name</th>\n",
       "      <th>review_count</th>\n",
       "      <th>average_stars</th>\n",
       "    </tr>\n",
       "  </thead>\n",
       "  <tbody>\n",
       "    <tr>\n",
       "      <th>0</th>\n",
       "      <td>qVc8ODYU5SZjKXVBgXdI7w</td>\n",
       "      <td>Walker</td>\n",
       "      <td>585</td>\n",
       "      <td>3.91</td>\n",
       "    </tr>\n",
       "    <tr>\n",
       "      <th>1</th>\n",
       "      <td>j14WgRoU_-2ZE1aw1dXrJg</td>\n",
       "      <td>Daniel</td>\n",
       "      <td>4333</td>\n",
       "      <td>3.74</td>\n",
       "    </tr>\n",
       "    <tr>\n",
       "      <th>2</th>\n",
       "      <td>2WnXYQFK0hXEoTxPtV2zvg</td>\n",
       "      <td>Steph</td>\n",
       "      <td>665</td>\n",
       "      <td>3.32</td>\n",
       "    </tr>\n",
       "    <tr>\n",
       "      <th>3</th>\n",
       "      <td>SZDeASXq7o05mMNLshsdIA</td>\n",
       "      <td>Gwen</td>\n",
       "      <td>224</td>\n",
       "      <td>4.27</td>\n",
       "    </tr>\n",
       "    <tr>\n",
       "      <th>4</th>\n",
       "      <td>hA5lMy-EnncsH4JoR-hFGQ</td>\n",
       "      <td>Karen</td>\n",
       "      <td>79</td>\n",
       "      <td>3.54</td>\n",
       "    </tr>\n",
       "  </tbody>\n",
       "</table>\n",
       "</div>"
      ],
      "text/plain": [
       "                  user_id    name  review_count  average_stars\n",
       "0  qVc8ODYU5SZjKXVBgXdI7w  Walker           585           3.91\n",
       "1  j14WgRoU_-2ZE1aw1dXrJg  Daniel          4333           3.74\n",
       "2  2WnXYQFK0hXEoTxPtV2zvg   Steph           665           3.32\n",
       "3  SZDeASXq7o05mMNLshsdIA    Gwen           224           4.27\n",
       "4  hA5lMy-EnncsH4JoR-hFGQ   Karen            79           3.54"
      ]
     },
     "execution_count": 6,
     "metadata": {},
     "output_type": "execute_result"
    }
   ],
   "source": [
    "reduced_df_u = df_u.drop(columns=['yelping_since', 'useful', 'cool', 'funny', 'elite', 'fans', 'compliment_hot', 'compliment_more', 'compliment_profile', 'compliment_photos',\n",
    "                                   'compliment_cute', 'compliment_list', 'compliment_note', 'compliment_plain', 'compliment_cool', 'compliment_funny', 'compliment_writer'])\n",
    "reduced_df_u.head()"
   ]
  },
  {
   "cell_type": "markdown",
   "id": "93abddea-be8e-447e-89c7-de15ad527406",
   "metadata": {},
   "source": [
    "# Review Data Set\n",
    "#### Data Dictionary\n",
    "- **review_id**  \tUnique identifier for each review  \t**string**\n",
    "- **user_id**  \tUnique identifier for each user  \t**string**\n",
    "- **business_id**  \tUnique identifier for businesses  \t**string**\n",
    "- **stars**\trating given to the business between 1 and 5\t**float64**\n",
    "- **useful**\tcount of users who found the review useful\t**string**\n",
    "- **funny**\tcount of users who found the review funny\t**string**\n",
    "- **cool**\tcount of users who found the review cool\t**int64**\n",
    "- **text**\ttext of the review\t**int64**\n",
    "- **date**\tdate the user submitted the review\t**datetime**"
   ]
  },
  {
   "cell_type": "code",
   "execution_count": 40,
   "id": "0e328b8a-92fd-4f2b-9369-4eab19add44f",
   "metadata": {},
   "outputs": [
    {
     "name": "stdout",
     "output_type": "stream",
     "text": [
      "CPU times: user 10.6 s, sys: 849 ms, total: 11.5 s\n",
      "Wall time: 11.6 s\n"
     ]
    }
   ],
   "source": [
    "%%time\n",
    "# Reading CSV file into notebook and saving it to pandas df\n",
    "df_r = pd.read_csv('../Data/original_data_sets/yelp_review.csv', index_col=0)"
   ]
  },
  {
   "cell_type": "code",
   "execution_count": 41,
   "id": "6a235cdf-041f-4e2d-ac47-134d9d4600e1",
   "metadata": {},
   "outputs": [
    {
     "data": {
      "text/plain": [
       "(6990280, 8)"
      ]
     },
     "execution_count": 41,
     "metadata": {},
     "output_type": "execute_result"
    }
   ],
   "source": [
    "# Shape of data frame\n",
    "df_r.shape"
   ]
  },
  {
   "cell_type": "code",
   "execution_count": 119,
   "id": "3bf359ef-6d7c-4046-80df-7f1d647a9b11",
   "metadata": {},
   "outputs": [
    {
     "data": {
      "text/html": [
       "<div>\n",
       "<style scoped>\n",
       "    .dataframe tbody tr th:only-of-type {\n",
       "        vertical-align: middle;\n",
       "    }\n",
       "\n",
       "    .dataframe tbody tr th {\n",
       "        vertical-align: top;\n",
       "    }\n",
       "\n",
       "    .dataframe thead th {\n",
       "        text-align: right;\n",
       "    }\n",
       "</style>\n",
       "<table border=\"1\" class=\"dataframe\">\n",
       "  <thead>\n",
       "    <tr style=\"text-align: right;\">\n",
       "      <th></th>\n",
       "      <th>review_id</th>\n",
       "      <th>user_id</th>\n",
       "      <th>business_id</th>\n",
       "      <th>stars</th>\n",
       "      <th>useful</th>\n",
       "      <th>funny</th>\n",
       "      <th>cool</th>\n",
       "      <th>date</th>\n",
       "    </tr>\n",
       "  </thead>\n",
       "  <tbody>\n",
       "    <tr>\n",
       "      <th>0</th>\n",
       "      <td>KU_O5udG6zpxOg-VcAEodg</td>\n",
       "      <td>mh_-eMZ6K5RLWhZyISBhwA</td>\n",
       "      <td>XQfwVwDr-v0ZS3_CbbE5Xw</td>\n",
       "      <td>3.0</td>\n",
       "      <td>0</td>\n",
       "      <td>0</td>\n",
       "      <td>0</td>\n",
       "      <td>2018-07-07 22:09:11</td>\n",
       "    </tr>\n",
       "    <tr>\n",
       "      <th>1</th>\n",
       "      <td>BiTunyQ73aT9WBnpR9DZGw</td>\n",
       "      <td>OyoGAe7OKpv6SyGZT5g77Q</td>\n",
       "      <td>7ATYjTIgM3jUlt4UM3IypQ</td>\n",
       "      <td>5.0</td>\n",
       "      <td>1</td>\n",
       "      <td>0</td>\n",
       "      <td>1</td>\n",
       "      <td>2012-01-03 15:28:18</td>\n",
       "    </tr>\n",
       "    <tr>\n",
       "      <th>2</th>\n",
       "      <td>saUsX_uimxRlCVr67Z4Jig</td>\n",
       "      <td>8g_iMtfSiwikVnbP2etR0A</td>\n",
       "      <td>YjUWPpI6HXG530lwP-fb2A</td>\n",
       "      <td>3.0</td>\n",
       "      <td>0</td>\n",
       "      <td>0</td>\n",
       "      <td>0</td>\n",
       "      <td>2014-02-05 20:30:30</td>\n",
       "    </tr>\n",
       "    <tr>\n",
       "      <th>3</th>\n",
       "      <td>AqPFMleE6RsU23_auESxiA</td>\n",
       "      <td>_7bHUi9Uuf5__HHc_Q8guQ</td>\n",
       "      <td>kxX2SOes4o-D3ZQBkiMRfA</td>\n",
       "      <td>5.0</td>\n",
       "      <td>1</td>\n",
       "      <td>0</td>\n",
       "      <td>1</td>\n",
       "      <td>2015-01-04 00:01:03</td>\n",
       "    </tr>\n",
       "    <tr>\n",
       "      <th>4</th>\n",
       "      <td>Sx8TMOWLNuJBWer-0pcmoA</td>\n",
       "      <td>bcjbaE6dDog4jkNY91ncLQ</td>\n",
       "      <td>e4Vwtrqf-wpJfwesgvdgxQ</td>\n",
       "      <td>4.0</td>\n",
       "      <td>1</td>\n",
       "      <td>0</td>\n",
       "      <td>1</td>\n",
       "      <td>2017-01-14 20:54:15</td>\n",
       "    </tr>\n",
       "  </tbody>\n",
       "</table>\n",
       "</div>"
      ],
      "text/plain": [
       "                review_id                 user_id             business_id  \\\n",
       "0  KU_O5udG6zpxOg-VcAEodg  mh_-eMZ6K5RLWhZyISBhwA  XQfwVwDr-v0ZS3_CbbE5Xw   \n",
       "1  BiTunyQ73aT9WBnpR9DZGw  OyoGAe7OKpv6SyGZT5g77Q  7ATYjTIgM3jUlt4UM3IypQ   \n",
       "2  saUsX_uimxRlCVr67Z4Jig  8g_iMtfSiwikVnbP2etR0A  YjUWPpI6HXG530lwP-fb2A   \n",
       "3  AqPFMleE6RsU23_auESxiA  _7bHUi9Uuf5__HHc_Q8guQ  kxX2SOes4o-D3ZQBkiMRfA   \n",
       "4  Sx8TMOWLNuJBWer-0pcmoA  bcjbaE6dDog4jkNY91ncLQ  e4Vwtrqf-wpJfwesgvdgxQ   \n",
       "\n",
       "   stars  useful  funny  cool                 date  \n",
       "0    3.0       0      0     0  2018-07-07 22:09:11  \n",
       "1    5.0       1      0     1  2012-01-03 15:28:18  \n",
       "2    3.0       0      0     0  2014-02-05 20:30:30  \n",
       "3    5.0       1      0     1  2015-01-04 00:01:03  \n",
       "4    4.0       1      0     1  2017-01-14 20:54:15  "
      ]
     },
     "execution_count": 119,
     "metadata": {},
     "output_type": "execute_result"
    }
   ],
   "source": [
    "# Quick peak into data \n",
    "df_r.head()"
   ]
  },
  {
   "cell_type": "code",
   "execution_count": 120,
   "id": "de58157a-93e2-4945-bdf1-aa4dfd8bf60d",
   "metadata": {
    "scrolled": true
   },
   "outputs": [
    {
     "name": "stdout",
     "output_type": "stream",
     "text": [
      "<class 'pandas.core.frame.DataFrame'>\n",
      "Int64Index: 6990280 entries, 0 to 6990279\n",
      "Data columns (total 8 columns):\n",
      " #   Column       Dtype  \n",
      "---  ------       -----  \n",
      " 0   review_id    object \n",
      " 1   user_id      object \n",
      " 2   business_id  object \n",
      " 3   stars        float64\n",
      " 4   useful       int64  \n",
      " 5   funny        int64  \n",
      " 6   cool         int64  \n",
      " 7   date         object \n",
      "dtypes: float64(1), int64(3), object(4)\n",
      "memory usage: 480.0+ MB\n"
     ]
    }
   ],
   "source": [
    "# Gives me a a quick look at the data types for each column, number of entries, and columns.\n",
    "df_r.info()"
   ]
  },
  {
   "cell_type": "code",
   "execution_count": 161,
   "id": "38ec21de-f75b-4ec4-8452-1731733d97a3",
   "metadata": {
    "scrolled": true
   },
   "outputs": [
    {
     "data": {
      "text/plain": [
       "review_id      0\n",
       "user_id        0\n",
       "business_id    0\n",
       "stars          0\n",
       "useful         0\n",
       "funny          0\n",
       "cool           0\n",
       "date           0\n",
       "dtype: int64"
      ]
     },
     "execution_count": 161,
     "metadata": {},
     "output_type": "execute_result"
    }
   ],
   "source": [
    "# Quick check to count the number of null values per column\n",
    "df_r.isna().sum()"
   ]
  },
  {
   "cell_type": "code",
   "execution_count": 163,
   "id": "b5058626-e9ca-4bb5-9c3a-0d6babd292b2",
   "metadata": {},
   "outputs": [
    {
     "data": {
      "text/plain": [
       "review_id      0.0\n",
       "user_id        0.0\n",
       "business_id    0.0\n",
       "stars          0.0\n",
       "useful         0.0\n",
       "funny          0.0\n",
       "cool           0.0\n",
       "date           0.0\n",
       "dtype: float64"
      ]
     },
     "execution_count": 163,
     "metadata": {},
     "output_type": "execute_result"
    }
   ],
   "source": [
    "# Check for duplicate rows \n",
    "df_r[df_r.duplicated()].sum()"
   ]
  },
  {
   "cell_type": "markdown",
   "id": "5758d32f-cd80-4bb2-96bd-250891a39bd5",
   "metadata": {},
   "source": [
    "The data set needs minimal cleaning; there is definitely a lot of value to be discovered as I explore relationships between users, businesses, and their ratings. "
   ]
  },
  {
   "cell_type": "markdown",
   "id": "6f449310-c4d2-415d-abd4-73ab041b44de",
   "metadata": {
    "jp-MarkdownHeadingCollapsed": true
   },
   "source": [
    "## Unique Identifiers\n",
    "The first column contains a unique identifier for each review. The second and Third column are foreign keys to link with the business and user data tables.  "
   ]
  },
  {
   "cell_type": "code",
   "execution_count": null,
   "id": "bc90ceef-b89f-4a56-b655-ef976d6f024b",
   "metadata": {},
   "outputs": [],
   "source": []
  },
  {
   "cell_type": "markdown",
   "id": "c9dbf032-0889-46d2-90b6-387d21043b92",
   "metadata": {
    "jp-MarkdownHeadingCollapsed": true
   },
   "source": [
    "## Stars\n",
    "Column contains the rating between 1 and 5 given to the specificfied business. "
   ]
  },
  {
   "cell_type": "code",
   "execution_count": 30,
   "id": "868e257f-12a6-4ff0-8074-6fa43fede8a4",
   "metadata": {},
   "outputs": [
    {
     "data": {
      "image/png": "[encoded data removed]",
      "text/plain": [
       "<Figure size 640x480 with 1 Axes>"
      ]
     },
     "metadata": {},
     "output_type": "display_data"
    }
   ],
   "source": [
    "# Create a distribution plot for stars \n",
    "# Histogram distribution for star ratings\n",
    "mean = round(df_r['stars'].mean(),2)\n",
    "median = df_r['stars'].median()\n",
    "\n",
    "df_r['stars'].hist(bins=9) \n",
    "plt.xlabel('Stars')\n",
    "plt.ylabel('Number of Reviews')\n",
    "plt.title('Distribution of Review Ratings')\n",
    "\n",
    "plt.axvline(mean, color='red', label=f'Mean: {mean}')\n",
    "plt.axvline(median, color='black', label=f'Median: {median}')\n",
    "plt.legend()\n",
    "\n",
    "plt.show()"
   ]
  },
  {
   "cell_type": "markdown",
   "id": "66f45576-1b5f-4355-b534-dabf50bd980c",
   "metadata": {
    "jp-MarkdownHeadingCollapsed": true
   },
   "source": [
    "## Review Feedback\n",
    "Columns useful, funny, and cool all provide a count of feedback received from other users regarding their written review."
   ]
  },
  {
   "cell_type": "code",
   "execution_count": null,
   "id": "591bf14f-28f8-4d2b-b556-182c3bb08df0",
   "metadata": {},
   "outputs": [],
   "source": [
    "# May be unrelated to my goal but I could find correlations between feedback and stars given to a business "
   ]
  },
  {
   "cell_type": "code",
   "execution_count": 31,
   "id": "72b1a483-4fcf-41f7-a40f-95c82af48927",
   "metadata": {},
   "outputs": [],
   "source": [
    "feeback_sum = df_r[['useful','funny','cool']].sum()"
   ]
  },
  {
   "cell_type": "code",
   "execution_count": 32,
   "id": "3bcd945c-81e6-46d8-83cf-ffa47469d47c",
   "metadata": {},
   "outputs": [
    {
     "data": {
      "image/png": "[encoded data removed]",
      "text/plain": [
       "<Figure size 640x480 with 1 Axes>"
      ]
     },
     "metadata": {},
     "output_type": "display_data"
    }
   ],
   "source": [
    "feeback_sum.plot.bar()\n",
    "\n",
    "# Rotating X-axis labels\n",
    "plt.xticks(rotation = 0)\n",
    " \n",
    "# Setting title and axis labels\n",
    "plt.title('Review Feeback')\n",
    "plt.xlabel(\"Feedback\")\n",
    "plt.ylabel(\"Count of feedback\")\n",
    " \n",
    "# Show plot\n",
    "plt.show()"
   ]
  },
  {
   "cell_type": "markdown",
   "id": "1e9ffe41-4799-4d87-99e1-616b97934e23",
   "metadata": {
    "jp-MarkdownHeadingCollapsed": true
   },
   "source": [
    "## Text - Dropped\n",
    "The column contains the user's written review.\n",
    "The column was deleted before import to reduce the size of the data for computational efficiency. \n",
    "I may do a separate NLP analysis in the future to gain potential insights. "
   ]
  },
  {
   "cell_type": "markdown",
   "id": "578785c0-b5f1-4bee-82f8-3ec488f2685d",
   "metadata": {},
   "source": [
    "## Date\n",
    "Column contains a date-time object for the date the review was submitted. "
   ]
  },
  {
   "cell_type": "code",
   "execution_count": null,
   "id": "7c8ee3e5-7afd-40a5-9af1-7d5229281010",
   "metadata": {},
   "outputs": [],
   "source": []
  },
  {
   "cell_type": "code",
   "execution_count": null,
   "id": "0f2d5edb-8164-4590-818e-aa6d56f0fac9",
   "metadata": {},
   "outputs": [],
   "source": [
    "# Time series analysis?"
   ]
  },
  {
   "cell_type": "code",
   "execution_count": 5,
   "id": "0f1bcdb5-420b-4764-9940-caa6ff2e348a",
   "metadata": {},
   "outputs": [],
   "source": [
    "# Convert to date time\n",
    "df_r['date'] = pd.to_datetime(df_r['date'])"
   ]
  },
  {
   "cell_type": "code",
   "execution_count": 6,
   "id": "7debcd8d-7a32-4ce9-9a6f-2446b1df5f38",
   "metadata": {},
   "outputs": [
    {
     "name": "stdout",
     "output_type": "stream",
     "text": [
      "<class 'pandas.core.frame.DataFrame'>\n",
      "Int64Index: 6990280 entries, 0 to 6990279\n",
      "Data columns (total 8 columns):\n",
      " #   Column       Dtype         \n",
      "---  ------       -----         \n",
      " 0   review_id    object        \n",
      " 1   user_id      object        \n",
      " 2   business_id  object        \n",
      " 3   stars        float64       \n",
      " 4   useful       int64         \n",
      " 5   funny        int64         \n",
      " 6   cool         int64         \n",
      " 7   date         datetime64[ns]\n",
      "dtypes: datetime64[ns](1), float64(1), int64(3), object(3)\n",
      "memory usage: 480.0+ MB\n"
     ]
    }
   ],
   "source": [
    "# Verify Changes\n",
    "df_r.info()"
   ]
  },
  {
   "cell_type": "code",
   "execution_count": 51,
   "id": "91e27260-9617-4967-9c7a-65471a7d0e80",
   "metadata": {},
   "outputs": [],
   "source": [
    "# Save total reviews per year to new df\n",
    "reviews_grouped_year = df_r.groupby(df_r.date.dt.year)['review_id'].count()"
   ]
  },
  {
   "cell_type": "code",
   "execution_count": 70,
   "id": "ecb4f311-329f-459a-b564-da0e75a7a335",
   "metadata": {},
   "outputs": [
    {
     "data": {
      "image/png": "[encoded data removed]",
      "text/plain": [
       "<Figure size 2000x1000 with 1 Axes>"
      ]
     },
     "metadata": {},
     "output_type": "display_data"
    }
   ],
   "source": [
    "reviews_grouped_year.plot.bar(figsize=(20,10))\n",
    "\n",
    "# Rotating X-axis labels\n",
    "plt.xticks(rotation = 0)\n",
    " \n",
    "# Setting title and axis labels\n",
    "plt.title('Reviews by Year', size=24)\n",
    "plt.xlabel(\"Year\", size=18)\n",
    "plt.ylabel(\"Number of Reviews\", size=18)\n",
    "\n",
    "# Save distribution to file\n",
    "#plt.savefig('figures/ReviewsByYear.png')\n",
    " \n",
    "# Show plot\n",
    "plt.show()"
   ]
  },
  {
   "cell_type": "code",
   "execution_count": null,
   "id": "a7364af8-f04a-4ec6-bde7-34eca0d43441",
   "metadata": {},
   "outputs": [],
   "source": []
  },
  {
   "cell_type": "code",
   "execution_count": null,
   "id": "af159879-9c56-4356-ab73-a0b724564773",
   "metadata": {},
   "outputs": [],
   "source": []
  },
  {
   "cell_type": "markdown",
   "id": "a18ac387-4ac3-4130-82bc-1a637e9cf98a",
   "metadata": {},
   "source": [
    "# Data Wrangling "
   ]
  },
  {
   "cell_type": "markdown",
   "id": "7082dbb0-e46e-4d39-955e-e7faa20ce2a1",
   "metadata": {},
   "source": [
    "Now that I've explored my data sets I need to do a little data wrangling before I can model user recommondations. Our model will need a ratings table with three features for each business rating: User Ids, Business Ids, and the rating given."
   ]
  },
  {
   "cell_type": "markdown",
   "id": "ffb30c98-a488-4be9-8e67-e2424af93f3f",
   "metadata": {},
   "source": [
    "## Data Reduction\n",
    "To improve computational speeds for modeling I'll be making some reductions in our original data set. "
   ]
  },
  {
   "cell_type": "markdown",
   "id": "14c4bb0c-58ba-4daf-a414-672fafdc4996",
   "metadata": {
    "jp-MarkdownHeadingCollapsed": true
   },
   "source": [
    "### Cities\n",
    "Only going to include three cities and Philidelphia, Nashville, and New Orleans seemed like the most fun to work with. "
   ]
  },
  {
   "cell_type": "code",
   "execution_count": 16,
   "id": "be2af38d-cb8b-4d30-9de3-44d4d31d0b25",
   "metadata": {},
   "outputs": [
    {
     "data": {
      "text/plain": [
       "Philadelphia    14560\n",
       "Tucson           9244\n",
       "Tampa            9042\n",
       "Indianapolis     7537\n",
       "Nashville        6969\n",
       "New Orleans      6208\n",
       "Name: city, dtype: int64"
      ]
     },
     "execution_count": 16,
     "metadata": {},
     "output_type": "execute_result"
    }
   ],
   "source": [
    "df_b['city'].value_counts().head(6)"
   ]
  },
  {
   "cell_type": "code",
   "execution_count": 17,
   "id": "2f70a80f-0017-45e6-8bae-67c9e7626ab0",
   "metadata": {},
   "outputs": [],
   "source": [
    "# List of cities to include\n",
    "cities_to_include = [\"Philadelphia\", \"Nashville\", \"New Orleans\"]\n",
    "\n",
    "# Filter the DataFrame to only include rows with cities in the cities_to_include list\n",
    "filtered_df_b = df_b[df_b['city'].isin(cities_to_include)]"
   ]
  },
  {
   "cell_type": "code",
   "execution_count": 18,
   "id": "e07636f5-a807-4245-8ccc-847ce3205d3c",
   "metadata": {},
   "outputs": [
    {
     "data": {
      "text/plain": [
       "Philadelphia    14560\n",
       "Nashville        6969\n",
       "New Orleans      6208\n",
       "Name: city, dtype: int64"
      ]
     },
     "execution_count": 18,
     "metadata": {},
     "output_type": "execute_result"
    }
   ],
   "source": [
    "filtered_df_b['city'].value_counts()"
   ]
  },
  {
   "cell_type": "code",
   "execution_count": 30,
   "id": "d3f5c1da-461b-432b-92f8-5e35ca2f1f53",
   "metadata": {
    "scrolled": true
   },
   "outputs": [
    {
     "data": {
      "image/png": "[encoded data removed]",
      "text/plain": [
       "<Figure size 1000x600 with 1 Axes>"
      ]
     },
     "metadata": {},
     "output_type": "display_data"
    }
   ],
   "source": [
    "cities = ['Philadelphia', 'Nashville', 'New Orleans']\n",
    "values = [14560, 6969, 6208]\n",
    "\n",
    "# Create a bar chart\n",
    "plt.figure(figsize=(10,6))\n",
    "plt.bar(cities, values, color='skyblue')\n",
    "plt.title('City Distribution')\n",
    "plt.xlabel('City')\n",
    "plt.ylabel('Counts')\n",
    "plt.xticks(rotation=45)\n",
    "plt.tight_layout()\n",
    "\n",
    "# Save the figure\n",
    "# plt.savefig('figures/BusinessCitiesChart.png', bbox_inches='tight')\n",
    "# Show the plot\n",
    "plt.show()"
   ]
  },
  {
   "cell_type": "code",
   "execution_count": null,
   "id": "0eff64b9-1a50-485e-8880-0fe050f9bba7",
   "metadata": {},
   "outputs": [],
   "source": []
  },
  {
   "cell_type": "markdown",
   "id": "b3741505-17b3-4d3e-b49a-facc6e795964",
   "metadata": {
    "jp-MarkdownHeadingCollapsed": true
   },
   "source": [
    "### Categories"
   ]
  },
  {
   "cell_type": "markdown",
   "id": "f924cfd8-b33b-4f26-b479-3e15c5908da7",
   "metadata": {},
   "source": [
    "I want to save each of these main categories to their own data frame. This will make the data easier to work with and segment my process working with one category at a time. "
   ]
  },
  {
   "cell_type": "code",
   "execution_count": 19,
   "id": "fcf47fb6-0df5-47e9-a7bd-982068b3187d",
   "metadata": {},
   "outputs": [
    {
     "name": "stdout",
     "output_type": "stream",
     "text": [
      "Restaurants: (10613, 13)\n",
      "Food: (3031, 13)\n",
      "Active Life: (1283, 13)\n",
      "Arts & Entertainment: (1517, 13)\n",
      "Hotels & Travel: (1472, 13)\n",
      "Nightlife: (3269, 13)\n"
     ]
    }
   ],
   "source": [
    "# Saving seperated data to there own data frames\n",
    "\n",
    "restaurants_df = filtered_df_b[filtered_df_b['categories'].str.contains('Restaurants')].reset_index(drop=True)\n",
    "food_df = filtered_df_b[filtered_df_b['categories'].str.contains(', Food,')].reset_index(drop=True)\n",
    "active_life_df = filtered_df_b[filtered_df_b['categories'].str.contains('Active Life')].reset_index(drop=True)\n",
    "arts_entertainment_df = filtered_df_b[filtered_df_b['categories'].str.contains('Arts & Entertainment')].reset_index(drop=True)\n",
    "hotels_travel_df = filtered_df_b[filtered_df_b['categories'].str.contains('Hotels & Travel')].reset_index(drop=True)\n",
    "nightlife_df = filtered_df_b[filtered_df_b['categories'].str.contains('Nightlife')].reset_index(drop=True)\n",
    "\n",
    "print(f'Restaurants: {restaurants_df.shape}\\n\\\n",
    "Food: {food_df.shape}\\n\\\n",
    "Active Life: {active_life_df.shape}\\n\\\n",
    "Arts & Entertainment: {arts_entertainment_df.shape}\\n\\\n",
    "Hotels & Travel: {hotels_travel_df.shape}\\n\\\n",
    "Nightlife: {nightlife_df.shape}')"
   ]
  },
  {
   "cell_type": "code",
   "execution_count": null,
   "id": "35f4cb0e-aa8f-475f-b796-176b0e692c83",
   "metadata": {},
   "outputs": [],
   "source": []
  },
  {
   "cell_type": "markdown",
   "id": "4f5be1c8-c50a-49a2-a295-f627e9a34bf6",
   "metadata": {
    "jp-MarkdownHeadingCollapsed": true
   },
   "source": [
    "##### Acceptable Categories"
   ]
  },
  {
   "cell_type": "code",
   "execution_count": 20,
   "id": "1d9499ab-c621-4f61-93d4-1b78135db3ec",
   "metadata": {},
   "outputs": [],
   "source": [
    "restaurants_categories = [\n",
    "    \"Restaurants\", \"Afghan\", \"African\", \"Senegalese\", \"South African\", \"American (New)\", \"American (Traditional)\", \"Andalusian\", \"Arabian\", \n",
    "    \"Arab Pizza\", \"Argentine\", \"Armenian\", \"Asian Fusion\", \"Asturian\", \"Australian\", \"Austrian\", \"Baguettes\", \"Bangladeshi\", \"Barbeque\", \"Basque\", \"Bavarian\", \"Beer Garden\", \"Beer Hall\", \"Beisl\", \"Belgian\", \n",
    "    \"Flemish\", \"Bistros\", \"Black Sea\", \"Brasseries\", \"Brazilian\", \"Brazilian Empanadas\", \"Central Brazilian\", \"Northeastern Brazilian\", \n",
    "    \"Northern Brazilian\", \"Rodizios\", \"Breakfast & Brunch\", \"Pancakes\", \"British\", \"Buffets\", \"Bulgarian\", \"Burgers\", \"Burmese\", \"Cafes\", \n",
    "    \"Themed Cafes\", \"Cafeteria\", \"Cajun/Creole\", \"Cambodian\", \"Canadian (New)\", \"Canteen\", \"Caribbean\", \"Dominican\", \"Haitian\", \"Puerto Rican\", \n",
    "    \"Trinidadian\", \"Catalan\", \"Cheesesteaks\", \"Chicken Shop\", \"Chicken Wings\",  \"Chilean\", \"Chinese\", \"Cantonese\", \"Congee\", \"Dim Sum\", \"Fuzhou\", \n",
    "    \"Hainan\", \"Hakka\", \"Henghwa\", \"Hokkien\", \"Hunan\", \"Pekinese\", \"Shanghainese\", \"Szechuan\", \"Teochew\", \"Comfort Food\", \"Corsican\", \n",
    "    \"Creperies\", \"Cuban\", \"Curry Sausage\", \"Cypriot\", \"Czech\", \"Czech/Slovakian\", \"Danish\", \"Delis\", \"Diners\", \"Dinner Theater\", \"Dumplings\", \n",
    "    \"Eastern European\", \"Eritrean\", \"Ethiopian\", \"Fast Food\", \"Filipino\", \"Fischbroetchen\", \"Fish & Chips\", \"Flatbread\", \"Fondue\", \"Food Court\", \n",
    "    \"Food Stands\", \"Freiduria\", \"French\", \"Alsatian\", \"Auvergnat\", \"Berrichon\", \"Bourguignon\", \"Mauritius\", \"Nicoise\", \"Provencal\", \"Reunion\", \"French Southwest\", \n",
    "    \"Galician\", \"Game Meat\", \"Gastropubs\", \"Georgian\", \"German\", \"Baden\", \"Eastern German\", \"Franconian\", \"Hessian\", \"Northern German\", \"Palatine\", \n",
    "    \"Rhinelandian\", \"Giblets\", \"Gluten-Free\", \"Greek\", \"Guamanian\", \"Halal\", \"Hawaiian\", \"Heuriger\", \"Himalayan/Nepalese\", \"Honduran\", \"Hong Kong Style Cafe\", \n",
    "    \"Hot Dogs\", \"Hot Pot\", \"Hungarian\", \"Iberian\", \"Indian\", \"Indonesian\", \"International\", \"Irish\", \"Island Pub\", \"Israeli\", \"Italian\", \"Abruzzese\", \n",
    "    \"Altoatesine\", \"Apulian\", \"Calabrian\", \"Cucina Campana\", \"Emilian\", \"Friulan\", \"Ligurian\", \"Lumbard\", \"Napoletana\", \"Piemonte\", \"Roman\", \"Sardinian\", \n",
    "    \"Sicilian\", \"Tuscan\", \"Venetian\", \"Japanese\", \"Blowfish\", \"Conveyor Belt Sushi\", \"Donburi\", \"Gyudon\", \"Oyakodon\", \"Hand Rolls\", \"Horumon\", \"Izakaya\", \n",
    "    \"Japanese Curry\", \"Kaiseki\", \"Kushikatsu\", \"Oden\", \"Okinawan\", \"Okonomiyaki\", \"Onigiri\", \"Ramen\", \"Robatayaki\", \"Soba\", \"Sukiyaki\", \"Takoyaki\", \n",
    "    \"Tempura\", \"Teppanyaki\", \"Tonkatsu\", \"Udon\", \"Unagi\", \"Western Style Japanese Food\", \"Yakiniku\", \"Yakitori\", \"Jewish\", \"Kebab\", \"Kopitiam\", \"Korean\", \"Kosher\", \n",
    "    \"Kurdish\", \"Laos\", \"Laotian\",\"Latin American\",\"Colombian\",\"Salvadoran\",\"Venezuelan\",\"Live/Raw Food\",\"Lyonnais\",\"Malaysian\",\"Mamak\",\"Nyonya\",\"Meatballs\",\n",
    "    \"Mediterranean\",\"Falafel\",\"Mexican\",\"Eastern Mexican\",\"Jaliscan\",\"Northern Mexican\",\"Oaxacan\",\"Pueblan\",\"Tacos\",\"Tamales\",\"Yucatan\",\"Middle Eastern\",\n",
    "    \"Egyptian\",\"Lebanese\",\"Milk Bars\",\"Modern Australian\",\"Modern European\",\"Mongolian\",\"Moroccan\",\"New Mexican Cuisine\",\"New Zealand\",\"Nicaraguan\",\n",
    "    \"Night Food\",\"Nikkei\",\"Noodles\",\"Norcinerie\",\"Open Sandwiches\",\"Oriental\",\"Pakistani\",\"Pan Asian\",\"Parent Cafes\",\"Parma\",\"Persian/Iranian\",\"Peruvian\",\n",
    "    \"PF/Comercial\",\"Pita\",\"Pizza\",\"Polish\",\"Pierogis\",\"Polynesian\",\"Pop-Up Restaurants\",\"Portuguese\",\"Alentejo\",\"Algarve\",\"Azores\",\"Beira\",\"Fado Houses\",\"Madeira\",\n",
    "    \"Minho\",\"Ribatejo\",\"Tras-os-Montes\",\"Potatoes\",\"Poutineries\",\"Pub Food\",\"Rice\",\"Romanian\",\"Rotisserie Chicken\",\"Russian\",\"Salad\",\"Sandwiches\",\"Scandinavian\",\n",
    "    \"Schnitzel\",\"Scottish\",\"Seafood\",\"Serbo Croatian\",\"Signature Cuisine\",\"Singaporean\",\"Slovakian\",\"Somali\",\"Soul Food\",\"Soup\",\"Southern\",\"Spanish\",\"Arroceria/Paella\",\n",
    "    \"Sri Lankan\",\"Steakhouses\",\"Supper Clubs\",\"Sushi Bars\",\"Swabian\",\"Swedish\",\"Swiss Food\",\"Syrian\",\"Tabernas\",\"Taiwanese\",\"Tapas Bars\",\"Tapas/Small Plates\",\"Tavola Calda\",\n",
    "    \"Tex-Mex\",\"Thai\",\"Traditional Norwegian\",\"Traditional Swedish\",\"Trattorie\",\"Turkish\",\"Chee Kufta\",\"Gozleme\",\"Homemade Food\",\"Lahmacun\",\"Ottoman Cuisine\",\n",
    "    \"Turkish Ravioli\",\"Ukrainian\",\"Uzbek\",\"Vegan\",\"Vegetarian\",\"Venison\",\"Vietnamese\",\"Waffles\",\"Wok\",\"Wraps\",\"Yugoslav\"\n",
    "]\n"
   ]
  },
  {
   "cell_type": "code",
   "execution_count": 21,
   "id": "901b38f7-2227-4438-a07a-54d20b062517",
   "metadata": {
    "scrolled": true
   },
   "outputs": [],
   "source": [
    "al_categories = [\n",
    "    \"Active Life\",\n",
    "    \"Amusement Parks\",\n",
    "    \"Aquariums\",\n",
    "    \"Archery\",\n",
    "    \"ATV Rentals/Tours\",\n",
    "    \"Axe Throwing\",\n",
    "    \"Bathing Area\",\n",
    "    \"Beach Equipment Rentals\",\n",
    "    \"Beach Volleyball\",\n",
    "    \"Beaches\",\n",
    "    \"Bicycle Paths\",\n",
    "    \"Bike Parking\",\n",
    "    \"Bike Rentals\",\n",
    "    \"Boating\",\n",
    "    \"Bungee Jumping\",\n",
    "    \"Canyoneering\",\n",
    "    \"Carousels\",\n",
    "    \"Climbing\",\n",
    "    \"Scuba Diving\",\n",
    "    \"Escape Games\",\n",
    "    \"Experiences\",\n",
    "    \"Yoga\",\n",
    "    \"Flyboarding\",\n",
    "    \"Gliding\",\n",
    "    \"Go Karts\",\n",
    "    \"Golf\",\n",
    "    \"Hang Gliding\",\n",
    "    \"Hiking\",\n",
    "    \"Horse Racing\",\n",
    "    \"Horseback Riding\",\n",
    "    \"Hot Air Balloons\",\n",
    "    \"Jet Skis\",\n",
    "    \"Kids Activities\",\n",
    "    \"Kiteboarding\",\n",
    "    \"Lakes\",\n",
    "    \"Mini Golf\",\n",
    "    \"Mountain Biking\",\n",
    "    \"Paddleboarding\",\n",
    "    \"Paragliding\",\n",
    "    \"Parasailing\",\n",
    "    \"Parks\",\n",
    "    \"Dog Parks\",\n",
    "    \"Skate Parks\",\n",
    "    \"Public Plazas\",\n",
    "    \"Racing Experience\",\n",
    "    \"Rafting/Kayaking\",\n",
    "    \"Recreation Centers\",\n",
    "    \"Rock Climbing\",\n",
    "    \"Sailing\",\n",
    "    \"Scavenger Hunts\",\n",
    "    \"Scooter Rentals\",\n",
    "    \"Skating Rinks\",\n",
    "    \"Skiing\",\n",
    "    \"Skydiving\",\n",
    "    \"Sledding\",\n",
    "    \"Snorkeling\",\n",
    "    \"Surfing\",\n",
    "    \"Swimming Pools\",\n",
    "    \"Trampoline Parks\",\n",
    "    \"Tubing\",\n",
    "    \"Water Parks\",\n",
    "    \"Ziplining\",\n",
    "    \"Zoos\",\n",
    "    \"Petting Zoos\"\n",
    "]"
   ]
  },
  {
   "cell_type": "code",
   "execution_count": 22,
   "id": "cb60533b-0997-48ec-b75b-d153a6d1184a",
   "metadata": {},
   "outputs": [],
   "source": [
    "ae_categories = ['Arts & Entertainment', 'Arcades', 'Art Galleries', 'Botanical Gardens', 'Casinos', 'Cinema', 'Drive-In Theater', 'Outdoor Movies', 'Country Clubs', \n",
    " 'Cultural Center', 'Entertainment', 'Farms', 'Attraction Farms', 'Festivals', 'Haunted Houses', 'Jazz & Blues', 'LAN Centers', 'Museums', 'Art Museums', \n",
    " 'Children’s Museums', 'Music Venues', 'Observatories', 'Opera & Ballet', 'Paint & Sip', 'Performing Arts', 'Planetarium', 'Professional Sports Teams', \n",
    " 'Race Tracks', 'Rodeo', 'Social Clubs', 'Stadiums & Arenas', 'Studio Taping', 'Virtual Reality Centers', 'Wineries', 'Wine Tasting Room']"
   ]
  },
  {
   "cell_type": "code",
   "execution_count": 23,
   "id": "129ed5c3-0c12-4018-9a63-04f24341ddfe",
   "metadata": {},
   "outputs": [],
   "source": [
    "accommodations_categories = [\n",
    "    \"Bed & Breakfast\",\n",
    "    \"Campgrounds\",\n",
    "    \"Guest Houses\",\n",
    "    \"Health Retreats\",\n",
    "    \"Hostels\",\n",
    "    \"Hotels\",\n",
    "    \"Mountain Huts\",\n",
    "    \"Residences\",\n",
    "    \"RV Parks\",\n",
    "    \"Resorts\",\n",
    "    \"Ski Resorts\",\n",
    "    \"Vacation Rentals\"\n",
    "]"
   ]
  },
  {
   "cell_type": "code",
   "execution_count": 24,
   "id": "a11e69e1-7caf-480c-8540-1eca3be2829f",
   "metadata": {},
   "outputs": [],
   "source": [
    "tour_categories =['Tours',\n",
    " 'Aerial Tours',\n",
    " 'Architectural Tours',\n",
    " 'Art Tours',\n",
    " 'Beer Tours',\n",
    " 'Bike Tours',\n",
    " 'Boat Tours',\n",
    " 'Bus Tours',\n",
    " 'Food Tours',\n",
    " 'Historical Tours',\n",
    " 'Scooter Tours',\n",
    " 'Walking Tours',\n",
    " 'Whale Watching Tours',\n",
    " 'Wine Tours']\n"
   ]
  },
  {
   "cell_type": "code",
   "execution_count": 25,
   "id": "d763ced3-3381-4c1c-b72c-3d7b0ec32c5e",
   "metadata": {},
   "outputs": [],
   "source": [
    "nightlife_categories = ['Nightlife',\n",
    " 'Adult Entertainment',\n",
    " 'Strip Clubs',\n",
    " 'Striptease Dancers',\n",
    " 'Bar Crawl',\n",
    " 'Bars',\n",
    " 'Beer Bar',\n",
    " 'Champagne Bars',\n",
    " 'Cigar Bars',\n",
    " 'Cocktail Bars',\n",
    " 'Dive Bars',\n",
    " 'Drive-Thru Bars',\n",
    " 'Gay Bars',\n",
    " 'Hookah Bars',\n",
    " 'Irish Pub',\n",
    " 'Lounges',\n",
    " 'Pubs',\n",
    " 'Speakeasies',\n",
    " 'Sports Bars',\n",
    " 'Tiki Bars',\n",
    " 'Vermouth Bars',\n",
    " 'Whiskey Bars',\n",
    " 'Wine Bars',\n",
    " 'Beer Gardens',\n",
    " 'Club Crawl',\n",
    " 'Comedy Clubs',\n",
    " 'Country Dance Halls',\n",
    " 'Dance Clubs',\n",
    " 'Jazz & Blues',\n",
    " 'Karaoke',\n",
    " 'Music Venues',\n",
    " 'Piano Bars',\n",
    " 'Pool Halls']"
   ]
  },
  {
   "cell_type": "markdown",
   "id": "4493afca-c686-4fb7-9710-32207747c610",
   "metadata": {},
   "source": [
    "##### Removing unwanted subcategories and mislabled businesses"
   ]
  },
  {
   "cell_type": "code",
   "execution_count": 26,
   "id": "a1b83484-02df-4bcd-91fa-8619f3b94eb3",
   "metadata": {},
   "outputs": [],
   "source": [
    "# Function that checks subcategories.\n",
    "def has_only_acceptable_categories(subcategories_list, acceptable_set):\n",
    "    # Make sure that the subcategories are a list (if the entry is not NaN or similar).\n",
    "    if isinstance(subcategories_list, list):\n",
    "        return all(subcategory in acceptable_set for subcategory in subcategories_list)\n",
    "    else:\n",
    "        return True"
   ]
  },
  {
   "cell_type": "code",
   "execution_count": 27,
   "id": "f2c2054c-b51e-4150-8f09-a94ad420779c",
   "metadata": {},
   "outputs": [
    {
     "data": {
      "text/plain": [
       "(5203, 13)"
      ]
     },
     "execution_count": 27,
     "metadata": {},
     "output_type": "execute_result"
    }
   ],
   "source": [
    "restaurants_df['categories'] = restaurants_df['categories'].apply(lambda x: x.split(', ') if isinstance(x, str) else [])\n",
    "restaurants_df = restaurants_df[restaurants_df['categories'].apply(lambda x: has_only_acceptable_categories(x, restaurants_categories))]\n",
    "restaurants_df.shape\n",
    "# Now 'restaurants_df' should only contain businesses with acceptable subcategories."
   ]
  },
  {
   "cell_type": "code",
   "execution_count": 28,
   "id": "20517ef3-f60b-44f6-83d2-ecb1245b01d0",
   "metadata": {},
   "outputs": [
    {
     "data": {
      "text/plain": [
       "(139, 13)"
      ]
     },
     "execution_count": 28,
     "metadata": {},
     "output_type": "execute_result"
    }
   ],
   "source": [
    "active_life_df['categories'] = active_life_df['categories'].apply(lambda x: x.split(', ') if isinstance(x, str) else [])\n",
    "active_life_df = active_life_df[active_life_df['categories'].apply(lambda x: has_only_acceptable_categories(x, al_categories))]\n",
    "active_life_df.shape\n",
    "# Now 'active_life_df' should only contain businesses with acceptable subcategories."
   ]
  },
  {
   "cell_type": "code",
   "execution_count": 29,
   "id": "66b71887-c4c5-45d8-a1b9-7c4536c00a43",
   "metadata": {},
   "outputs": [
    {
     "data": {
      "text/plain": [
       "(147, 13)"
      ]
     },
     "execution_count": 29,
     "metadata": {},
     "output_type": "execute_result"
    }
   ],
   "source": [
    "arts_entertainment_df['categories'] = arts_entertainment_df['categories'].apply(lambda x: x.split(', ') if isinstance(x, str) else [])\n",
    "arts_entertainment_df = arts_entertainment_df[arts_entertainment_df['categories'].apply(lambda x: has_only_acceptable_categories(x, ae_categories))]\n",
    "arts_entertainment_df.shape\n",
    "# Now 'arts_entertainment_df' should only contain businesses with acceptable subcategories."
   ]
  },
  {
   "cell_type": "code",
   "execution_count": 30,
   "id": "f4ac33ce-506a-4607-97ed-7fff27694481",
   "metadata": {},
   "outputs": [
    {
     "data": {
      "text/plain": [
       "(341, 13)"
      ]
     },
     "execution_count": 30,
     "metadata": {},
     "output_type": "execute_result"
    }
   ],
   "source": [
    "# For the tours category I have to treat a little different, Tour businesses often include subcategories outside the Hotel & Travel category\n",
    "tours_df = hotels_travel_df[hotels_travel_df['categories'].str.contains('Tours')].reset_index(drop=True)\n",
    "tours_df.shape\n",
    "# Now 'tours_df' should only contain businesses with acceptable subcategories."
   ]
  },
  {
   "cell_type": "code",
   "execution_count": 31,
   "id": "b6db53b7-95e6-4285-9b24-883edec1a62f",
   "metadata": {},
   "outputs": [
    {
     "data": {
      "text/plain": [
       "(531, 13)"
      ]
     },
     "execution_count": 31,
     "metadata": {},
     "output_type": "execute_result"
    }
   ],
   "source": [
    "nightlife_df['categories'] = nightlife_df['categories'].apply(lambda x: x.split(', ') if isinstance(x, str) else [])\n",
    "nightlife_df = nightlife_df[nightlife_df['categories'].apply(lambda x: has_only_acceptable_categories(x, nightlife_categories))]\n",
    "nightlife_df.shape\n",
    "# Now 'nightlife_df' should only contain businesses with acceptable subcategories."
   ]
  },
  {
   "cell_type": "markdown",
   "id": "2de42c99-0330-467e-86a4-d62ca5e79dd5",
   "metadata": {},
   "source": [
    "### Places To Eat"
   ]
  },
  {
   "cell_type": "markdown",
   "id": "744711c0-f0cf-40d6-b43d-f7d172f9bf03",
   "metadata": {},
   "source": [
    "#### Restaurants"
   ]
  },
  {
   "cell_type": "markdown",
   "id": "48ff50f8-ec3d-453c-b24c-ed3431bf3fe0",
   "metadata": {},
   "source": [
    "Starting with restaurants we'll take a look at the restaurant df we created earlier. "
   ]
  },
  {
   "cell_type": "code",
   "execution_count": 32,
   "id": "440dcbca-ca02-485c-94ad-7b7264f7b9f6",
   "metadata": {
    "scrolled": true
   },
   "outputs": [
    {
     "data": {
      "text/plain": [
       "(5203, 13)"
      ]
     },
     "execution_count": 32,
     "metadata": {},
     "output_type": "execute_result"
    }
   ],
   "source": [
    "restaurants_df.shape"
   ]
  },
  {
   "cell_type": "markdown",
   "id": "6909f3c6-cccd-4f6a-a464-df7976a03ec2",
   "metadata": {
    "scrolled": true
   },
   "source": [
    "To reduce dimmensionality it would be good to only include resturants who have at least 10 reviews. Any less and the resturant might be brand new and probably shouldn't be included in our reccomondations. "
   ]
  },
  {
   "cell_type": "code",
   "execution_count": 33,
   "id": "06a536a4-ea3c-421f-ad35-c1da638558d0",
   "metadata": {},
   "outputs": [
    {
     "data": {
      "text/plain": [
       "(4323, 13)"
      ]
     },
     "execution_count": 33,
     "metadata": {},
     "output_type": "execute_result"
    }
   ],
   "source": [
    "# Filtering the DataFrame to include only restaurants with at least 10 reviews\n",
    "restaurants_df = restaurants_df[restaurants_df['review_count'] >= 10]\n",
    "restaurants_df.shape"
   ]
  },
  {
   "cell_type": "code",
   "execution_count": 35,
   "id": "8352e69f-14d5-4525-90dc-db807aeb0bca",
   "metadata": {},
   "outputs": [],
   "source": [
    "# Exporting the filtered data frame to a csv\n",
    "restaurants_df.to_csv('../Data/filtered_data_sets/restaurants.csv', index=False)"
   ]
  },
  {
   "cell_type": "markdown",
   "id": "d3386d92-7e1c-4742-80ec-99eecc60d705",
   "metadata": {},
   "source": [
    "I'll filter our existing review table by our filtered restaurant df and include only the resturants we want for our model."
   ]
  },
  {
   "cell_type": "code",
   "execution_count": 42,
   "id": "21437869-0683-4c82-8aea-2b2876c59655",
   "metadata": {},
   "outputs": [],
   "source": [
    "restaurant_ratings_df = df_r[df_r.business_id.isin(restaurants_df.business_id )]"
   ]
  },
  {
   "cell_type": "code",
   "execution_count": 59,
   "id": "09cae97d-d600-41d8-b033-9ba75a730815",
   "metadata": {},
   "outputs": [
    {
     "data": {
      "text/plain": [
       "(129505, 8)"
      ]
     },
     "execution_count": 59,
     "metadata": {},
     "output_type": "execute_result"
    }
   ],
   "source": [
    "restaurant_ratings_df.shape"
   ]
  },
  {
   "cell_type": "markdown",
   "id": "3a5b8618-e12e-4254-bb14-8134dc4d8016",
   "metadata": {},
   "source": [
    "To reduce dimensionality of our new df I want to indclude user that have at least 10 reviews. Mainly to exlcude users who are not regular users of the platform and there for would not benifit from our reccomondations and could influence others predicted ratings. "
   ]
  },
  {
   "cell_type": "code",
   "execution_count": 58,
   "id": "3f28a173-155c-484e-b61f-17e45f1d766a",
   "metadata": {},
   "outputs": [
    {
     "data": {
      "text/plain": [
       "(129505, 8)"
      ]
     },
     "execution_count": 58,
     "metadata": {},
     "output_type": "execute_result"
    }
   ],
   "source": [
    "# filter resturant review data by users with more than 10 reviews\n",
    "u = restaurant_ratings_df.user_id.value_counts()\n",
    "restaurant_ratings_df = restaurant_ratings_df[restaurant_ratings_df.user_id.isin(u.index[u.gt(10)])]\n",
    "restaurant_ratings_df.shape"
   ]
  },
  {
   "cell_type": "markdown",
   "id": "7314a05f-a702-4967-a921-797d7bdb4d05",
   "metadata": {},
   "source": [
    "I'll remove the columns that are unneccesary for our model and sort features by users and then by businesses"
   ]
  },
  {
   "cell_type": "code",
   "execution_count": 60,
   "id": "5e133a86-fd15-4b3e-ae29-d62056497618",
   "metadata": {},
   "outputs": [
    {
     "data": {
      "text/html": [
       "<div>\n",
       "<style scoped>\n",
       "    .dataframe tbody tr th:only-of-type {\n",
       "        vertical-align: middle;\n",
       "    }\n",
       "\n",
       "    .dataframe tbody tr th {\n",
       "        vertical-align: top;\n",
       "    }\n",
       "\n",
       "    .dataframe thead th {\n",
       "        text-align: right;\n",
       "    }\n",
       "</style>\n",
       "<table border=\"1\" class=\"dataframe\">\n",
       "  <thead>\n",
       "    <tr style=\"text-align: right;\">\n",
       "      <th></th>\n",
       "      <th>user_id</th>\n",
       "      <th>business_id</th>\n",
       "      <th>stars</th>\n",
       "    </tr>\n",
       "    <tr>\n",
       "      <th>review_id</th>\n",
       "      <th></th>\n",
       "      <th></th>\n",
       "      <th></th>\n",
       "    </tr>\n",
       "  </thead>\n",
       "  <tbody>\n",
       "    <tr>\n",
       "      <th>FMc1DXds7f5KaZcqY5ZcdQ</th>\n",
       "      <td>-0H6Rm6dCi3pkFBC26HsoQ</td>\n",
       "      <td>26i3Tkz3VIS0CNIZ3JUMYw</td>\n",
       "      <td>5.0</td>\n",
       "    </tr>\n",
       "    <tr>\n",
       "      <th>Uh3w3bFXiB4u5HWCfvl-9g</th>\n",
       "      <td>-0H6Rm6dCi3pkFBC26HsoQ</td>\n",
       "      <td>L4POqDySd7lSnLPd8mmpiw</td>\n",
       "      <td>1.0</td>\n",
       "    </tr>\n",
       "    <tr>\n",
       "      <th>ogtSF8c9ocQJlAD_6yxjpg</th>\n",
       "      <td>-0H6Rm6dCi3pkFBC26HsoQ</td>\n",
       "      <td>Lw_8MDDspsumhB37n74nNw</td>\n",
       "      <td>1.0</td>\n",
       "    </tr>\n",
       "    <tr>\n",
       "      <th>tgGK72QIx6WoAKbfpTtfCg</th>\n",
       "      <td>-0H6Rm6dCi3pkFBC26HsoQ</td>\n",
       "      <td>Lw_8MDDspsumhB37n74nNw</td>\n",
       "      <td>5.0</td>\n",
       "    </tr>\n",
       "    <tr>\n",
       "      <th>i4L-XBCzlcHvCj1asJjhdw</th>\n",
       "      <td>-0H6Rm6dCi3pkFBC26HsoQ</td>\n",
       "      <td>Lw_8MDDspsumhB37n74nNw</td>\n",
       "      <td>5.0</td>\n",
       "    </tr>\n",
       "  </tbody>\n",
       "</table>\n",
       "</div>"
      ],
      "text/plain": [
       "                                       user_id             business_id  stars\n",
       "review_id                                                                    \n",
       "FMc1DXds7f5KaZcqY5ZcdQ  -0H6Rm6dCi3pkFBC26HsoQ  26i3Tkz3VIS0CNIZ3JUMYw    5.0\n",
       "Uh3w3bFXiB4u5HWCfvl-9g  -0H6Rm6dCi3pkFBC26HsoQ  L4POqDySd7lSnLPd8mmpiw    1.0\n",
       "ogtSF8c9ocQJlAD_6yxjpg  -0H6Rm6dCi3pkFBC26HsoQ  Lw_8MDDspsumhB37n74nNw    1.0\n",
       "tgGK72QIx6WoAKbfpTtfCg  -0H6Rm6dCi3pkFBC26HsoQ  Lw_8MDDspsumhB37n74nNw    5.0\n",
       "i4L-XBCzlcHvCj1asJjhdw  -0H6Rm6dCi3pkFBC26HsoQ  Lw_8MDDspsumhB37n74nNw    5.0"
      ]
     },
     "execution_count": 60,
     "metadata": {},
     "output_type": "execute_result"
    }
   ],
   "source": [
    "restaurant_ratings_df = restaurant_ratings_df.sort_values(by=['user_id', 'business_id']).drop(columns=['funny', 'useful', 'cool', 'date']).set_index('review_id')\n",
    "restaurant_ratings_df.head()"
   ]
  },
  {
   "cell_type": "markdown",
   "id": "44c7a8a1-d86b-4859-bfd1-6271d1f9305a",
   "metadata": {},
   "source": [
    "Our data is now ready for modelling"
   ]
  },
  {
   "cell_type": "code",
   "execution_count": 53,
   "id": "7623add0-fb52-4fdb-a60b-4aa6bdd3e34b",
   "metadata": {},
   "outputs": [],
   "source": [
    "# export preparred data \n",
    "restaurant_ratings_df.to_csv('../Data/ratings/restaurant_ratings.csv', index=False) #Setting index=False to drop custom index column"
   ]
  },
  {
   "cell_type": "markdown",
   "id": "3ca82f8f-36cc-4f3f-ba09-7635bd001a19",
   "metadata": {},
   "source": [
    "# Modeling \n",
    "I will most likley move this section to its own notebook"
   ]
  },
  {
   "cell_type": "code",
   "execution_count": 77,
   "id": "6670b69e-2a32-4f45-93c8-c2b76ce5e8b9",
   "metadata": {},
   "outputs": [],
   "source": [
    "# Saving predictions algorithim to a file\n",
    "with open('algorithims/s_predictions.pkl', 'wb') as f:\n",
    "    pickle.dump(predictions, f)"
   ]
  },
  {
   "cell_type": "code",
   "execution_count": null,
   "id": "7c409807-8c29-4911-a954-ea52c929458f",
   "metadata": {},
   "outputs": [],
   "source": [
    "# Load algorithim from a file\n",
    "with open('/mnt/data/predictions.pkl', 'rb') as f:\n",
    "    loaded_predictions = pickle.load(f)"
   ]
  },
  {
   "cell_type": "markdown",
   "id": "37ef0acc-50bb-4c3b-b74c-3105c0be9b81",
   "metadata": {},
   "source": [
    "### Things to Do"
   ]
  },
  {
   "cell_type": "markdown",
   "id": "bb935e72-19b0-4bb6-9f22-aec713bc580a",
   "metadata": {},
   "source": [
    "#### Active Life\n",
    "I'll know explore the active life data frame we created earlier and see if any adjustments need to be made"
   ]
  },
  {
   "cell_type": "code",
   "execution_count": 45,
   "id": "9c722b3a-4495-4bea-b68f-59a119757d2c",
   "metadata": {},
   "outputs": [
    {
     "data": {
      "text/plain": [
       "(139, 13)"
      ]
     },
     "execution_count": 45,
     "metadata": {},
     "output_type": "execute_result"
    }
   ],
   "source": [
    "active_life_df.shape"
   ]
  },
  {
   "cell_type": "code",
   "execution_count": 46,
   "id": "4a69edf0-e3d7-4984-bf4c-6c9971df78d5",
   "metadata": {
    "scrolled": true
   },
   "outputs": [
    {
     "data": {
      "text/html": [
       "<div>\n",
       "<style scoped>\n",
       "    .dataframe tbody tr th:only-of-type {\n",
       "        vertical-align: middle;\n",
       "    }\n",
       "\n",
       "    .dataframe tbody tr th {\n",
       "        vertical-align: top;\n",
       "    }\n",
       "\n",
       "    .dataframe thead th {\n",
       "        text-align: right;\n",
       "    }\n",
       "</style>\n",
       "<table border=\"1\" class=\"dataframe\">\n",
       "  <thead>\n",
       "    <tr style=\"text-align: right;\">\n",
       "      <th></th>\n",
       "      <th>business_id</th>\n",
       "      <th>name</th>\n",
       "      <th>address</th>\n",
       "      <th>city</th>\n",
       "      <th>state</th>\n",
       "      <th>postal_code</th>\n",
       "      <th>latitude</th>\n",
       "      <th>longitude</th>\n",
       "      <th>stars</th>\n",
       "      <th>review_count</th>\n",
       "      <th>is_open</th>\n",
       "      <th>categories</th>\n",
       "      <th>hours</th>\n",
       "    </tr>\n",
       "  </thead>\n",
       "  <tbody>\n",
       "    <tr>\n",
       "      <th>4</th>\n",
       "      <td>gVh26yEPkXSoWbhs1p2kNA</td>\n",
       "      <td>Gotham Escape Room</td>\n",
       "      <td>1425 Arch St, Level B</td>\n",
       "      <td>Philadelphia</td>\n",
       "      <td>PA</td>\n",
       "      <td>19102</td>\n",
       "      <td>39.955015</td>\n",
       "      <td>-75.164297</td>\n",
       "      <td>4.5</td>\n",
       "      <td>23</td>\n",
       "      <td>1</td>\n",
       "      <td>[Active Life, Escape Games]</td>\n",
       "      <td>{'Monday': '16:0-22:0', 'Wednesday': '16:0-22:...</td>\n",
       "    </tr>\n",
       "    <tr>\n",
       "      <th>20</th>\n",
       "      <td>s_NhHDVXGyZ1mjTu4D9fXA</td>\n",
       "      <td>Chestnut Hill Escape Room</td>\n",
       "      <td>8217 Germantown Ave</td>\n",
       "      <td>Philadelphia</td>\n",
       "      <td>PA</td>\n",
       "      <td>19118</td>\n",
       "      <td>40.073763</td>\n",
       "      <td>-75.202796</td>\n",
       "      <td>5.0</td>\n",
       "      <td>9</td>\n",
       "      <td>0</td>\n",
       "      <td>[Escape Games, Active Life]</td>\n",
       "      <td>{'Friday': '16:0-21:30', 'Saturday': '10:0-22:...</td>\n",
       "    </tr>\n",
       "    <tr>\n",
       "      <th>33</th>\n",
       "      <td>yS-A-mNVlFf5kbaC028KJw</td>\n",
       "      <td>City Putt</td>\n",
       "      <td>33 Dreyfous Dr</td>\n",
       "      <td>New Orleans</td>\n",
       "      <td>LA</td>\n",
       "      <td>70119</td>\n",
       "      <td>29.985979</td>\n",
       "      <td>-90.098129</td>\n",
       "      <td>4.0</td>\n",
       "      <td>56</td>\n",
       "      <td>1</td>\n",
       "      <td>[Mini Golf, Active Life]</td>\n",
       "      <td>{'Monday': '0:0-0:0', 'Wednesday': '15:0-21:0'...</td>\n",
       "    </tr>\n",
       "    <tr>\n",
       "      <th>48</th>\n",
       "      <td>aqTLu2dS_dG0ZUtDUH5fvg</td>\n",
       "      <td>Lafayette Square</td>\n",
       "      <td>500 St Charles Ave</td>\n",
       "      <td>New Orleans</td>\n",
       "      <td>LA</td>\n",
       "      <td>70130</td>\n",
       "      <td>29.948317</td>\n",
       "      <td>-90.070349</td>\n",
       "      <td>4.0</td>\n",
       "      <td>53</td>\n",
       "      <td>1</td>\n",
       "      <td>[Parks, Active Life]</td>\n",
       "      <td>NaN</td>\n",
       "    </tr>\n",
       "    <tr>\n",
       "      <th>60</th>\n",
       "      <td>ZXKBVg-5drZ37wnwVEZe-A</td>\n",
       "      <td>Crescent Park</td>\n",
       "      <td>1008 N Peters St</td>\n",
       "      <td>New Orleans</td>\n",
       "      <td>LA</td>\n",
       "      <td>70117</td>\n",
       "      <td>29.961731</td>\n",
       "      <td>-90.055248</td>\n",
       "      <td>4.0</td>\n",
       "      <td>71</td>\n",
       "      <td>1</td>\n",
       "      <td>[Active Life, Dog Parks, Parks]</td>\n",
       "      <td>{'Monday': '6:0-19:30', 'Tuesday': '6:0-19:30'...</td>\n",
       "    </tr>\n",
       "    <tr>\n",
       "      <th>79</th>\n",
       "      <td>uUYr4mxdptgy8faIxB-8Ew</td>\n",
       "      <td>Cedar Park</td>\n",
       "      <td>50th St &amp; Baltimore Ave</td>\n",
       "      <td>Philadelphia</td>\n",
       "      <td>PA</td>\n",
       "      <td>19143</td>\n",
       "      <td>39.948219</td>\n",
       "      <td>-75.222648</td>\n",
       "      <td>4.5</td>\n",
       "      <td>8</td>\n",
       "      <td>1</td>\n",
       "      <td>[Active Life, Parks]</td>\n",
       "      <td>NaN</td>\n",
       "    </tr>\n",
       "    <tr>\n",
       "      <th>80</th>\n",
       "      <td>uwF2zLAnZZ1SCwEF8QQKQA</td>\n",
       "      <td>Wissahickon Valley Trail</td>\n",
       "      <td>Valley Green Rd At Wissahickon</td>\n",
       "      <td>Philadelphia</td>\n",
       "      <td>PA</td>\n",
       "      <td>19128</td>\n",
       "      <td>40.085591</td>\n",
       "      <td>-75.229783</td>\n",
       "      <td>4.5</td>\n",
       "      <td>137</td>\n",
       "      <td>1</td>\n",
       "      <td>[Hiking, Parks, Active Life]</td>\n",
       "      <td>NaN</td>\n",
       "    </tr>\n",
       "    <tr>\n",
       "      <th>82</th>\n",
       "      <td>8aZMMIkvGUWBiotrcd0Egg</td>\n",
       "      <td>The Dog Levee</td>\n",
       "      <td>Leake Ave At Magazine St</td>\n",
       "      <td>New Orleans</td>\n",
       "      <td>LA</td>\n",
       "      <td>70118</td>\n",
       "      <td>29.927757</td>\n",
       "      <td>-90.133582</td>\n",
       "      <td>4.0</td>\n",
       "      <td>12</td>\n",
       "      <td>1</td>\n",
       "      <td>[Parks, Dog Parks, Active Life]</td>\n",
       "      <td>NaN</td>\n",
       "    </tr>\n",
       "    <tr>\n",
       "      <th>85</th>\n",
       "      <td>SwDft6mQqti4SjhxSYtZoA</td>\n",
       "      <td>Lafitte Barataria Preserve</td>\n",
       "      <td>6588 Barataria Blvd</td>\n",
       "      <td>New Orleans</td>\n",
       "      <td>LA</td>\n",
       "      <td>70072</td>\n",
       "      <td>29.784183</td>\n",
       "      <td>-90.115435</td>\n",
       "      <td>5.0</td>\n",
       "      <td>8</td>\n",
       "      <td>1</td>\n",
       "      <td>[Active Life, Parks]</td>\n",
       "      <td>NaN</td>\n",
       "    </tr>\n",
       "    <tr>\n",
       "      <th>88</th>\n",
       "      <td>igokTeBzqlsltxz7lPzVqA</td>\n",
       "      <td>Columbus Square Dog Park</td>\n",
       "      <td>1200 Wharton St</td>\n",
       "      <td>Philadelphia</td>\n",
       "      <td>PA</td>\n",
       "      <td>19147</td>\n",
       "      <td>39.932645</td>\n",
       "      <td>-75.164218</td>\n",
       "      <td>3.0</td>\n",
       "      <td>14</td>\n",
       "      <td>0</td>\n",
       "      <td>[Active Life, Dog Parks, Parks]</td>\n",
       "      <td>{'Monday': '7:0-21:0', 'Tuesday': '7:0-21:0', ...</td>\n",
       "    </tr>\n",
       "    <tr>\n",
       "      <th>101</th>\n",
       "      <td>lPmD3rNV3Iv-kMjxTGc-Hg</td>\n",
       "      <td>Trapped Escape Game Nashville</td>\n",
       "      <td>4251 Sidco Dr</td>\n",
       "      <td>Nashville</td>\n",
       "      <td>TN</td>\n",
       "      <td>37204</td>\n",
       "      <td>36.087638</td>\n",
       "      <td>-86.762318</td>\n",
       "      <td>5.0</td>\n",
       "      <td>6</td>\n",
       "      <td>1</td>\n",
       "      <td>[Escape Games, Active Life]</td>\n",
       "      <td>{'Monday': '11:0-22:0', 'Tuesday': '11:0-22:0'...</td>\n",
       "    </tr>\n",
       "    <tr>\n",
       "      <th>106</th>\n",
       "      <td>vmWDmLMnEJ0bEfEwqo-Y-g</td>\n",
       "      <td>Arrow Swim Club</td>\n",
       "      <td>1031 Germantown Ave</td>\n",
       "      <td>Philadelphia</td>\n",
       "      <td>PA</td>\n",
       "      <td>19123</td>\n",
       "      <td>39.966407</td>\n",
       "      <td>-75.138673</td>\n",
       "      <td>2.5</td>\n",
       "      <td>13</td>\n",
       "      <td>0</td>\n",
       "      <td>[Active Life, Swimming Pools]</td>\n",
       "      <td>{'Monday': '10:0-21:0', 'Tuesday': '10:0-21:0'...</td>\n",
       "    </tr>\n",
       "    <tr>\n",
       "      <th>115</th>\n",
       "      <td>z54RU7tSWfge1Kbat5lJZw</td>\n",
       "      <td>Harpeth Valley Golf Center</td>\n",
       "      <td>7629 Old Harding Rd</td>\n",
       "      <td>Nashville</td>\n",
       "      <td>TN</td>\n",
       "      <td>37221</td>\n",
       "      <td>36.058273</td>\n",
       "      <td>-86.945075</td>\n",
       "      <td>3.5</td>\n",
       "      <td>19</td>\n",
       "      <td>1</td>\n",
       "      <td>[Active Life, Golf]</td>\n",
       "      <td>{'Monday': '8:0-21:0', 'Tuesday': '8:0-21:0', ...</td>\n",
       "    </tr>\n",
       "    <tr>\n",
       "      <th>118</th>\n",
       "      <td>f9Oemv5FsqjcDwDDz1P3_Q</td>\n",
       "      <td>Rothman Orthopaedics Rink</td>\n",
       "      <td>1 S 15th St</td>\n",
       "      <td>Philadelphia</td>\n",
       "      <td>PA</td>\n",
       "      <td>19102</td>\n",
       "      <td>39.952773</td>\n",
       "      <td>-75.164568</td>\n",
       "      <td>3.0</td>\n",
       "      <td>25</td>\n",
       "      <td>1</td>\n",
       "      <td>[Skating Rinks, Active Life]</td>\n",
       "      <td>NaN</td>\n",
       "    </tr>\n",
       "    <tr>\n",
       "      <th>124</th>\n",
       "      <td>PusG7tp0Yu7qz1ql1viXqw</td>\n",
       "      <td>Adz Kozloski</td>\n",
       "      <td>NaN</td>\n",
       "      <td>Philadelphia</td>\n",
       "      <td>PA</td>\n",
       "      <td>19145</td>\n",
       "      <td>39.908085</td>\n",
       "      <td>-75.195393</td>\n",
       "      <td>1.0</td>\n",
       "      <td>6</td>\n",
       "      <td>1</td>\n",
       "      <td>[Active Life, Golf]</td>\n",
       "      <td>NaN</td>\n",
       "    </tr>\n",
       "    <tr>\n",
       "      <th>135</th>\n",
       "      <td>OPVM8guYhbH_fTocbnGefQ</td>\n",
       "      <td>Couturie Forest</td>\n",
       "      <td>1009 Harrison Ave</td>\n",
       "      <td>New Orleans</td>\n",
       "      <td>LA</td>\n",
       "      <td>70124</td>\n",
       "      <td>30.002221</td>\n",
       "      <td>-90.093954</td>\n",
       "      <td>5.0</td>\n",
       "      <td>8</td>\n",
       "      <td>1</td>\n",
       "      <td>[Hiking, Active Life, Parks]</td>\n",
       "      <td>NaN</td>\n",
       "    </tr>\n",
       "    <tr>\n",
       "      <th>147</th>\n",
       "      <td>XEUMXjjlNSH3rcJwaV9Dtg</td>\n",
       "      <td>Warner Parks</td>\n",
       "      <td>7311 Highway 100</td>\n",
       "      <td>Nashville</td>\n",
       "      <td>TN</td>\n",
       "      <td>37221</td>\n",
       "      <td>36.060813</td>\n",
       "      <td>-86.906018</td>\n",
       "      <td>5.0</td>\n",
       "      <td>7</td>\n",
       "      <td>1</td>\n",
       "      <td>[Parks, Hiking, Active Life]</td>\n",
       "      <td>NaN</td>\n",
       "    </tr>\n",
       "    <tr>\n",
       "      <th>181</th>\n",
       "      <td>VKFfA8vgdVF7_AWTZ1hQQg</td>\n",
       "      <td>Drexel Park</td>\n",
       "      <td>32ND St And Powelton Ave</td>\n",
       "      <td>Philadelphia</td>\n",
       "      <td>PA</td>\n",
       "      <td>19104</td>\n",
       "      <td>39.960532</td>\n",
       "      <td>-75.187978</td>\n",
       "      <td>3.5</td>\n",
       "      <td>5</td>\n",
       "      <td>1</td>\n",
       "      <td>[Parks, Active Life]</td>\n",
       "      <td>NaN</td>\n",
       "    </tr>\n",
       "    <tr>\n",
       "      <th>187</th>\n",
       "      <td>Y0K_uIStPcNYGK0Mm9f4IQ</td>\n",
       "      <td>Cianfrani Park</td>\n",
       "      <td>8th &amp; Fitzwater St</td>\n",
       "      <td>Philadelphia</td>\n",
       "      <td>PA</td>\n",
       "      <td>19176</td>\n",
       "      <td>39.940564</td>\n",
       "      <td>-75.155889</td>\n",
       "      <td>4.0</td>\n",
       "      <td>6</td>\n",
       "      <td>1</td>\n",
       "      <td>[Active Life, Parks]</td>\n",
       "      <td>NaN</td>\n",
       "    </tr>\n",
       "    <tr>\n",
       "      <th>191</th>\n",
       "      <td>ltpXQoweOGQDlIO3soD3XA</td>\n",
       "      <td>Love Circle</td>\n",
       "      <td>Love Cir</td>\n",
       "      <td>Nashville</td>\n",
       "      <td>TN</td>\n",
       "      <td>37212</td>\n",
       "      <td>36.138150</td>\n",
       "      <td>-86.816356</td>\n",
       "      <td>4.0</td>\n",
       "      <td>27</td>\n",
       "      <td>1</td>\n",
       "      <td>[Parks, Hiking, Active Life]</td>\n",
       "      <td>NaN</td>\n",
       "    </tr>\n",
       "  </tbody>\n",
       "</table>\n",
       "</div>"
      ],
      "text/plain": [
       "                business_id                           name  \\\n",
       "4    gVh26yEPkXSoWbhs1p2kNA             Gotham Escape Room   \n",
       "20   s_NhHDVXGyZ1mjTu4D9fXA      Chestnut Hill Escape Room   \n",
       "33   yS-A-mNVlFf5kbaC028KJw                      City Putt   \n",
       "48   aqTLu2dS_dG0ZUtDUH5fvg               Lafayette Square   \n",
       "60   ZXKBVg-5drZ37wnwVEZe-A                  Crescent Park   \n",
       "79   uUYr4mxdptgy8faIxB-8Ew                     Cedar Park   \n",
       "80   uwF2zLAnZZ1SCwEF8QQKQA       Wissahickon Valley Trail   \n",
       "82   8aZMMIkvGUWBiotrcd0Egg                  The Dog Levee   \n",
       "85   SwDft6mQqti4SjhxSYtZoA     Lafitte Barataria Preserve   \n",
       "88   igokTeBzqlsltxz7lPzVqA       Columbus Square Dog Park   \n",
       "101  lPmD3rNV3Iv-kMjxTGc-Hg  Trapped Escape Game Nashville   \n",
       "106  vmWDmLMnEJ0bEfEwqo-Y-g                Arrow Swim Club   \n",
       "115  z54RU7tSWfge1Kbat5lJZw     Harpeth Valley Golf Center   \n",
       "118  f9Oemv5FsqjcDwDDz1P3_Q      Rothman Orthopaedics Rink   \n",
       "124  PusG7tp0Yu7qz1ql1viXqw                   Adz Kozloski   \n",
       "135  OPVM8guYhbH_fTocbnGefQ                Couturie Forest   \n",
       "147  XEUMXjjlNSH3rcJwaV9Dtg                   Warner Parks   \n",
       "181  VKFfA8vgdVF7_AWTZ1hQQg                    Drexel Park   \n",
       "187  Y0K_uIStPcNYGK0Mm9f4IQ                 Cianfrani Park   \n",
       "191  ltpXQoweOGQDlIO3soD3XA                    Love Circle   \n",
       "\n",
       "                            address          city state postal_code  \\\n",
       "4             1425 Arch St, Level B  Philadelphia    PA       19102   \n",
       "20              8217 Germantown Ave  Philadelphia    PA       19118   \n",
       "33                   33 Dreyfous Dr   New Orleans    LA       70119   \n",
       "48               500 St Charles Ave   New Orleans    LA       70130   \n",
       "60                 1008 N Peters St   New Orleans    LA       70117   \n",
       "79          50th St & Baltimore Ave  Philadelphia    PA       19143   \n",
       "80   Valley Green Rd At Wissahickon  Philadelphia    PA       19128   \n",
       "82         Leake Ave At Magazine St   New Orleans    LA       70118   \n",
       "85              6588 Barataria Blvd   New Orleans    LA       70072   \n",
       "88                  1200 Wharton St  Philadelphia    PA       19147   \n",
       "101                   4251 Sidco Dr     Nashville    TN       37204   \n",
       "106             1031 Germantown Ave  Philadelphia    PA       19123   \n",
       "115             7629 Old Harding Rd     Nashville    TN       37221   \n",
       "118                     1 S 15th St  Philadelphia    PA       19102   \n",
       "124                             NaN  Philadelphia    PA       19145   \n",
       "135               1009 Harrison Ave   New Orleans    LA       70124   \n",
       "147                7311 Highway 100     Nashville    TN       37221   \n",
       "181        32ND St And Powelton Ave  Philadelphia    PA       19104   \n",
       "187              8th & Fitzwater St  Philadelphia    PA       19176   \n",
       "191                        Love Cir     Nashville    TN       37212   \n",
       "\n",
       "      latitude  longitude  stars  review_count  is_open  \\\n",
       "4    39.955015 -75.164297    4.5            23        1   \n",
       "20   40.073763 -75.202796    5.0             9        0   \n",
       "33   29.985979 -90.098129    4.0            56        1   \n",
       "48   29.948317 -90.070349    4.0            53        1   \n",
       "60   29.961731 -90.055248    4.0            71        1   \n",
       "79   39.948219 -75.222648    4.5             8        1   \n",
       "80   40.085591 -75.229783    4.5           137        1   \n",
       "82   29.927757 -90.133582    4.0            12        1   \n",
       "85   29.784183 -90.115435    5.0             8        1   \n",
       "88   39.932645 -75.164218    3.0            14        0   \n",
       "101  36.087638 -86.762318    5.0             6        1   \n",
       "106  39.966407 -75.138673    2.5            13        0   \n",
       "115  36.058273 -86.945075    3.5            19        1   \n",
       "118  39.952773 -75.164568    3.0            25        1   \n",
       "124  39.908085 -75.195393    1.0             6        1   \n",
       "135  30.002221 -90.093954    5.0             8        1   \n",
       "147  36.060813 -86.906018    5.0             7        1   \n",
       "181  39.960532 -75.187978    3.5             5        1   \n",
       "187  39.940564 -75.155889    4.0             6        1   \n",
       "191  36.138150 -86.816356    4.0            27        1   \n",
       "\n",
       "                          categories  \\\n",
       "4        [Active Life, Escape Games]   \n",
       "20       [Escape Games, Active Life]   \n",
       "33          [Mini Golf, Active Life]   \n",
       "48              [Parks, Active Life]   \n",
       "60   [Active Life, Dog Parks, Parks]   \n",
       "79              [Active Life, Parks]   \n",
       "80      [Hiking, Parks, Active Life]   \n",
       "82   [Parks, Dog Parks, Active Life]   \n",
       "85              [Active Life, Parks]   \n",
       "88   [Active Life, Dog Parks, Parks]   \n",
       "101      [Escape Games, Active Life]   \n",
       "106    [Active Life, Swimming Pools]   \n",
       "115              [Active Life, Golf]   \n",
       "118     [Skating Rinks, Active Life]   \n",
       "124              [Active Life, Golf]   \n",
       "135     [Hiking, Active Life, Parks]   \n",
       "147     [Parks, Hiking, Active Life]   \n",
       "181             [Parks, Active Life]   \n",
       "187             [Active Life, Parks]   \n",
       "191     [Parks, Hiking, Active Life]   \n",
       "\n",
       "                                                 hours  \n",
       "4    {'Monday': '16:0-22:0', 'Wednesday': '16:0-22:...  \n",
       "20   {'Friday': '16:0-21:30', 'Saturday': '10:0-22:...  \n",
       "33   {'Monday': '0:0-0:0', 'Wednesday': '15:0-21:0'...  \n",
       "48                                                 NaN  \n",
       "60   {'Monday': '6:0-19:30', 'Tuesday': '6:0-19:30'...  \n",
       "79                                                 NaN  \n",
       "80                                                 NaN  \n",
       "82                                                 NaN  \n",
       "85                                                 NaN  \n",
       "88   {'Monday': '7:0-21:0', 'Tuesday': '7:0-21:0', ...  \n",
       "101  {'Monday': '11:0-22:0', 'Tuesday': '11:0-22:0'...  \n",
       "106  {'Monday': '10:0-21:0', 'Tuesday': '10:0-21:0'...  \n",
       "115  {'Monday': '8:0-21:0', 'Tuesday': '8:0-21:0', ...  \n",
       "118                                                NaN  \n",
       "124                                                NaN  \n",
       "135                                                NaN  \n",
       "147                                                NaN  \n",
       "181                                                NaN  \n",
       "187                                                NaN  \n",
       "191                                                NaN  "
      ]
     },
     "execution_count": 46,
     "metadata": {},
     "output_type": "execute_result"
    }
   ],
   "source": [
    "active_life_df.head(20)"
   ]
  },
  {
   "cell_type": "markdown",
   "id": "10716017-3ba6-47d3-b96e-373ecf53edd8",
   "metadata": {},
   "source": [
    "active_life_df['Categories'].value_counts()"
   ]
  },
  {
   "cell_type": "code",
   "execution_count": 71,
   "id": "405666a5-53f4-48b2-a96a-13ad265bf978",
   "metadata": {
    "scrolled": true
   },
   "outputs": [
    {
     "data": {
      "text/plain": [
       "[Parks, Active Life]                                                            27\n",
       "[Active Life, Parks]                                                            19\n",
       "[Active Life, Golf]                                                             10\n",
       "[Golf, Active Life]                                                              6\n",
       "[Escape Games, Active Life]                                                      5\n",
       "[Parks, Dog Parks, Active Life]                                                  5\n",
       "[Active Life, Parks, Dog Parks]                                                  4\n",
       "[Active Life, Dog Parks, Parks]                                                  4\n",
       "[Hiking, Active Life, Parks]                                                     4\n",
       "[Active Life, Boating]                                                           3\n",
       "[Active Life, Skating Rinks]                                                     3\n",
       "[Active Life, Bike Rentals]                                                      3\n",
       "[Active Life, Escape Games]                                                      3\n",
       "[Active Life, Swimming Pools]                                                    3\n",
       "[Active Life, Axe Throwing]                                                      2\n",
       "[Dog Parks, Active Life, Parks]                                                  2\n",
       "[Hiking, Parks, Active Life]                                                     2\n",
       "[Parks, Hiking, Active Life]                                                     2\n",
       "[Lakes, Active Life, Boating, Parks]                                             1\n",
       "[Axe Throwing, Active Life]                                                      1\n",
       "[Hiking, Mountain Biking, Active Life, Parks]                                    1\n",
       "[Active Life, Kids Activities]                                                   1\n",
       "[Skating Rinks, Parks, Active Life, Skate Parks]                                 1\n",
       "[Active Life, Recreation Centers, Swimming Pools]                                1\n",
       "[Hiking, Mountain Biking, Dog Parks, Active Life, Parks, Recreation Centers]     1\n",
       "[Kids Activities, Golf, Parks, Active Life, Mini Golf]                           1\n",
       "[Active Life, Amusement Parks]                                                   1\n",
       "[Parks, Golf, Active Life]                                                       1\n",
       "[Parks, Active Life, Recreation Centers]                                         1\n",
       "[Active Life, Amusement Parks, Swimming Pools]                                   1\n",
       "[Dog Parks, Parks, Active Life]                                                  1\n",
       "[Parks, Active Life, Hiking]                                                     1\n",
       "[Hiking, Active Life]                                                            1\n",
       "[Swimming Pools, Amusement Parks, Active Life]                                   1\n",
       "[Kids Activities, Parks, Active Life, Bike Rentals]                              1\n",
       "[Mini Golf, Active Life]                                                         1\n",
       "[Skating Rinks, Active Life]                                                     1\n",
       "[Bike Rentals, Active Life]                                                      1\n",
       "[Lakes, Active Life, Parks]                                                      1\n",
       "[Active Life, Rafting/Kayaking, Hiking, Rock Climbing]                           1\n",
       "[Recreation Centers, Active Life]                                                1\n",
       "[Trampoline Parks, Amusement Parks, Active Life]                                 1\n",
       "[Active Life, Mountain Biking, Parks]                                            1\n",
       "[Active Life, Rafting/Kayaking]                                                  1\n",
       "[Bike Rentals, Boating, Rafting/Kayaking, Active Life]                           1\n",
       "[Amusement Parks, Active Life]                                                   1\n",
       "[Swimming Pools, Active Life]                                                    1\n",
       "[Carousels, Active Life, Amusement Parks]                                        1\n",
       "[Lakes, Active Life]                                                             1\n",
       "[Active Life, Parks, Hiking, Boating]                                            1\n",
       "Name: categories, dtype: int64"
      ]
     },
     "execution_count": 71,
     "metadata": {},
     "output_type": "execute_result"
    }
   ],
   "source": [
    "active_life_df['categories'].value_counts()"
   ]
  },
  {
   "cell_type": "markdown",
   "id": "07728683-e236-49db-b6c9-5ea2e50ace94",
   "metadata": {},
   "source": [
    "#### Tours"
   ]
  },
  {
   "cell_type": "code",
   "execution_count": 47,
   "id": "9408fd93-2e2f-40ae-9f68-c2e866ce2905",
   "metadata": {},
   "outputs": [
    {
     "data": {
      "text/plain": [
       "(341, 13)"
      ]
     },
     "execution_count": 47,
     "metadata": {},
     "output_type": "execute_result"
    }
   ],
   "source": [
    "tours_df.shape"
   ]
  },
  {
   "cell_type": "code",
   "execution_count": 48,
   "id": "2ceda821-26d6-45ff-9d61-cab40f0dbe9b",
   "metadata": {
    "scrolled": true
   },
   "outputs": [
    {
     "data": {
      "text/html": [
       "<div>\n",
       "<style scoped>\n",
       "    .dataframe tbody tr th:only-of-type {\n",
       "        vertical-align: middle;\n",
       "    }\n",
       "\n",
       "    .dataframe tbody tr th {\n",
       "        vertical-align: top;\n",
       "    }\n",
       "\n",
       "    .dataframe thead th {\n",
       "        text-align: right;\n",
       "    }\n",
       "</style>\n",
       "<table border=\"1\" class=\"dataframe\">\n",
       "  <thead>\n",
       "    <tr style=\"text-align: right;\">\n",
       "      <th></th>\n",
       "      <th>business_id</th>\n",
       "      <th>name</th>\n",
       "      <th>address</th>\n",
       "      <th>city</th>\n",
       "      <th>state</th>\n",
       "      <th>postal_code</th>\n",
       "      <th>latitude</th>\n",
       "      <th>longitude</th>\n",
       "      <th>stars</th>\n",
       "      <th>review_count</th>\n",
       "      <th>is_open</th>\n",
       "      <th>categories</th>\n",
       "      <th>hours</th>\n",
       "    </tr>\n",
       "  </thead>\n",
       "  <tbody>\n",
       "    <tr>\n",
       "      <th>0</th>\n",
       "      <td>uczmbBk5O3tYhGue13dCDg</td>\n",
       "      <td>New Orleans Spirit Tours</td>\n",
       "      <td>723 St Peter St</td>\n",
       "      <td>New Orleans</td>\n",
       "      <td>LA</td>\n",
       "      <td>70130</td>\n",
       "      <td>29.958431</td>\n",
       "      <td>-90.065173</td>\n",
       "      <td>4.0</td>\n",
       "      <td>38</td>\n",
       "      <td>1</td>\n",
       "      <td>Hotels &amp; Travel, Tours, Local Flavor</td>\n",
       "      <td>{'Monday': '0:0-0:0', 'Tuesday': '10:0-20:0', ...</td>\n",
       "    </tr>\n",
       "    <tr>\n",
       "      <th>1</th>\n",
       "      <td>-aeZuatjCDMV1X4gCTz9Ug</td>\n",
       "      <td>David Thomas Trailways</td>\n",
       "      <td>14005 McNulty Rd</td>\n",
       "      <td>Philadelphia</td>\n",
       "      <td>PA</td>\n",
       "      <td>19154</td>\n",
       "      <td>40.106409</td>\n",
       "      <td>-74.973937</td>\n",
       "      <td>4.5</td>\n",
       "      <td>6</td>\n",
       "      <td>1</td>\n",
       "      <td>Buses, Transportation, Bus Tours, Hotels &amp; Tra...</td>\n",
       "      <td>{'Monday': '8:30-17:0', 'Tuesday': '8:30-17:0'...</td>\n",
       "    </tr>\n",
       "    <tr>\n",
       "      <th>2</th>\n",
       "      <td>MyE_zdul_JO-dOHOug4GQQ</td>\n",
       "      <td>Watson Adventures Scavenger Hunts</td>\n",
       "      <td>NaN</td>\n",
       "      <td>Philadelphia</td>\n",
       "      <td>PA</td>\n",
       "      <td>19019</td>\n",
       "      <td>40.119713</td>\n",
       "      <td>-75.009710</td>\n",
       "      <td>3.0</td>\n",
       "      <td>8</td>\n",
       "      <td>1</td>\n",
       "      <td>Local Flavor, Team Building Activities, Active...</td>\n",
       "      <td>{'Monday': '9:0-17:0', 'Tuesday': '9:0-17:0', ...</td>\n",
       "    </tr>\n",
       "    <tr>\n",
       "      <th>3</th>\n",
       "      <td>usv5G5cO314pPHRTGq2Eyw</td>\n",
       "      <td>Best Tours</td>\n",
       "      <td>NaN</td>\n",
       "      <td>Philadelphia</td>\n",
       "      <td>PA</td>\n",
       "      <td>19019</td>\n",
       "      <td>40.119713</td>\n",
       "      <td>-75.009710</td>\n",
       "      <td>1.0</td>\n",
       "      <td>38</td>\n",
       "      <td>1</td>\n",
       "      <td>Tours, Walking Tours, Hotels &amp; Travel, Food Tours</td>\n",
       "      <td>NaN</td>\n",
       "    </tr>\n",
       "    <tr>\n",
       "      <th>4</th>\n",
       "      <td>Qa1YQzo00sm9O0JUlwdCQw</td>\n",
       "      <td>Taste of Nawlins</td>\n",
       "      <td>504 Madison St</td>\n",
       "      <td>New Orleans</td>\n",
       "      <td>LA</td>\n",
       "      <td>70116</td>\n",
       "      <td>29.958015</td>\n",
       "      <td>-90.061895</td>\n",
       "      <td>4.0</td>\n",
       "      <td>178</td>\n",
       "      <td>1</td>\n",
       "      <td>Historical Tours, Tours, Hotels &amp; Travel, Food...</td>\n",
       "      <td>{'Monday': '9:0-22:0', 'Tuesday': '9:0-22:0', ...</td>\n",
       "    </tr>\n",
       "    <tr>\n",
       "      <th>5</th>\n",
       "      <td>FbGjCCc7bbJVWq3Kt5lamQ</td>\n",
       "      <td>Ernie's Tours</td>\n",
       "      <td>828 Bourbon St, Apt E</td>\n",
       "      <td>New Orleans</td>\n",
       "      <td>LA</td>\n",
       "      <td>70116</td>\n",
       "      <td>29.959913</td>\n",
       "      <td>-90.064281</td>\n",
       "      <td>5.0</td>\n",
       "      <td>52</td>\n",
       "      <td>1</td>\n",
       "      <td>Walking Tours, Tours, Hotels &amp; Travel, Histori...</td>\n",
       "      <td>{'Monday': '0:0-0:0', 'Tuesday': '9:0-21:0', '...</td>\n",
       "    </tr>\n",
       "    <tr>\n",
       "      <th>6</th>\n",
       "      <td>rh3C_JK4NAoUJ-HNStvHtw</td>\n",
       "      <td>Historic Philadelphia, Inc</td>\n",
       "      <td>600 Walnut St, Ste 130</td>\n",
       "      <td>Philadelphia</td>\n",
       "      <td>PA</td>\n",
       "      <td>19106</td>\n",
       "      <td>39.948321</td>\n",
       "      <td>-75.151952</td>\n",
       "      <td>4.5</td>\n",
       "      <td>5</td>\n",
       "      <td>1</td>\n",
       "      <td>Hotels &amp; Travel, Tours</td>\n",
       "      <td>NaN</td>\n",
       "    </tr>\n",
       "    <tr>\n",
       "      <th>7</th>\n",
       "      <td>ZuOtTcUKmthgvhKo7B_-sg</td>\n",
       "      <td>Music City Pub Crawl</td>\n",
       "      <td>Commerce St &amp; 2nd Ave N</td>\n",
       "      <td>Nashville</td>\n",
       "      <td>TN</td>\n",
       "      <td>37201</td>\n",
       "      <td>36.163245</td>\n",
       "      <td>-86.776057</td>\n",
       "      <td>4.5</td>\n",
       "      <td>55</td>\n",
       "      <td>1</td>\n",
       "      <td>Historical Tours, Hotels &amp; Travel, Bar Crawl, ...</td>\n",
       "      <td>{'Monday': '0:0-0:0', 'Tuesday': '8:0-20:0', '...</td>\n",
       "    </tr>\n",
       "    <tr>\n",
       "      <th>8</th>\n",
       "      <td>F6lNQPwg4gyg76wNyimxjQ</td>\n",
       "      <td>Ride The Ducks</td>\n",
       "      <td>6th and Market Streets</td>\n",
       "      <td>Philadelphia</td>\n",
       "      <td>PA</td>\n",
       "      <td>19106</td>\n",
       "      <td>39.950968</td>\n",
       "      <td>-75.150328</td>\n",
       "      <td>3.5</td>\n",
       "      <td>83</td>\n",
       "      <td>0</td>\n",
       "      <td>Tours, Local Flavor, Hotels &amp; Travel</td>\n",
       "      <td>NaN</td>\n",
       "    </tr>\n",
       "    <tr>\n",
       "      <th>9</th>\n",
       "      <td>XhEmAAc8L2gC3nOUTJHtYA</td>\n",
       "      <td>Hidden History Tours</td>\n",
       "      <td>NaN</td>\n",
       "      <td>New Orleans</td>\n",
       "      <td>LA</td>\n",
       "      <td>70151</td>\n",
       "      <td>29.950000</td>\n",
       "      <td>-90.080000</td>\n",
       "      <td>5.0</td>\n",
       "      <td>42</td>\n",
       "      <td>1</td>\n",
       "      <td>Historical Tours, Arts &amp; Entertainment, Tours,...</td>\n",
       "      <td>{'Monday': '9:0-18:0', 'Tuesday': '9:0-18:0', ...</td>\n",
       "    </tr>\n",
       "    <tr>\n",
       "      <th>10</th>\n",
       "      <td>3fbs9KdaFicfb1Lj7Znq-g</td>\n",
       "      <td>Walkin' Nashville - Music City Legends Tour</td>\n",
       "      <td>5th Ave &amp; Union</td>\n",
       "      <td>Nashville</td>\n",
       "      <td>TN</td>\n",
       "      <td>37219</td>\n",
       "      <td>36.164523</td>\n",
       "      <td>-86.781053</td>\n",
       "      <td>5.0</td>\n",
       "      <td>21</td>\n",
       "      <td>1</td>\n",
       "      <td>Hotels &amp; Travel, Tours, Local Flavor</td>\n",
       "      <td>{'Tuesday': '10:30-12:0', 'Wednesday': '10:30-...</td>\n",
       "    </tr>\n",
       "    <tr>\n",
       "      <th>11</th>\n",
       "      <td>o3HubYII2z42Bi8kokVm3A</td>\n",
       "      <td>Magic Walking Tours</td>\n",
       "      <td>441 Royal St</td>\n",
       "      <td>New Orleans</td>\n",
       "      <td>LA</td>\n",
       "      <td>70116</td>\n",
       "      <td>29.956460</td>\n",
       "      <td>-90.066330</td>\n",
       "      <td>4.5</td>\n",
       "      <td>91</td>\n",
       "      <td>0</td>\n",
       "      <td>Screen Printing, Hotels &amp; Travel, Walking Tour...</td>\n",
       "      <td>{'Monday': '0:0-0:0', 'Tuesday': '0:0-0:0', 'W...</td>\n",
       "    </tr>\n",
       "    <tr>\n",
       "      <th>12</th>\n",
       "      <td>aZZ5y7jcbaroGCal4MDxVg</td>\n",
       "      <td>Le Monde Creole</td>\n",
       "      <td>606 Royal St</td>\n",
       "      <td>New Orleans</td>\n",
       "      <td>LA</td>\n",
       "      <td>70130</td>\n",
       "      <td>29.957381</td>\n",
       "      <td>-90.065306</td>\n",
       "      <td>5.0</td>\n",
       "      <td>56</td>\n",
       "      <td>1</td>\n",
       "      <td>Tours, Hotels &amp; Travel</td>\n",
       "      <td>{'Monday': '10:30-12:30', 'Tuesday': '10:30-12...</td>\n",
       "    </tr>\n",
       "    <tr>\n",
       "      <th>13</th>\n",
       "      <td>gmjsEdUsKpj9Xxu6pdjH0g</td>\n",
       "      <td>The Voodoo Bone Lady Tours</td>\n",
       "      <td>201 St Charles Ave, Ste 2560</td>\n",
       "      <td>New Orleans</td>\n",
       "      <td>LA</td>\n",
       "      <td>70170</td>\n",
       "      <td>29.952030</td>\n",
       "      <td>-90.070334</td>\n",
       "      <td>4.5</td>\n",
       "      <td>359</td>\n",
       "      <td>1</td>\n",
       "      <td>Supernatural Readings, Tours, Hotels &amp; Travel,...</td>\n",
       "      <td>{'Monday': '10:0-22:0', 'Tuesday': '10:0-22:0'...</td>\n",
       "    </tr>\n",
       "    <tr>\n",
       "      <th>14</th>\n",
       "      <td>3FIh20whTOVG82g-241fVQ</td>\n",
       "      <td>Burton Transit</td>\n",
       "      <td>1615 Poydras</td>\n",
       "      <td>New Orleans</td>\n",
       "      <td>LA</td>\n",
       "      <td>70112</td>\n",
       "      <td>29.952878</td>\n",
       "      <td>-90.080088</td>\n",
       "      <td>4.5</td>\n",
       "      <td>8</td>\n",
       "      <td>1</td>\n",
       "      <td>Tours, Medical Transportation, Transportation,...</td>\n",
       "      <td>{'Monday': '0:0-0:0', 'Tuesday': '0:0-0:0', 'W...</td>\n",
       "    </tr>\n",
       "    <tr>\n",
       "      <th>15</th>\n",
       "      <td>dyCfFIt1XIA8lIpuWaW2eQ</td>\n",
       "      <td>Old River Road Plantation Adventure</td>\n",
       "      <td>NaN</td>\n",
       "      <td>New Orleans</td>\n",
       "      <td>LA</td>\n",
       "      <td>70112</td>\n",
       "      <td>29.959577</td>\n",
       "      <td>-90.077013</td>\n",
       "      <td>4.5</td>\n",
       "      <td>59</td>\n",
       "      <td>1</td>\n",
       "      <td>Hotels &amp; Travel, Tours</td>\n",
       "      <td>{'Monday': '7:0-22:0', 'Tuesday': '7:0-22:0', ...</td>\n",
       "    </tr>\n",
       "    <tr>\n",
       "      <th>16</th>\n",
       "      <td>cqIYskWPVQ0rz1XSG0ohxg</td>\n",
       "      <td>City Food Tours</td>\n",
       "      <td>NaN</td>\n",
       "      <td>Philadelphia</td>\n",
       "      <td>PA</td>\n",
       "      <td>19102</td>\n",
       "      <td>39.955624</td>\n",
       "      <td>-75.164753</td>\n",
       "      <td>4.5</td>\n",
       "      <td>48</td>\n",
       "      <td>1</td>\n",
       "      <td>Hotels &amp; Travel, Specialty Food, Food, Food To...</td>\n",
       "      <td>{'Monday': '9:0-17:0', 'Tuesday': '9:0-17:0', ...</td>\n",
       "    </tr>\n",
       "    <tr>\n",
       "      <th>17</th>\n",
       "      <td>f5xvS-qajT5G84zXF07m8g</td>\n",
       "      <td>Basin St. Station</td>\n",
       "      <td>501 Basin St</td>\n",
       "      <td>New Orleans</td>\n",
       "      <td>LA</td>\n",
       "      <td>70112</td>\n",
       "      <td>29.959829</td>\n",
       "      <td>-90.070717</td>\n",
       "      <td>4.0</td>\n",
       "      <td>26</td>\n",
       "      <td>1</td>\n",
       "      <td>Hotels &amp; Travel, Tours, Event Planning &amp; Servi...</td>\n",
       "      <td>{'Monday': '8:30-17:30', 'Tuesday': '8:30-17:3...</td>\n",
       "    </tr>\n",
       "    <tr>\n",
       "      <th>18</th>\n",
       "      <td>EAGJF3Tisg2NRX03oGkmDA</td>\n",
       "      <td>St. Louis Cemetery No. 1</td>\n",
       "      <td>425 Basin St</td>\n",
       "      <td>New Orleans</td>\n",
       "      <td>LA</td>\n",
       "      <td>70112</td>\n",
       "      <td>29.959364</td>\n",
       "      <td>-90.071443</td>\n",
       "      <td>4.0</td>\n",
       "      <td>152</td>\n",
       "      <td>1</td>\n",
       "      <td>Funeral Services &amp; Cemeteries, Historical Tour...</td>\n",
       "      <td>{'Monday': '9:0-15:0', 'Tuesday': '9:0-15:0', ...</td>\n",
       "    </tr>\n",
       "    <tr>\n",
       "      <th>19</th>\n",
       "      <td>7j4Z7gW6qSTdg0f_oOxq2w</td>\n",
       "      <td>HELI CO. New Orleans</td>\n",
       "      <td>NaN</td>\n",
       "      <td>New Orleans</td>\n",
       "      <td>LA</td>\n",
       "      <td>70126</td>\n",
       "      <td>30.039056</td>\n",
       "      <td>-90.020572</td>\n",
       "      <td>5.0</td>\n",
       "      <td>11</td>\n",
       "      <td>1</td>\n",
       "      <td>Hotels &amp; Travel, Tours, Aerial Tours</td>\n",
       "      <td>{'Monday': '8:30-21:0', 'Tuesday': '8:30-17:0'...</td>\n",
       "    </tr>\n",
       "  </tbody>\n",
       "</table>\n",
       "</div>"
      ],
      "text/plain": [
       "               business_id                                         name  \\\n",
       "0   uczmbBk5O3tYhGue13dCDg                     New Orleans Spirit Tours   \n",
       "1   -aeZuatjCDMV1X4gCTz9Ug                       David Thomas Trailways   \n",
       "2   MyE_zdul_JO-dOHOug4GQQ            Watson Adventures Scavenger Hunts   \n",
       "3   usv5G5cO314pPHRTGq2Eyw                                   Best Tours   \n",
       "4   Qa1YQzo00sm9O0JUlwdCQw                             Taste of Nawlins   \n",
       "5   FbGjCCc7bbJVWq3Kt5lamQ                                Ernie's Tours   \n",
       "6   rh3C_JK4NAoUJ-HNStvHtw                   Historic Philadelphia, Inc   \n",
       "7   ZuOtTcUKmthgvhKo7B_-sg                         Music City Pub Crawl   \n",
       "8   F6lNQPwg4gyg76wNyimxjQ                               Ride The Ducks   \n",
       "9   XhEmAAc8L2gC3nOUTJHtYA                         Hidden History Tours   \n",
       "10  3fbs9KdaFicfb1Lj7Znq-g  Walkin' Nashville - Music City Legends Tour   \n",
       "11  o3HubYII2z42Bi8kokVm3A                          Magic Walking Tours   \n",
       "12  aZZ5y7jcbaroGCal4MDxVg                              Le Monde Creole   \n",
       "13  gmjsEdUsKpj9Xxu6pdjH0g                   The Voodoo Bone Lady Tours   \n",
       "14  3FIh20whTOVG82g-241fVQ                               Burton Transit   \n",
       "15  dyCfFIt1XIA8lIpuWaW2eQ          Old River Road Plantation Adventure   \n",
       "16  cqIYskWPVQ0rz1XSG0ohxg                              City Food Tours   \n",
       "17  f5xvS-qajT5G84zXF07m8g                            Basin St. Station   \n",
       "18  EAGJF3Tisg2NRX03oGkmDA                     St. Louis Cemetery No. 1   \n",
       "19  7j4Z7gW6qSTdg0f_oOxq2w                         HELI CO. New Orleans   \n",
       "\n",
       "                         address          city state postal_code   latitude  \\\n",
       "0                723 St Peter St   New Orleans    LA       70130  29.958431   \n",
       "1               14005 McNulty Rd  Philadelphia    PA       19154  40.106409   \n",
       "2                            NaN  Philadelphia    PA       19019  40.119713   \n",
       "3                            NaN  Philadelphia    PA       19019  40.119713   \n",
       "4                 504 Madison St   New Orleans    LA       70116  29.958015   \n",
       "5          828 Bourbon St, Apt E   New Orleans    LA       70116  29.959913   \n",
       "6         600 Walnut St, Ste 130  Philadelphia    PA       19106  39.948321   \n",
       "7        Commerce St & 2nd Ave N     Nashville    TN       37201  36.163245   \n",
       "8         6th and Market Streets  Philadelphia    PA       19106  39.950968   \n",
       "9                            NaN   New Orleans    LA       70151  29.950000   \n",
       "10               5th Ave & Union     Nashville    TN       37219  36.164523   \n",
       "11                  441 Royal St   New Orleans    LA       70116  29.956460   \n",
       "12                  606 Royal St   New Orleans    LA       70130  29.957381   \n",
       "13  201 St Charles Ave, Ste 2560   New Orleans    LA       70170  29.952030   \n",
       "14                  1615 Poydras   New Orleans    LA       70112  29.952878   \n",
       "15                           NaN   New Orleans    LA       70112  29.959577   \n",
       "16                           NaN  Philadelphia    PA       19102  39.955624   \n",
       "17                  501 Basin St   New Orleans    LA       70112  29.959829   \n",
       "18                  425 Basin St   New Orleans    LA       70112  29.959364   \n",
       "19                           NaN   New Orleans    LA       70126  30.039056   \n",
       "\n",
       "    longitude  stars  review_count  is_open  \\\n",
       "0  -90.065173    4.0            38        1   \n",
       "1  -74.973937    4.5             6        1   \n",
       "2  -75.009710    3.0             8        1   \n",
       "3  -75.009710    1.0            38        1   \n",
       "4  -90.061895    4.0           178        1   \n",
       "5  -90.064281    5.0            52        1   \n",
       "6  -75.151952    4.5             5        1   \n",
       "7  -86.776057    4.5            55        1   \n",
       "8  -75.150328    3.5            83        0   \n",
       "9  -90.080000    5.0            42        1   \n",
       "10 -86.781053    5.0            21        1   \n",
       "11 -90.066330    4.5            91        0   \n",
       "12 -90.065306    5.0            56        1   \n",
       "13 -90.070334    4.5           359        1   \n",
       "14 -90.080088    4.5             8        1   \n",
       "15 -90.077013    4.5            59        1   \n",
       "16 -75.164753    4.5            48        1   \n",
       "17 -90.070717    4.0            26        1   \n",
       "18 -90.071443    4.0           152        1   \n",
       "19 -90.020572    5.0            11        1   \n",
       "\n",
       "                                           categories  \\\n",
       "0                Hotels & Travel, Tours, Local Flavor   \n",
       "1   Buses, Transportation, Bus Tours, Hotels & Tra...   \n",
       "2   Local Flavor, Team Building Activities, Active...   \n",
       "3   Tours, Walking Tours, Hotels & Travel, Food Tours   \n",
       "4   Historical Tours, Tours, Hotels & Travel, Food...   \n",
       "5   Walking Tours, Tours, Hotels & Travel, Histori...   \n",
       "6                              Hotels & Travel, Tours   \n",
       "7   Historical Tours, Hotels & Travel, Bar Crawl, ...   \n",
       "8                Tours, Local Flavor, Hotels & Travel   \n",
       "9   Historical Tours, Arts & Entertainment, Tours,...   \n",
       "10               Hotels & Travel, Tours, Local Flavor   \n",
       "11  Screen Printing, Hotels & Travel, Walking Tour...   \n",
       "12                             Tours, Hotels & Travel   \n",
       "13  Supernatural Readings, Tours, Hotels & Travel,...   \n",
       "14  Tours, Medical Transportation, Transportation,...   \n",
       "15                             Hotels & Travel, Tours   \n",
       "16  Hotels & Travel, Specialty Food, Food, Food To...   \n",
       "17  Hotels & Travel, Tours, Event Planning & Servi...   \n",
       "18  Funeral Services & Cemeteries, Historical Tour...   \n",
       "19               Hotels & Travel, Tours, Aerial Tours   \n",
       "\n",
       "                                                hours  \n",
       "0   {'Monday': '0:0-0:0', 'Tuesday': '10:0-20:0', ...  \n",
       "1   {'Monday': '8:30-17:0', 'Tuesday': '8:30-17:0'...  \n",
       "2   {'Monday': '9:0-17:0', 'Tuesday': '9:0-17:0', ...  \n",
       "3                                                 NaN  \n",
       "4   {'Monday': '9:0-22:0', 'Tuesday': '9:0-22:0', ...  \n",
       "5   {'Monday': '0:0-0:0', 'Tuesday': '9:0-21:0', '...  \n",
       "6                                                 NaN  \n",
       "7   {'Monday': '0:0-0:0', 'Tuesday': '8:0-20:0', '...  \n",
       "8                                                 NaN  \n",
       "9   {'Monday': '9:0-18:0', 'Tuesday': '9:0-18:0', ...  \n",
       "10  {'Tuesday': '10:30-12:0', 'Wednesday': '10:30-...  \n",
       "11  {'Monday': '0:0-0:0', 'Tuesday': '0:0-0:0', 'W...  \n",
       "12  {'Monday': '10:30-12:30', 'Tuesday': '10:30-12...  \n",
       "13  {'Monday': '10:0-22:0', 'Tuesday': '10:0-22:0'...  \n",
       "14  {'Monday': '0:0-0:0', 'Tuesday': '0:0-0:0', 'W...  \n",
       "15  {'Monday': '7:0-22:0', 'Tuesday': '7:0-22:0', ...  \n",
       "16  {'Monday': '9:0-17:0', 'Tuesday': '9:0-17:0', ...  \n",
       "17  {'Monday': '8:30-17:30', 'Tuesday': '8:30-17:3...  \n",
       "18  {'Monday': '9:0-15:0', 'Tuesday': '9:0-15:0', ...  \n",
       "19  {'Monday': '8:30-21:0', 'Tuesday': '8:30-17:0'...  "
      ]
     },
     "execution_count": 48,
     "metadata": {},
     "output_type": "execute_result"
    }
   ],
   "source": [
    "tours_df.head(20)"
   ]
  },
  {
   "cell_type": "code",
   "execution_count": 76,
   "id": "e8cab209-cbc5-49d0-a55a-045037027f02",
   "metadata": {},
   "outputs": [
    {
     "data": {
      "text/plain": [
       "Hotels & Travel, Tours                                                                                                                         18\n",
       "Tours, Hotels & Travel                                                                                                                         14\n",
       "Hotels & Travel, Tours, Local Flavor                                                                                                            4\n",
       "Hotels & Travel, Bus Tours, Tours                                                                                                               3\n",
       "Hotels & Travel, Walking Tours, Tours                                                                                                           3\n",
       "                                                                                                                                               ..\n",
       "Tours, Hotels & Travel, Buses, Airport Shuttles, Town Car Service, Transportation, Bus Tours, Travel Services                                   1\n",
       "Caterers, Aquariums, Tours, Cinema, Zoos, Active Life, Event Planning & Services, Hotels & Travel, Arts & Entertainment                         1\n",
       "Hotels & Travel, Architectural Tours, Bus Tours, Tours, Historical Tours                                                                        1\n",
       "Tours, Hotels & Travel, Party Bus Rentals, Wedding Planning, Public Transportation, Transportation, Event Planning & Services, Local Flavor     1\n",
       "Tours, Hotels & Travel, Historical Tours, Performing Arts, Arts & Entertainment                                                                 1\n",
       "Name: categories, Length: 293, dtype: int64"
      ]
     },
     "execution_count": 76,
     "metadata": {},
     "output_type": "execute_result"
    }
   ],
   "source": [
    "tours_df['categories'].value_counts()"
   ]
  },
  {
   "cell_type": "markdown",
   "id": "aabd59dc-cf4c-4f4c-99c1-dc19e72526f6",
   "metadata": {},
   "source": [
    "I'll have to exclude certain categories that were not filtered out earlier. "
   ]
  },
  {
   "cell_type": "code",
   "execution_count": 49,
   "id": "14926978-f2da-4845-8bb6-2bf5d0865d72",
   "metadata": {},
   "outputs": [],
   "source": [
    "# Categories to exclude\n",
    "exclude_categories = ['Medical Transportation', 'Event Planning & Services', 'Funeral Services & Cemeteries', 'Airport Shuttles', \n",
    "                      'Flowers & Gifts', 'Bike Repair/Maintenance', 'Limos', 'Community Service/Non-Profit']\n",
    "\n",
    "# Boolean mask for rows where the 'categories' column does not contain any of the exclude_categories\n",
    "mask = ~tours_df['categories'].apply(lambda x: any(category in x for category in exclude_categories))\n",
    "\n",
    "# Apply the mask to the DataFrame to get only the rows without the excluded categories\n",
    "tours_df = tours_df[mask]"
   ]
  },
  {
   "cell_type": "code",
   "execution_count": 50,
   "id": "729339f4-c8b0-449f-bb8b-75e689252cad",
   "metadata": {},
   "outputs": [
    {
     "data": {
      "text/plain": [
       "(240, 13)"
      ]
     },
     "execution_count": 50,
     "metadata": {},
     "output_type": "execute_result"
    }
   ],
   "source": [
    "tours_df.shape"
   ]
  },
  {
   "cell_type": "markdown",
   "id": "a72995e9-216f-4d88-ad8b-c11ba9d4f3c6",
   "metadata": {},
   "source": [
    "#### Arts & Entertainment"
   ]
  },
  {
   "cell_type": "code",
   "execution_count": 51,
   "id": "4ad350df-3bf6-4d81-a946-c95ab7cd428e",
   "metadata": {},
   "outputs": [
    {
     "data": {
      "text/plain": [
       "(147, 13)"
      ]
     },
     "execution_count": 51,
     "metadata": {},
     "output_type": "execute_result"
    }
   ],
   "source": [
    "arts_entertainment_df.shape"
   ]
  },
  {
   "cell_type": "code",
   "execution_count": 52,
   "id": "a062643e-4625-4cc5-a3f3-fa5d741755d0",
   "metadata": {
    "scrolled": true
   },
   "outputs": [
    {
     "data": {
      "text/html": [
       "<div>\n",
       "<style scoped>\n",
       "    .dataframe tbody tr th:only-of-type {\n",
       "        vertical-align: middle;\n",
       "    }\n",
       "\n",
       "    .dataframe tbody tr th {\n",
       "        vertical-align: top;\n",
       "    }\n",
       "\n",
       "    .dataframe thead th {\n",
       "        text-align: right;\n",
       "    }\n",
       "</style>\n",
       "<table border=\"1\" class=\"dataframe\">\n",
       "  <thead>\n",
       "    <tr style=\"text-align: right;\">\n",
       "      <th></th>\n",
       "      <th>business_id</th>\n",
       "      <th>name</th>\n",
       "      <th>address</th>\n",
       "      <th>city</th>\n",
       "      <th>state</th>\n",
       "      <th>postal_code</th>\n",
       "      <th>latitude</th>\n",
       "      <th>longitude</th>\n",
       "      <th>stars</th>\n",
       "      <th>review_count</th>\n",
       "      <th>is_open</th>\n",
       "      <th>categories</th>\n",
       "      <th>hours</th>\n",
       "    </tr>\n",
       "  </thead>\n",
       "  <tbody>\n",
       "    <tr>\n",
       "      <th>18</th>\n",
       "      <td>pCmaISSyKum22MOtPOxL-w</td>\n",
       "      <td>Philadelphia Phillies</td>\n",
       "      <td>Citizens Bank Park</td>\n",
       "      <td>Philadelphia</td>\n",
       "      <td>PA</td>\n",
       "      <td>19176</td>\n",
       "      <td>39.905790</td>\n",
       "      <td>-75.166301</td>\n",
       "      <td>4.5</td>\n",
       "      <td>94</td>\n",
       "      <td>1</td>\n",
       "      <td>[Arts &amp; Entertainment, Professional Sports Teams]</td>\n",
       "      <td>NaN</td>\n",
       "    </tr>\n",
       "    <tr>\n",
       "      <th>19</th>\n",
       "      <td>BBJwmkIWfqyfuZNXhs7Z9w</td>\n",
       "      <td>Nola Crawfish Festival</td>\n",
       "      <td>1201 South Rampart St</td>\n",
       "      <td>New Orleans</td>\n",
       "      <td>LA</td>\n",
       "      <td>70113</td>\n",
       "      <td>29.943991</td>\n",
       "      <td>-90.078801</td>\n",
       "      <td>3.5</td>\n",
       "      <td>6</td>\n",
       "      <td>1</td>\n",
       "      <td>[Festivals, Arts &amp; Entertainment]</td>\n",
       "      <td>NaN</td>\n",
       "    </tr>\n",
       "    <tr>\n",
       "      <th>36</th>\n",
       "      <td>Mgf-jjzsZh7-pjX-q-zTLQ</td>\n",
       "      <td>Odunde</td>\n",
       "      <td>2308 Grays Ferry Ave</td>\n",
       "      <td>Philadelphia</td>\n",
       "      <td>PA</td>\n",
       "      <td>19146</td>\n",
       "      <td>39.945047</td>\n",
       "      <td>-75.180302</td>\n",
       "      <td>4.0</td>\n",
       "      <td>5</td>\n",
       "      <td>1</td>\n",
       "      <td>[Festivals, Arts &amp; Entertainment]</td>\n",
       "      <td>NaN</td>\n",
       "    </tr>\n",
       "    <tr>\n",
       "      <th>49</th>\n",
       "      <td>3H0C_auPnU2LcoKA-gPtiA</td>\n",
       "      <td>Hawkins Field</td>\n",
       "      <td>2600 Jess Neely Dr</td>\n",
       "      <td>Nashville</td>\n",
       "      <td>TN</td>\n",
       "      <td>37212</td>\n",
       "      <td>36.143408</td>\n",
       "      <td>-86.807400</td>\n",
       "      <td>4.5</td>\n",
       "      <td>10</td>\n",
       "      <td>1</td>\n",
       "      <td>[Stadiums &amp; Arenas, Arts &amp; Entertainment]</td>\n",
       "      <td>NaN</td>\n",
       "    </tr>\n",
       "    <tr>\n",
       "      <th>59</th>\n",
       "      <td>YA_1utFf5sYeW-T1AEkflA</td>\n",
       "      <td>Tennessee Flavors</td>\n",
       "      <td>120 White Bridge Rd</td>\n",
       "      <td>Nashville</td>\n",
       "      <td>TN</td>\n",
       "      <td>37209</td>\n",
       "      <td>36.134730</td>\n",
       "      <td>-86.857200</td>\n",
       "      <td>4.0</td>\n",
       "      <td>8</td>\n",
       "      <td>1</td>\n",
       "      <td>[Festivals, Arts &amp; Entertainment]</td>\n",
       "      <td>NaN</td>\n",
       "    </tr>\n",
       "    <tr>\n",
       "      <th>63</th>\n",
       "      <td>P5gs0DA5CFJli48QgC7nfw</td>\n",
       "      <td>Street Theatre</td>\n",
       "      <td>1120 Elm Hill Pike</td>\n",
       "      <td>Nashville</td>\n",
       "      <td>TN</td>\n",
       "      <td>37210</td>\n",
       "      <td>36.144143</td>\n",
       "      <td>-86.731979</td>\n",
       "      <td>4.5</td>\n",
       "      <td>10</td>\n",
       "      <td>1</td>\n",
       "      <td>[Performing Arts, Arts &amp; Entertainment]</td>\n",
       "      <td>NaN</td>\n",
       "    </tr>\n",
       "    <tr>\n",
       "      <th>81</th>\n",
       "      <td>wsA5vD-lZHHlJrxLKvEVOw</td>\n",
       "      <td>12 South Winter Warmer</td>\n",
       "      <td>3000 Granny White Pike</td>\n",
       "      <td>Nashville</td>\n",
       "      <td>TN</td>\n",
       "      <td>37204</td>\n",
       "      <td>36.119781</td>\n",
       "      <td>-86.790840</td>\n",
       "      <td>5.0</td>\n",
       "      <td>14</td>\n",
       "      <td>1</td>\n",
       "      <td>[Festivals, Arts &amp; Entertainment]</td>\n",
       "      <td>NaN</td>\n",
       "    </tr>\n",
       "    <tr>\n",
       "      <th>91</th>\n",
       "      <td>zLViSytSrWambgwGECNyZA</td>\n",
       "      <td>Philadelphia Eagles</td>\n",
       "      <td>One Lincoln Financial Way</td>\n",
       "      <td>Philadelphia</td>\n",
       "      <td>PA</td>\n",
       "      <td>19148</td>\n",
       "      <td>39.907408</td>\n",
       "      <td>-75.178212</td>\n",
       "      <td>3.5</td>\n",
       "      <td>50</td>\n",
       "      <td>1</td>\n",
       "      <td>[Professional Sports Teams, Arts &amp; Entertainment]</td>\n",
       "      <td>NaN</td>\n",
       "    </tr>\n",
       "    <tr>\n",
       "      <th>95</th>\n",
       "      <td>z_HjcSyGqKePmpjta8T1LA</td>\n",
       "      <td>Rivers Poker Room Philadelphia</td>\n",
       "      <td>1001 N Delaware Ave</td>\n",
       "      <td>Philadelphia</td>\n",
       "      <td>PA</td>\n",
       "      <td>19125</td>\n",
       "      <td>39.963813</td>\n",
       "      <td>-75.132464</td>\n",
       "      <td>3.0</td>\n",
       "      <td>6</td>\n",
       "      <td>1</td>\n",
       "      <td>[Casinos, Arts &amp; Entertainment]</td>\n",
       "      <td>{'Monday': '0:0-0:0', 'Tuesday': '0:0-0:0', 'W...</td>\n",
       "    </tr>\n",
       "    <tr>\n",
       "      <th>102</th>\n",
       "      <td>VEdEuOfDGhgRWO-PipfB7w</td>\n",
       "      <td>Fill A Seat Philadelphia</td>\n",
       "      <td>NaN</td>\n",
       "      <td>Philadelphia</td>\n",
       "      <td>PA</td>\n",
       "      <td>NaN</td>\n",
       "      <td>39.952335</td>\n",
       "      <td>-75.163789</td>\n",
       "      <td>3.0</td>\n",
       "      <td>6</td>\n",
       "      <td>0</td>\n",
       "      <td>[Arts &amp; Entertainment]</td>\n",
       "      <td>NaN</td>\n",
       "    </tr>\n",
       "    <tr>\n",
       "      <th>113</th>\n",
       "      <td>nzU_1rXm6nTC4JDLKL-T9w</td>\n",
       "      <td>Wine on the River</td>\n",
       "      <td>Shelby Street Pedestrian Bridge</td>\n",
       "      <td>Nashville</td>\n",
       "      <td>TN</td>\n",
       "      <td>37206</td>\n",
       "      <td>36.181014</td>\n",
       "      <td>-86.763139</td>\n",
       "      <td>3.5</td>\n",
       "      <td>20</td>\n",
       "      <td>1</td>\n",
       "      <td>[Arts &amp; Entertainment, Festivals]</td>\n",
       "      <td>NaN</td>\n",
       "    </tr>\n",
       "    <tr>\n",
       "      <th>142</th>\n",
       "      <td>cX-g1iOlexkMU-jKINKTKQ</td>\n",
       "      <td>Inis Nua Theatre Company at The Drake</td>\n",
       "      <td>302 S Hicks St</td>\n",
       "      <td>Philadelphia</td>\n",
       "      <td>PA</td>\n",
       "      <td>19102</td>\n",
       "      <td>39.946870</td>\n",
       "      <td>-75.167170</td>\n",
       "      <td>5.0</td>\n",
       "      <td>10</td>\n",
       "      <td>1</td>\n",
       "      <td>[Performing Arts, Arts &amp; Entertainment]</td>\n",
       "      <td>{'Monday': '10:0-18:0', 'Tuesday': '10:0-18:0'...</td>\n",
       "    </tr>\n",
       "    <tr>\n",
       "      <th>143</th>\n",
       "      <td>IFDS30i3hmYSmrpP2-silg</td>\n",
       "      <td>New Orleans Arena</td>\n",
       "      <td>1501 Dave Dixon Dr</td>\n",
       "      <td>New Orleans</td>\n",
       "      <td>LA</td>\n",
       "      <td>70113</td>\n",
       "      <td>29.949049</td>\n",
       "      <td>-90.082014</td>\n",
       "      <td>3.5</td>\n",
       "      <td>45</td>\n",
       "      <td>0</td>\n",
       "      <td>[Stadiums &amp; Arenas, Arts &amp; Entertainment]</td>\n",
       "      <td>NaN</td>\n",
       "    </tr>\n",
       "    <tr>\n",
       "      <th>146</th>\n",
       "      <td>QFzJKnSUtkgSs1lKOOxXeA</td>\n",
       "      <td>Academy of Natural Sciences</td>\n",
       "      <td>1900 Benjamin Franklin Pkwy</td>\n",
       "      <td>Philadelphia</td>\n",
       "      <td>PA</td>\n",
       "      <td>19103</td>\n",
       "      <td>39.957019</td>\n",
       "      <td>-75.171260</td>\n",
       "      <td>4.0</td>\n",
       "      <td>131</td>\n",
       "      <td>1</td>\n",
       "      <td>[Museums, Arts &amp; Entertainment]</td>\n",
       "      <td>{'Wednesday': '10:0-17:0', 'Thursday': '10:0-1...</td>\n",
       "    </tr>\n",
       "    <tr>\n",
       "      <th>152</th>\n",
       "      <td>2ykuXX5qGkQjPh9PaIA3eg</td>\n",
       "      <td>Franklin Square Holiday Festival</td>\n",
       "      <td>6TH And Race St</td>\n",
       "      <td>Philadelphia</td>\n",
       "      <td>PA</td>\n",
       "      <td>19106</td>\n",
       "      <td>39.954687</td>\n",
       "      <td>-75.149502</td>\n",
       "      <td>3.5</td>\n",
       "      <td>10</td>\n",
       "      <td>1</td>\n",
       "      <td>[Arts &amp; Entertainment, Festivals]</td>\n",
       "      <td>{'Monday': '16:30-20:0', 'Tuesday': '16:30-20:...</td>\n",
       "    </tr>\n",
       "    <tr>\n",
       "      <th>197</th>\n",
       "      <td>0vM5zstXuTfjPDxgsoWzyg</td>\n",
       "      <td>Haunted Hell Nashville</td>\n",
       "      <td>3930 Apache Trl</td>\n",
       "      <td>Nashville</td>\n",
       "      <td>TN</td>\n",
       "      <td>37013</td>\n",
       "      <td>36.068748</td>\n",
       "      <td>-86.692345</td>\n",
       "      <td>3.5</td>\n",
       "      <td>10</td>\n",
       "      <td>0</td>\n",
       "      <td>[Haunted Houses, Arts &amp; Entertainment]</td>\n",
       "      <td>{'Monday': '19:0-22:0', 'Friday': '20:0-1:0', ...</td>\n",
       "    </tr>\n",
       "    <tr>\n",
       "      <th>199</th>\n",
       "      <td>WIHHMmLpF4bDvYk7J0V9GA</td>\n",
       "      <td>Dragon Master Showcase</td>\n",
       "      <td>750 Decatur St</td>\n",
       "      <td>New Orleans</td>\n",
       "      <td>LA</td>\n",
       "      <td>70116</td>\n",
       "      <td>29.957356</td>\n",
       "      <td>-90.062008</td>\n",
       "      <td>4.5</td>\n",
       "      <td>8</td>\n",
       "      <td>0</td>\n",
       "      <td>[Arts &amp; Entertainment, Performing Arts]</td>\n",
       "      <td>NaN</td>\n",
       "    </tr>\n",
       "    <tr>\n",
       "      <th>214</th>\n",
       "      <td>WuXa4cpuMHwKDdEvVdapMw</td>\n",
       "      <td>Darkhorse Theatre</td>\n",
       "      <td>4610 Charlotte Ave</td>\n",
       "      <td>Nashville</td>\n",
       "      <td>TN</td>\n",
       "      <td>37209</td>\n",
       "      <td>36.152580</td>\n",
       "      <td>-86.843328</td>\n",
       "      <td>4.0</td>\n",
       "      <td>6</td>\n",
       "      <td>1</td>\n",
       "      <td>[Cinema, Performing Arts, Arts &amp; Entertainment]</td>\n",
       "      <td>NaN</td>\n",
       "    </tr>\n",
       "    <tr>\n",
       "      <th>223</th>\n",
       "      <td>1t7qnDfquHBWHiI7OYlktw</td>\n",
       "      <td>New Orleans Pelicans</td>\n",
       "      <td>1501 Dave Dixon Dr</td>\n",
       "      <td>New Orleans</td>\n",
       "      <td>LA</td>\n",
       "      <td>70113</td>\n",
       "      <td>29.949003</td>\n",
       "      <td>-90.081904</td>\n",
       "      <td>3.5</td>\n",
       "      <td>29</td>\n",
       "      <td>1</td>\n",
       "      <td>[Professional Sports Teams, Arts &amp; Entertainment]</td>\n",
       "      <td>NaN</td>\n",
       "    </tr>\n",
       "    <tr>\n",
       "      <th>225</th>\n",
       "      <td>khMfXypvr9iALwJD7zzFGA</td>\n",
       "      <td>AMC Philadelphia Mills 14</td>\n",
       "      <td>1149 Franklin Mills Circle</td>\n",
       "      <td>Philadelphia</td>\n",
       "      <td>PA</td>\n",
       "      <td>19154</td>\n",
       "      <td>40.083871</td>\n",
       "      <td>-74.960973</td>\n",
       "      <td>2.0</td>\n",
       "      <td>52</td>\n",
       "      <td>1</td>\n",
       "      <td>[Arts &amp; Entertainment, Cinema]</td>\n",
       "      <td>{'Monday': '11:0-23:0', 'Tuesday': '11:0-23:0'...</td>\n",
       "    </tr>\n",
       "  </tbody>\n",
       "</table>\n",
       "</div>"
      ],
      "text/plain": [
       "                business_id                                   name  \\\n",
       "18   pCmaISSyKum22MOtPOxL-w                  Philadelphia Phillies   \n",
       "19   BBJwmkIWfqyfuZNXhs7Z9w                 Nola Crawfish Festival   \n",
       "36   Mgf-jjzsZh7-pjX-q-zTLQ                                 Odunde   \n",
       "49   3H0C_auPnU2LcoKA-gPtiA                          Hawkins Field   \n",
       "59   YA_1utFf5sYeW-T1AEkflA                      Tennessee Flavors   \n",
       "63   P5gs0DA5CFJli48QgC7nfw                         Street Theatre   \n",
       "81   wsA5vD-lZHHlJrxLKvEVOw                 12 South Winter Warmer   \n",
       "91   zLViSytSrWambgwGECNyZA                    Philadelphia Eagles   \n",
       "95   z_HjcSyGqKePmpjta8T1LA         Rivers Poker Room Philadelphia   \n",
       "102  VEdEuOfDGhgRWO-PipfB7w               Fill A Seat Philadelphia   \n",
       "113  nzU_1rXm6nTC4JDLKL-T9w                      Wine on the River   \n",
       "142  cX-g1iOlexkMU-jKINKTKQ  Inis Nua Theatre Company at The Drake   \n",
       "143  IFDS30i3hmYSmrpP2-silg                      New Orleans Arena   \n",
       "146  QFzJKnSUtkgSs1lKOOxXeA            Academy of Natural Sciences   \n",
       "152  2ykuXX5qGkQjPh9PaIA3eg       Franklin Square Holiday Festival   \n",
       "197  0vM5zstXuTfjPDxgsoWzyg                 Haunted Hell Nashville   \n",
       "199  WIHHMmLpF4bDvYk7J0V9GA                 Dragon Master Showcase   \n",
       "214  WuXa4cpuMHwKDdEvVdapMw                      Darkhorse Theatre   \n",
       "223  1t7qnDfquHBWHiI7OYlktw                   New Orleans Pelicans   \n",
       "225  khMfXypvr9iALwJD7zzFGA              AMC Philadelphia Mills 14   \n",
       "\n",
       "                             address          city state postal_code  \\\n",
       "18                Citizens Bank Park  Philadelphia    PA       19176   \n",
       "19             1201 South Rampart St   New Orleans    LA       70113   \n",
       "36              2308 Grays Ferry Ave  Philadelphia    PA       19146   \n",
       "49                2600 Jess Neely Dr     Nashville    TN       37212   \n",
       "59               120 White Bridge Rd     Nashville    TN       37209   \n",
       "63                1120 Elm Hill Pike     Nashville    TN       37210   \n",
       "81            3000 Granny White Pike     Nashville    TN       37204   \n",
       "91         One Lincoln Financial Way  Philadelphia    PA       19148   \n",
       "95               1001 N Delaware Ave  Philadelphia    PA       19125   \n",
       "102                              NaN  Philadelphia    PA         NaN   \n",
       "113  Shelby Street Pedestrian Bridge     Nashville    TN       37206   \n",
       "142                   302 S Hicks St  Philadelphia    PA       19102   \n",
       "143               1501 Dave Dixon Dr   New Orleans    LA       70113   \n",
       "146      1900 Benjamin Franklin Pkwy  Philadelphia    PA       19103   \n",
       "152                  6TH And Race St  Philadelphia    PA       19106   \n",
       "197                  3930 Apache Trl     Nashville    TN       37013   \n",
       "199                   750 Decatur St   New Orleans    LA       70116   \n",
       "214               4610 Charlotte Ave     Nashville    TN       37209   \n",
       "223               1501 Dave Dixon Dr   New Orleans    LA       70113   \n",
       "225       1149 Franklin Mills Circle  Philadelphia    PA       19154   \n",
       "\n",
       "      latitude  longitude  stars  review_count  is_open  \\\n",
       "18   39.905790 -75.166301    4.5            94        1   \n",
       "19   29.943991 -90.078801    3.5             6        1   \n",
       "36   39.945047 -75.180302    4.0             5        1   \n",
       "49   36.143408 -86.807400    4.5            10        1   \n",
       "59   36.134730 -86.857200    4.0             8        1   \n",
       "63   36.144143 -86.731979    4.5            10        1   \n",
       "81   36.119781 -86.790840    5.0            14        1   \n",
       "91   39.907408 -75.178212    3.5            50        1   \n",
       "95   39.963813 -75.132464    3.0             6        1   \n",
       "102  39.952335 -75.163789    3.0             6        0   \n",
       "113  36.181014 -86.763139    3.5            20        1   \n",
       "142  39.946870 -75.167170    5.0            10        1   \n",
       "143  29.949049 -90.082014    3.5            45        0   \n",
       "146  39.957019 -75.171260    4.0           131        1   \n",
       "152  39.954687 -75.149502    3.5            10        1   \n",
       "197  36.068748 -86.692345    3.5            10        0   \n",
       "199  29.957356 -90.062008    4.5             8        0   \n",
       "214  36.152580 -86.843328    4.0             6        1   \n",
       "223  29.949003 -90.081904    3.5            29        1   \n",
       "225  40.083871 -74.960973    2.0            52        1   \n",
       "\n",
       "                                            categories  \\\n",
       "18   [Arts & Entertainment, Professional Sports Teams]   \n",
       "19                   [Festivals, Arts & Entertainment]   \n",
       "36                   [Festivals, Arts & Entertainment]   \n",
       "49           [Stadiums & Arenas, Arts & Entertainment]   \n",
       "59                   [Festivals, Arts & Entertainment]   \n",
       "63             [Performing Arts, Arts & Entertainment]   \n",
       "81                   [Festivals, Arts & Entertainment]   \n",
       "91   [Professional Sports Teams, Arts & Entertainment]   \n",
       "95                     [Casinos, Arts & Entertainment]   \n",
       "102                             [Arts & Entertainment]   \n",
       "113                  [Arts & Entertainment, Festivals]   \n",
       "142            [Performing Arts, Arts & Entertainment]   \n",
       "143          [Stadiums & Arenas, Arts & Entertainment]   \n",
       "146                    [Museums, Arts & Entertainment]   \n",
       "152                  [Arts & Entertainment, Festivals]   \n",
       "197             [Haunted Houses, Arts & Entertainment]   \n",
       "199            [Arts & Entertainment, Performing Arts]   \n",
       "214    [Cinema, Performing Arts, Arts & Entertainment]   \n",
       "223  [Professional Sports Teams, Arts & Entertainment]   \n",
       "225                     [Arts & Entertainment, Cinema]   \n",
       "\n",
       "                                                 hours  \n",
       "18                                                 NaN  \n",
       "19                                                 NaN  \n",
       "36                                                 NaN  \n",
       "49                                                 NaN  \n",
       "59                                                 NaN  \n",
       "63                                                 NaN  \n",
       "81                                                 NaN  \n",
       "91                                                 NaN  \n",
       "95   {'Monday': '0:0-0:0', 'Tuesday': '0:0-0:0', 'W...  \n",
       "102                                                NaN  \n",
       "113                                                NaN  \n",
       "142  {'Monday': '10:0-18:0', 'Tuesday': '10:0-18:0'...  \n",
       "143                                                NaN  \n",
       "146  {'Wednesday': '10:0-17:0', 'Thursday': '10:0-1...  \n",
       "152  {'Monday': '16:30-20:0', 'Tuesday': '16:30-20:...  \n",
       "197  {'Monday': '19:0-22:0', 'Friday': '20:0-1:0', ...  \n",
       "199                                                NaN  \n",
       "214                                                NaN  \n",
       "223                                                NaN  \n",
       "225  {'Monday': '11:0-23:0', 'Tuesday': '11:0-23:0'...  "
      ]
     },
     "execution_count": 52,
     "metadata": {},
     "output_type": "execute_result"
    }
   ],
   "source": [
    "arts_entertainment_df.head(20)"
   ]
  },
  {
   "cell_type": "code",
   "execution_count": 114,
   "id": "6f4ec896-9ba8-4dca-afbf-71fa6c8afdce",
   "metadata": {
    "scrolled": true
   },
   "outputs": [
    {
     "data": {
      "text/plain": [
       "[Arts & Entertainment, Museums]                               16\n",
       "[Festivals, Arts & Entertainment]                             15\n",
       "[Arts & Entertainment, Festivals]                             12\n",
       "[Arts & Entertainment, Cinema]                                11\n",
       "[Cinema, Arts & Entertainment]                                10\n",
       "[Arts & Entertainment, Performing Arts]                       10\n",
       "[Stadiums & Arenas, Arts & Entertainment]                      9\n",
       "[Performing Arts, Arts & Entertainment]                        9\n",
       "[Museums, Arts & Entertainment]                                9\n",
       "[Arts & Entertainment, Stadiums & Arenas]                      6\n",
       "[Arts & Entertainment, Professional Sports Teams]              5\n",
       "[Performing Arts, Cinema, Arts & Entertainment]                3\n",
       "[Cinema, Performing Arts, Arts & Entertainment]                3\n",
       "[Professional Sports Teams, Arts & Entertainment]              3\n",
       "[Arts & Entertainment]                                         2\n",
       "[Casinos, Arts & Entertainment]                                2\n",
       "[Arts & Entertainment, Performing Arts, Cinema]                2\n",
       "[Arts & Entertainment, Cinema, Performing Arts]                2\n",
       "[Haunted Houses, Arts & Entertainment]                         2\n",
       "[Performing Arts, Arts & Entertainment, Cinema]                2\n",
       "[Cinema, Arts & Entertainment, Performing Arts]                2\n",
       "[Arts & Entertainment, Casinos]                                1\n",
       "[Arts & Entertainment, Festivals, Performing Arts]             1\n",
       "[Arts & Entertainment, Botanical Gardens]                      1\n",
       "[Arts & Entertainment, Cultural Center]                        1\n",
       "[Arts & Entertainment, Performing Arts, Opera & Ballet]        1\n",
       "[Arts & Entertainment, Haunted Houses]                         1\n",
       "[Arts & Entertainment, Stadiums & Arenas, Cultural Center]     1\n",
       "[Outdoor Movies, Cinema, Arts & Entertainment]                 1\n",
       "[Festivals, Performing Arts, Arts & Entertainment]             1\n",
       "[Art Museums, Museums, Arts & Entertainment]                   1\n",
       "[Arts & Entertainment, Race Tracks]                            1\n",
       "[Arts & Entertainment, Botanical Gardens, Museums]             1\n",
       "Name: categories, dtype: int64"
      ]
     },
     "execution_count": 114,
     "metadata": {},
     "output_type": "execute_result"
    }
   ],
   "source": [
    "arts_entertainment_df['categories'].value_counts()"
   ]
  },
  {
   "cell_type": "markdown",
   "id": "15ac02d2-3abc-4acf-bfe0-9e5383222653",
   "metadata": {},
   "source": [
    "#### Combining Things To Do Data Frames "
   ]
  },
  {
   "cell_type": "code",
   "execution_count": 53,
   "id": "3e925f8d-72ee-49c1-935f-3e09b5dcb5ad",
   "metadata": {},
   "outputs": [
    {
     "data": {
      "text/plain": [
       "(526, 13)"
      ]
     },
     "execution_count": 53,
     "metadata": {},
     "output_type": "execute_result"
    }
   ],
   "source": [
    "# Concatenating the three df \n",
    "activities_df = pd.concat([tours_df, arts_entertainment_df, active_life_df], ignore_index=True)\n",
    "\n",
    "# Verify the result\n",
    "activities_df.shape"
   ]
  },
  {
   "cell_type": "code",
   "execution_count": 57,
   "id": "b1fa0244-daad-4aca-a452-459fa647649a",
   "metadata": {},
   "outputs": [],
   "source": [
    "# Exporting df\n",
    "activities_df.to_csv('../Data/filtered_data_sets/activities.csv', index=False)"
   ]
  },
  {
   "cell_type": "markdown",
   "id": "c09236bc-a526-42f7-b704-9724e6408de7",
   "metadata": {},
   "source": [
    "#### Filtering Reviews"
   ]
  },
  {
   "cell_type": "markdown",
   "id": "cdbd8071-8157-48c2-83e0-190c718dac31",
   "metadata": {},
   "source": [
    "I'll filter our existing review table by our activities df and include only the businesses we want for our model."
   ]
  },
  {
   "cell_type": "code",
   "execution_count": 62,
   "id": "591b5e22-e837-4a46-906c-f15dce5eb742",
   "metadata": {},
   "outputs": [],
   "source": [
    "activity_ratings_df = df_r[df_r.business_id.isin(activities_df.business_id )]"
   ]
  },
  {
   "cell_type": "code",
   "execution_count": 63,
   "id": "fcdb6628-ab6a-49d4-a0be-f3f1f3dffb03",
   "metadata": {},
   "outputs": [
    {
     "data": {
      "text/plain": [
       "(35936, 8)"
      ]
     },
     "execution_count": 63,
     "metadata": {},
     "output_type": "execute_result"
    }
   ],
   "source": [
    "activity_ratings_df.shape"
   ]
  },
  {
   "cell_type": "markdown",
   "id": "f11ae0e8-e908-443d-9c12-2a603a5513df",
   "metadata": {},
   "source": [
    "To reduce dimensionality of our new df I want to only include users that have at least 5 reviews. Mainly to exlcude users who are not regular users of the platform and there for would not benefit from our reccomondations and could influence others predicted ratings. "
   ]
  },
  {
   "cell_type": "code",
   "execution_count": 64,
   "id": "0a08fcd7-488c-4d4f-b502-23df7413c54e",
   "metadata": {},
   "outputs": [
    {
     "data": {
      "text/plain": [
       "(2377, 8)"
      ]
     },
     "execution_count": 64,
     "metadata": {},
     "output_type": "execute_result"
    }
   ],
   "source": [
    "# filter resturant review data by users with more than 5 reviews\n",
    "u = activity_ratings_df.user_id.value_counts()\n",
    "activity_ratings_df = activity_ratings_df[activity_ratings_df.user_id.isin(u.index[u.gt(5)])]\n",
    "activity_ratings_df.shape"
   ]
  },
  {
   "cell_type": "markdown",
   "id": "a9ceb96a-93f3-491f-bc16-de1640a522eb",
   "metadata": {},
   "source": [
    "I'll remove the columns that are unneccesary for our model and sort features by users and then by businesses"
   ]
  },
  {
   "cell_type": "code",
   "execution_count": 65,
   "id": "a55c144e-1ecf-4f10-8be7-bbaa7adf1f00",
   "metadata": {},
   "outputs": [
    {
     "data": {
      "text/html": [
       "<div>\n",
       "<style scoped>\n",
       "    .dataframe tbody tr th:only-of-type {\n",
       "        vertical-align: middle;\n",
       "    }\n",
       "\n",
       "    .dataframe tbody tr th {\n",
       "        vertical-align: top;\n",
       "    }\n",
       "\n",
       "    .dataframe thead th {\n",
       "        text-align: right;\n",
       "    }\n",
       "</style>\n",
       "<table border=\"1\" class=\"dataframe\">\n",
       "  <thead>\n",
       "    <tr style=\"text-align: right;\">\n",
       "      <th></th>\n",
       "      <th>user_id</th>\n",
       "      <th>business_id</th>\n",
       "      <th>stars</th>\n",
       "    </tr>\n",
       "    <tr>\n",
       "      <th>review_id</th>\n",
       "      <th></th>\n",
       "      <th></th>\n",
       "      <th></th>\n",
       "    </tr>\n",
       "  </thead>\n",
       "  <tbody>\n",
       "    <tr>\n",
       "      <th>BxWtr8JWDwT6wAPsX5dxvA</th>\n",
       "      <td>-V7frksbFjKQYVhrPnnlPw</td>\n",
       "      <td>1sO-Ujuvs8igSyaD35xx4w</td>\n",
       "      <td>5.0</td>\n",
       "    </tr>\n",
       "    <tr>\n",
       "      <th>wfWAvr5NgxBn5NWRtSyy-w</th>\n",
       "      <td>-V7frksbFjKQYVhrPnnlPw</td>\n",
       "      <td>3NObha3nErUqtucmcnUP5A</td>\n",
       "      <td>5.0</td>\n",
       "    </tr>\n",
       "    <tr>\n",
       "      <th>AcDgQoF_253qvSHi0nbsHg</th>\n",
       "      <td>-V7frksbFjKQYVhrPnnlPw</td>\n",
       "      <td>3QX-uEjH5BBhFiRZn1TbuA</td>\n",
       "      <td>4.0</td>\n",
       "    </tr>\n",
       "    <tr>\n",
       "      <th>opBWgeWLgK5_wwJPQQ0DPQ</th>\n",
       "      <td>-V7frksbFjKQYVhrPnnlPw</td>\n",
       "      <td>FPvwaSdVk5dN0Ya_FB9qKg</td>\n",
       "      <td>3.0</td>\n",
       "    </tr>\n",
       "    <tr>\n",
       "      <th>0lQHcg6-LXjWNahA2yHL7Q</th>\n",
       "      <td>-V7frksbFjKQYVhrPnnlPw</td>\n",
       "      <td>IFDS30i3hmYSmrpP2-silg</td>\n",
       "      <td>4.0</td>\n",
       "    </tr>\n",
       "  </tbody>\n",
       "</table>\n",
       "</div>"
      ],
      "text/plain": [
       "                                       user_id             business_id  stars\n",
       "review_id                                                                    \n",
       "BxWtr8JWDwT6wAPsX5dxvA  -V7frksbFjKQYVhrPnnlPw  1sO-Ujuvs8igSyaD35xx4w    5.0\n",
       "wfWAvr5NgxBn5NWRtSyy-w  -V7frksbFjKQYVhrPnnlPw  3NObha3nErUqtucmcnUP5A    5.0\n",
       "AcDgQoF_253qvSHi0nbsHg  -V7frksbFjKQYVhrPnnlPw  3QX-uEjH5BBhFiRZn1TbuA    4.0\n",
       "opBWgeWLgK5_wwJPQQ0DPQ  -V7frksbFjKQYVhrPnnlPw  FPvwaSdVk5dN0Ya_FB9qKg    3.0\n",
       "0lQHcg6-LXjWNahA2yHL7Q  -V7frksbFjKQYVhrPnnlPw  IFDS30i3hmYSmrpP2-silg    4.0"
      ]
     },
     "execution_count": 65,
     "metadata": {},
     "output_type": "execute_result"
    }
   ],
   "source": [
    "activity_ratings_df = activity_ratings_df.sort_values(by=['user_id', 'business_id']).drop(columns=['funny', 'useful', 'cool', 'date']).set_index('review_id')\n",
    "activity_ratings_df.head()"
   ]
  },
  {
   "cell_type": "markdown",
   "id": "1ca0592f-dffa-4381-a590-29acf68fd1ad",
   "metadata": {},
   "source": [
    "Our data is now ready for modelling"
   ]
  },
  {
   "cell_type": "code",
   "execution_count": 67,
   "id": "eca5c6ab-ca63-4c2c-8cba-19d314449777",
   "metadata": {},
   "outputs": [],
   "source": [
    "# export preparred data \n",
    "activity_ratings_df.to_csv('../Data/ratings/activity_ratings.csv', index=False) #Setting index=False to drop custom index column"
   ]
  },
  {
   "cell_type": "code",
   "execution_count": null,
   "id": "54ffd3c2-ee86-451d-b5d8-f2666faaa189",
   "metadata": {},
   "outputs": [],
   "source": []
  },
  {
   "cell_type": "markdown",
   "id": "fc683f52-adbc-452e-b3e4-b2e42d33bbbd",
   "metadata": {},
   "source": [
    "#### User Data\n",
    "I'd like to explore the user data for filtered by our two sets of ratings"
   ]
  },
  {
   "cell_type": "code",
   "execution_count": 86,
   "id": "c2046a4f-707e-4689-b3dd-5fd42751bae3",
   "metadata": {},
   "outputs": [
    {
     "data": {
      "text/plain": [
       "(1987897, 4)"
      ]
     },
     "execution_count": 86,
     "metadata": {},
     "output_type": "execute_result"
    }
   ],
   "source": [
    "reduced_df_u.shape"
   ]
  },
  {
   "cell_type": "code",
   "execution_count": 81,
   "id": "f03d2d51-db5f-4bcb-b40f-0c255085172b",
   "metadata": {},
   "outputs": [
    {
     "data": {
      "text/plain": [
       "(5515, 4)"
      ]
     },
     "execution_count": 81,
     "metadata": {},
     "output_type": "execute_result"
    }
   ],
   "source": [
    "restaurant_users = reduced_df_u[reduced_df_u.user_id.isin(restaurant_ratings_df.user_id )]\n",
    "restaurant_users.shape"
   ]
  },
  {
   "cell_type": "code",
   "execution_count": 73,
   "id": "6d428278-5fdd-41f6-b448-ad0577c51322",
   "metadata": {},
   "outputs": [
    {
     "data": {
      "text/plain": [
       "(260, 4)"
      ]
     },
     "execution_count": 73,
     "metadata": {},
     "output_type": "execute_result"
    }
   ],
   "source": [
    "activity_users = reduced_df_u[reduced_df_u.user_id.isin(activity_ratings_df.user_id )]\n",
    "activity_users.shape"
   ]
  },
  {
   "cell_type": "code",
   "execution_count": 87,
   "id": "04428607-9cf6-4892-89b7-2d0adbe457e0",
   "metadata": {},
   "outputs": [],
   "source": [
    "# export filtered data \n",
    "restaurant_users.to_csv('../Data/filtered_data_sets/restaurant_users.csv', index=False) #Setting index=False to drop custom index column\n",
    "activity_users.to_csv('../Data/filtered_data_sets/activity_users.csv', index=False) #Setting index=False to drop custom index column"
   ]
  },
  {
   "cell_type": "code",
   "execution_count": null,
   "id": "7be75d94-880e-4553-bd08-8e5eee8e5c37",
   "metadata": {},
   "outputs": [],
   "source": []
  }
 ],
 "metadata": {
  "kernelspec": {
   "display_name": "Python 3 (ipykernel)",
   "language": "python",
   "name": "python3"
  },
  "language_info": {
   "codemirror_mode": {
    "name": "ipython",
    "version": 3
   },
   "file_extension": ".py",
   "mimetype": "text/x-python",
   "name": "python",
   "nbconvert_exporter": "python",
   "pygments_lexer": "ipython3",
   "version": "3.11.8"
  }
 },
 "nbformat": 4,
 "nbformat_minor": 5
}
