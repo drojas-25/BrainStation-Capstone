{
 "cells": [
  {
   "cell_type": "markdown",
   "id": "442eafcd-bed6-4248-be46-5e079b9fefb1",
   "metadata": {},
   "source": [
    "# Introduction\n",
    "# Providing Travel Recommendations Using Machine Learning\n",
    "# Goal:\n",
    "## My project aims to develop a machine learning-based solution that provides personalized recommendations for travelers based on their preferences and past travel history\n",
    "# Data Overview\n",
    "My data is sourced directly from Yelp. The files were originally in JSON format and were converted to CSV prior to this exploration. \n",
    "In this notebook, I'll be exploring three different files business, user, and review data. "
   ]
  },
  {
   "cell_type": "markdown",
   "id": "02f10aad-513f-40d4-b39e-005c27b4bede",
   "metadata": {},
   "source": [
    "#### Packages Import"
   ]
  },
  {
   "cell_type": "code",
   "execution_count": 2,
   "id": "ce33e36c-0a7a-45b5-be38-d32de3faea11",
   "metadata": {},
   "outputs": [],
   "source": [
    "import pandas as pd\n",
    "import numpy as np\n",
    "import matplotlib.pyplot as plt\n",
    "import seaborn as sns"
   ]
  },
  {
   "cell_type": "markdown",
   "id": "d910b968-e3d1-42b9-a1e1-7a37d276b977",
   "metadata": {},
   "source": [
    "# Business Data Set\n",
    "#### Data Dictionary\n",
    "- **business_id**  \tUnique identifier for the business  \t**string**\n",
    "- **name**\t        Name of the business\t                **string**\n",
    "- **address**\tAddress where the business is located\t**string**\n",
    "- **city**\tCity where the business is located\t**string**\n",
    "- **state**\tState where the business is located\t**string**\n",
    "- **postal_code**\tpostal_code where the business is located\t**string**\n",
    "- **latitude**\tGeographical latitude of the business\t**float64**\n",
    "- **longitude**\tGeographical longitude of the business\t**float64**\n",
    "- **stars**\tStar rating of the business\t**float64**\n",
    "- **review_count**\tNumber of reviews the business has received\t**int64**\n",
    "- **is_open**\t0 is closed and 1 is open\t**int64**\n",
    "- **attributes**\tAttribute: Boolean\t**string-Dict**\n",
    "- **categories**\tCategories the business falls under\t**string**\n",
    "- **hours**\tDay of the week: Hours of operation\t**string-Dict**"
   ]
  },
  {
   "cell_type": "code",
   "execution_count": 3,
   "id": "28794e96-1170-40fd-904c-b98f8da45836",
   "metadata": {},
   "outputs": [],
   "source": [
    "# Reading CSV file into notebook and saving it to pandas df\n",
    "df_b = pd.read_csv('data/yelp_business.csv', index_col=0)"
   ]
  },
  {
   "cell_type": "code",
   "execution_count": 4,
   "id": "70fba427-79c6-4da6-86dc-b91493eef243",
   "metadata": {},
   "outputs": [
    {
     "data": {
      "text/html": [
       "<div>\n",
       "<style scoped>\n",
       "    .dataframe tbody tr th:only-of-type {\n",
       "        vertical-align: middle;\n",
       "    }\n",
       "\n",
       "    .dataframe tbody tr th {\n",
       "        vertical-align: top;\n",
       "    }\n",
       "\n",
       "    .dataframe thead th {\n",
       "        text-align: right;\n",
       "    }\n",
       "</style>\n",
       "<table border=\"1\" class=\"dataframe\">\n",
       "  <thead>\n",
       "    <tr style=\"text-align: right;\">\n",
       "      <th></th>\n",
       "      <th>business_id</th>\n",
       "      <th>name</th>\n",
       "      <th>address</th>\n",
       "      <th>city</th>\n",
       "      <th>state</th>\n",
       "      <th>postal_code</th>\n",
       "      <th>latitude</th>\n",
       "      <th>longitude</th>\n",
       "      <th>stars</th>\n",
       "      <th>review_count</th>\n",
       "      <th>is_open</th>\n",
       "      <th>attributes</th>\n",
       "      <th>categories</th>\n",
       "      <th>hours</th>\n",
       "    </tr>\n",
       "  </thead>\n",
       "  <tbody>\n",
       "    <tr>\n",
       "      <th>0</th>\n",
       "      <td>Pns2l4eNsfO8kk83dixA6A</td>\n",
       "      <td>Abby Rappoport, LAC, CMQ</td>\n",
       "      <td>1616 Chapala St, Ste 2</td>\n",
       "      <td>Santa Barbara</td>\n",
       "      <td>CA</td>\n",
       "      <td>93101</td>\n",
       "      <td>34.426679</td>\n",
       "      <td>-119.711197</td>\n",
       "      <td>5.0</td>\n",
       "      <td>7</td>\n",
       "      <td>0</td>\n",
       "      <td>{'ByAppointmentOnly': 'True'}</td>\n",
       "      <td>Doctors, Traditional Chinese Medicine, Naturop...</td>\n",
       "      <td>NaN</td>\n",
       "    </tr>\n",
       "    <tr>\n",
       "      <th>1</th>\n",
       "      <td>mpf3x-BjTdTEA3yCZrAYPw</td>\n",
       "      <td>The UPS Store</td>\n",
       "      <td>87 Grasso Plaza Shopping Center</td>\n",
       "      <td>Affton</td>\n",
       "      <td>MO</td>\n",
       "      <td>63123</td>\n",
       "      <td>38.551126</td>\n",
       "      <td>-90.335695</td>\n",
       "      <td>3.0</td>\n",
       "      <td>15</td>\n",
       "      <td>1</td>\n",
       "      <td>{'BusinessAcceptsCreditCards': 'True'}</td>\n",
       "      <td>Shipping Centers, Local Services, Notaries, Ma...</td>\n",
       "      <td>{'Monday': '0:0-0:0', 'Tuesday': '8:0-18:30', ...</td>\n",
       "    </tr>\n",
       "    <tr>\n",
       "      <th>2</th>\n",
       "      <td>tUFrWirKiKi_TAnsVWINQQ</td>\n",
       "      <td>Target</td>\n",
       "      <td>5255 E Broadway Blvd</td>\n",
       "      <td>Tucson</td>\n",
       "      <td>AZ</td>\n",
       "      <td>85711</td>\n",
       "      <td>32.223236</td>\n",
       "      <td>-110.880452</td>\n",
       "      <td>3.5</td>\n",
       "      <td>22</td>\n",
       "      <td>0</td>\n",
       "      <td>{'BikeParking': 'True', 'BusinessAcceptsCredit...</td>\n",
       "      <td>Department Stores, Shopping, Fashion, Home &amp; G...</td>\n",
       "      <td>{'Monday': '8:0-22:0', 'Tuesday': '8:0-22:0', ...</td>\n",
       "    </tr>\n",
       "    <tr>\n",
       "      <th>3</th>\n",
       "      <td>MTSW4McQd7CbVtyjqoe9mw</td>\n",
       "      <td>St Honore Pastries</td>\n",
       "      <td>935 Race St</td>\n",
       "      <td>Philadelphia</td>\n",
       "      <td>PA</td>\n",
       "      <td>19107</td>\n",
       "      <td>39.955505</td>\n",
       "      <td>-75.155564</td>\n",
       "      <td>4.0</td>\n",
       "      <td>80</td>\n",
       "      <td>1</td>\n",
       "      <td>{'RestaurantsDelivery': 'False', 'OutdoorSeati...</td>\n",
       "      <td>Restaurants, Food, Bubble Tea, Coffee &amp; Tea, B...</td>\n",
       "      <td>{'Monday': '7:0-20:0', 'Tuesday': '7:0-20:0', ...</td>\n",
       "    </tr>\n",
       "    <tr>\n",
       "      <th>4</th>\n",
       "      <td>mWMc6_wTdE0EUBKIGXDVfA</td>\n",
       "      <td>Perkiomen Valley Brewery</td>\n",
       "      <td>101 Walnut St</td>\n",
       "      <td>Green Lane</td>\n",
       "      <td>PA</td>\n",
       "      <td>18054</td>\n",
       "      <td>40.338183</td>\n",
       "      <td>-75.471659</td>\n",
       "      <td>4.5</td>\n",
       "      <td>13</td>\n",
       "      <td>1</td>\n",
       "      <td>{'BusinessAcceptsCreditCards': 'True', 'Wheelc...</td>\n",
       "      <td>Brewpubs, Breweries, Food</td>\n",
       "      <td>{'Wednesday': '14:0-22:0', 'Thursday': '16:0-2...</td>\n",
       "    </tr>\n",
       "  </tbody>\n",
       "</table>\n",
       "</div>"
      ],
      "text/plain": [
       "              business_id                      name  \\\n",
       "0  Pns2l4eNsfO8kk83dixA6A  Abby Rappoport, LAC, CMQ   \n",
       "1  mpf3x-BjTdTEA3yCZrAYPw             The UPS Store   \n",
       "2  tUFrWirKiKi_TAnsVWINQQ                    Target   \n",
       "3  MTSW4McQd7CbVtyjqoe9mw        St Honore Pastries   \n",
       "4  mWMc6_wTdE0EUBKIGXDVfA  Perkiomen Valley Brewery   \n",
       "\n",
       "                           address           city state postal_code  \\\n",
       "0           1616 Chapala St, Ste 2  Santa Barbara    CA       93101   \n",
       "1  87 Grasso Plaza Shopping Center         Affton    MO       63123   \n",
       "2             5255 E Broadway Blvd         Tucson    AZ       85711   \n",
       "3                      935 Race St   Philadelphia    PA       19107   \n",
       "4                    101 Walnut St     Green Lane    PA       18054   \n",
       "\n",
       "    latitude   longitude  stars  review_count  is_open  \\\n",
       "0  34.426679 -119.711197    5.0             7        0   \n",
       "1  38.551126  -90.335695    3.0            15        1   \n",
       "2  32.223236 -110.880452    3.5            22        0   \n",
       "3  39.955505  -75.155564    4.0            80        1   \n",
       "4  40.338183  -75.471659    4.5            13        1   \n",
       "\n",
       "                                          attributes  \\\n",
       "0                      {'ByAppointmentOnly': 'True'}   \n",
       "1             {'BusinessAcceptsCreditCards': 'True'}   \n",
       "2  {'BikeParking': 'True', 'BusinessAcceptsCredit...   \n",
       "3  {'RestaurantsDelivery': 'False', 'OutdoorSeati...   \n",
       "4  {'BusinessAcceptsCreditCards': 'True', 'Wheelc...   \n",
       "\n",
       "                                          categories  \\\n",
       "0  Doctors, Traditional Chinese Medicine, Naturop...   \n",
       "1  Shipping Centers, Local Services, Notaries, Ma...   \n",
       "2  Department Stores, Shopping, Fashion, Home & G...   \n",
       "3  Restaurants, Food, Bubble Tea, Coffee & Tea, B...   \n",
       "4                          Brewpubs, Breweries, Food   \n",
       "\n",
       "                                               hours  \n",
       "0                                                NaN  \n",
       "1  {'Monday': '0:0-0:0', 'Tuesday': '8:0-18:30', ...  \n",
       "2  {'Monday': '8:0-22:0', 'Tuesday': '8:0-22:0', ...  \n",
       "3  {'Monday': '7:0-20:0', 'Tuesday': '7:0-20:0', ...  \n",
       "4  {'Wednesday': '14:0-22:0', 'Thursday': '16:0-2...  "
      ]
     },
     "execution_count": 4,
     "metadata": {},
     "output_type": "execute_result"
    }
   ],
   "source": [
    "# Quick peak into data \n",
    "df_b.head()"
   ]
  },
  {
   "cell_type": "code",
   "execution_count": 5,
   "id": "d20f4b92-fbb2-4daf-894f-ae4663e18d3e",
   "metadata": {
    "scrolled": true
   },
   "outputs": [
    {
     "name": "stdout",
     "output_type": "stream",
     "text": [
      "<class 'pandas.core.frame.DataFrame'>\n",
      "Int64Index: 150346 entries, 0 to 150345\n",
      "Data columns (total 14 columns):\n",
      " #   Column        Non-Null Count   Dtype  \n",
      "---  ------        --------------   -----  \n",
      " 0   business_id   150346 non-null  object \n",
      " 1   name          150346 non-null  object \n",
      " 2   address       145219 non-null  object \n",
      " 3   city          150346 non-null  object \n",
      " 4   state         150346 non-null  object \n",
      " 5   postal_code   150273 non-null  object \n",
      " 6   latitude      150346 non-null  float64\n",
      " 7   longitude     150346 non-null  float64\n",
      " 8   stars         150346 non-null  float64\n",
      " 9   review_count  150346 non-null  int64  \n",
      " 10  is_open       150346 non-null  int64  \n",
      " 11  attributes    136602 non-null  object \n",
      " 12  categories    150243 non-null  object \n",
      " 13  hours         127123 non-null  object \n",
      "dtypes: float64(3), int64(2), object(9)\n",
      "memory usage: 17.2+ MB\n"
     ]
    }
   ],
   "source": [
    "# Gives me a a quick look at the data types for each column, number of entries, and columns.\n",
    "df_b.info()"
   ]
  },
  {
   "cell_type": "code",
   "execution_count": 6,
   "id": "03359613-e10a-4b76-ab0f-4ea194d6869e",
   "metadata": {
    "scrolled": true
   },
   "outputs": [
    {
     "data": {
      "text/plain": [
       "business_id         0\n",
       "name                0\n",
       "address          5127\n",
       "city                0\n",
       "state               0\n",
       "postal_code        73\n",
       "latitude            0\n",
       "longitude           0\n",
       "stars               0\n",
       "review_count        0\n",
       "is_open             0\n",
       "attributes      13744\n",
       "categories        103\n",
       "hours           23223\n",
       "dtype: int64"
      ]
     },
     "execution_count": 6,
     "metadata": {},
     "output_type": "execute_result"
    }
   ],
   "source": [
    "# Quick check to count the number of null values per column\n",
    "df_b.isna().sum()"
   ]
  },
  {
   "cell_type": "code",
   "execution_count": 18,
   "id": "f3a1e460-68f7-4693-95f4-8ff4500ae640",
   "metadata": {
    "scrolled": true
   },
   "outputs": [
    {
     "data": {
      "text/plain": [
       "business_id     0.0\n",
       "name            0.0\n",
       "address         0.0\n",
       "city            0.0\n",
       "state           0.0\n",
       "postal_code     0.0\n",
       "latitude        0.0\n",
       "longitude       0.0\n",
       "stars           0.0\n",
       "review_count    0.0\n",
       "is_open         0.0\n",
       "attributes      0.0\n",
       "categories      0.0\n",
       "hours           0.0\n",
       "dtype: float64"
      ]
     },
     "execution_count": 18,
     "metadata": {},
     "output_type": "execute_result"
    }
   ],
   "source": [
    "# Check for duplicate rows \n",
    "df_b[df_b.duplicated()].sum()"
   ]
  },
  {
   "cell_type": "code",
   "execution_count": null,
   "id": "a5bbbb0c-e9cc-43eb-9d65-749d5e81b581",
   "metadata": {},
   "outputs": [],
   "source": []
  },
  {
   "cell_type": "markdown",
   "id": "1b2cc7ba-d14e-416d-ad62-7ced4a07ea85",
   "metadata": {
    "jp-MarkdownHeadingCollapsed": true
   },
   "source": [
    "## Business Details\n",
    "The first eight columns contain information about the business, such as a business id, name of the business, address, city, state, postal code, and geo-location coordinates."
   ]
  },
  {
   "cell_type": "markdown",
   "id": "19873761-966c-49de-8edd-0fa8999a03a3",
   "metadata": {},
   "source": [
    "**Address**"
   ]
  },
  {
   "cell_type": "code",
   "execution_count": 20,
   "id": "bf19f789-5555-4879-ab5b-1cd3dedbe721",
   "metadata": {},
   "outputs": [
    {
     "data": {
      "text/plain": [
       "5127"
      ]
     },
     "execution_count": 20,
     "metadata": {},
     "output_type": "execute_result"
    }
   ],
   "source": [
    "df_b['address'].isna().sum()\n",
    "# null values will need to be address later "
   ]
  },
  {
   "cell_type": "markdown",
   "id": "9428acb1-7c06-453a-8680-fe77682fba0d",
   "metadata": {},
   "source": [
    "**City**"
   ]
  },
  {
   "cell_type": "code",
   "execution_count": 7,
   "id": "e4c9a66d-ca12-4c0a-9255-3a32722dbed3",
   "metadata": {},
   "outputs": [
    {
     "data": {
      "text/plain": [
       "Philadelphia      14569\n",
       "Tucson             9250\n",
       "Tampa              9050\n",
       "Indianapolis       7540\n",
       "Nashville          6971\n",
       "                  ...  \n",
       "Gentilly              1\n",
       "pennsauken            1\n",
       "Hamiltion             1\n",
       "Newtown square        1\n",
       "Apollo beach          1\n",
       "Name: city, Length: 1416, dtype: int64"
      ]
     },
     "execution_count": 7,
     "metadata": {},
     "output_type": "execute_result"
    }
   ],
   "source": [
    "df_b['city'].value_counts()"
   ]
  },
  {
   "cell_type": "markdown",
   "id": "921be99e-53b6-45b8-9c9b-f91939a6fe8c",
   "metadata": {},
   "source": [
    "Interestingly, there seems to be significantly more cities represented in the dataset than initially expected. I will have to do a deeper investigation as the majority could represent suburbs surrounding major metropolitan areas."
   ]
  },
  {
   "cell_type": "code",
   "execution_count": 39,
   "id": "3493a312-a4c5-4404-b06a-97ffdcb89ee8",
   "metadata": {},
   "outputs": [],
   "source": [
    "# Save value counts of city column to new data frame\n",
    "vc_city = df_b['city'].value_counts()"
   ]
  },
  {
   "cell_type": "code",
   "execution_count": 37,
   "id": "0eb8720e-5dd9-4cd4-8a95-2b72caf954a9",
   "metadata": {
    "scrolled": true
   },
   "outputs": [
    {
     "name": "stdout",
     "output_type": "stream",
     "text": [
      "Philadelphia        14569\n",
      "Tucson               9250\n",
      "Tampa                9050\n",
      "Indianapolis         7540\n",
      "Nashville            6971\n",
      "New Orleans          6209\n",
      "Reno                 5935\n",
      "Edmonton             5054\n",
      "Saint Louis          4827\n",
      "Santa Barbara        3829\n",
      "Boise                2937\n",
      "Clearwater           2221\n",
      "Saint Petersburg     1663\n",
      "Metairie             1643\n",
      "Sparks               1624\n",
      "Name: city, dtype: int64\n"
     ]
    }
   ],
   "source": [
    "# returns cities with more than 1500 business entries\n",
    "print(vc_city[vc_city > 1500])"
   ]
  },
  {
   "cell_type": "markdown",
   "id": "6b2abb43-16d7-45d4-8e9f-26ffc631217d",
   "metadata": {},
   "source": [
    "**State**"
   ]
  },
  {
   "cell_type": "code",
   "execution_count": 40,
   "id": "070d0c02-11c6-49b4-92ec-df9069979fb8",
   "metadata": {
    "scrolled": true
   },
   "outputs": [
    {
     "data": {
      "text/plain": [
       "PA     34039\n",
       "FL     26330\n",
       "TN     12056\n",
       "IN     11247\n",
       "MO     10913\n",
       "LA      9924\n",
       "AZ      9912\n",
       "NJ      8536\n",
       "NV      7715\n",
       "AB      5573\n",
       "CA      5203\n",
       "ID      4467\n",
       "DE      2265\n",
       "IL      2145\n",
       "TX         4\n",
       "CO         3\n",
       "WA         2\n",
       "HI         2\n",
       "MA         2\n",
       "NC         1\n",
       "UT         1\n",
       "MT         1\n",
       "MI         1\n",
       "SD         1\n",
       "XMS        1\n",
       "VI         1\n",
       "VT         1\n",
       "Name: state, dtype: int64"
      ]
     },
     "execution_count": 40,
     "metadata": {},
     "output_type": "execute_result"
    }
   ],
   "source": [
    "df_b['state'].value_counts()"
   ]
  },
  {
   "cell_type": "markdown",
   "id": "c2c359e4-18e4-4360-9748-557f118f66ce",
   "metadata": {},
   "source": [
    "Data represent various states across the US and Canada"
   ]
  },
  {
   "cell_type": "markdown",
   "id": "a9909a44-41f6-458c-aeb9-9023149ef199",
   "metadata": {},
   "source": [
    "**Postal Code**"
   ]
  },
  {
   "cell_type": "code",
   "execution_count": 21,
   "id": "35c9ea2c-957e-4ec3-93f0-35ca82d2161e",
   "metadata": {},
   "outputs": [
    {
     "data": {
      "text/plain": [
       "73"
      ]
     },
     "execution_count": 21,
     "metadata": {},
     "output_type": "execute_result"
    }
   ],
   "source": [
    "df_b['postal_code'].isna().sum()\n",
    "# null values will need to be addressed later "
   ]
  },
  {
   "cell_type": "code",
   "execution_count": 36,
   "id": "e855057a-6eb0-491e-8297-b60f62c61445",
   "metadata": {},
   "outputs": [
    {
     "data": {
      "text/plain": [
       "93101      1866\n",
       "89502      1804\n",
       "70130      1512\n",
       "19103      1362\n",
       "19107      1353\n",
       "           ... \n",
       "46211         1\n",
       "T5K 1C4       1\n",
       "T6G 0W8       1\n",
       "T5H 0R8       1\n",
       "T5J 4X6       1\n",
       "Name: postal_code, Length: 3361, dtype: int64"
      ]
     },
     "execution_count": 36,
     "metadata": {},
     "output_type": "execute_result"
    }
   ],
   "source": [
    "df_b['postal_code'].value_counts()"
   ]
  },
  {
   "cell_type": "markdown",
   "id": "973e3bd6-ae56-49d9-a536-d594f2f5c2bf",
   "metadata": {},
   "source": [
    "An interesting thing to note is that Canadian postal codes have a noticablly format; the incorporation of nonnumeric values may be another layer of difficulty when performing an analysis. "
   ]
  },
  {
   "cell_type": "markdown",
   "id": "df5ffa0f-f858-4551-b935-909602c7611c",
   "metadata": {},
   "source": [
    "## Stars \n",
    "Column contains the average of all user ratings for a business."
   ]
  },
  {
   "cell_type": "code",
   "execution_count": 43,
   "id": "c264583c-6160-4575-b20a-2fb1d7b80f8d",
   "metadata": {},
   "outputs": [
    {
     "data": {
      "text/plain": [
       "4.0    31125\n",
       "4.5    27181\n",
       "3.5    26519\n",
       "3.0    18453\n",
       "5.0    16307\n",
       "2.5    14316\n",
       "2.0     9527\n",
       "1.5     4932\n",
       "1.0     1986\n",
       "Name: stars, dtype: int64"
      ]
     },
     "execution_count": 43,
     "metadata": {},
     "output_type": "execute_result"
    }
   ],
   "source": [
    "df_b['stars'].value_counts()"
   ]
  },
  {
   "cell_type": "code",
   "execution_count": 46,
   "id": "2ac4cb66-ee0f-40e6-aee0-ae23566b4dad",
   "metadata": {},
   "outputs": [
    {
     "data": {
      "text/plain": [
       "3.5967235576603303"
      ]
     },
     "execution_count": 46,
     "metadata": {},
     "output_type": "execute_result"
    }
   ],
   "source": [
    "df_b['stars'].agg('average')"
   ]
  },
  {
   "cell_type": "markdown",
   "id": "104ad5ed-7261-453e-9602-488eb9729e09",
   "metadata": {},
   "source": [
    "Star ratings are given in increments of .5 with 4.0 the most common rating given to businesses and 3.6 the being the average rating. "
   ]
  },
  {
   "cell_type": "code",
   "execution_count": 63,
   "id": "12428ca8-2923-4f89-bdec-b1a7610b8621",
   "metadata": {},
   "outputs": [
    {
     "data": {
      "image/png": "[encoded data removed]",
      "text/plain": [
       "<Figure size 640x480 with 1 Axes>"
      ]
     },
     "metadata": {},
     "output_type": "display_data"
    }
   ],
   "source": [
    "# Histogram distribution for review ratings\n",
    "mean = round(df_b['stars'].mean(),2)\n",
    "median = df_b['stars'].median()\n",
    "\n",
    "df_b['stars'].hist(bins=9) \n",
    "plt.xlabel('Stars')\n",
    "plt.ylabel('Number of Ratings')\n",
    "plt.title('Distribution of Star Ratings')\n",
    "\n",
    "plt.axvline(mean, color='red', label=f'Mean: {mean}')\n",
    "plt.axvline(median, color='black', label=f'Median: {median}')\n",
    "plt.legend()\n",
    "\n",
    "# Save as PNG\n",
    "#plt.savefig('figures/BusinessRatingsDistribution.png')\n",
    "\n",
    "plt.show()"
   ]
  },
  {
   "cell_type": "markdown",
   "id": "1144059f-25d2-44fc-a97d-c74bc785cb97",
   "metadata": {},
   "source": [
    "Plot visualizes a slightly right-skewed distribution. Users tend to give higher ratings. "
   ]
  },
  {
   "cell_type": "markdown",
   "id": "a76b6baf-5c38-4e23-9825-8e5a4457436e",
   "metadata": {},
   "source": [
    "## Review Count \n",
    "The column contains a count of the number of user reviews for each business."
   ]
  },
  {
   "cell_type": "code",
   "execution_count": 86,
   "id": "d83b633c-2ac8-470f-bb5a-c6bb97079e05",
   "metadata": {},
   "outputs": [
    {
     "data": {
      "text/plain": [
       "<Axes: xlabel='review_count'>"
      ]
     },
     "execution_count": 86,
     "metadata": {},
     "output_type": "execute_result"
    },
    {
     "data": {
      "image/png": "[encoded data removed]",
      "text/plain": [
       "<Figure size 5000x1000 with 1 Axes>"
      ]
     },
     "metadata": {},
     "output_type": "display_data"
    }
   ],
   "source": [
    "# Boxplot of review count\n",
    "# Resource: https://www.geeksforgeeks.org/boxplot-using-seaborn-in-python/\n",
    "# Create a figure with a specific size\n",
    "plt.figure(figsize=(50, 10))\n",
    "# use to set style of background of plot\n",
    "sns.set(style=\"whitegrid\")\n",
    " \n",
    "sns.boxplot(x =df_b['review_count'])"
   ]
  },
  {
   "cell_type": "code",
   "execution_count": null,
   "id": "cc0af744-ded7-4d9c-a91f-4d8ef250b20e",
   "metadata": {},
   "outputs": [],
   "source": []
  },
  {
   "cell_type": "code",
   "execution_count": 83,
   "id": "740396b2-f45f-4d00-aafb-437cc917208e",
   "metadata": {},
   "outputs": [
    {
     "data": {
      "text/plain": [
       "44.87"
      ]
     },
     "execution_count": 83,
     "metadata": {},
     "output_type": "execute_result"
    }
   ],
   "source": [
    "round(df_b['review_count'].mean(),2)"
   ]
  },
  {
   "cell_type": "code",
   "execution_count": 85,
   "id": "343dd529-ad6d-4b49-8d18-aaa3c632f4c4",
   "metadata": {},
   "outputs": [
    {
     "data": {
      "text/plain": [
       "15.0"
      ]
     },
     "execution_count": 85,
     "metadata": {},
     "output_type": "execute_result"
    }
   ],
   "source": [
    "df_b['review_count'].median()"
   ]
  },
  {
   "cell_type": "markdown",
   "id": "e42ab19e-1d85-4854-92ac-1ab0e51e5031",
   "metadata": {},
   "source": [
    "The plot wasn't the best visual, but it did highlight the enormous range in the number of reviews a business receives. You can also get a sense of spread from the median and mean, the latter being significantly higher at 45 average reviews per business. "
   ]
  },
  {
   "cell_type": "code",
   "execution_count": null,
   "id": "069871a0-b93d-4e89-a62b-d0b143639337",
   "metadata": {},
   "outputs": [],
   "source": []
  },
  {
   "cell_type": "markdown",
   "id": "f75e0ef9-935f-4904-b417-123ca9c0447a",
   "metadata": {
    "jp-MarkdownHeadingCollapsed": true
   },
   "source": [
    "## Is Open\n",
    "The binary column indicates where a business is still open and operating or permanently closed."
   ]
  },
  {
   "cell_type": "code",
   "execution_count": 36,
   "id": "0d172f19-8659-4484-a49f-dee77fab674f",
   "metadata": {},
   "outputs": [
    {
     "data": {
      "text/plain": [
       "1    119698\n",
       "0     30648\n",
       "Name: is_open, dtype: int64"
      ]
     },
     "execution_count": 36,
     "metadata": {},
     "output_type": "execute_result"
    }
   ],
   "source": [
    "# Count of open and closed businesses\n",
    "df_b['is_open'].value_counts()"
   ]
  },
  {
   "cell_type": "code",
   "execution_count": 37,
   "id": "74793e28-fb35-4011-8450-e94ac8733029",
   "metadata": {},
   "outputs": [],
   "source": [
    "is_open_vc = df_b['is_open'].value_counts()"
   ]
  },
  {
   "cell_type": "code",
   "execution_count": null,
   "id": "c5749106-e2cd-4aca-ae5b-99a60480241a",
   "metadata": {},
   "outputs": [],
   "source": []
  },
  {
   "cell_type": "code",
   "execution_count": 64,
   "id": "e008e7f8-4ff7-4693-92a0-4b55269d3878",
   "metadata": {},
   "outputs": [
    {
     "data": {
      "image/png": "[encoded data removed]",
      "text/plain": [
       "<Figure size 640x480 with 1 Axes>"
      ]
     },
     "metadata": {},
     "output_type": "display_data"
    }
   ],
   "source": [
    "is_open_vc.plot(kind='bar', color=['lightblue', 'blue'])\n",
    "\n",
    "plt.title('Open vs Closed Businesses')\n",
    "plt.xlabel('Business Status (1: Open, 0: Closed)')\n",
    "plt.ylabel('Number of Businesses')\n",
    "plt.xticks(rotation=0)\n",
    "\n",
    "# Save as PNG\n",
    "#plt.savefig('figures/OpenVsClosedBusinesses.png')\n",
    "\n",
    "plt.show()"
   ]
  },
  {
   "cell_type": "markdown",
   "id": "84687b9d-750d-4ea3-ae65-4d7042d03a43",
   "metadata": {},
   "source": [
    "30,648 businesses are closed which accounts for 20% of the data. On the surface, you probably wouldn't want 'out-of-date' data; however, for my project, it could still be helpful to make connections between users and businesses that they visited, regardless of whether they are still open. "
   ]
  },
  {
   "cell_type": "markdown",
   "id": "89b7f25c-71aa-420c-a38c-ccf7efab658b",
   "metadata": {},
   "source": [
    "## Attributes\n",
    "The column contains a dictionary containing a set of attributes that are different for each business category and the boolean value represents whether the business offers that attribute or not."
   ]
  },
  {
   "cell_type": "code",
   "execution_count": null,
   "id": "145aa742-7f14-4784-a86d-6ce25426d6bd",
   "metadata": {},
   "outputs": [],
   "source": [
    "# May drop, it may be too computationally expensive to flatten "
   ]
  },
  {
   "cell_type": "markdown",
   "id": "8425288d-b40a-43f2-90db-bd495971ea93",
   "metadata": {},
   "source": [
    "## Categories\n",
    "[Yelp Categories](https://blog.yelp.com/businesses/yelp_category_list/)<br/>\n",
    "The column contains a list of categories the business falls under; for more info, click the link above, where Yelp provides a breakdown of their category organization. "
   ]
  },
  {
   "cell_type": "code",
   "execution_count": 31,
   "id": "aa2198fb-03d3-4492-81c0-267a7bcf81b9",
   "metadata": {},
   "outputs": [
    {
     "data": {
      "text/plain": [
       "29"
      ]
     },
     "execution_count": 31,
     "metadata": {},
     "output_type": "execute_result"
    }
   ],
   "source": [
    "# Check for null values\n",
    "df_b['categories'].isna().sum()"
   ]
  },
  {
   "cell_type": "markdown",
   "id": "ef086602-d917-472b-801a-9870d31b5037",
   "metadata": {},
   "source": [
    "I'll go ahead and drop these rows from the data frame. Filtering businesses is essential for modeling, these empty values won't help. "
   ]
  },
  {
   "cell_type": "code",
   "execution_count": 32,
   "id": "ef050a63-f3ca-43f8-99a9-030add387bc2",
   "metadata": {},
   "outputs": [],
   "source": [
    "# dropping rows with empty category data\n",
    "df_b.dropna(subset=['categories'], inplace=True)"
   ]
  },
  {
   "cell_type": "code",
   "execution_count": 33,
   "id": "803ad3cb-fff4-4b30-a75b-ca842c9fc9d7",
   "metadata": {},
   "outputs": [
    {
     "data": {
      "text/plain": [
       "0"
      ]
     },
     "execution_count": 33,
     "metadata": {},
     "output_type": "execute_result"
    }
   ],
   "source": [
    "df_b['categories'].isna().sum()"
   ]
  },
  {
   "cell_type": "code",
   "execution_count": 41,
   "id": "87f2a5c3-7c5e-43b4-a0f4-cb4a4eb1abfc",
   "metadata": {},
   "outputs": [],
   "source": [
    "# Need to flatten or explode subcategories into there own column "
   ]
  },
  {
   "cell_type": "code",
   "execution_count": null,
   "id": "5c9efdb7-845d-4fb4-9fc1-c563e483ef68",
   "metadata": {},
   "outputs": [],
   "source": [
    "# Need to drop categories not relevant for travel"
   ]
  },
  {
   "cell_type": "code",
   "execution_count": 5,
   "id": "c47489a0-123c-4e9d-bf86-1450ceddef78",
   "metadata": {},
   "outputs": [
    {
     "name": "stdout",
     "output_type": "stream",
     "text": [
      "               Category  Count\n",
      "0           Restaurants  52268\n",
      "1                  Food  14533\n",
      "5             Nightlife  12281\n",
      "2           Active Life   7687\n",
      "4       Hotels & Travel   5857\n",
      "3  Arts & Entertainment   5434\n"
     ]
    }
   ],
   "source": [
    "# initialize list using counts of each main category\n",
    "category_counts = [['Restaurants', df_b['categories'].str.contains(\"Restaurants\").fillna(False).sum()], \n",
    "        ['Food', df_b['categories'].str.contains(\", Food,\").fillna(False).sum()], \n",
    "        ['Active Life', df_b['categories'].str.contains(\"Active Life\").fillna(False).sum()],\n",
    "        ['Arts & Entertainment', df_b['categories'].str.contains(\"Arts & Entertainment\").fillna(False).sum()],\n",
    "        ['Hotels & Travel', df_b['categories'].str.contains(\"Hotels & Travel\").fillna(False).sum()],\n",
    "        ['Nightlife', df_b['categories'].str.contains(\"Nightlife\").fillna(False).sum()]]\n",
    " \n",
    "# Create the pandas DataFrame\n",
    "df_categories = pd.DataFrame(category_counts, columns=['Category', 'Count'])\n",
    "\n",
    "# Sort Values\n",
    "df_categories = df_categories.sort_values('Count', ascending=False)\n",
    "# print dataframe.\n",
    "print(df_categories)"
   ]
  },
  {
   "cell_type": "code",
   "execution_count": 67,
   "id": "3f78c1a0-d644-4c03-9bc1-677d53ef4e9a",
   "metadata": {},
   "outputs": [
    {
     "data": {
      "text/plain": [
       "98060"
      ]
     },
     "execution_count": 67,
     "metadata": {},
     "output_type": "execute_result"
    }
   ],
   "source": [
    "# Get a total count of all travel related businesses\n",
    "df_categories['Count'].sum()"
   ]
  },
  {
   "cell_type": "code",
   "execution_count": 75,
   "id": "15c13e62-94f3-41e2-9cff-150d7ff191b0",
   "metadata": {
    "scrolled": true
   },
   "outputs": [
    {
     "data": {
      "image/png": "[encoded data removed]",
      "text/plain": [
       "<Figure size 1000x500 with 1 Axes>"
      ]
     },
     "metadata": {},
     "output_type": "display_data"
    }
   ],
   "source": [
    "df_categories.plot('Category', 'Count', kind='bar', width=.75, figsize=(10,5))\n",
    "\n",
    "# Rotating X-axis labels\n",
    "plt.xticks(rotation = -60)\n",
    " \n",
    "# Setting title and axis labels\n",
    "plt.title('Businesses per Category')\n",
    "plt.xlabel(\"Categories\")\n",
    "plt.ylabel(\"Number of Businesses\")\n",
    "\n",
    "# Save bar chart to file\n",
    "plt.savefig('figures/BusinessMainCategoriesChart.png', bbox_inches='tight')\n",
    " \n",
    "# Show plot\n",
    "plt.show()"
   ]
  },
  {
   "cell_type": "markdown",
   "id": "47026cb6-46b0-4c8c-960a-03e5ce7214d7",
   "metadata": {},
   "source": [
    "These six categories represent the businesses you typically would visit when traveling. <br>\n",
    "Restaurants are by far the most represented business category, this category is further broken down by the type of cuisine served. The food category is a catch-all category for any food-related business that isn't a restaurant—places like bakeries, coffee shops, pastry shops, food trucks, etc. The nightlife category contains businesses such as bars, comedy clubs, dance clubs, etc. Active life includes Amusement parks, experiences, parks, zoos, etc. The hotels & travel category can include hotels, hostels, tours, vacation rentals, etc. Lastly, the least represented group can include places such as cultural centers, festivals, museums, etc. In total, I have almost 100,000 businesses I can use for the model. "
   ]
  },
  {
   "cell_type": "markdown",
   "id": "21d0a48e-02ea-4b1e-9d86-fb4450fcea67",
   "metadata": {},
   "source": [
    "## Hours\n",
    "The column contains a dictionary of business hours by day of the week."
   ]
  },
  {
   "cell_type": "code",
   "execution_count": null,
   "id": "4344c3fc-e8f5-479b-9c13-203c65d20a3b",
   "metadata": {},
   "outputs": [],
   "source": []
  },
  {
   "cell_type": "markdown",
   "id": "eca252dd-e810-48c9-b4de-d832eb7d72bf",
   "metadata": {
    "jp-MarkdownHeadingCollapsed": true
   },
   "source": [
    "# User Data Set\n",
    "#### Data Dictionary\n",
    "- **user_id**  \tUnique identifier for each user  \t**string**\n",
    "- **name**\t        Name of user\t                **string**\n",
    "- **review_count**\tNumber of reviews by user\t**int64**\n",
    "- **yelping_since**\tDate account opened\t**Datetime**\n",
    "- **useful**\tCount of how many other users found current user reviews useful\t**int64**\n",
    "- **funny**\tCount of how many other users found current user reviews funny\t**int64**\n",
    "- **cool**\tCount of how many other users found current user reviews cool\t**int64**\n",
    "- **elite**\tyears user was labeled as elite reviewer\t**string**\n",
    "- **friends**\tlist of friends user ids\t**string**\n",
    "- **fans**\tnumber of other users considered fans\t**int64**\n",
    "- **average_stars**\taverage number of stars given to businesses\t**float64**\n",
    "- **compliment_hot**\tcompliments received labeled as hot\t**int64**\n",
    "- **compliment_more**\tcompliments received labeled as more\t**int64**\n",
    "- **compliment_profile**\tcompliments received labeled as profile\t**int64**\n",
    "- **compliment_cute**\tcompliments received labeled as cute\t**int64**\n",
    "- **compliment_list**\tcompliments received labeled as list\t**int64**\n",
    "- **compliment_note**\tcompliments received labeled as note\t**int64**\n",
    "- **compliment_plain**\tcompliments received labeled as plain\t**int64**\n",
    "- **compliment_cool**\tcompliments received labeled as cool\t**int64**\n",
    "- **compliment_funny**\tcompliments received labeled as funny\t**int64**\n",
    "- **compliment_writer**\tcompliments received labeled as writer\t**int64**\n",
    "- **compliment_photos**\tcompliments received labeled as photos\t**int64**"
   ]
  },
  {
   "cell_type": "code",
   "execution_count": 3,
   "id": "2764d565-d988-4146-813c-8d6183cfa774",
   "metadata": {},
   "outputs": [],
   "source": [
    "# Reading CSV file into notebook and saving it to pandas df\n",
    "df_u = pd.read_csv('data/yelp_user.csv', index_col=0)"
   ]
  },
  {
   "cell_type": "code",
   "execution_count": 33,
   "id": "fbfddc1b-74e9-4674-81ab-46c913c57d7d",
   "metadata": {
    "scrolled": true
   },
   "outputs": [
    {
     "ename": "NameError",
     "evalue": "name 'df_u' is not defined",
     "output_type": "error",
     "traceback": [
      "\u001b[0;31m---------------------------------------------------------------------------\u001b[0m",
      "\u001b[0;31mNameError\u001b[0m                                 Traceback (most recent call last)",
      "Cell \u001b[0;32mIn[33], line 2\u001b[0m\n\u001b[1;32m      1\u001b[0m \u001b[38;5;66;03m# Quick peak into data \u001b[39;00m\n\u001b[0;32m----> 2\u001b[0m df_u\u001b[38;5;241m.\u001b[39mhead()\n",
      "\u001b[0;31mNameError\u001b[0m: name 'df_u' is not defined"
     ]
    }
   ],
   "source": [
    "# Quick peak into data \n",
    "df_u.head()"
   ]
  },
  {
   "cell_type": "code",
   "execution_count": 4,
   "id": "c4068070-e651-4779-911c-be6c367b08f1",
   "metadata": {
    "scrolled": true
   },
   "outputs": [
    {
     "name": "stdout",
     "output_type": "stream",
     "text": [
      "<class 'pandas.core.frame.DataFrame'>\n",
      "Int64Index: 1987897 entries, 0 to 1987896\n",
      "Data columns (total 21 columns):\n",
      " #   Column              Dtype  \n",
      "---  ------              -----  \n",
      " 0   user_id             object \n",
      " 1   name                object \n",
      " 2   review_count        int64  \n",
      " 3   yelping_since       object \n",
      " 4   useful              int64  \n",
      " 5   funny               int64  \n",
      " 6   cool                int64  \n",
      " 7   elite               object \n",
      " 8   fans                int64  \n",
      " 9   average_stars       float64\n",
      " 10  compliment_hot      int64  \n",
      " 11  compliment_more     int64  \n",
      " 12  compliment_profile  int64  \n",
      " 13  compliment_cute     int64  \n",
      " 14  compliment_list     int64  \n",
      " 15  compliment_note     int64  \n",
      " 16  compliment_plain    int64  \n",
      " 17  compliment_cool     int64  \n",
      " 18  compliment_funny    int64  \n",
      " 19  compliment_writer   int64  \n",
      " 20  compliment_photos   int64  \n",
      "dtypes: float64(1), int64(16), object(4)\n",
      "memory usage: 333.7+ MB\n"
     ]
    }
   ],
   "source": [
    "# Gives me a a quick look at the data types for each column, number of entries, and columns.\n",
    "df_u.info()"
   ]
  },
  {
   "cell_type": "code",
   "execution_count": 153,
   "id": "340f89e7-b1f9-4ec9-9e1a-89249aa08f41",
   "metadata": {
    "scrolled": true
   },
   "outputs": [
    {
     "data": {
      "text/plain": [
       "user_id                     0\n",
       "name                        8\n",
       "review_count                0\n",
       "yelping_since               0\n",
       "useful                      0\n",
       "funny                       0\n",
       "cool                        0\n",
       "elite                 1896699\n",
       "fans                        0\n",
       "average_stars               0\n",
       "compliment_hot              0\n",
       "compliment_more             0\n",
       "compliment_profile          0\n",
       "compliment_cute             0\n",
       "compliment_list             0\n",
       "compliment_note             0\n",
       "compliment_plain            0\n",
       "compliment_cool             0\n",
       "compliment_funny            0\n",
       "compliment_writer           0\n",
       "compliment_photos           0\n",
       "dtype: int64"
      ]
     },
     "execution_count": 153,
     "metadata": {},
     "output_type": "execute_result"
    }
   ],
   "source": [
    "# Quick check to count the number of null values per column\n",
    "df_u.isna().sum()"
   ]
  },
  {
   "cell_type": "code",
   "execution_count": 164,
   "id": "89655a39-e53c-4266-be1e-920c36ccf6e5",
   "metadata": {
    "scrolled": true
   },
   "outputs": [
    {
     "data": {
      "text/plain": [
       "user_id               0.0\n",
       "name                  0.0\n",
       "review_count          0.0\n",
       "yelping_since         0.0\n",
       "useful                0.0\n",
       "funny                 0.0\n",
       "cool                  0.0\n",
       "elite                 0.0\n",
       "fans                  0.0\n",
       "average_stars         0.0\n",
       "compliment_hot        0.0\n",
       "compliment_more       0.0\n",
       "compliment_profile    0.0\n",
       "compliment_cute       0.0\n",
       "compliment_list       0.0\n",
       "compliment_note       0.0\n",
       "compliment_plain      0.0\n",
       "compliment_cool       0.0\n",
       "compliment_funny      0.0\n",
       "compliment_writer     0.0\n",
       "compliment_photos     0.0\n",
       "dtype: float64"
      ]
     },
     "execution_count": 164,
     "metadata": {},
     "output_type": "execute_result"
    }
   ],
   "source": [
    "# Check for duplicate rows \n",
    "df_u[df_u.duplicated()].sum()"
   ]
  },
  {
   "cell_type": "markdown",
   "id": "1aa77cc9-1f0d-4fad-9cf4-08815c6499a1",
   "metadata": {
    "jp-MarkdownHeadingCollapsed": true
   },
   "source": [
    "## Users\n",
    "First column is a unique identifier assigned by Yelp for each user. Second column provides the users first name."
   ]
  },
  {
   "cell_type": "code",
   "execution_count": 12,
   "id": "26f0350c-ebc1-470d-ad59-e4777308c217",
   "metadata": {},
   "outputs": [
    {
     "data": {
      "text/plain": [
       "8"
      ]
     },
     "execution_count": 12,
     "metadata": {},
     "output_type": "execute_result"
    }
   ],
   "source": [
    "df_u['name'].isna().sum()\n",
    "# May need to drop 8 rows that are missing user names"
   ]
  },
  {
   "cell_type": "code",
   "execution_count": 13,
   "id": "71940ad9-8aff-447a-9546-0ed8aceaf1dd",
   "metadata": {
    "scrolled": true
   },
   "outputs": [
    {
     "data": {
      "text/html": [
       "<div>\n",
       "<style scoped>\n",
       "    .dataframe tbody tr th:only-of-type {\n",
       "        vertical-align: middle;\n",
       "    }\n",
       "\n",
       "    .dataframe tbody tr th {\n",
       "        vertical-align: top;\n",
       "    }\n",
       "\n",
       "    .dataframe thead th {\n",
       "        text-align: right;\n",
       "    }\n",
       "</style>\n",
       "<table border=\"1\" class=\"dataframe\">\n",
       "  <thead>\n",
       "    <tr style=\"text-align: right;\">\n",
       "      <th></th>\n",
       "      <th>user_id</th>\n",
       "      <th>name</th>\n",
       "      <th>review_count</th>\n",
       "      <th>yelping_since</th>\n",
       "      <th>useful</th>\n",
       "      <th>funny</th>\n",
       "      <th>cool</th>\n",
       "      <th>elite</th>\n",
       "      <th>fans</th>\n",
       "      <th>average_stars</th>\n",
       "      <th>...</th>\n",
       "      <th>compliment_more</th>\n",
       "      <th>compliment_profile</th>\n",
       "      <th>compliment_cute</th>\n",
       "      <th>compliment_list</th>\n",
       "      <th>compliment_note</th>\n",
       "      <th>compliment_plain</th>\n",
       "      <th>compliment_cool</th>\n",
       "      <th>compliment_funny</th>\n",
       "      <th>compliment_writer</th>\n",
       "      <th>compliment_photos</th>\n",
       "    </tr>\n",
       "  </thead>\n",
       "  <tbody>\n",
       "    <tr>\n",
       "      <th>346342</th>\n",
       "      <td>jL7vRW4ipQV1ys1g-AZSng</td>\n",
       "      <td>NaN</td>\n",
       "      <td>8</td>\n",
       "      <td>2011-05-04 23:46:26</td>\n",
       "      <td>3</td>\n",
       "      <td>1</td>\n",
       "      <td>1</td>\n",
       "      <td>NaN</td>\n",
       "      <td>0</td>\n",
       "      <td>4.38</td>\n",
       "      <td>...</td>\n",
       "      <td>0</td>\n",
       "      <td>0</td>\n",
       "      <td>0</td>\n",
       "      <td>0</td>\n",
       "      <td>0</td>\n",
       "      <td>0</td>\n",
       "      <td>0</td>\n",
       "      <td>0</td>\n",
       "      <td>0</td>\n",
       "      <td>0</td>\n",
       "    </tr>\n",
       "    <tr>\n",
       "      <th>888148</th>\n",
       "      <td>znZjQUJC8RbUYSsDz8uKzQ</td>\n",
       "      <td>NaN</td>\n",
       "      <td>4</td>\n",
       "      <td>2013-06-13 10:36:31</td>\n",
       "      <td>1</td>\n",
       "      <td>0</td>\n",
       "      <td>0</td>\n",
       "      <td>NaN</td>\n",
       "      <td>0</td>\n",
       "      <td>3.25</td>\n",
       "      <td>...</td>\n",
       "      <td>0</td>\n",
       "      <td>0</td>\n",
       "      <td>0</td>\n",
       "      <td>0</td>\n",
       "      <td>0</td>\n",
       "      <td>0</td>\n",
       "      <td>0</td>\n",
       "      <td>0</td>\n",
       "      <td>0</td>\n",
       "      <td>0</td>\n",
       "    </tr>\n",
       "    <tr>\n",
       "      <th>1251800</th>\n",
       "      <td>rkgt2TDkIYnk_QpDpSoXnA</td>\n",
       "      <td>NaN</td>\n",
       "      <td>5</td>\n",
       "      <td>2013-07-28 17:10:40</td>\n",
       "      <td>9</td>\n",
       "      <td>7</td>\n",
       "      <td>1</td>\n",
       "      <td>NaN</td>\n",
       "      <td>0</td>\n",
       "      <td>1.83</td>\n",
       "      <td>...</td>\n",
       "      <td>0</td>\n",
       "      <td>0</td>\n",
       "      <td>0</td>\n",
       "      <td>0</td>\n",
       "      <td>1</td>\n",
       "      <td>1</td>\n",
       "      <td>0</td>\n",
       "      <td>0</td>\n",
       "      <td>0</td>\n",
       "      <td>0</td>\n",
       "    </tr>\n",
       "    <tr>\n",
       "      <th>1516282</th>\n",
       "      <td>mvDQ8dj2nZyfELVgsj9Y8g</td>\n",
       "      <td>NaN</td>\n",
       "      <td>1</td>\n",
       "      <td>2012-09-17 15:11:23</td>\n",
       "      <td>0</td>\n",
       "      <td>0</td>\n",
       "      <td>0</td>\n",
       "      <td>NaN</td>\n",
       "      <td>0</td>\n",
       "      <td>5.00</td>\n",
       "      <td>...</td>\n",
       "      <td>0</td>\n",
       "      <td>0</td>\n",
       "      <td>0</td>\n",
       "      <td>0</td>\n",
       "      <td>0</td>\n",
       "      <td>0</td>\n",
       "      <td>0</td>\n",
       "      <td>0</td>\n",
       "      <td>0</td>\n",
       "      <td>0</td>\n",
       "    </tr>\n",
       "    <tr>\n",
       "      <th>1568939</th>\n",
       "      <td>ny_zgxiINq-G4ek0atyeVQ</td>\n",
       "      <td>NaN</td>\n",
       "      <td>4</td>\n",
       "      <td>2011-09-09 06:18:50</td>\n",
       "      <td>7</td>\n",
       "      <td>1</td>\n",
       "      <td>1</td>\n",
       "      <td>NaN</td>\n",
       "      <td>0</td>\n",
       "      <td>3.50</td>\n",
       "      <td>...</td>\n",
       "      <td>0</td>\n",
       "      <td>0</td>\n",
       "      <td>0</td>\n",
       "      <td>0</td>\n",
       "      <td>0</td>\n",
       "      <td>0</td>\n",
       "      <td>0</td>\n",
       "      <td>0</td>\n",
       "      <td>0</td>\n",
       "      <td>0</td>\n",
       "    </tr>\n",
       "    <tr>\n",
       "      <th>1580519</th>\n",
       "      <td>xtXs7f8kFEjdZJ7CF5gtDA</td>\n",
       "      <td>NaN</td>\n",
       "      <td>1</td>\n",
       "      <td>2012-08-11 06:46:51</td>\n",
       "      <td>5</td>\n",
       "      <td>1</td>\n",
       "      <td>0</td>\n",
       "      <td>NaN</td>\n",
       "      <td>0</td>\n",
       "      <td>1.00</td>\n",
       "      <td>...</td>\n",
       "      <td>0</td>\n",
       "      <td>0</td>\n",
       "      <td>0</td>\n",
       "      <td>0</td>\n",
       "      <td>0</td>\n",
       "      <td>1</td>\n",
       "      <td>0</td>\n",
       "      <td>0</td>\n",
       "      <td>0</td>\n",
       "      <td>0</td>\n",
       "    </tr>\n",
       "    <tr>\n",
       "      <th>1722449</th>\n",
       "      <td>YQ3GIzXYGw0E7SqWxhRLKA</td>\n",
       "      <td>NaN</td>\n",
       "      <td>3</td>\n",
       "      <td>2016-06-28 13:08:03</td>\n",
       "      <td>1</td>\n",
       "      <td>0</td>\n",
       "      <td>0</td>\n",
       "      <td>NaN</td>\n",
       "      <td>0</td>\n",
       "      <td>3.67</td>\n",
       "      <td>...</td>\n",
       "      <td>0</td>\n",
       "      <td>0</td>\n",
       "      <td>0</td>\n",
       "      <td>0</td>\n",
       "      <td>0</td>\n",
       "      <td>0</td>\n",
       "      <td>0</td>\n",
       "      <td>0</td>\n",
       "      <td>0</td>\n",
       "      <td>0</td>\n",
       "    </tr>\n",
       "    <tr>\n",
       "      <th>1968196</th>\n",
       "      <td>oL-7HEGiaffWfCeB0Kwj0g</td>\n",
       "      <td>NaN</td>\n",
       "      <td>1</td>\n",
       "      <td>2011-10-25 17:47:58</td>\n",
       "      <td>1</td>\n",
       "      <td>0</td>\n",
       "      <td>0</td>\n",
       "      <td>NaN</td>\n",
       "      <td>0</td>\n",
       "      <td>5.00</td>\n",
       "      <td>...</td>\n",
       "      <td>0</td>\n",
       "      <td>0</td>\n",
       "      <td>0</td>\n",
       "      <td>0</td>\n",
       "      <td>0</td>\n",
       "      <td>0</td>\n",
       "      <td>0</td>\n",
       "      <td>0</td>\n",
       "      <td>0</td>\n",
       "      <td>0</td>\n",
       "    </tr>\n",
       "  </tbody>\n",
       "</table>\n",
       "<p>8 rows × 21 columns</p>\n",
       "</div>"
      ],
      "text/plain": [
       "                        user_id name  review_count        yelping_since  \\\n",
       "346342   jL7vRW4ipQV1ys1g-AZSng  NaN             8  2011-05-04 23:46:26   \n",
       "888148   znZjQUJC8RbUYSsDz8uKzQ  NaN             4  2013-06-13 10:36:31   \n",
       "1251800  rkgt2TDkIYnk_QpDpSoXnA  NaN             5  2013-07-28 17:10:40   \n",
       "1516282  mvDQ8dj2nZyfELVgsj9Y8g  NaN             1  2012-09-17 15:11:23   \n",
       "1568939  ny_zgxiINq-G4ek0atyeVQ  NaN             4  2011-09-09 06:18:50   \n",
       "1580519  xtXs7f8kFEjdZJ7CF5gtDA  NaN             1  2012-08-11 06:46:51   \n",
       "1722449  YQ3GIzXYGw0E7SqWxhRLKA  NaN             3  2016-06-28 13:08:03   \n",
       "1968196  oL-7HEGiaffWfCeB0Kwj0g  NaN             1  2011-10-25 17:47:58   \n",
       "\n",
       "         useful  funny  cool elite  fans  average_stars  ...  compliment_more  \\\n",
       "346342        3      1     1   NaN     0           4.38  ...                0   \n",
       "888148        1      0     0   NaN     0           3.25  ...                0   \n",
       "1251800       9      7     1   NaN     0           1.83  ...                0   \n",
       "1516282       0      0     0   NaN     0           5.00  ...                0   \n",
       "1568939       7      1     1   NaN     0           3.50  ...                0   \n",
       "1580519       5      1     0   NaN     0           1.00  ...                0   \n",
       "1722449       1      0     0   NaN     0           3.67  ...                0   \n",
       "1968196       1      0     0   NaN     0           5.00  ...                0   \n",
       "\n",
       "         compliment_profile  compliment_cute  compliment_list  \\\n",
       "346342                    0                0                0   \n",
       "888148                    0                0                0   \n",
       "1251800                   0                0                0   \n",
       "1516282                   0                0                0   \n",
       "1568939                   0                0                0   \n",
       "1580519                   0                0                0   \n",
       "1722449                   0                0                0   \n",
       "1968196                   0                0                0   \n",
       "\n",
       "         compliment_note  compliment_plain  compliment_cool  compliment_funny  \\\n",
       "346342                 0                 0                0                 0   \n",
       "888148                 0                 0                0                 0   \n",
       "1251800                1                 1                0                 0   \n",
       "1516282                0                 0                0                 0   \n",
       "1568939                0                 0                0                 0   \n",
       "1580519                0                 1                0                 0   \n",
       "1722449                0                 0                0                 0   \n",
       "1968196                0                 0                0                 0   \n",
       "\n",
       "         compliment_writer  compliment_photos  \n",
       "346342                   0                  0  \n",
       "888148                   0                  0  \n",
       "1251800                  0                  0  \n",
       "1516282                  0                  0  \n",
       "1568939                  0                  0  \n",
       "1580519                  0                  0  \n",
       "1722449                  0                  0  \n",
       "1968196                  0                  0  \n",
       "\n",
       "[8 rows x 21 columns]"
      ]
     },
     "execution_count": 13,
     "metadata": {},
     "output_type": "execute_result"
    }
   ],
   "source": [
    "df_u[df_u['name'].isna()]"
   ]
  },
  {
   "cell_type": "markdown",
   "id": "388f9ec5-7733-4562-b2ff-b13dc942a9d6",
   "metadata": {},
   "source": [
    "Dropping these eight rows shouldn't impact analysis"
   ]
  },
  {
   "cell_type": "markdown",
   "id": "9eb1d2bf-69f1-42a7-9d36-484c845a5958",
   "metadata": {
    "jp-MarkdownHeadingCollapsed": true
   },
   "source": [
    "## Review Count\n",
    "Column contains a count of how many reviews a user has provided."
   ]
  },
  {
   "cell_type": "code",
   "execution_count": null,
   "id": "2806b572-c2ea-4d1b-9d55-dff6b1d8d021",
   "metadata": {},
   "outputs": [],
   "source": []
  },
  {
   "cell_type": "code",
   "execution_count": 19,
   "id": "3b34602f-7cea-413e-bfad-4bc79c9c6a69",
   "metadata": {
    "scrolled": true
   },
   "outputs": [
    {
     "data": {
      "image/png": "[encoded data removed]",
      "text/plain": [
       "<Figure size 640x480 with 1 Axes>"
      ]
     },
     "metadata": {},
     "output_type": "display_data"
    }
   ],
   "source": [
    "# Histogram distribution for review counts for all users\n",
    "mean = round(df_u['review_count'].mean(),2)\n",
    "median = df_u['review_count'].median()\n",
    "\n",
    "df_u['review_count'].hist() \n",
    "plt.xlabel('review_count')\n",
    "plt.ylabel('Number of Reviews')\n",
    "plt.title('Distribution of review_count')\n",
    "\n",
    "plt.axvline(mean, color='red', label=f'Mean: {mean}')\n",
    "plt.axvline(median, color='black', label=f'Median: {median}')\n",
    "plt.legend()\n",
    "\n",
    "plt.show()"
   ]
  },
  {
   "cell_type": "code",
   "execution_count": 16,
   "id": "bc6ab104-80c6-40c3-ab8f-c8d41b5079b6",
   "metadata": {},
   "outputs": [
    {
     "data": {
      "text/plain": [
       "<Axes: xlabel='review_count'>"
      ]
     },
     "execution_count": 16,
     "metadata": {},
     "output_type": "execute_result"
    },
    {
     "data": {
      "image/png": "[encoded data removed]",
      "text/plain": [
       "<Figure size 5000x1000 with 1 Axes>"
      ]
     },
     "metadata": {},
     "output_type": "display_data"
    }
   ],
   "source": [
    "# Create a figure with a specific size\n",
    "plt.figure(figsize=(50, 10))\n",
    "# use to set style of background of plot\n",
    "sns.set(style=\"whitegrid\")\n",
    " \n",
    "sns.boxplot(x =df_u['review_count'])"
   ]
  },
  {
   "cell_type": "code",
   "execution_count": 20,
   "id": "2bc3b580-3fa8-4e70-afcb-8ba0a0201adc",
   "metadata": {},
   "outputs": [
    {
     "name": "stdout",
     "output_type": "stream",
     "text": [
      "23.39\n",
      "5.0\n"
     ]
    }
   ],
   "source": [
    "print(mean)\n",
    "print(median)"
   ]
  },
  {
   "cell_type": "markdown",
   "id": "a1bedc6a-9ca0-4574-ad80-27236cd83a58",
   "metadata": {},
   "source": [
    "Similar to the amount of reviews businesses receive, in this data set you can clearly see some power users who are very prolific reviewers, but the vast majority of the amount of user reviews lie somewhere in between the median and the mean"
   ]
  },
  {
   "cell_type": "markdown",
   "id": "af2ad296-6a4e-4642-bd49-ed345ec9d23b",
   "metadata": {
    "jp-MarkdownHeadingCollapsed": true
   },
   "source": [
    "## Yelping Since\n",
    "Column contains the date the user created their Yelp account."
   ]
  },
  {
   "cell_type": "code",
   "execution_count": null,
   "id": "7b16c1ae-3fa1-4f8e-bf50-815cd1bce3f7",
   "metadata": {},
   "outputs": [],
   "source": [
    "# Possibly unrelated to my goal but could preform a time series of register user on the site and spot any trends"
   ]
  },
  {
   "cell_type": "code",
   "execution_count": 17,
   "id": "3c7fefa4-035e-49a3-9c96-e7c657c8ef7f",
   "metadata": {},
   "outputs": [],
   "source": [
    "# Convert to date time\n",
    "df_u['yelping_since'] = pd.to_datetime(df_u['yelping_since'])"
   ]
  },
  {
   "cell_type": "code",
   "execution_count": 18,
   "id": "f6c94708-7f5e-43f8-beb0-bdc9899f8284",
   "metadata": {
    "scrolled": true
   },
   "outputs": [
    {
     "name": "stdout",
     "output_type": "stream",
     "text": [
      "<class 'pandas.core.frame.DataFrame'>\n",
      "Int64Index: 1987897 entries, 0 to 1987896\n",
      "Data columns (total 21 columns):\n",
      " #   Column              Dtype         \n",
      "---  ------              -----         \n",
      " 0   user_id             object        \n",
      " 1   name                object        \n",
      " 2   review_count        int64         \n",
      " 3   yelping_since       datetime64[ns]\n",
      " 4   useful              int64         \n",
      " 5   funny               int64         \n",
      " 6   cool                int64         \n",
      " 7   elite               object        \n",
      " 8   fans                int64         \n",
      " 9   average_stars       float64       \n",
      " 10  compliment_hot      int64         \n",
      " 11  compliment_more     int64         \n",
      " 12  compliment_profile  int64         \n",
      " 13  compliment_cute     int64         \n",
      " 14  compliment_list     int64         \n",
      " 15  compliment_note     int64         \n",
      " 16  compliment_plain    int64         \n",
      " 17  compliment_cool     int64         \n",
      " 18  compliment_funny    int64         \n",
      " 19  compliment_writer   int64         \n",
      " 20  compliment_photos   int64         \n",
      "dtypes: datetime64[ns](1), float64(1), int64(16), object(3)\n",
      "memory usage: 333.7+ MB\n"
     ]
    }
   ],
   "source": [
    "# Verify changes\n",
    "df_u.info()"
   ]
  },
  {
   "cell_type": "markdown",
   "id": "7b6686c9-11f9-4f99-8733-a905c1f8fd4c",
   "metadata": {
    "jp-MarkdownHeadingCollapsed": true
   },
   "source": [
    "## Review Feedback\n",
    "Columns useful, funny, and cool all provide a count of feedback received from other users regarding their written reviews."
   ]
  },
  {
   "cell_type": "code",
   "execution_count": null,
   "id": "a08a91a9-6def-4d30-a140-2acd6ed05aae",
   "metadata": {},
   "outputs": [],
   "source": [
    "# Visualize responses to user reviews "
   ]
  },
  {
   "cell_type": "code",
   "execution_count": 26,
   "id": "034d9382-ffa6-49c7-87b6-dd2e4cf4be51",
   "metadata": {},
   "outputs": [],
   "source": [
    "feeback_sum = df_u[['useful','funny','cool']].sum()"
   ]
  },
  {
   "cell_type": "code",
   "execution_count": 27,
   "id": "6fed2020-65e3-4788-a189-2c33c3ea5150",
   "metadata": {},
   "outputs": [
    {
     "data": {
      "text/plain": [
       "useful    84080758\n",
       "funny     33735678\n",
       "cool      47297862\n",
       "dtype: int64"
      ]
     },
     "execution_count": 27,
     "metadata": {},
     "output_type": "execute_result"
    }
   ],
   "source": [
    "feeback_sum"
   ]
  },
  {
   "cell_type": "code",
   "execution_count": 33,
   "id": "06d1e0db-786c-42bc-b773-4874e5cf1e99",
   "metadata": {},
   "outputs": [
    {
     "data": {
      "image/png": "[encoded data removed]",
      "text/plain": [
       "<Figure size 640x480 with 1 Axes>"
      ]
     },
     "metadata": {},
     "output_type": "display_data"
    }
   ],
   "source": [
    "feeback_sum.plot.bar()\n",
    "\n",
    "# Rotating X-axis labels\n",
    "plt.xticks(rotation = 0)\n",
    " \n",
    "# Setting title and axis labels\n",
    "plt.title('Review Feeback')\n",
    "plt.xlabel(\"Feedback\")\n",
    "plt.ylabel(\"Count of feedback\")\n",
    " \n",
    "# Show plot\n",
    "plt.show()"
   ]
  },
  {
   "cell_type": "markdown",
   "id": "38694b8c-db2f-4c87-9a98-e6d982bcaf45",
   "metadata": {},
   "source": [
    "## Elite \n",
    "List of years a user was considered an 'elite' reviewer"
   ]
  },
  {
   "cell_type": "code",
   "execution_count": null,
   "id": "67a76cfd-8a1e-45c9-a516-e8062f999c73",
   "metadata": {},
   "outputs": [],
   "source": [
    "# May drop this column not sure is this will add value "
   ]
  },
  {
   "cell_type": "markdown",
   "id": "8590bd8f-eb47-4058-ae0d-0e3d519161a8",
   "metadata": {},
   "source": [
    "## Friends - Dropped\n",
    "The column contains a list of other user IDs who have connected as friends within the Yelp platform.\n",
    "The column was deleted before import to reduce the size of the data for computational efficiency. "
   ]
  },
  {
   "cell_type": "markdown",
   "id": "a7c0dd7c-6758-429f-8101-07cfae48f31f",
   "metadata": {},
   "source": [
    "## Fans\n",
    "Column contains a count of how many fans each user has. "
   ]
  },
  {
   "cell_type": "code",
   "execution_count": null,
   "id": "79f62a49-b49e-4ede-a3b0-2f49e18cea91",
   "metadata": {},
   "outputs": [],
   "source": [
    "# Histogram of distribution of fans"
   ]
  },
  {
   "cell_type": "markdown",
   "id": "e9410724-29bc-44b4-aeaf-405c66495199",
   "metadata": {
    "jp-MarkdownHeadingCollapsed": true
   },
   "source": [
    "## Average Stars\n",
    "Column contains average of all user ratings for businesses  "
   ]
  },
  {
   "cell_type": "code",
   "execution_count": 69,
   "id": "ffd477cd-4fd8-46a6-b00e-2b4553f6f1d3",
   "metadata": {},
   "outputs": [
    {
     "data": {
      "image/png": "[encoded data removed]",
      "text/plain": [
       "<Figure size 640x480 with 1 Axes>"
      ]
     },
     "metadata": {},
     "output_type": "display_data"
    }
   ],
   "source": [
    "# Histogram distribution for review ratings\n",
    "mean = round(df_u['average_stars'].mean(),2)\n",
    "median = df_u['average_stars'].median()\n",
    "\n",
    "df_u['average_stars'].hist(bins=9) \n",
    "plt.xlabel('Stars')\n",
    "plt.ylabel('Number of Ratings')\n",
    "plt.title('Distribution of Average User Ratings')\n",
    "\n",
    "plt.axvline(mean, color='red', label=f'Mean: {mean}')\n",
    "plt.axvline(median, color='black', label=f'Median: {median}')\n",
    "plt.legend()\n",
    "\n",
    "# Save distribution to file\n",
    "#plt.savefig('figures/AverageUserRatingDistribution.png')\n",
    "\n",
    "plt.show()"
   ]
  },
  {
   "cell_type": "markdown",
   "id": "2bb2b8ff-adb0-408a-9841-4aa8d1d406a1",
   "metadata": {},
   "source": [
    "Similar to the business ratings, this has a right skew to it. Users tend to give 4+ star reviews. However, a large portion of the users like to express their displeasure, as there are about 18000 users with an average review score of 1."
   ]
  },
  {
   "cell_type": "markdown",
   "id": "1aff9729-2f30-4e8a-bac9-b3bbbcba07b2",
   "metadata": {
    "jp-MarkdownHeadingCollapsed": true
   },
   "source": [
    "## Compliments \n",
    "The last 11 columns contain counts for various compliments that other users can send each other. "
   ]
  },
  {
   "cell_type": "code",
   "execution_count": 18,
   "id": "418a19c3-8e97-46aa-8fc5-4758c7c46688",
   "metadata": {},
   "outputs": [],
   "source": [
    "# Visualize the amount of compliments users receive\n",
    "compliments_sum = df_u.iloc[:,10:].sum()"
   ]
  },
  {
   "cell_type": "code",
   "execution_count": 23,
   "id": "20c1856e-eaa0-43be-9add-b92d85985a9d",
   "metadata": {},
   "outputs": [
    {
     "data": {
      "image/png": "[encoded data removed]",
      "text/plain": [
       "<Figure size 640x480 with 1 Axes>"
      ]
     },
     "metadata": {},
     "output_type": "display_data"
    }
   ],
   "source": [
    "compliments_sum.plot.bar()\n",
    "\n",
    "# Rotating X-axis labels\n",
    "plt.xticks(rotation = 60)\n",
    " \n",
    "# Setting title and axis labels\n",
    "plt.title('Compliment Feeback')\n",
    "plt.xlabel(\"Compliments\")\n",
    "plt.ylabel(\"Count of Compliments\")\n",
    " \n",
    "# Show plot\n",
    "plt.show()"
   ]
  },
  {
   "cell_type": "markdown",
   "id": "b3b96782-6d6b-4964-b4d3-fa1696a3e8ed",
   "metadata": {},
   "source": []
  },
  {
   "cell_type": "markdown",
   "id": "93abddea-be8e-447e-89c7-de15ad527406",
   "metadata": {
    "jp-MarkdownHeadingCollapsed": true
   },
   "source": [
    "# Review Data Set\n",
    "#### Data Dictionary\n",
    "- **review_id**  \tUnique identifier for each review  \t**string**\n",
    "- **user_id**  \tUnique identifier for each user  \t**string**\n",
    "- **business_id**  \tUnique identifier for businesses  \t**string**\n",
    "- **stars**\trating given to the business between 1 and 5\t**float64**\n",
    "- **useful**\tcount of users who found the review useful\t**string**\n",
    "- **funny**\tcount of users who found the review funny\t**string**\n",
    "- **cool**\tcount of users who found the review cool\t**int64**\n",
    "- **text**\ttext of the review\t**int64**\n",
    "- **date**\tdate the user submitted the review\t**datetime**"
   ]
  },
  {
   "cell_type": "code",
   "execution_count": 55,
   "id": "0e328b8a-92fd-4f2b-9369-4eab19add44f",
   "metadata": {},
   "outputs": [
    {
     "name": "stdout",
     "output_type": "stream",
     "text": [
      "CPU times: user 6.22 s, sys: 882 ms, total: 7.1 s\n",
      "Wall time: 7.42 s\n"
     ]
    }
   ],
   "source": [
    "%%time\n",
    "# Reading CSV file into notebook and saving it to pandas df\n",
    "df_r = pd.read_csv('data/yelp_review.csv', index_col=0)"
   ]
  },
  {
   "cell_type": "code",
   "execution_count": 56,
   "id": "6a235cdf-041f-4e2d-ac47-134d9d4600e1",
   "metadata": {},
   "outputs": [
    {
     "data": {
      "text/plain": [
       "(6990280, 8)"
      ]
     },
     "execution_count": 56,
     "metadata": {},
     "output_type": "execute_result"
    }
   ],
   "source": [
    "# Shape of data frame\n",
    "df_r.shape"
   ]
  },
  {
   "cell_type": "code",
   "execution_count": 119,
   "id": "3bf359ef-6d7c-4046-80df-7f1d647a9b11",
   "metadata": {},
   "outputs": [
    {
     "data": {
      "text/html": [
       "<div>\n",
       "<style scoped>\n",
       "    .dataframe tbody tr th:only-of-type {\n",
       "        vertical-align: middle;\n",
       "    }\n",
       "\n",
       "    .dataframe tbody tr th {\n",
       "        vertical-align: top;\n",
       "    }\n",
       "\n",
       "    .dataframe thead th {\n",
       "        text-align: right;\n",
       "    }\n",
       "</style>\n",
       "<table border=\"1\" class=\"dataframe\">\n",
       "  <thead>\n",
       "    <tr style=\"text-align: right;\">\n",
       "      <th></th>\n",
       "      <th>review_id</th>\n",
       "      <th>user_id</th>\n",
       "      <th>business_id</th>\n",
       "      <th>stars</th>\n",
       "      <th>useful</th>\n",
       "      <th>funny</th>\n",
       "      <th>cool</th>\n",
       "      <th>date</th>\n",
       "    </tr>\n",
       "  </thead>\n",
       "  <tbody>\n",
       "    <tr>\n",
       "      <th>0</th>\n",
       "      <td>KU_O5udG6zpxOg-VcAEodg</td>\n",
       "      <td>mh_-eMZ6K5RLWhZyISBhwA</td>\n",
       "      <td>XQfwVwDr-v0ZS3_CbbE5Xw</td>\n",
       "      <td>3.0</td>\n",
       "      <td>0</td>\n",
       "      <td>0</td>\n",
       "      <td>0</td>\n",
       "      <td>2018-07-07 22:09:11</td>\n",
       "    </tr>\n",
       "    <tr>\n",
       "      <th>1</th>\n",
       "      <td>BiTunyQ73aT9WBnpR9DZGw</td>\n",
       "      <td>OyoGAe7OKpv6SyGZT5g77Q</td>\n",
       "      <td>7ATYjTIgM3jUlt4UM3IypQ</td>\n",
       "      <td>5.0</td>\n",
       "      <td>1</td>\n",
       "      <td>0</td>\n",
       "      <td>1</td>\n",
       "      <td>2012-01-03 15:28:18</td>\n",
       "    </tr>\n",
       "    <tr>\n",
       "      <th>2</th>\n",
       "      <td>saUsX_uimxRlCVr67Z4Jig</td>\n",
       "      <td>8g_iMtfSiwikVnbP2etR0A</td>\n",
       "      <td>YjUWPpI6HXG530lwP-fb2A</td>\n",
       "      <td>3.0</td>\n",
       "      <td>0</td>\n",
       "      <td>0</td>\n",
       "      <td>0</td>\n",
       "      <td>2014-02-05 20:30:30</td>\n",
       "    </tr>\n",
       "    <tr>\n",
       "      <th>3</th>\n",
       "      <td>AqPFMleE6RsU23_auESxiA</td>\n",
       "      <td>_7bHUi9Uuf5__HHc_Q8guQ</td>\n",
       "      <td>kxX2SOes4o-D3ZQBkiMRfA</td>\n",
       "      <td>5.0</td>\n",
       "      <td>1</td>\n",
       "      <td>0</td>\n",
       "      <td>1</td>\n",
       "      <td>2015-01-04 00:01:03</td>\n",
       "    </tr>\n",
       "    <tr>\n",
       "      <th>4</th>\n",
       "      <td>Sx8TMOWLNuJBWer-0pcmoA</td>\n",
       "      <td>bcjbaE6dDog4jkNY91ncLQ</td>\n",
       "      <td>e4Vwtrqf-wpJfwesgvdgxQ</td>\n",
       "      <td>4.0</td>\n",
       "      <td>1</td>\n",
       "      <td>0</td>\n",
       "      <td>1</td>\n",
       "      <td>2017-01-14 20:54:15</td>\n",
       "    </tr>\n",
       "  </tbody>\n",
       "</table>\n",
       "</div>"
      ],
      "text/plain": [
       "                review_id                 user_id             business_id  \\\n",
       "0  KU_O5udG6zpxOg-VcAEodg  mh_-eMZ6K5RLWhZyISBhwA  XQfwVwDr-v0ZS3_CbbE5Xw   \n",
       "1  BiTunyQ73aT9WBnpR9DZGw  OyoGAe7OKpv6SyGZT5g77Q  7ATYjTIgM3jUlt4UM3IypQ   \n",
       "2  saUsX_uimxRlCVr67Z4Jig  8g_iMtfSiwikVnbP2etR0A  YjUWPpI6HXG530lwP-fb2A   \n",
       "3  AqPFMleE6RsU23_auESxiA  _7bHUi9Uuf5__HHc_Q8guQ  kxX2SOes4o-D3ZQBkiMRfA   \n",
       "4  Sx8TMOWLNuJBWer-0pcmoA  bcjbaE6dDog4jkNY91ncLQ  e4Vwtrqf-wpJfwesgvdgxQ   \n",
       "\n",
       "   stars  useful  funny  cool                 date  \n",
       "0    3.0       0      0     0  2018-07-07 22:09:11  \n",
       "1    5.0       1      0     1  2012-01-03 15:28:18  \n",
       "2    3.0       0      0     0  2014-02-05 20:30:30  \n",
       "3    5.0       1      0     1  2015-01-04 00:01:03  \n",
       "4    4.0       1      0     1  2017-01-14 20:54:15  "
      ]
     },
     "execution_count": 119,
     "metadata": {},
     "output_type": "execute_result"
    }
   ],
   "source": [
    "# Quick peak into data \n",
    "df_r.head()"
   ]
  },
  {
   "cell_type": "code",
   "execution_count": 120,
   "id": "de58157a-93e2-4945-bdf1-aa4dfd8bf60d",
   "metadata": {
    "scrolled": true
   },
   "outputs": [
    {
     "name": "stdout",
     "output_type": "stream",
     "text": [
      "<class 'pandas.core.frame.DataFrame'>\n",
      "Int64Index: 6990280 entries, 0 to 6990279\n",
      "Data columns (total 8 columns):\n",
      " #   Column       Dtype  \n",
      "---  ------       -----  \n",
      " 0   review_id    object \n",
      " 1   user_id      object \n",
      " 2   business_id  object \n",
      " 3   stars        float64\n",
      " 4   useful       int64  \n",
      " 5   funny        int64  \n",
      " 6   cool         int64  \n",
      " 7   date         object \n",
      "dtypes: float64(1), int64(3), object(4)\n",
      "memory usage: 480.0+ MB\n"
     ]
    }
   ],
   "source": [
    "# Gives me a a quick look at the data types for each column, number of entries, and columns.\n",
    "df_r.info()"
   ]
  },
  {
   "cell_type": "code",
   "execution_count": 161,
   "id": "38ec21de-f75b-4ec4-8452-1731733d97a3",
   "metadata": {
    "scrolled": true
   },
   "outputs": [
    {
     "data": {
      "text/plain": [
       "review_id      0\n",
       "user_id        0\n",
       "business_id    0\n",
       "stars          0\n",
       "useful         0\n",
       "funny          0\n",
       "cool           0\n",
       "date           0\n",
       "dtype: int64"
      ]
     },
     "execution_count": 161,
     "metadata": {},
     "output_type": "execute_result"
    }
   ],
   "source": [
    "# Quick check to count the number of null values per column\n",
    "df_r.isna().sum()"
   ]
  },
  {
   "cell_type": "code",
   "execution_count": 163,
   "id": "b5058626-e9ca-4bb5-9c3a-0d6babd292b2",
   "metadata": {},
   "outputs": [
    {
     "data": {
      "text/plain": [
       "review_id      0.0\n",
       "user_id        0.0\n",
       "business_id    0.0\n",
       "stars          0.0\n",
       "useful         0.0\n",
       "funny          0.0\n",
       "cool           0.0\n",
       "date           0.0\n",
       "dtype: float64"
      ]
     },
     "execution_count": 163,
     "metadata": {},
     "output_type": "execute_result"
    }
   ],
   "source": [
    "# Check for duplicate rows \n",
    "df_r[df_r.duplicated()].sum()"
   ]
  },
  {
   "cell_type": "markdown",
   "id": "5758d32f-cd80-4bb2-96bd-250891a39bd5",
   "metadata": {},
   "source": [
    "The data set needs minimal cleaning; there is definitely a lot of value to be discovered as I explore relationships between users, businesses, and their ratings. "
   ]
  },
  {
   "cell_type": "markdown",
   "id": "6f449310-c4d2-415d-abd4-73ab041b44de",
   "metadata": {
    "jp-MarkdownHeadingCollapsed": true
   },
   "source": [
    "## Unique Identifiers\n",
    "The first column contains a unique identifier for each review. The second and Third column are foreign keys to link with the business and user data tables.  "
   ]
  },
  {
   "cell_type": "code",
   "execution_count": null,
   "id": "bc90ceef-b89f-4a56-b655-ef976d6f024b",
   "metadata": {},
   "outputs": [],
   "source": []
  },
  {
   "cell_type": "markdown",
   "id": "c9dbf032-0889-46d2-90b6-387d21043b92",
   "metadata": {
    "jp-MarkdownHeadingCollapsed": true
   },
   "source": [
    "## Stars\n",
    "Column contains the rating between 1 and 5 given to the specificfied business. "
   ]
  },
  {
   "cell_type": "code",
   "execution_count": 30,
   "id": "868e257f-12a6-4ff0-8074-6fa43fede8a4",
   "metadata": {},
   "outputs": [
    {
     "data": {
      "image/png": "[encoded data removed]",
      "text/plain": [
       "<Figure size 640x480 with 1 Axes>"
      ]
     },
     "metadata": {},
     "output_type": "display_data"
    }
   ],
   "source": [
    "# Create a distribution plot for stars \n",
    "# Histogram distribution for star ratings\n",
    "mean = round(df_r['stars'].mean(),2)\n",
    "median = df_r['stars'].median()\n",
    "\n",
    "df_r['stars'].hist(bins=9) \n",
    "plt.xlabel('Stars')\n",
    "plt.ylabel('Number of Reviews')\n",
    "plt.title('Distribution of Review Ratings')\n",
    "\n",
    "plt.axvline(mean, color='red', label=f'Mean: {mean}')\n",
    "plt.axvline(median, color='black', label=f'Median: {median}')\n",
    "plt.legend()\n",
    "\n",
    "plt.show()"
   ]
  },
  {
   "cell_type": "markdown",
   "id": "66f45576-1b5f-4355-b534-dabf50bd980c",
   "metadata": {
    "jp-MarkdownHeadingCollapsed": true
   },
   "source": [
    "## Review Feedback\n",
    "Columns useful, funny, and cool all provide a count of feedback received from other users regarding their written review."
   ]
  },
  {
   "cell_type": "code",
   "execution_count": null,
   "id": "591bf14f-28f8-4d2b-b556-182c3bb08df0",
   "metadata": {},
   "outputs": [],
   "source": [
    "# May be unrelated to my goal but I could find correlations between feedback and stars given to a business "
   ]
  },
  {
   "cell_type": "code",
   "execution_count": 31,
   "id": "72b1a483-4fcf-41f7-a40f-95c82af48927",
   "metadata": {},
   "outputs": [],
   "source": [
    "feeback_sum = df_r[['useful','funny','cool']].sum()"
   ]
  },
  {
   "cell_type": "code",
   "execution_count": 32,
   "id": "3bcd945c-81e6-46d8-83cf-ffa47469d47c",
   "metadata": {},
   "outputs": [
    {
     "data": {
      "image/png": "[encoded data removed]",
      "text/plain": [
       "<Figure size 640x480 with 1 Axes>"
      ]
     },
     "metadata": {},
     "output_type": "display_data"
    }
   ],
   "source": [
    "feeback_sum.plot.bar()\n",
    "\n",
    "# Rotating X-axis labels\n",
    "plt.xticks(rotation = 0)\n",
    " \n",
    "# Setting title and axis labels\n",
    "plt.title('Review Feeback')\n",
    "plt.xlabel(\"Feedback\")\n",
    "plt.ylabel(\"Count of feedback\")\n",
    " \n",
    "# Show plot\n",
    "plt.show()"
   ]
  },
  {
   "cell_type": "markdown",
   "id": "1e9ffe41-4799-4d87-99e1-616b97934e23",
   "metadata": {
    "jp-MarkdownHeadingCollapsed": true
   },
   "source": [
    "## Text - Dropped\n",
    "The column contains the user's written review.\n",
    "The column was deleted before import to reduce the size of the data for computational efficiency. \n",
    "I may do a separate NLP analysis in the future to gain potential insights. "
   ]
  },
  {
   "cell_type": "markdown",
   "id": "578785c0-b5f1-4bee-82f8-3ec488f2685d",
   "metadata": {},
   "source": [
    "## Date\n",
    "Column contains a date-time object for the date the review was submitted. "
   ]
  },
  {
   "cell_type": "code",
   "execution_count": null,
   "id": "7c8ee3e5-7afd-40a5-9af1-7d5229281010",
   "metadata": {},
   "outputs": [],
   "source": []
  },
  {
   "cell_type": "code",
   "execution_count": null,
   "id": "0f2d5edb-8164-4590-818e-aa6d56f0fac9",
   "metadata": {},
   "outputs": [],
   "source": [
    "# Time series analysis?"
   ]
  },
  {
   "cell_type": "code",
   "execution_count": 5,
   "id": "0f1bcdb5-420b-4764-9940-caa6ff2e348a",
   "metadata": {},
   "outputs": [],
   "source": [
    "# Convert to date time\n",
    "df_r['date'] = pd.to_datetime(df_r['date'])"
   ]
  },
  {
   "cell_type": "code",
   "execution_count": 6,
   "id": "7debcd8d-7a32-4ce9-9a6f-2446b1df5f38",
   "metadata": {},
   "outputs": [
    {
     "name": "stdout",
     "output_type": "stream",
     "text": [
      "<class 'pandas.core.frame.DataFrame'>\n",
      "Int64Index: 6990280 entries, 0 to 6990279\n",
      "Data columns (total 8 columns):\n",
      " #   Column       Dtype         \n",
      "---  ------       -----         \n",
      " 0   review_id    object        \n",
      " 1   user_id      object        \n",
      " 2   business_id  object        \n",
      " 3   stars        float64       \n",
      " 4   useful       int64         \n",
      " 5   funny        int64         \n",
      " 6   cool         int64         \n",
      " 7   date         datetime64[ns]\n",
      "dtypes: datetime64[ns](1), float64(1), int64(3), object(3)\n",
      "memory usage: 480.0+ MB\n"
     ]
    }
   ],
   "source": [
    "# Verify Changes\n",
    "df_r.info()"
   ]
  },
  {
   "cell_type": "code",
   "execution_count": 51,
   "id": "91e27260-9617-4967-9c7a-65471a7d0e80",
   "metadata": {},
   "outputs": [],
   "source": [
    "# Save total reviews per year to new df\n",
    "reviews_grouped_year = df_r.groupby(df_r.date.dt.year)['review_id'].count()"
   ]
  },
  {
   "cell_type": "code",
   "execution_count": 70,
   "id": "ecb4f311-329f-459a-b564-da0e75a7a335",
   "metadata": {},
   "outputs": [
    {
     "data": {
      "image/png": "[encoded data removed]",
      "text/plain": [
       "<Figure size 2000x1000 with 1 Axes>"
      ]
     },
     "metadata": {},
     "output_type": "display_data"
    }
   ],
   "source": [
    "reviews_grouped_year.plot.bar(figsize=(20,10))\n",
    "\n",
    "# Rotating X-axis labels\n",
    "plt.xticks(rotation = 0)\n",
    " \n",
    "# Setting title and axis labels\n",
    "plt.title('Reviews by Year', size=24)\n",
    "plt.xlabel(\"Year\", size=18)\n",
    "plt.ylabel(\"Number of Reviews\", size=18)\n",
    "\n",
    "# Save distribution to file\n",
    "#plt.savefig('figures/ReviewsByYear.png')\n",
    " \n",
    "# Show plot\n",
    "plt.show()"
   ]
  },
  {
   "cell_type": "code",
   "execution_count": null,
   "id": "a7364af8-f04a-4ec6-bde7-34eca0d43441",
   "metadata": {},
   "outputs": [],
   "source": []
  },
  {
   "cell_type": "code",
   "execution_count": null,
   "id": "af159879-9c56-4356-ab73-a0b724564773",
   "metadata": {},
   "outputs": [],
   "source": []
  },
  {
   "cell_type": "markdown",
   "id": "a18ac387-4ac3-4130-82bc-1a637e9cf98a",
   "metadata": {},
   "source": [
    "# Data Wrangling "
   ]
  },
  {
   "cell_type": "markdown",
   "id": "7082dbb0-e46e-4d39-955e-e7faa20ce2a1",
   "metadata": {},
   "source": [
    "Now that I've explored my data sets I need to do a little data wrangling before I can model user recommondations. Our model will need a ratings table with three features for each business rating: User Ids, Business Ids, and the rating given."
   ]
  },
  {
   "cell_type": "code",
   "execution_count": 15,
   "id": "4e93f548-0500-4bad-9eaf-01afa0f02d8c",
   "metadata": {},
   "outputs": [],
   "source": [
    "# Additional packages needed for data wrangling\n",
    "from itertools import chain\n",
    "from collections import Counter"
   ]
  },
  {
   "cell_type": "markdown",
   "id": "ffb30c98-a488-4be9-8e67-e2424af93f3f",
   "metadata": {},
   "source": [
    "## Data Reduction\n",
    "To improve computational speeds for modeling I'll be making some reductions in our original data set. "
   ]
  },
  {
   "cell_type": "markdown",
   "id": "14c4bb0c-58ba-4daf-a414-672fafdc4996",
   "metadata": {},
   "source": [
    "### Cities\n",
    "Inlcuding the top 6 cities from our data set "
   ]
  },
  {
   "cell_type": "code",
   "execution_count": 95,
   "id": "be2af38d-cb8b-4d30-9de3-44d4d31d0b25",
   "metadata": {},
   "outputs": [
    {
     "data": {
      "text/plain": [
       "Philadelphia    14560\n",
       "Tucson           9244\n",
       "Tampa            9042\n",
       "Indianapolis     7537\n",
       "Nashville        6969\n",
       "New Orleans      6208\n",
       "Name: city, dtype: int64"
      ]
     },
     "execution_count": 95,
     "metadata": {},
     "output_type": "execute_result"
    }
   ],
   "source": [
    "df_b['city'].value_counts().head(6)"
   ]
  },
  {
   "cell_type": "code",
   "execution_count": 98,
   "id": "2f70a80f-0017-45e6-8bae-67c9e7626ab0",
   "metadata": {},
   "outputs": [],
   "source": [
    "# List of cities to include\n",
    "cities_to_include = [\"Philadelphia\", \"Tucson\", \"Tampa\", \"Indianapolis\", \"Nashville\", \"New Orleans\"]\n",
    "\n",
    "# Filter the DataFrame to only include rows with cities in the cities_to_include list\n",
    "filtered_df_b = df_b[df_b['city'].isin(cities_to_include)]"
   ]
  },
  {
   "cell_type": "code",
   "execution_count": 99,
   "id": "e07636f5-a807-4245-8ccc-847ce3205d3c",
   "metadata": {},
   "outputs": [
    {
     "data": {
      "text/plain": [
       "Philadelphia    14560\n",
       "Tucson           9244\n",
       "Tampa            9042\n",
       "Indianapolis     7537\n",
       "Nashville        6969\n",
       "New Orleans      6208\n",
       "Name: city, dtype: int64"
      ]
     },
     "execution_count": 99,
     "metadata": {},
     "output_type": "execute_result"
    }
   ],
   "source": [
    "filtered_df_b['city'].value_counts()"
   ]
  },
  {
   "cell_type": "code",
   "execution_count": 120,
   "id": "d3f5c1da-461b-432b-92f8-5e35ca2f1f53",
   "metadata": {
    "scrolled": true
   },
   "outputs": [
    {
     "data": {
      "image/png": "[encoded data removed]",
      "text/plain": [
       "<Figure size 1000x600 with 1 Axes>"
      ]
     },
     "metadata": {},
     "output_type": "display_data"
    }
   ],
   "source": [
    "cities = ['Philadelphia', 'Tucson', 'Tampa', 'Indianapolis', 'Nashville', 'New Orleans']\n",
    "values = [14560, 9244, 9042, 7537, 6969, 6208]\n",
    "\n",
    "# Create a bar chart\n",
    "plt.figure(figsize=(10,6))\n",
    "plt.bar(cities, values, color='skyblue')\n",
    "plt.title('City Distribution')\n",
    "plt.xlabel('City')\n",
    "plt.ylabel('Counts')\n",
    "plt.xticks(rotation=45)\n",
    "plt.tight_layout()\n",
    "\n",
    "# Save the figure\n",
    "# plt.savefig('figures/BusinessCitiesChart.png', bbox_inches='tight')\n",
    "# Show the plot\n",
    "plt.show()"
   ]
  },
  {
   "cell_type": "code",
   "execution_count": null,
   "id": "0eff64b9-1a50-485e-8880-0fe050f9bba7",
   "metadata": {},
   "outputs": [],
   "source": []
  },
  {
   "cell_type": "markdown",
   "id": "b3741505-17b3-4d3e-b49a-facc6e795964",
   "metadata": {},
   "source": [
    "### Categories"
   ]
  },
  {
   "cell_type": "markdown",
   "id": "f924cfd8-b33b-4f26-b479-3e15c5908da7",
   "metadata": {},
   "source": [
    "I want to save each of these main categories to their own data frame. This will make the data easier to work with and segment my process working with one category at a time. "
   ]
  },
  {
   "cell_type": "code",
   "execution_count": 37,
   "id": "fcf47fb6-0df5-47e9-a7bd-982068b3187d",
   "metadata": {},
   "outputs": [
    {
     "name": "stdout",
     "output_type": "stream",
     "text": [
      "Restaurants: (18901, 14)\n",
      "Food: (5415, 14)\n",
      "Active Life: (2563, 14)\n",
      "Arts & Entertainment: (2440, 14)\n",
      "Hotels & Travel: (2546, 14)\n",
      "Nightlife: (5242, 14)\n"
     ]
    }
   ],
   "source": [
    "# Saving seperated data to there own data frames\n",
    "\n",
    "restaurants_df = filtered_df_b[filtered_df_b['categories'].str.contains('Restaurants')].reset_index(drop=True)\n",
    "food_df = filtered_df_b[filtered_df_b['categories'].str.contains(', Food,')].reset_index(drop=True)\n",
    "active_life_df = filtered_df_b[filtered_df_b['categories'].str.contains('Active Life')].reset_index(drop=True)\n",
    "arts_entertainment_df = filtered_df_b[filtered_df_b['categories'].str.contains('Arts & Entertainment')].reset_index(drop=True)\n",
    "hotels_travel_df = filtered_df_b[filtered_df_b['categories'].str.contains('Hotels & Travel')].reset_index(drop=True)\n",
    "nightlife_df = filtered_df_b[filtered_df_b['categories'].str.contains('Nightlife')].reset_index(drop=True)\n",
    "\n",
    "print(f'Restaurants: {restaurants_df.shape}\\n\\\n",
    "Food: {food_df.shape}\\n\\\n",
    "Active Life: {active_life_df.shape}\\n\\\n",
    "Arts & Entertainment: {arts_entertainment_df.shape}\\n\\\n",
    "Hotels & Travel: {hotels_travel_df.shape}\\n\\\n",
    "Nightlife: {nightlife_df.shape}')"
   ]
  },
  {
   "cell_type": "code",
   "execution_count": null,
   "id": "35f4cb0e-aa8f-475f-b796-176b0e692c83",
   "metadata": {},
   "outputs": [],
   "source": []
  },
  {
   "cell_type": "markdown",
   "id": "4f5be1c8-c50a-49a2-a295-f627e9a34bf6",
   "metadata": {
    "jp-MarkdownHeadingCollapsed": true
   },
   "source": [
    "##### Acceptable Categories"
   ]
  },
  {
   "cell_type": "code",
   "execution_count": 38,
   "id": "1d9499ab-c621-4f61-93d4-1b78135db3ec",
   "metadata": {},
   "outputs": [],
   "source": [
    "restaurants_categories = [\n",
    "    \"Restaurants\", \"Afghan\", \"African\", \"Senegalese\", \"South African\", \"American (New)\", \"American (Traditional)\", \"Andalusian\", \"Arabian\", \n",
    "    \"Arab Pizza\", \"Argentine\", \"Armenian\", \"Asian Fusion\", \"Asturian\", \"Australian\", \"Austrian\", \"Baguettes\", \"Bangladeshi\", \"Barbeque\", \"Basque\", \"Bavarian\", \"Beer Garden\", \"Beer Hall\", \"Beisl\", \"Belgian\", \n",
    "    \"Flemish\", \"Bistros\", \"Black Sea\", \"Brasseries\", \"Brazilian\", \"Brazilian Empanadas\", \"Central Brazilian\", \"Northeastern Brazilian\", \n",
    "    \"Northern Brazilian\", \"Rodizios\", \"Breakfast & Brunch\", \"Pancakes\", \"British\", \"Buffets\", \"Bulgarian\", \"Burgers\", \"Burmese\", \"Cafes\", \n",
    "    \"Themed Cafes\", \"Cafeteria\", \"Cajun/Creole\", \"Cambodian\", \"Canadian (New)\", \"Canteen\", \"Caribbean\", \"Dominican\", \"Haitian\", \"Puerto Rican\", \n",
    "    \"Trinidadian\", \"Catalan\", \"Cheesesteaks\", \"Chicken Shop\", \"Chicken Wings\",  \"Chilean\", \"Chinese\", \"Cantonese\", \"Congee\", \"Dim Sum\", \"Fuzhou\", \n",
    "    \"Hainan\", \"Hakka\", \"Henghwa\", \"Hokkien\", \"Hunan\", \"Pekinese\", \"Shanghainese\", \"Szechuan\", \"Teochew\", \"Comfort Food\", \"Corsican\", \n",
    "    \"Creperies\", \"Cuban\", \"Curry Sausage\", \"Cypriot\", \"Czech\", \"Czech/Slovakian\", \"Danish\", \"Delis\", \"Diners\", \"Dinner Theater\", \"Dumplings\", \n",
    "    \"Eastern European\", \"Eritrean\", \"Ethiopian\", \"Fast Food\", \"Filipino\", \"Fischbroetchen\", \"Fish & Chips\", \"Flatbread\", \"Fondue\", \"Food Court\", \n",
    "    \"Food Stands\", \"Freiduria\", \"French\", \"Alsatian\", \"Auvergnat\", \"Berrichon\", \"Bourguignon\", \"Mauritius\", \"Nicoise\", \"Provencal\", \"Reunion\", \"French Southwest\", \n",
    "    \"Galician\", \"Game Meat\", \"Gastropubs\", \"Georgian\", \"German\", \"Baden\", \"Eastern German\", \"Franconian\", \"Hessian\", \"Northern German\", \"Palatine\", \n",
    "    \"Rhinelandian\", \"Giblets\", \"Gluten-Free\", \"Greek\", \"Guamanian\", \"Halal\", \"Hawaiian\", \"Heuriger\", \"Himalayan/Nepalese\", \"Honduran\", \"Hong Kong Style Cafe\", \n",
    "    \"Hot Dogs\", \"Hot Pot\", \"Hungarian\", \"Iberian\", \"Indian\", \"Indonesian\", \"International\", \"Irish\", \"Island Pub\", \"Israeli\", \"Italian\", \"Abruzzese\", \n",
    "    \"Altoatesine\", \"Apulian\", \"Calabrian\", \"Cucina Campana\", \"Emilian\", \"Friulan\", \"Ligurian\", \"Lumbard\", \"Napoletana\", \"Piemonte\", \"Roman\", \"Sardinian\", \n",
    "    \"Sicilian\", \"Tuscan\", \"Venetian\", \"Japanese\", \"Blowfish\", \"Conveyor Belt Sushi\", \"Donburi\", \"Gyudon\", \"Oyakodon\", \"Hand Rolls\", \"Horumon\", \"Izakaya\", \n",
    "    \"Japanese Curry\", \"Kaiseki\", \"Kushikatsu\", \"Oden\", \"Okinawan\", \"Okonomiyaki\", \"Onigiri\", \"Ramen\", \"Robatayaki\", \"Soba\", \"Sukiyaki\", \"Takoyaki\", \n",
    "    \"Tempura\", \"Teppanyaki\", \"Tonkatsu\", \"Udon\", \"Unagi\", \"Western Style Japanese Food\", \"Yakiniku\", \"Yakitori\", \"Jewish\", \"Kebab\", \"Kopitiam\", \"Korean\", \"Kosher\", \n",
    "    \"Kurdish\", \"Laos\", \"Laotian\",\"Latin American\",\"Colombian\",\"Salvadoran\",\"Venezuelan\",\"Live/Raw Food\",\"Lyonnais\",\"Malaysian\",\"Mamak\",\"Nyonya\",\"Meatballs\",\n",
    "    \"Mediterranean\",\"Falafel\",\"Mexican\",\"Eastern Mexican\",\"Jaliscan\",\"Northern Mexican\",\"Oaxacan\",\"Pueblan\",\"Tacos\",\"Tamales\",\"Yucatan\",\"Middle Eastern\",\n",
    "    \"Egyptian\",\"Lebanese\",\"Milk Bars\",\"Modern Australian\",\"Modern European\",\"Mongolian\",\"Moroccan\",\"New Mexican Cuisine\",\"New Zealand\",\"Nicaraguan\",\n",
    "    \"Night Food\",\"Nikkei\",\"Noodles\",\"Norcinerie\",\"Open Sandwiches\",\"Oriental\",\"Pakistani\",\"Pan Asian\",\"Parent Cafes\",\"Parma\",\"Persian/Iranian\",\"Peruvian\",\n",
    "    \"PF/Comercial\",\"Pita\",\"Pizza\",\"Polish\",\"Pierogis\",\"Polynesian\",\"Pop-Up Restaurants\",\"Portuguese\",\"Alentejo\",\"Algarve\",\"Azores\",\"Beira\",\"Fado Houses\",\"Madeira\",\n",
    "    \"Minho\",\"Ribatejo\",\"Tras-os-Montes\",\"Potatoes\",\"Poutineries\",\"Pub Food\",\"Rice\",\"Romanian\",\"Rotisserie Chicken\",\"Russian\",\"Salad\",\"Sandwiches\",\"Scandinavian\",\n",
    "    \"Schnitzel\",\"Scottish\",\"Seafood\",\"Serbo Croatian\",\"Signature Cuisine\",\"Singaporean\",\"Slovakian\",\"Somali\",\"Soul Food\",\"Soup\",\"Southern\",\"Spanish\",\"Arroceria/Paella\",\n",
    "    \"Sri Lankan\",\"Steakhouses\",\"Supper Clubs\",\"Sushi Bars\",\"Swabian\",\"Swedish\",\"Swiss Food\",\"Syrian\",\"Tabernas\",\"Taiwanese\",\"Tapas Bars\",\"Tapas/Small Plates\",\"Tavola Calda\",\n",
    "    \"Tex-Mex\",\"Thai\",\"Traditional Norwegian\",\"Traditional Swedish\",\"Trattorie\",\"Turkish\",\"Chee Kufta\",\"Gozleme\",\"Homemade Food\",\"Lahmacun\",\"Ottoman Cuisine\",\n",
    "    \"Turkish Ravioli\",\"Ukrainian\",\"Uzbek\",\"Vegan\",\"Vegetarian\",\"Venison\",\"Vietnamese\",\"Waffles\",\"Wok\",\"Wraps\",\"Yugoslav\"\n",
    "]\n"
   ]
  },
  {
   "cell_type": "code",
   "execution_count": 39,
   "id": "901b38f7-2227-4438-a07a-54d20b062517",
   "metadata": {
    "scrolled": true
   },
   "outputs": [],
   "source": [
    "al_categories = [\n",
    "    \"Active Life\",\n",
    "    \"Amusement Parks\",\n",
    "    \"Aquariums\",\n",
    "    \"Archery\",\n",
    "    \"ATV Rentals/Tours\",\n",
    "    \"Axe Throwing\",\n",
    "    \"Bathing Area\",\n",
    "    \"Beach Equipment Rentals\",\n",
    "    \"Beach Volleyball\",\n",
    "    \"Beaches\",\n",
    "    \"Bicycle Paths\",\n",
    "    \"Bike Parking\",\n",
    "    \"Bike Rentals\",\n",
    "    \"Boating\",\n",
    "    \"Bungee Jumping\",\n",
    "    \"Canyoneering\",\n",
    "    \"Carousels\",\n",
    "    \"Climbing\",\n",
    "    \"Scuba Diving\",\n",
    "    \"Escape Games\",\n",
    "    \"Experiences\",\n",
    "    \"Yoga\",\n",
    "    \"Flyboarding\",\n",
    "    \"Gliding\",\n",
    "    \"Go Karts\",\n",
    "    \"Golf\",\n",
    "    \"Hang Gliding\",\n",
    "    \"Hiking\",\n",
    "    \"Horse Racing\",\n",
    "    \"Horseback Riding\",\n",
    "    \"Hot Air Balloons\",\n",
    "    \"Jet Skis\",\n",
    "    \"Kids Activities\",\n",
    "    \"Kiteboarding\",\n",
    "    \"Lakes\",\n",
    "    \"Mini Golf\",\n",
    "    \"Mountain Biking\",\n",
    "    \"Paddleboarding\",\n",
    "    \"Paragliding\",\n",
    "    \"Parasailing\",\n",
    "    \"Parks\",\n",
    "    \"Dog Parks\",\n",
    "    \"Skate Parks\",\n",
    "    \"Public Plazas\",\n",
    "    \"Racing Experience\",\n",
    "    \"Rafting/Kayaking\",\n",
    "    \"Recreation Centers\",\n",
    "    \"Rock Climbing\",\n",
    "    \"Sailing\",\n",
    "    \"Scavenger Hunts\",\n",
    "    \"Scooter Rentals\",\n",
    "    \"Skating Rinks\",\n",
    "    \"Skiing\",\n",
    "    \"Skydiving\",\n",
    "    \"Sledding\",\n",
    "    \"Snorkeling\",\n",
    "    \"Surfing\",\n",
    "    \"Swimming Pools\",\n",
    "    \"Trampoline Parks\",\n",
    "    \"Tubing\",\n",
    "    \"Water Parks\",\n",
    "    \"Ziplining\",\n",
    "    \"Zoos\",\n",
    "    \"Petting Zoos\"\n",
    "]"
   ]
  },
  {
   "cell_type": "code",
   "execution_count": 40,
   "id": "cb60533b-0997-48ec-b75b-d153a6d1184a",
   "metadata": {},
   "outputs": [],
   "source": [
    "ae_categories = ['Arts & Entertainment', 'Arcades', 'Art Galleries', 'Botanical Gardens', 'Casinos', 'Cinema', 'Drive-In Theater', 'Outdoor Movies', 'Country Clubs', \n",
    " 'Cultural Center', 'Entertainment', 'Farms', 'Attraction Farms', 'Festivals', 'Haunted Houses', 'Jazz & Blues', 'LAN Centers', 'Museums', 'Art Museums', \n",
    " 'Children’s Museums', 'Music Venues', 'Observatories', 'Opera & Ballet', 'Paint & Sip', 'Performing Arts', 'Planetarium', 'Professional Sports Teams', \n",
    " 'Race Tracks', 'Rodeo', 'Social Clubs', 'Stadiums & Arenas', 'Studio Taping', 'Virtual Reality Centers', 'Wineries', 'Wine Tasting Room']"
   ]
  },
  {
   "cell_type": "code",
   "execution_count": 41,
   "id": "129ed5c3-0c12-4018-9a63-04f24341ddfe",
   "metadata": {},
   "outputs": [],
   "source": [
    "accommodations_categories = [\n",
    "    \"Bed & Breakfast\",\n",
    "    \"Campgrounds\",\n",
    "    \"Guest Houses\",\n",
    "    \"Health Retreats\",\n",
    "    \"Hostels\",\n",
    "    \"Hotels\",\n",
    "    \"Mountain Huts\",\n",
    "    \"Residences\",\n",
    "    \"RV Parks\",\n",
    "    \"Resorts\",\n",
    "    \"Ski Resorts\",\n",
    "    \"Vacation Rentals\"\n",
    "]"
   ]
  },
  {
   "cell_type": "code",
   "execution_count": 42,
   "id": "a11e69e1-7caf-480c-8540-1eca3be2829f",
   "metadata": {},
   "outputs": [],
   "source": [
    "tour_categories =['Tours',\n",
    " 'Aerial Tours',\n",
    " 'Architectural Tours',\n",
    " 'Art Tours',\n",
    " 'Beer Tours',\n",
    " 'Bike Tours',\n",
    " 'Boat Tours',\n",
    " 'Bus Tours',\n",
    " 'Food Tours',\n",
    " 'Historical Tours',\n",
    " 'Scooter Tours',\n",
    " 'Walking Tours',\n",
    " 'Whale Watching Tours',\n",
    " 'Wine Tours']\n"
   ]
  },
  {
   "cell_type": "code",
   "execution_count": 43,
   "id": "d763ced3-3381-4c1c-b72c-3d7b0ec32c5e",
   "metadata": {},
   "outputs": [],
   "source": [
    "nightlife_categories = ['Nightlife',\n",
    " 'Adult Entertainment',\n",
    " 'Strip Clubs',\n",
    " 'Striptease Dancers',\n",
    " 'Bar Crawl',\n",
    " 'Bars',\n",
    " 'Beer Bar',\n",
    " 'Champagne Bars',\n",
    " 'Cigar Bars',\n",
    " 'Cocktail Bars',\n",
    " 'Dive Bars',\n",
    " 'Drive-Thru Bars',\n",
    " 'Gay Bars',\n",
    " 'Hookah Bars',\n",
    " 'Irish Pub',\n",
    " 'Lounges',\n",
    " 'Pubs',\n",
    " 'Speakeasies',\n",
    " 'Sports Bars',\n",
    " 'Tiki Bars',\n",
    " 'Vermouth Bars',\n",
    " 'Whiskey Bars',\n",
    " 'Wine Bars',\n",
    " 'Beer Gardens',\n",
    " 'Club Crawl',\n",
    " 'Comedy Clubs',\n",
    " 'Country Dance Halls',\n",
    " 'Dance Clubs',\n",
    " 'Jazz & Blues',\n",
    " 'Karaoke',\n",
    " 'Music Venues',\n",
    " 'Piano Bars',\n",
    " 'Pool Halls']"
   ]
  },
  {
   "cell_type": "markdown",
   "id": "4493afca-c686-4fb7-9710-32207747c610",
   "metadata": {},
   "source": [
    "##### Removing unwanted subcategories and mislabled businesses"
   ]
  },
  {
   "cell_type": "code",
   "execution_count": 44,
   "id": "a1b83484-02df-4bcd-91fa-8619f3b94eb3",
   "metadata": {},
   "outputs": [],
   "source": [
    "# Function that checks subcategories.\n",
    "def has_only_acceptable_categories(subcategories_list, acceptable_set):\n",
    "    # Make sure that the subcategories are a list (if the entry is not NaN or similar).\n",
    "    if isinstance(subcategories_list, list):\n",
    "        return all(subcategory in acceptable_set for subcategory in subcategories_list)\n",
    "    else:\n",
    "        return True"
   ]
  },
  {
   "cell_type": "code",
   "execution_count": 45,
   "id": "f2c2054c-b51e-4150-8f09-a94ad420779c",
   "metadata": {},
   "outputs": [
    {
     "data": {
      "text/plain": [
       "(9578, 14)"
      ]
     },
     "execution_count": 45,
     "metadata": {},
     "output_type": "execute_result"
    }
   ],
   "source": [
    "restaurants_df['categories'] = restaurants_df['categories'].apply(lambda x: x.split(', ') if isinstance(x, str) else [])\n",
    "restaurants_df = restaurants_df[restaurants_df['categories'].apply(lambda x: has_only_acceptable_categories(x, restaurants_categories))]\n",
    "restaurants_df.shape\n",
    "# Now 'restaurants_df' should only contain businesses with acceptable subcategories."
   ]
  },
  {
   "cell_type": "code",
   "execution_count": 46,
   "id": "20517ef3-f60b-44f6-83d2-ecb1245b01d0",
   "metadata": {},
   "outputs": [
    {
     "data": {
      "text/plain": [
       "(344, 14)"
      ]
     },
     "execution_count": 46,
     "metadata": {},
     "output_type": "execute_result"
    }
   ],
   "source": [
    "active_life_df['categories'] = active_life_df['categories'].apply(lambda x: x.split(', ') if isinstance(x, str) else [])\n",
    "active_life_df = active_life_df[active_life_df['categories'].apply(lambda x: has_only_acceptable_categories(x, al_categories))]\n",
    "active_life_df.shape\n",
    "# Now 'active_life_df' should only contain businesses with acceptable subcategories."
   ]
  },
  {
   "cell_type": "code",
   "execution_count": 47,
   "id": "66b71887-c4c5-45d8-a1b9-7c4536c00a43",
   "metadata": {},
   "outputs": [
    {
     "data": {
      "text/plain": [
       "(303, 14)"
      ]
     },
     "execution_count": 47,
     "metadata": {},
     "output_type": "execute_result"
    }
   ],
   "source": [
    "arts_entertainment_df['categories'] = arts_entertainment_df['categories'].apply(lambda x: x.split(', ') if isinstance(x, str) else [])\n",
    "arts_entertainment_df = arts_entertainment_df[arts_entertainment_df['categories'].apply(lambda x: has_only_acceptable_categories(x, ae_categories))]\n",
    "arts_entertainment_df.shape\n",
    "# Now 'arts_entertainment_df' should only contain businesses with acceptable subcategories."
   ]
  },
  {
   "cell_type": "code",
   "execution_count": 99,
   "id": "05380164-ce34-47ab-8d3e-f87d5e80abef",
   "metadata": {},
   "outputs": [],
   "source": [
    "# For the tours category I have to treat a little different, Tour businesses often include subcategories outside the Hotel & Travel category"
   ]
  },
  {
   "cell_type": "code",
   "execution_count": 48,
   "id": "f4ac33ce-506a-4607-97ed-7fff27694481",
   "metadata": {},
   "outputs": [
    {
     "data": {
      "text/plain": [
       "(458, 14)"
      ]
     },
     "execution_count": 48,
     "metadata": {},
     "output_type": "execute_result"
    }
   ],
   "source": [
    "tours_df = hotels_travel_df[hotels_travel_df['categories'].str.contains('Tours')].reset_index(drop=True)\n",
    "tours_df.shape\n",
    "# Now 'tours_df' should only contain businesses with acceptable subcategories."
   ]
  },
  {
   "cell_type": "code",
   "execution_count": 49,
   "id": "b6db53b7-95e6-4285-9b24-883edec1a62f",
   "metadata": {},
   "outputs": [
    {
     "data": {
      "text/plain": [
       "(787, 14)"
      ]
     },
     "execution_count": 49,
     "metadata": {},
     "output_type": "execute_result"
    }
   ],
   "source": [
    "nightlife_df['categories'] = nightlife_df['categories'].apply(lambda x: x.split(', ') if isinstance(x, str) else [])\n",
    "nightlife_df = nightlife_df[nightlife_df['categories'].apply(lambda x: has_only_acceptable_categories(x, nightlife_categories))]\n",
    "nightlife_df.shape\n",
    "# Now 'nightlife_df' should only contain businesses with acceptable subcategories."
   ]
  },
  {
   "cell_type": "markdown",
   "id": "54691d36-e1f9-458c-b234-e44dc611139c",
   "metadata": {},
   "source": [
    "##### Exporting Data"
   ]
  },
  {
   "cell_type": "code",
   "execution_count": 50,
   "id": "28491019-4c44-4437-9b29-81fe2a1724d3",
   "metadata": {},
   "outputs": [],
   "source": [
    "# Exporting the data frames to a csv\n",
    "# restaurants_df.to_csv('data/categories/restaurants.csv', index=False)\n",
    "# food_df.to_csv('data/categories/food.csv')\n",
    "# active_life_df.to_csv('data/categories/active_life.csv')\n",
    "# arts_entertainment_df.to_csv('data/categories/arts_entertainment.csv')\n",
    "# hotels_travel_df.to_csv('data/categories/hotels_travel.csv')\n",
    "# nightlife_df.to_csv('data/categories/nightlife.csv')"
   ]
  },
  {
   "cell_type": "markdown",
   "id": "744711c0-f0cf-40d6-b43d-f7d172f9bf03",
   "metadata": {},
   "source": [
    "### Resaurants\n",
    "- [ ] Identify Sub Categories\n",
    "    - [ ] Counts\n",
    "    - [ ] Remove Irrelevant Categories\n",
    "- [ ] Reduce Business df Rows\n",
    "    - [ ] Businesses > 10 Reviews\n",
    "- [ ] Filter Review df based on the filtered businesses and save to new df\n",
    "- [ ] Reduce Review df Rows\n",
    "    - [ ] Group df by user value counts\n",
    "    - [ ] Users > 10 Reviews\n",
    "- [ ] Export to CSV"
   ]
  },
  {
   "cell_type": "markdown",
   "id": "48ff50f8-ec3d-453c-b24c-ed3431bf3fe0",
   "metadata": {},
   "source": [
    "Starting with restaurants we'll take a look at the restaurant df we created earlier. "
   ]
  },
  {
   "cell_type": "code",
   "execution_count": 2,
   "id": "68d4c409-32fa-402e-a62e-8c4f50b5018e",
   "metadata": {},
   "outputs": [],
   "source": [
    "# restaurants_df = pd.read_csv('data/categories/restaurants.csv')"
   ]
  },
  {
   "cell_type": "code",
   "execution_count": 51,
   "id": "440dcbca-ca02-485c-94ad-7b7264f7b9f6",
   "metadata": {
    "scrolled": true
   },
   "outputs": [
    {
     "data": {
      "text/plain": [
       "(9578, 14)"
      ]
     },
     "execution_count": 51,
     "metadata": {},
     "output_type": "execute_result"
    }
   ],
   "source": [
    "restaurants_df.shape"
   ]
  },
  {
   "cell_type": "markdown",
   "id": "6909f3c6-cccd-4f6a-a464-df7976a03ec2",
   "metadata": {
    "scrolled": true
   },
   "source": [
    "To reduce dimmensionality it would be good to only include resturants who have at least 10 reviews. Any less and the resturant might be brand new and probably shouldn't be included in our reccomondations. "
   ]
  },
  {
   "cell_type": "code",
   "execution_count": 52,
   "id": "06a536a4-ea3c-421f-ad35-c1da638558d0",
   "metadata": {},
   "outputs": [
    {
     "data": {
      "text/plain": [
       "(7948, 14)"
      ]
     },
     "execution_count": 52,
     "metadata": {},
     "output_type": "execute_result"
    }
   ],
   "source": [
    "# Filtering the DataFrame to include only restaurants with at least 10 reviews\n",
    "restaurants_df = restaurants_df[restaurants_df['review_count'] >= 10]\n",
    "restaurants_df.shape"
   ]
  },
  {
   "cell_type": "code",
   "execution_count": 53,
   "id": "15dd0179-974c-4274-a1f1-6122f14c0025",
   "metadata": {
    "scrolled": true
   },
   "outputs": [
    {
     "data": {
      "text/html": [
       "<div>\n",
       "<style scoped>\n",
       "    .dataframe tbody tr th:only-of-type {\n",
       "        vertical-align: middle;\n",
       "    }\n",
       "\n",
       "    .dataframe tbody tr th {\n",
       "        vertical-align: top;\n",
       "    }\n",
       "\n",
       "    .dataframe thead th {\n",
       "        text-align: right;\n",
       "    }\n",
       "</style>\n",
       "<table border=\"1\" class=\"dataframe\">\n",
       "  <thead>\n",
       "    <tr style=\"text-align: right;\">\n",
       "      <th></th>\n",
       "      <th>business_id</th>\n",
       "      <th>name</th>\n",
       "      <th>address</th>\n",
       "      <th>city</th>\n",
       "      <th>state</th>\n",
       "      <th>postal_code</th>\n",
       "      <th>latitude</th>\n",
       "      <th>longitude</th>\n",
       "      <th>stars</th>\n",
       "      <th>review_count</th>\n",
       "      <th>is_open</th>\n",
       "      <th>attributes</th>\n",
       "      <th>categories</th>\n",
       "      <th>hours</th>\n",
       "    </tr>\n",
       "  </thead>\n",
       "  <tbody>\n",
       "    <tr>\n",
       "      <th>2</th>\n",
       "      <td>il_Ro8jwPlHresjw9EGmBg</td>\n",
       "      <td>Denny's</td>\n",
       "      <td>8901 US 31 S</td>\n",
       "      <td>Indianapolis</td>\n",
       "      <td>IN</td>\n",
       "      <td>46227</td>\n",
       "      <td>39.637133</td>\n",
       "      <td>-86.127217</td>\n",
       "      <td>2.5</td>\n",
       "      <td>28</td>\n",
       "      <td>1</td>\n",
       "      <td>{'RestaurantsReservations': 'False', 'Restaura...</td>\n",
       "      <td>[American (Traditional), Restaurants, Diners, ...</td>\n",
       "      <td>{'Monday': '6:0-22:0', 'Tuesday': '6:0-22:0', ...</td>\n",
       "    </tr>\n",
       "    <tr>\n",
       "      <th>3</th>\n",
       "      <td>MUTTqe8uqyMdBl186RmNeA</td>\n",
       "      <td>Tuna Bar</td>\n",
       "      <td>205 Race St</td>\n",
       "      <td>Philadelphia</td>\n",
       "      <td>PA</td>\n",
       "      <td>19106</td>\n",
       "      <td>39.953949</td>\n",
       "      <td>-75.143226</td>\n",
       "      <td>4.0</td>\n",
       "      <td>245</td>\n",
       "      <td>1</td>\n",
       "      <td>{'RestaurantsReservations': 'True', 'Restauran...</td>\n",
       "      <td>[Sushi Bars, Restaurants, Japanese]</td>\n",
       "      <td>{'Tuesday': '13:30-22:0', 'Wednesday': '13:30-...</td>\n",
       "    </tr>\n",
       "    <tr>\n",
       "      <th>4</th>\n",
       "      <td>ROeacJQwBeh05Rqg7F6TCg</td>\n",
       "      <td>BAP</td>\n",
       "      <td>1224 South St</td>\n",
       "      <td>Philadelphia</td>\n",
       "      <td>PA</td>\n",
       "      <td>19147</td>\n",
       "      <td>39.943223</td>\n",
       "      <td>-75.162568</td>\n",
       "      <td>4.5</td>\n",
       "      <td>205</td>\n",
       "      <td>1</td>\n",
       "      <td>{'NoiseLevel': \"u'quiet'\", 'GoodForMeal': \"{'d...</td>\n",
       "      <td>[Korean, Restaurants]</td>\n",
       "      <td>{'Monday': '11:30-20:30', 'Tuesday': '11:30-20...</td>\n",
       "    </tr>\n",
       "    <tr>\n",
       "      <th>5</th>\n",
       "      <td>kfNv-JZpuN6TVNSO6hHdkw</td>\n",
       "      <td>Hibachi Express</td>\n",
       "      <td>6625 E 82nd St</td>\n",
       "      <td>Indianapolis</td>\n",
       "      <td>IN</td>\n",
       "      <td>46250</td>\n",
       "      <td>39.904320</td>\n",
       "      <td>-86.053080</td>\n",
       "      <td>4.0</td>\n",
       "      <td>20</td>\n",
       "      <td>1</td>\n",
       "      <td>{'RestaurantsDelivery': 'True', 'RestaurantsTa...</td>\n",
       "      <td>[Steakhouses, Asian Fusion, Restaurants]</td>\n",
       "      <td>{'Monday': '11:0-21:0', 'Tuesday': '11:0-21:0'...</td>\n",
       "    </tr>\n",
       "    <tr>\n",
       "      <th>7</th>\n",
       "      <td>tMkwHmWFUEXrC9ZduonpTg</td>\n",
       "      <td>The Green Pheasant</td>\n",
       "      <td>215 1st Ave S</td>\n",
       "      <td>Nashville</td>\n",
       "      <td>TN</td>\n",
       "      <td>37201</td>\n",
       "      <td>36.159886</td>\n",
       "      <td>-86.773197</td>\n",
       "      <td>4.0</td>\n",
       "      <td>161</td>\n",
       "      <td>0</td>\n",
       "      <td>{'RestaurantsGoodForGroups': 'True', 'HappyHou...</td>\n",
       "      <td>[Restaurants, Japanese, Seafood]</td>\n",
       "      <td>{'Wednesday': '16:0-22:0', 'Thursday': '16:0-2...</td>\n",
       "    </tr>\n",
       "  </tbody>\n",
       "</table>\n",
       "</div>"
      ],
      "text/plain": [
       "              business_id                name         address          city  \\\n",
       "2  il_Ro8jwPlHresjw9EGmBg             Denny's    8901 US 31 S  Indianapolis   \n",
       "3  MUTTqe8uqyMdBl186RmNeA            Tuna Bar     205 Race St  Philadelphia   \n",
       "4  ROeacJQwBeh05Rqg7F6TCg                 BAP   1224 South St  Philadelphia   \n",
       "5  kfNv-JZpuN6TVNSO6hHdkw     Hibachi Express  6625 E 82nd St  Indianapolis   \n",
       "7  tMkwHmWFUEXrC9ZduonpTg  The Green Pheasant   215 1st Ave S     Nashville   \n",
       "\n",
       "  state postal_code   latitude  longitude  stars  review_count  is_open  \\\n",
       "2    IN       46227  39.637133 -86.127217    2.5            28        1   \n",
       "3    PA       19106  39.953949 -75.143226    4.0           245        1   \n",
       "4    PA       19147  39.943223 -75.162568    4.5           205        1   \n",
       "5    IN       46250  39.904320 -86.053080    4.0            20        1   \n",
       "7    TN       37201  36.159886 -86.773197    4.0           161        0   \n",
       "\n",
       "                                          attributes  \\\n",
       "2  {'RestaurantsReservations': 'False', 'Restaura...   \n",
       "3  {'RestaurantsReservations': 'True', 'Restauran...   \n",
       "4  {'NoiseLevel': \"u'quiet'\", 'GoodForMeal': \"{'d...   \n",
       "5  {'RestaurantsDelivery': 'True', 'RestaurantsTa...   \n",
       "7  {'RestaurantsGoodForGroups': 'True', 'HappyHou...   \n",
       "\n",
       "                                          categories  \\\n",
       "2  [American (Traditional), Restaurants, Diners, ...   \n",
       "3                [Sushi Bars, Restaurants, Japanese]   \n",
       "4                              [Korean, Restaurants]   \n",
       "5           [Steakhouses, Asian Fusion, Restaurants]   \n",
       "7                   [Restaurants, Japanese, Seafood]   \n",
       "\n",
       "                                               hours  \n",
       "2  {'Monday': '6:0-22:0', 'Tuesday': '6:0-22:0', ...  \n",
       "3  {'Tuesday': '13:30-22:0', 'Wednesday': '13:30-...  \n",
       "4  {'Monday': '11:30-20:30', 'Tuesday': '11:30-20...  \n",
       "5  {'Monday': '11:0-21:0', 'Tuesday': '11:0-21:0'...  \n",
       "7  {'Wednesday': '16:0-22:0', 'Thursday': '16:0-2...  "
      ]
     },
     "execution_count": 53,
     "metadata": {},
     "output_type": "execute_result"
    }
   ],
   "source": [
    "restaurants_df.head()"
   ]
  },
  {
   "cell_type": "markdown",
   "id": "d3386d92-7e1c-4742-80ec-99eecc60d705",
   "metadata": {},
   "source": [
    "I'll filter our existing review table by our filtered restaurant df and include only the resturants we want for our model."
   ]
  },
  {
   "cell_type": "code",
   "execution_count": 57,
   "id": "21437869-0683-4c82-8aea-2b2876c59655",
   "metadata": {},
   "outputs": [],
   "source": [
    "restaurant_ratings_df = df_r[df_r.business_id.isin(restaurants_df.business_id )]"
   ]
  },
  {
   "cell_type": "code",
   "execution_count": 58,
   "id": "09cae97d-d600-41d8-b033-9ba75a730815",
   "metadata": {},
   "outputs": [
    {
     "data": {
      "text/plain": [
       "(941991, 8)"
      ]
     },
     "execution_count": 58,
     "metadata": {},
     "output_type": "execute_result"
    }
   ],
   "source": [
    "restaurant_ratings_df.shape"
   ]
  },
  {
   "cell_type": "markdown",
   "id": "3a5b8618-e12e-4254-bb14-8134dc4d8016",
   "metadata": {},
   "source": [
    "To reduce dimensionality of our new df I want to indclude user that have at least 10 reviews. Mainly to exlcude users who are not regular users of the platform and there for would not benifit from our reccomondations and could influence others predicted ratings. "
   ]
  },
  {
   "cell_type": "code",
   "execution_count": 59,
   "id": "3f28a173-155c-484e-b61f-17e45f1d766a",
   "metadata": {},
   "outputs": [
    {
     "data": {
      "text/plain": [
       "(225804, 8)"
      ]
     },
     "execution_count": 59,
     "metadata": {},
     "output_type": "execute_result"
    }
   ],
   "source": [
    "# filter resturant review data by users with more than 10 reviews\n",
    "u = restaurant_ratings_df.user_id.value_counts()\n",
    "restaurant_ratings_df = restaurant_ratings_df[restaurant_ratings_df.user_id.isin(u.index[u.gt(10)])]\n",
    "restaurant_ratings_df.shape"
   ]
  },
  {
   "cell_type": "markdown",
   "id": "7314a05f-a702-4967-a921-797d7bdb4d05",
   "metadata": {},
   "source": [
    "I'll remove the columns that are unneccesary for our model and sort features by users and then by businesses"
   ]
  },
  {
   "cell_type": "code",
   "execution_count": 60,
   "id": "5e133a86-fd15-4b3e-ae29-d62056497618",
   "metadata": {},
   "outputs": [
    {
     "data": {
      "text/html": [
       "<div>\n",
       "<style scoped>\n",
       "    .dataframe tbody tr th:only-of-type {\n",
       "        vertical-align: middle;\n",
       "    }\n",
       "\n",
       "    .dataframe tbody tr th {\n",
       "        vertical-align: top;\n",
       "    }\n",
       "\n",
       "    .dataframe thead th {\n",
       "        text-align: right;\n",
       "    }\n",
       "</style>\n",
       "<table border=\"1\" class=\"dataframe\">\n",
       "  <thead>\n",
       "    <tr style=\"text-align: right;\">\n",
       "      <th></th>\n",
       "      <th>user_id</th>\n",
       "      <th>business_id</th>\n",
       "      <th>stars</th>\n",
       "    </tr>\n",
       "    <tr>\n",
       "      <th>review_id</th>\n",
       "      <th></th>\n",
       "      <th></th>\n",
       "      <th></th>\n",
       "    </tr>\n",
       "  </thead>\n",
       "  <tbody>\n",
       "    <tr>\n",
       "      <th>299F0EMdtWuk1GlMfjJeIg</th>\n",
       "      <td>--u09WAjW741FdfkJXxNmg</td>\n",
       "      <td>03dIEDBsDERr6Osmey-udQ</td>\n",
       "      <td>3.0</td>\n",
       "    </tr>\n",
       "    <tr>\n",
       "      <th>hiDGNjV40s9lh6OR4BSNLA</th>\n",
       "      <td>--u09WAjW741FdfkJXxNmg</td>\n",
       "      <td>3OGzmGqWwsyGLkhnxrA9Pw</td>\n",
       "      <td>5.0</td>\n",
       "    </tr>\n",
       "    <tr>\n",
       "      <th>lkjHhNLsvr2CUGJs1SYd-Q</th>\n",
       "      <td>--u09WAjW741FdfkJXxNmg</td>\n",
       "      <td>ALK-7tTvDKAzxAtIiNyh2A</td>\n",
       "      <td>5.0</td>\n",
       "    </tr>\n",
       "    <tr>\n",
       "      <th>XemDCvJ4Hi9nHlb9jzJcLg</th>\n",
       "      <td>--u09WAjW741FdfkJXxNmg</td>\n",
       "      <td>GMezqeTkp3_nOfcDiEKQeg</td>\n",
       "      <td>3.0</td>\n",
       "    </tr>\n",
       "    <tr>\n",
       "      <th>I73K0_R6pSwuGb_IRba0Bg</th>\n",
       "      <td>--u09WAjW741FdfkJXxNmg</td>\n",
       "      <td>HEf0QXnhxrcIWxRfAbQ2iA</td>\n",
       "      <td>5.0</td>\n",
       "    </tr>\n",
       "  </tbody>\n",
       "</table>\n",
       "</div>"
      ],
      "text/plain": [
       "                                       user_id             business_id  stars\n",
       "review_id                                                                    \n",
       "299F0EMdtWuk1GlMfjJeIg  --u09WAjW741FdfkJXxNmg  03dIEDBsDERr6Osmey-udQ    3.0\n",
       "hiDGNjV40s9lh6OR4BSNLA  --u09WAjW741FdfkJXxNmg  3OGzmGqWwsyGLkhnxrA9Pw    5.0\n",
       "lkjHhNLsvr2CUGJs1SYd-Q  --u09WAjW741FdfkJXxNmg  ALK-7tTvDKAzxAtIiNyh2A    5.0\n",
       "XemDCvJ4Hi9nHlb9jzJcLg  --u09WAjW741FdfkJXxNmg  GMezqeTkp3_nOfcDiEKQeg    3.0\n",
       "I73K0_R6pSwuGb_IRba0Bg  --u09WAjW741FdfkJXxNmg  HEf0QXnhxrcIWxRfAbQ2iA    5.0"
      ]
     },
     "execution_count": 60,
     "metadata": {},
     "output_type": "execute_result"
    }
   ],
   "source": [
    "restaurant_ratings_df = restaurant_ratings_df.sort_values(by=['user_id', 'business_id']).drop(columns=['funny', 'useful', 'cool', 'date']).set_index('review_id')\n",
    "restaurant_ratings_df.head()"
   ]
  },
  {
   "cell_type": "markdown",
   "id": "44c7a8a1-d86b-4859-bfd1-6271d1f9305a",
   "metadata": {},
   "source": [
    "Our data is now ready for modelling"
   ]
  },
  {
   "cell_type": "code",
   "execution_count": 61,
   "id": "7623add0-fb52-4fdb-a60b-4aa6bdd3e34b",
   "metadata": {},
   "outputs": [],
   "source": [
    "# export preparred data \n",
    "restaurant_ratings_df.to_csv('data/categories/restaurant_ratings.csv')"
   ]
  },
  {
   "cell_type": "markdown",
   "id": "3ca82f8f-36cc-4f3f-ba09-7635bd001a19",
   "metadata": {},
   "source": [
    "# Modeling \n",
    "I will most likley move this section to its own notebook"
   ]
  },
  {
   "cell_type": "code",
   "execution_count": 76,
   "id": "58527e74-2ff0-43b7-9363-0b829e049646",
   "metadata": {},
   "outputs": [],
   "source": [
    "from surprise import Dataset\n",
    "from surprise.reader import Reader\n",
    "from surprise.prediction_algorithms.matrix_factorization import SVD as FunkSVD\n",
    "from surprise import accuracy\n",
    "from surprise.model_selection import train_test_split\n",
    "import pickle"
   ]
  },
  {
   "cell_type": "code",
   "execution_count": null,
   "id": "19319b02-4bc7-423b-b98e-c3d24f479241",
   "metadata": {},
   "outputs": [],
   "source": [
    "# restaurant_ratings_df = pd.read_csv('data/categories/restaurant_ratings.csv')"
   ]
  },
  {
   "cell_type": "markdown",
   "id": "59efa39f-08ad-4cd6-afc7-8f6931c6670e",
   "metadata": {},
   "source": [
    "Training, testing and evaluating my model"
   ]
  },
  {
   "cell_type": "code",
   "execution_count": 84,
   "id": "fc151cfc-e2de-4a54-9bf8-45178c77201a",
   "metadata": {},
   "outputs": [
    {
     "name": "stdout",
     "output_type": "stream",
     "text": [
      "RMSE: 1.0359\n",
      "CPU times: user 1.69 s, sys: 314 ms, total: 2 s\n",
      "Wall time: 2.4 s\n"
     ]
    },
    {
     "data": {
      "text/plain": [
       "1.035858358539872"
      ]
     },
     "execution_count": 84,
     "metadata": {},
     "output_type": "execute_result"
    }
   ],
   "source": [
    "%%time\n",
    "# Loading sample data frame into a surprise data table\n",
    "data = Dataset.load_from_df(restaurant_ratings_df, Reader(rating_scale=(1, 5)))\n",
    "data\n",
    "# Setting our train test ratio to 50-50\n",
    "trainset, testset = train_test_split(data, test_size=0.5, random_state=25)\n",
    "\n",
    "# We'll use the famous FunkSVD algorithm.\n",
    "algo = FunkSVD(random_state=25)\n",
    "\n",
    "# Train the algorithm on the trainset\n",
    "algo.fit(trainset)\n",
    "\n",
    "#Predict ratings for the testset\n",
    "predictions = algo.test(testset)\n",
    "\n",
    "# Compute RMSE\n",
    "accuracy.rmse(predictions)"
   ]
  },
  {
   "cell_type": "markdown",
   "id": "0c569fd5-4265-4a39-93c8-e897e70b2916",
   "metadata": {},
   "source": [
    "With a baseline RMSE score of 1.0359 I can now try to improve the accuracy of my models parameters by adjusting varies parameters "
   ]
  },
  {
   "cell_type": "markdown",
   "id": "68dd0ae8-8c2c-484d-853a-170b3c053e43",
   "metadata": {},
   "source": [
    "### Latent Factors\n",
    "I want to visualize what effect the number of latent factors has on the RMSE score. The default number of latent factors for our model is 100.\n",
    "The number of latent factors in the SVD can be critical. If you have too few, the model may not capture all the nuances of the data. If you have too many, it might overfit."
   ]
  },
  {
   "cell_type": "code",
   "execution_count": 127,
   "id": "72c1c949-15d2-4980-a040-5a3d79eeee32",
   "metadata": {
    "scrolled": true
   },
   "outputs": [
    {
     "name": "stdout",
     "output_type": "stream",
     "text": [
      "CPU times: user 58.1 s, sys: 537 ms, total: 58.6 s\n",
      "Wall time: 59.2 s\n"
     ]
    }
   ],
   "source": [
    "%%time \n",
    "# Printing how long this cell ran\n",
    "\n",
    "# Setting our train test ratio to 50-50\n",
    "trainset, testset = train_test_split(data, test_size=0.5, random_state=25)\n",
    "\n",
    "rmse_scores = []\n",
    "factors = range(10, 201, 5)\n",
    "for n_factors in factors:\n",
    "    my_algorithm = FunkSVD(n_factors = n_factors,\n",
    "                           random_state=25,\n",
    "                           verbose = False)\n",
    "    \n",
    "    my_algorithm.fit(trainset)\n",
    "    my_predictions = my_algorithm.test(testset)\n",
    "    \n",
    "    RMSE = accuracy.rmse(my_predictions, verbose = False) \n",
    "    rmse_scores.append(RMSE)\n",
    "    print(n_factors, end=\"\\r\")"
   ]
  },
  {
   "cell_type": "code",
   "execution_count": 129,
   "id": "6c9336a6-ba1d-4247-b23e-27d90d673d5f",
   "metadata": {},
   "outputs": [
    {
     "data": {
      "image/png": "[encoded data removed]",
      "text/plain": [
       "<Figure size 1500x700 with 1 Axes>"
      ]
     },
     "metadata": {},
     "output_type": "display_data"
    }
   ],
   "source": [
    "plt.figure(figsize=(15, 7))\n",
    "plt.plot(factors, rmse_scores)\n",
    "plt.xlabel(\"Latent Factors Number\")\n",
    "plt.ylabel(\"Root Mean Squared Error\")\n",
    "plt.title(\"Root Mean Squared Error for Various Numbers of Latent Factors\")\n",
    "\n",
    "# Save as PNG\n",
    "# plt.savefig('figures/RMSE-LatentFactors.png', bbox_inches='tight')\n",
    "\n",
    "plt.show()"
   ]
  },
  {
   "cell_type": "markdown",
   "id": "983f5d41-d051-4d1e-8db3-a2a3d46dd654",
   "metadata": {},
   "source": [
    "After running the model with a different number of latent factors it looks like increaseing the number of factors leads to overfitting. Which happens when the model starts to learn not only the underlying patterns in the training data but also the noise. As a result, it performs well on the training data but poorly on the test data. It appears to perform better with a lower number of latent factors. "
   ]
  },
  {
   "cell_type": "markdown",
   "id": "942b2b13-071c-4509-a341-3aefb9064ff6",
   "metadata": {},
   "source": [
    "### Learning Rate\n",
    "I also want to quickly visualize what effect the learning rate has on the RMSE score. The default learning rate for all parameters is 0.005.\n",
    "The learning rate is the rate at which the algorithm updates the latent features during each iteration. A lower learning rate might take longer to converge but can sometimes find a better minimum."
   ]
  },
  {
   "cell_type": "code",
   "execution_count": 124,
   "id": "54484951-2318-4fe3-b54f-21cace33278a",
   "metadata": {},
   "outputs": [
    {
     "name": "stdout",
     "output_type": "stream",
     "text": [
      "CPU times: user 15.2 s, sys: 360 ms, total: 15.5 s\n",
      "Wall time: 15.9 s\n"
     ]
    }
   ],
   "source": [
    "%%time \n",
    "# Printing how long this cell ran\n",
    "\n",
    "# Setting our train test ratio to 50-50\n",
    "trainset, testset = train_test_split(data, test_size=0.5, random_state=25)\n",
    "\n",
    "rmse_scores = []\n",
    "learning_rates = np.logspace(-4, -1, num=10)\n",
    "for lr in learning_rates:\n",
    "    my_algorithm = FunkSVD(lr_all = lr,\n",
    "                           random_state=25,\n",
    "                           verbose = False)\n",
    "    \n",
    "    my_algorithm.fit(trainset)\n",
    "    my_predictions = my_algorithm.test(testset)\n",
    "    \n",
    "    RMSE = accuracy.rmse(my_predictions, verbose = False) \n",
    "    rmse_scores.append(RMSE)\n",
    "    print(lr, end=\"\\r\")"
   ]
  },
  {
   "cell_type": "code",
   "execution_count": 125,
   "id": "7a57464c-60bb-426a-938c-b16f07fbef87",
   "metadata": {},
   "outputs": [
    {
     "data": {
      "image/png": "[encoded data removed]",
      "text/plain": [
       "<Figure size 1500x700 with 1 Axes>"
      ]
     },
     "metadata": {},
     "output_type": "display_data"
    }
   ],
   "source": [
    "plt.figure(figsize=(15, 7))\n",
    "plt.plot(learning_rates, rmse_scores)\n",
    "plt.xlabel(\"Learning Rate\")\n",
    "plt.ylabel(\"Root Mean Squared Error\")\n",
    "plt.title(\"Root Mean Squared Error for Various Learning Rates\")\n",
    "\n",
    "# Save as PNG\n",
    "plt.savefig('figures/RMSE-LearningRate.png', bbox_inches='tight')\n",
    "plt.show()"
   ]
  },
  {
   "cell_type": "markdown",
   "id": "673bc249-f362-453f-8e34-756e9b5941d3",
   "metadata": {},
   "source": [
    "The chart shows how varying the learning rate impacts the RMSE of the model. The RMSE is initially very high, which suggests that the model isn’t learning enough each step to make significant progress towards minimizing the error. The RMSE then drops sharply, indicating that the model is starting to learn better and is making good progress in finding a lower error."
   ]
  },
  {
   "cell_type": "code",
   "execution_count": null,
   "id": "97ae2418-793a-40ce-99e1-2be41a4e8a6d",
   "metadata": {},
   "outputs": [],
   "source": []
  },
  {
   "cell_type": "code",
   "execution_count": null,
   "id": "e660ea25-f79b-40b7-b2cf-73a858a7b985",
   "metadata": {},
   "outputs": [],
   "source": []
  },
  {
   "cell_type": "code",
   "execution_count": null,
   "id": "28dabacf-4553-4c2e-88a8-5169a3ed4a2f",
   "metadata": {},
   "outputs": [],
   "source": []
  },
  {
   "cell_type": "code",
   "execution_count": null,
   "id": "8d164c6c-733f-4966-aff7-6641bf0d7724",
   "metadata": {},
   "outputs": [],
   "source": []
  },
  {
   "cell_type": "code",
   "execution_count": null,
   "id": "1b5e5c85-2075-4572-8806-1d54f245839d",
   "metadata": {},
   "outputs": [],
   "source": []
  },
  {
   "cell_type": "markdown",
   "id": "8690bf17-63cc-4977-bec5-c2db26a5a92a",
   "metadata": {},
   "source": [
    "Needed to reduce the size of my data to generate predicted ratings for all user/business pairs that don't have an existing rating"
   ]
  },
  {
   "cell_type": "code",
   "execution_count": 69,
   "id": "54b9f2e5-246e-4036-b13d-ad3923f6ac26",
   "metadata": {},
   "outputs": [],
   "source": [
    "sample = restaurant_ratings_df.sample(frac=0.1,random_state=42)"
   ]
  },
  {
   "cell_type": "code",
   "execution_count": null,
   "id": "922b5f1a-3a53-40a3-abc3-fa696c829bb5",
   "metadata": {},
   "outputs": [],
   "source": []
  },
  {
   "cell_type": "code",
   "execution_count": 70,
   "id": "8bb70d6e-e25b-4f12-bb3b-1bb766f11ec2",
   "metadata": {},
   "outputs": [
    {
     "name": "stdout",
     "output_type": "stream",
     "text": [
      "CPU times: user 1min 41s, sys: 36.8 s, total: 2min 18s\n",
      "Wall time: 2min 39s\n"
     ]
    }
   ],
   "source": [
    "%%time\n",
    "# Load the dataset from the dataframe\n",
    "data = Dataset.load_from_df(sample, Reader(rating_scale=(1, 5)))\n",
    "\n",
    "# Split the dataset into training and test set\n",
    "trainset = data.build_full_trainset()\n",
    "\n",
    "# Use the FunkSVD algorithm\n",
    "algo = FunkSVD(random_state=25)\n",
    "algo.fit(trainset)\n",
    "\n",
    "# Now we need to predict ratings for all combinations of users and items that are NOT in the training set\n",
    "testset = trainset.build_anti_testset()\n",
    "\n",
    "# Predicting the ratings for the testset\n",
    "predictions = algo.test(testset)"
   ]
  },
  {
   "cell_type": "code",
   "execution_count": 77,
   "id": "6670b69e-2a32-4f45-93c8-c2b76ce5e8b9",
   "metadata": {},
   "outputs": [],
   "source": [
    "# Saving predictions algorithim to a file\n",
    "with open('algorithims/s_predictions.pkl', 'wb') as f:\n",
    "    pickle.dump(predictions, f)"
   ]
  },
  {
   "cell_type": "code",
   "execution_count": 71,
   "id": "47cd80fe-88b2-45a7-9178-2d00cd4a5e51",
   "metadata": {},
   "outputs": [
    {
     "name": "stdout",
     "output_type": "stream",
     "text": [
      "CPU times: user 12.7 s, sys: 11.2 s, total: 23.8 s\n",
      "Wall time: 28.3 s\n"
     ]
    },
    {
     "data": {
      "text/html": [
       "<div>\n",
       "<style scoped>\n",
       "    .dataframe tbody tr th:only-of-type {\n",
       "        vertical-align: middle;\n",
       "    }\n",
       "\n",
       "    .dataframe tbody tr th {\n",
       "        vertical-align: top;\n",
       "    }\n",
       "\n",
       "    .dataframe thead th {\n",
       "        text-align: right;\n",
       "    }\n",
       "</style>\n",
       "<table border=\"1\" class=\"dataframe\">\n",
       "  <thead>\n",
       "    <tr style=\"text-align: right;\">\n",
       "      <th></th>\n",
       "      <th>uid</th>\n",
       "      <th>iid</th>\n",
       "      <th>r_ui</th>\n",
       "      <th>est</th>\n",
       "      <th>details</th>\n",
       "    </tr>\n",
       "  </thead>\n",
       "  <tbody>\n",
       "    <tr>\n",
       "      <th>0</th>\n",
       "      <td>tpeSrIFB-Ce0CjtTsRE0OA</td>\n",
       "      <td>pOPggEGV0gy8U0v-lHByRA</td>\n",
       "      <td>3.829141</td>\n",
       "      <td>3.959786</td>\n",
       "      <td>{'was_impossible': False}</td>\n",
       "    </tr>\n",
       "    <tr>\n",
       "      <th>1</th>\n",
       "      <td>tpeSrIFB-Ce0CjtTsRE0OA</td>\n",
       "      <td>w-DEeeCRDlKoyO2P7nTKdQ</td>\n",
       "      <td>3.829141</td>\n",
       "      <td>3.580084</td>\n",
       "      <td>{'was_impossible': False}</td>\n",
       "    </tr>\n",
       "    <tr>\n",
       "      <th>2</th>\n",
       "      <td>tpeSrIFB-Ce0CjtTsRE0OA</td>\n",
       "      <td>bmJgvpuf2GBXd62ELK0Q2w</td>\n",
       "      <td>3.829141</td>\n",
       "      <td>3.593905</td>\n",
       "      <td>{'was_impossible': False}</td>\n",
       "    </tr>\n",
       "    <tr>\n",
       "      <th>3</th>\n",
       "      <td>tpeSrIFB-Ce0CjtTsRE0OA</td>\n",
       "      <td>nyU4OrNGq-rme9lHvtIVIA</td>\n",
       "      <td>3.829141</td>\n",
       "      <td>3.799522</td>\n",
       "      <td>{'was_impossible': False}</td>\n",
       "    </tr>\n",
       "    <tr>\n",
       "      <th>4</th>\n",
       "      <td>tpeSrIFB-Ce0CjtTsRE0OA</td>\n",
       "      <td>OChSrnaj5tQ1-wm7zoVT4w</td>\n",
       "      <td>3.829141</td>\n",
       "      <td>4.081622</td>\n",
       "      <td>{'was_impossible': False}</td>\n",
       "    </tr>\n",
       "  </tbody>\n",
       "</table>\n",
       "</div>"
      ],
      "text/plain": [
       "                      uid                     iid      r_ui       est  \\\n",
       "0  tpeSrIFB-Ce0CjtTsRE0OA  pOPggEGV0gy8U0v-lHByRA  3.829141  3.959786   \n",
       "1  tpeSrIFB-Ce0CjtTsRE0OA  w-DEeeCRDlKoyO2P7nTKdQ  3.829141  3.580084   \n",
       "2  tpeSrIFB-Ce0CjtTsRE0OA  bmJgvpuf2GBXd62ELK0Q2w  3.829141  3.593905   \n",
       "3  tpeSrIFB-Ce0CjtTsRE0OA  nyU4OrNGq-rme9lHvtIVIA  3.829141  3.799522   \n",
       "4  tpeSrIFB-Ce0CjtTsRE0OA  OChSrnaj5tQ1-wm7zoVT4w  3.829141  4.081622   \n",
       "\n",
       "                     details  \n",
       "0  {'was_impossible': False}  \n",
       "1  {'was_impossible': False}  \n",
       "2  {'was_impossible': False}  \n",
       "3  {'was_impossible': False}  \n",
       "4  {'was_impossible': False}  "
      ]
     },
     "execution_count": 71,
     "metadata": {},
     "output_type": "execute_result"
    }
   ],
   "source": [
    "# Converting predictions into a human readable format (pandas df)\n",
    "%%time\n",
    "# The predictions are a list of Prediction objects, which you can convert to a dataframe if needed\n",
    "predicted_ratings = pd.DataFrame(predictions)\n",
    "\n",
    "# You can then sort these predictions for each user or display them however you like\n",
    "predicted_ratings.head()"
   ]
  },
  {
   "cell_type": "code",
   "execution_count": 72,
   "id": "7e116a87-5e0f-42dd-9d57-31c742ab6f52",
   "metadata": {},
   "outputs": [
    {
     "data": {
      "text/plain": [
       "(43580576, 5)"
      ]
     },
     "execution_count": 72,
     "metadata": {},
     "output_type": "execute_result"
    }
   ],
   "source": [
    "predicted_ratings.shape"
   ]
  },
  {
   "cell_type": "code",
   "execution_count": 73,
   "id": "301f45b1-d088-4758-8d9c-24d69d8c1253",
   "metadata": {},
   "outputs": [
    {
     "name": "stdout",
     "output_type": "stream",
     "text": [
      "<class 'pandas.core.frame.DataFrame'>\n",
      "RangeIndex: 43580576 entries, 0 to 43580575\n",
      "Data columns (total 5 columns):\n",
      " #   Column   Dtype  \n",
      "---  ------   -----  \n",
      " 0   uid      object \n",
      " 1   iid      object \n",
      " 2   r_ui     float64\n",
      " 3   est      float64\n",
      " 4   details  object \n",
      "dtypes: float64(2), object(3)\n",
      "memory usage: 1.6+ GB\n"
     ]
    }
   ],
   "source": [
    "predicted_ratings.info()"
   ]
  },
  {
   "cell_type": "code",
   "execution_count": null,
   "id": "83227ea7-34aa-467b-82ae-e5207c1f4940",
   "metadata": {},
   "outputs": [],
   "source": []
  },
  {
   "cell_type": "code",
   "execution_count": null,
   "id": "7c409807-8c29-4911-a954-ea52c929458f",
   "metadata": {},
   "outputs": [],
   "source": [
    "# Load algorithim from a file\n",
    "with open('/mnt/data/predictions.pkl', 'rb') as f:\n",
    "    loaded_predictions = pickle.load(f)"
   ]
  },
  {
   "cell_type": "markdown",
   "id": "2e32e572-ede9-4bd6-a3b9-84b4b03feeda",
   "metadata": {},
   "source": [
    "### Food"
   ]
  },
  {
   "cell_type": "code",
   "execution_count": null,
   "id": "431a196e-2707-4b40-ac1d-8d462882c342",
   "metadata": {},
   "outputs": [],
   "source": []
  },
  {
   "cell_type": "markdown",
   "id": "14149153-44ac-4fef-a477-a7eeb6b0b2d4",
   "metadata": {},
   "source": [
    "### Nightlife"
   ]
  },
  {
   "cell_type": "code",
   "execution_count": null,
   "id": "b322685d-643b-4b78-bf30-bde3931f3bf0",
   "metadata": {},
   "outputs": [],
   "source": []
  },
  {
   "cell_type": "markdown",
   "id": "bb935e72-19b0-4bb6-9f22-aec713bc580a",
   "metadata": {},
   "source": [
    "### Active Life"
   ]
  },
  {
   "cell_type": "code",
   "execution_count": null,
   "id": "9c722b3a-4495-4bea-b68f-59a119757d2c",
   "metadata": {},
   "outputs": [],
   "source": []
  },
  {
   "cell_type": "markdown",
   "id": "07728683-e236-49db-b6c9-5ea2e50ace94",
   "metadata": {},
   "source": [
    "### Hotel & Travel"
   ]
  },
  {
   "cell_type": "code",
   "execution_count": null,
   "id": "9408fd93-2e2f-40ae-9f68-c2e866ce2905",
   "metadata": {},
   "outputs": [],
   "source": []
  },
  {
   "cell_type": "markdown",
   "id": "a72995e9-216f-4d88-ad8b-c11ba9d4f3c6",
   "metadata": {},
   "source": [
    "### Arts & Entertainment"
   ]
  },
  {
   "cell_type": "code",
   "execution_count": null,
   "id": "4ad350df-3bf6-4d81-a946-c95ab7cd428e",
   "metadata": {},
   "outputs": [],
   "source": []
  }
 ],
 "metadata": {
  "kernelspec": {
   "display_name": "Python 3 (ipykernel)",
   "language": "python",
   "name": "python3"
  },
  "language_info": {
   "codemirror_mode": {
    "name": "ipython",
    "version": 3
   },
   "file_extension": ".py",
   "mimetype": "text/x-python",
   "name": "python",
   "nbconvert_exporter": "python",
   "pygments_lexer": "ipython3",
   "version": "3.8.18"
  }
 },
 "nbformat": 4,
 "nbformat_minor": 5
}
