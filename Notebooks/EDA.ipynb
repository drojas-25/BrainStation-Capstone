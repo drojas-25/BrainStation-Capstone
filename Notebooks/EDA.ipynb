{
 "cells": [
  {
   "cell_type": "markdown",
   "id": "442eafcd-bed6-4248-be46-5e079b9fefb1",
   "metadata": {},
   "source": [
    "# Introduction\n",
    "# Providing Travel Recommendations Using Machine Learning\n",
    "# Goal:\n",
    "## My project aims to develop a machine learning-based solution that provides personalized recommendations for travelers based on their preferences and past travel history\n",
    "# Data Overview\n",
    "My data is sourced directly from Yelp. The files were originally in JSON format and were converted to CSV prior to this exploration. \n",
    "In this notebook, I'll be exploring three different files business, user, and review data. "
   ]
  },
  {
   "cell_type": "markdown",
   "id": "02f10aad-513f-40d4-b39e-005c27b4bede",
   "metadata": {},
   "source": [
    "#### Packages Import"
   ]
  },
  {
   "cell_type": "code",
   "execution_count": 74,
   "id": "ce33e36c-0a7a-45b5-be38-d32de3faea11",
   "metadata": {},
   "outputs": [],
   "source": [
    "import pandas as pd\n",
    "import numpy as np\n",
    "import matplotlib.pyplot as plt\n",
    "import seaborn as sns"
   ]
  },
  {
   "cell_type": "markdown",
   "id": "d910b968-e3d1-42b9-a1e1-7a37d276b977",
   "metadata": {},
   "source": [
    "# Business Data Set\n",
    "#### Data Dictionary\n",
    "- **business_id**  \tUnique identifier for the business  \t**string**\n",
    "- **name**\t        Name of the business\t                **string**\n",
    "- **address**\tAddress where the business is located\t**string**\n",
    "- **city**\tCity where the business is located\t**string**\n",
    "- **state**\tState where the business is located\t**string**\n",
    "- **postal_code**\tpostal_code where the business is located\t**string**\n",
    "- **latitude**\tGeographical latitude of the business\t**float64**\n",
    "- **longitude**\tGeographical longitude of the business\t**float64**\n",
    "- **stars**\tStar rating of the business\t**float64**\n",
    "- **review_count**\tNumber of reviews the business has received\t**int64**\n",
    "- **is_open**\t0 is closed and 1 is open\t**int64**\n",
    "- **attributes**\tAttribute: Boolean\t**string-Dict**\n",
    "- **categories**\tCategories the business falls under\t**string**\n",
    "- **hours**\tDay of the week: Hours of operation\t**string-Dict**"
   ]
  },
  {
   "cell_type": "code",
   "execution_count": 6,
   "id": "28794e96-1170-40fd-904c-b98f8da45836",
   "metadata": {},
   "outputs": [],
   "source": [
    "# Reading CSV file into notebook and saving it to pandas df\n",
    "df_b = pd.read_csv('data/yelp_business.csv', index_col=0)"
   ]
  },
  {
   "cell_type": "code",
   "execution_count": 7,
   "id": "70fba427-79c6-4da6-86dc-b91493eef243",
   "metadata": {
    "scrolled": true
   },
   "outputs": [
    {
     "data": {
      "text/html": [
       "<div>\n",
       "<style scoped>\n",
       "    .dataframe tbody tr th:only-of-type {\n",
       "        vertical-align: middle;\n",
       "    }\n",
       "\n",
       "    .dataframe tbody tr th {\n",
       "        vertical-align: top;\n",
       "    }\n",
       "\n",
       "    .dataframe thead th {\n",
       "        text-align: right;\n",
       "    }\n",
       "</style>\n",
       "<table border=\"1\" class=\"dataframe\">\n",
       "  <thead>\n",
       "    <tr style=\"text-align: right;\">\n",
       "      <th></th>\n",
       "      <th>business_id</th>\n",
       "      <th>name</th>\n",
       "      <th>address</th>\n",
       "      <th>city</th>\n",
       "      <th>state</th>\n",
       "      <th>postal_code</th>\n",
       "      <th>latitude</th>\n",
       "      <th>longitude</th>\n",
       "      <th>stars</th>\n",
       "      <th>review_count</th>\n",
       "      <th>is_open</th>\n",
       "      <th>attributes</th>\n",
       "      <th>categories</th>\n",
       "      <th>hours</th>\n",
       "    </tr>\n",
       "  </thead>\n",
       "  <tbody>\n",
       "    <tr>\n",
       "      <th>0</th>\n",
       "      <td>Pns2l4eNsfO8kk83dixA6A</td>\n",
       "      <td>Abby Rappoport, LAC, CMQ</td>\n",
       "      <td>1616 Chapala St, Ste 2</td>\n",
       "      <td>Santa Barbara</td>\n",
       "      <td>CA</td>\n",
       "      <td>93101</td>\n",
       "      <td>34.426679</td>\n",
       "      <td>-119.711197</td>\n",
       "      <td>5.0</td>\n",
       "      <td>7</td>\n",
       "      <td>0</td>\n",
       "      <td>{'ByAppointmentOnly': 'True'}</td>\n",
       "      <td>Doctors, Traditional Chinese Medicine, Naturop...</td>\n",
       "      <td>NaN</td>\n",
       "    </tr>\n",
       "    <tr>\n",
       "      <th>1</th>\n",
       "      <td>mpf3x-BjTdTEA3yCZrAYPw</td>\n",
       "      <td>The UPS Store</td>\n",
       "      <td>87 Grasso Plaza Shopping Center</td>\n",
       "      <td>Affton</td>\n",
       "      <td>MO</td>\n",
       "      <td>63123</td>\n",
       "      <td>38.551126</td>\n",
       "      <td>-90.335695</td>\n",
       "      <td>3.0</td>\n",
       "      <td>15</td>\n",
       "      <td>1</td>\n",
       "      <td>{'BusinessAcceptsCreditCards': 'True'}</td>\n",
       "      <td>Shipping Centers, Local Services, Notaries, Ma...</td>\n",
       "      <td>{'Monday': '0:0-0:0', 'Tuesday': '8:0-18:30', ...</td>\n",
       "    </tr>\n",
       "    <tr>\n",
       "      <th>2</th>\n",
       "      <td>tUFrWirKiKi_TAnsVWINQQ</td>\n",
       "      <td>Target</td>\n",
       "      <td>5255 E Broadway Blvd</td>\n",
       "      <td>Tucson</td>\n",
       "      <td>AZ</td>\n",
       "      <td>85711</td>\n",
       "      <td>32.223236</td>\n",
       "      <td>-110.880452</td>\n",
       "      <td>3.5</td>\n",
       "      <td>22</td>\n",
       "      <td>0</td>\n",
       "      <td>{'BikeParking': 'True', 'BusinessAcceptsCredit...</td>\n",
       "      <td>Department Stores, Shopping, Fashion, Home &amp; G...</td>\n",
       "      <td>{'Monday': '8:0-22:0', 'Tuesday': '8:0-22:0', ...</td>\n",
       "    </tr>\n",
       "    <tr>\n",
       "      <th>3</th>\n",
       "      <td>MTSW4McQd7CbVtyjqoe9mw</td>\n",
       "      <td>St Honore Pastries</td>\n",
       "      <td>935 Race St</td>\n",
       "      <td>Philadelphia</td>\n",
       "      <td>PA</td>\n",
       "      <td>19107</td>\n",
       "      <td>39.955505</td>\n",
       "      <td>-75.155564</td>\n",
       "      <td>4.0</td>\n",
       "      <td>80</td>\n",
       "      <td>1</td>\n",
       "      <td>{'RestaurantsDelivery': 'False', 'OutdoorSeati...</td>\n",
       "      <td>Restaurants, Food, Bubble Tea, Coffee &amp; Tea, B...</td>\n",
       "      <td>{'Monday': '7:0-20:0', 'Tuesday': '7:0-20:0', ...</td>\n",
       "    </tr>\n",
       "    <tr>\n",
       "      <th>4</th>\n",
       "      <td>mWMc6_wTdE0EUBKIGXDVfA</td>\n",
       "      <td>Perkiomen Valley Brewery</td>\n",
       "      <td>101 Walnut St</td>\n",
       "      <td>Green Lane</td>\n",
       "      <td>PA</td>\n",
       "      <td>18054</td>\n",
       "      <td>40.338183</td>\n",
       "      <td>-75.471659</td>\n",
       "      <td>4.5</td>\n",
       "      <td>13</td>\n",
       "      <td>1</td>\n",
       "      <td>{'BusinessAcceptsCreditCards': 'True', 'Wheelc...</td>\n",
       "      <td>Brewpubs, Breweries, Food</td>\n",
       "      <td>{'Wednesday': '14:0-22:0', 'Thursday': '16:0-2...</td>\n",
       "    </tr>\n",
       "  </tbody>\n",
       "</table>\n",
       "</div>"
      ],
      "text/plain": [
       "              business_id                      name  \\\n",
       "0  Pns2l4eNsfO8kk83dixA6A  Abby Rappoport, LAC, CMQ   \n",
       "1  mpf3x-BjTdTEA3yCZrAYPw             The UPS Store   \n",
       "2  tUFrWirKiKi_TAnsVWINQQ                    Target   \n",
       "3  MTSW4McQd7CbVtyjqoe9mw        St Honore Pastries   \n",
       "4  mWMc6_wTdE0EUBKIGXDVfA  Perkiomen Valley Brewery   \n",
       "\n",
       "                           address           city state postal_code  \\\n",
       "0           1616 Chapala St, Ste 2  Santa Barbara    CA       93101   \n",
       "1  87 Grasso Plaza Shopping Center         Affton    MO       63123   \n",
       "2             5255 E Broadway Blvd         Tucson    AZ       85711   \n",
       "3                      935 Race St   Philadelphia    PA       19107   \n",
       "4                    101 Walnut St     Green Lane    PA       18054   \n",
       "\n",
       "    latitude   longitude  stars  review_count  is_open  \\\n",
       "0  34.426679 -119.711197    5.0             7        0   \n",
       "1  38.551126  -90.335695    3.0            15        1   \n",
       "2  32.223236 -110.880452    3.5            22        0   \n",
       "3  39.955505  -75.155564    4.0            80        1   \n",
       "4  40.338183  -75.471659    4.5            13        1   \n",
       "\n",
       "                                          attributes  \\\n",
       "0                      {'ByAppointmentOnly': 'True'}   \n",
       "1             {'BusinessAcceptsCreditCards': 'True'}   \n",
       "2  {'BikeParking': 'True', 'BusinessAcceptsCredit...   \n",
       "3  {'RestaurantsDelivery': 'False', 'OutdoorSeati...   \n",
       "4  {'BusinessAcceptsCreditCards': 'True', 'Wheelc...   \n",
       "\n",
       "                                          categories  \\\n",
       "0  Doctors, Traditional Chinese Medicine, Naturop...   \n",
       "1  Shipping Centers, Local Services, Notaries, Ma...   \n",
       "2  Department Stores, Shopping, Fashion, Home & G...   \n",
       "3  Restaurants, Food, Bubble Tea, Coffee & Tea, B...   \n",
       "4                          Brewpubs, Breweries, Food   \n",
       "\n",
       "                                               hours  \n",
       "0                                                NaN  \n",
       "1  {'Monday': '0:0-0:0', 'Tuesday': '8:0-18:30', ...  \n",
       "2  {'Monday': '8:0-22:0', 'Tuesday': '8:0-22:0', ...  \n",
       "3  {'Monday': '7:0-20:0', 'Tuesday': '7:0-20:0', ...  \n",
       "4  {'Wednesday': '14:0-22:0', 'Thursday': '16:0-2...  "
      ]
     },
     "execution_count": 7,
     "metadata": {},
     "output_type": "execute_result"
    }
   ],
   "source": [
    "# Quick peak into data \n",
    "df_b.head()"
   ]
  },
  {
   "cell_type": "code",
   "execution_count": 8,
   "id": "d20f4b92-fbb2-4daf-894f-ae4663e18d3e",
   "metadata": {
    "scrolled": true
   },
   "outputs": [
    {
     "name": "stdout",
     "output_type": "stream",
     "text": [
      "<class 'pandas.core.frame.DataFrame'>\n",
      "Int64Index: 150346 entries, 0 to 150345\n",
      "Data columns (total 14 columns):\n",
      " #   Column        Non-Null Count   Dtype  \n",
      "---  ------        --------------   -----  \n",
      " 0   business_id   150346 non-null  object \n",
      " 1   name          150346 non-null  object \n",
      " 2   address       145219 non-null  object \n",
      " 3   city          150346 non-null  object \n",
      " 4   state         150346 non-null  object \n",
      " 5   postal_code   150273 non-null  object \n",
      " 6   latitude      150346 non-null  float64\n",
      " 7   longitude     150346 non-null  float64\n",
      " 8   stars         150346 non-null  float64\n",
      " 9   review_count  150346 non-null  int64  \n",
      " 10  is_open       150346 non-null  int64  \n",
      " 11  attributes    136602 non-null  object \n",
      " 12  categories    150243 non-null  object \n",
      " 13  hours         127123 non-null  object \n",
      "dtypes: float64(3), int64(2), object(9)\n",
      "memory usage: 17.2+ MB\n"
     ]
    }
   ],
   "source": [
    "# Gives me a a quick look at the data types for each column, number of entries, and columns.\n",
    "df_b.info()"
   ]
  },
  {
   "cell_type": "code",
   "execution_count": 9,
   "id": "03359613-e10a-4b76-ab0f-4ea194d6869e",
   "metadata": {
    "scrolled": true
   },
   "outputs": [
    {
     "data": {
      "text/plain": [
       "business_id         0\n",
       "name                0\n",
       "address          5127\n",
       "city                0\n",
       "state               0\n",
       "postal_code        73\n",
       "latitude            0\n",
       "longitude           0\n",
       "stars               0\n",
       "review_count        0\n",
       "is_open             0\n",
       "attributes      13744\n",
       "categories        103\n",
       "hours           23223\n",
       "dtype: int64"
      ]
     },
     "execution_count": 9,
     "metadata": {},
     "output_type": "execute_result"
    }
   ],
   "source": [
    "# Quick check to count the number of null values per column\n",
    "df_b.isna().sum()"
   ]
  },
  {
   "cell_type": "code",
   "execution_count": 18,
   "id": "f3a1e460-68f7-4693-95f4-8ff4500ae640",
   "metadata": {
    "scrolled": true
   },
   "outputs": [
    {
     "data": {
      "text/plain": [
       "business_id     0.0\n",
       "name            0.0\n",
       "address         0.0\n",
       "city            0.0\n",
       "state           0.0\n",
       "postal_code     0.0\n",
       "latitude        0.0\n",
       "longitude       0.0\n",
       "stars           0.0\n",
       "review_count    0.0\n",
       "is_open         0.0\n",
       "attributes      0.0\n",
       "categories      0.0\n",
       "hours           0.0\n",
       "dtype: float64"
      ]
     },
     "execution_count": 18,
     "metadata": {},
     "output_type": "execute_result"
    }
   ],
   "source": [
    "# Check for duplicate rows \n",
    "df_b[df_b.duplicated()].sum()"
   ]
  },
  {
   "cell_type": "markdown",
   "id": "1b2cc7ba-d14e-416d-ad62-7ced4a07ea85",
   "metadata": {
    "jp-MarkdownHeadingCollapsed": true
   },
   "source": [
    "## Business Details\n",
    "The first eight columns contain information about the business, such as a business id, name of the business, address, city, state, postal code, and geo-location coordinates."
   ]
  },
  {
   "cell_type": "markdown",
   "id": "19873761-966c-49de-8edd-0fa8999a03a3",
   "metadata": {},
   "source": [
    "**Address**"
   ]
  },
  {
   "cell_type": "code",
   "execution_count": 20,
   "id": "bf19f789-5555-4879-ab5b-1cd3dedbe721",
   "metadata": {},
   "outputs": [
    {
     "data": {
      "text/plain": [
       "5127"
      ]
     },
     "execution_count": 20,
     "metadata": {},
     "output_type": "execute_result"
    }
   ],
   "source": [
    "df_b['address'].isna().sum()\n",
    "# null values will need to be address later "
   ]
  },
  {
   "cell_type": "markdown",
   "id": "9428acb1-7c06-453a-8680-fe77682fba0d",
   "metadata": {},
   "source": [
    "**City**"
   ]
  },
  {
   "cell_type": "code",
   "execution_count": 22,
   "id": "e4c9a66d-ca12-4c0a-9255-3a32722dbed3",
   "metadata": {},
   "outputs": [
    {
     "data": {
      "text/plain": [
       "Philadelphia      14569\n",
       "Tucson             9250\n",
       "Tampa              9050\n",
       "Indianapolis       7540\n",
       "Nashville          6971\n",
       "                  ...  \n",
       "Gentilly              1\n",
       "pennsauken            1\n",
       "Hamiltion             1\n",
       "Newtown square        1\n",
       "Apollo beach          1\n",
       "Name: city, Length: 1416, dtype: int64"
      ]
     },
     "execution_count": 22,
     "metadata": {},
     "output_type": "execute_result"
    }
   ],
   "source": [
    "df_b['city'].value_counts()"
   ]
  },
  {
   "cell_type": "markdown",
   "id": "921be99e-53b6-45b8-9c9b-f91939a6fe8c",
   "metadata": {},
   "source": [
    "Interestingly, there seems to be significantly more cities represented in the dataset than initially expected. I will have to do a deeper investigation as the majority could represent suburbs surrounding major metropolitan areas."
   ]
  },
  {
   "cell_type": "code",
   "execution_count": 39,
   "id": "3493a312-a4c5-4404-b06a-97ffdcb89ee8",
   "metadata": {},
   "outputs": [],
   "source": [
    "# Save value counts of city column to new data frame\n",
    "vc_city = df_b['city'].value_counts()"
   ]
  },
  {
   "cell_type": "code",
   "execution_count": 37,
   "id": "0eb8720e-5dd9-4cd4-8a95-2b72caf954a9",
   "metadata": {
    "scrolled": true
   },
   "outputs": [
    {
     "name": "stdout",
     "output_type": "stream",
     "text": [
      "Philadelphia        14569\n",
      "Tucson               9250\n",
      "Tampa                9050\n",
      "Indianapolis         7540\n",
      "Nashville            6971\n",
      "New Orleans          6209\n",
      "Reno                 5935\n",
      "Edmonton             5054\n",
      "Saint Louis          4827\n",
      "Santa Barbara        3829\n",
      "Boise                2937\n",
      "Clearwater           2221\n",
      "Saint Petersburg     1663\n",
      "Metairie             1643\n",
      "Sparks               1624\n",
      "Name: city, dtype: int64\n"
     ]
    }
   ],
   "source": [
    "# returns cities with more than 1500 business entries\n",
    "print(vc_city[vc_city > 1500])"
   ]
  },
  {
   "cell_type": "markdown",
   "id": "6b2abb43-16d7-45d4-8e9f-26ffc631217d",
   "metadata": {},
   "source": [
    "**State**"
   ]
  },
  {
   "cell_type": "code",
   "execution_count": 40,
   "id": "070d0c02-11c6-49b4-92ec-df9069979fb8",
   "metadata": {
    "scrolled": true
   },
   "outputs": [
    {
     "data": {
      "text/plain": [
       "PA     34039\n",
       "FL     26330\n",
       "TN     12056\n",
       "IN     11247\n",
       "MO     10913\n",
       "LA      9924\n",
       "AZ      9912\n",
       "NJ      8536\n",
       "NV      7715\n",
       "AB      5573\n",
       "CA      5203\n",
       "ID      4467\n",
       "DE      2265\n",
       "IL      2145\n",
       "TX         4\n",
       "CO         3\n",
       "WA         2\n",
       "HI         2\n",
       "MA         2\n",
       "NC         1\n",
       "UT         1\n",
       "MT         1\n",
       "MI         1\n",
       "SD         1\n",
       "XMS        1\n",
       "VI         1\n",
       "VT         1\n",
       "Name: state, dtype: int64"
      ]
     },
     "execution_count": 40,
     "metadata": {},
     "output_type": "execute_result"
    }
   ],
   "source": [
    "df_b['state'].value_counts()"
   ]
  },
  {
   "cell_type": "markdown",
   "id": "c2c359e4-18e4-4360-9748-557f118f66ce",
   "metadata": {},
   "source": [
    "Data represent various states across the US and Canada"
   ]
  },
  {
   "cell_type": "markdown",
   "id": "a9909a44-41f6-458c-aeb9-9023149ef199",
   "metadata": {},
   "source": [
    "**Postal Code**"
   ]
  },
  {
   "cell_type": "code",
   "execution_count": 21,
   "id": "35c9ea2c-957e-4ec3-93f0-35ca82d2161e",
   "metadata": {},
   "outputs": [
    {
     "data": {
      "text/plain": [
       "73"
      ]
     },
     "execution_count": 21,
     "metadata": {},
     "output_type": "execute_result"
    }
   ],
   "source": [
    "df_b['postal_code'].isna().sum()\n",
    "# null values will need to be addressed later "
   ]
  },
  {
   "cell_type": "code",
   "execution_count": 36,
   "id": "e855057a-6eb0-491e-8297-b60f62c61445",
   "metadata": {},
   "outputs": [
    {
     "data": {
      "text/plain": [
       "93101      1866\n",
       "89502      1804\n",
       "70130      1512\n",
       "19103      1362\n",
       "19107      1353\n",
       "           ... \n",
       "46211         1\n",
       "T5K 1C4       1\n",
       "T6G 0W8       1\n",
       "T5H 0R8       1\n",
       "T5J 4X6       1\n",
       "Name: postal_code, Length: 3361, dtype: int64"
      ]
     },
     "execution_count": 36,
     "metadata": {},
     "output_type": "execute_result"
    }
   ],
   "source": [
    "df_b['postal_code'].value_counts()"
   ]
  },
  {
   "cell_type": "markdown",
   "id": "973e3bd6-ae56-49d9-a536-d594f2f5c2bf",
   "metadata": {},
   "source": [
    "An interesting thing to note is that Canadian postal codes have a noticablly format; the incorporation of nonnumeric values may be another layer of difficulty when performing an analysis. "
   ]
  },
  {
   "cell_type": "markdown",
   "id": "df5ffa0f-f858-4551-b935-909602c7611c",
   "metadata": {
    "jp-MarkdownHeadingCollapsed": true
   },
   "source": [
    "## Stars \n",
    "Column contains the average of all user ratings for a business."
   ]
  },
  {
   "cell_type": "code",
   "execution_count": 43,
   "id": "c264583c-6160-4575-b20a-2fb1d7b80f8d",
   "metadata": {},
   "outputs": [
    {
     "data": {
      "text/plain": [
       "4.0    31125\n",
       "4.5    27181\n",
       "3.5    26519\n",
       "3.0    18453\n",
       "5.0    16307\n",
       "2.5    14316\n",
       "2.0     9527\n",
       "1.5     4932\n",
       "1.0     1986\n",
       "Name: stars, dtype: int64"
      ]
     },
     "execution_count": 43,
     "metadata": {},
     "output_type": "execute_result"
    }
   ],
   "source": [
    "df_b['stars'].value_counts()"
   ]
  },
  {
   "cell_type": "code",
   "execution_count": 46,
   "id": "2ac4cb66-ee0f-40e6-aee0-ae23566b4dad",
   "metadata": {},
   "outputs": [
    {
     "data": {
      "text/plain": [
       "3.5967235576603303"
      ]
     },
     "execution_count": 46,
     "metadata": {},
     "output_type": "execute_result"
    }
   ],
   "source": [
    "df_b['stars'].agg('average')"
   ]
  },
  {
   "cell_type": "markdown",
   "id": "104ad5ed-7261-453e-9602-488eb9729e09",
   "metadata": {},
   "source": [
    "Star ratings are given in increments of .5 with 4.0 the most common rating given to businesses and 3.6 the being the average rating. "
   ]
  },
  {
   "cell_type": "code",
   "execution_count": 67,
   "id": "12428ca8-2923-4f89-bdec-b1a7610b8621",
   "metadata": {},
   "outputs": [
    {
     "data": {
      "image/png": "[encoded data removed]",
      "text/plain": [
       "<Figure size 640x480 with 1 Axes>"
      ]
     },
     "metadata": {},
     "output_type": "display_data"
    }
   ],
   "source": [
    "# Histogram distribution for review ratings\n",
    "mean = round(df_b['stars'].mean(),2)\n",
    "median = df_b['stars'].median()\n",
    "\n",
    "df_b['stars'].hist(bins=9) \n",
    "plt.xlabel('Stars')\n",
    "plt.ylabel('Number of Ratings')\n",
    "plt.title('Distribution of Star Ratings')\n",
    "\n",
    "plt.axvline(mean, color='red', label=f'Mean: {mean}')\n",
    "plt.axvline(median, color='black', label=f'Median: {median}')\n",
    "plt.legend()\n",
    "\n",
    "plt.show()"
   ]
  },
  {
   "cell_type": "markdown",
   "id": "1144059f-25d2-44fc-a97d-c74bc785cb97",
   "metadata": {},
   "source": [
    "Plot visualizes a slightly right-skewed distribution. Users tend to give higher ratings. "
   ]
  },
  {
   "cell_type": "code",
   "execution_count": 68,
   "id": "f7dd41bb-2b68-41a7-88e1-7df89c7e27cc",
   "metadata": {},
   "outputs": [
    {
     "data": {
      "text/plain": [
       "<Figure size 640x480 with 0 Axes>"
      ]
     },
     "metadata": {},
     "output_type": "display_data"
    }
   ],
   "source": [
    "plt.savefig('figures/BusinessRatingsDistribution.png')"
   ]
  },
  {
   "cell_type": "markdown",
   "id": "a76b6baf-5c38-4e23-9825-8e5a4457436e",
   "metadata": {
    "jp-MarkdownHeadingCollapsed": true
   },
   "source": [
    "## Review Count \n",
    "The column contains a count of the number of user reviews for each business."
   ]
  },
  {
   "cell_type": "code",
   "execution_count": 86,
   "id": "d83b633c-2ac8-470f-bb5a-c6bb97079e05",
   "metadata": {},
   "outputs": [
    {
     "data": {
      "text/plain": [
       "<Axes: xlabel='review_count'>"
      ]
     },
     "execution_count": 86,
     "metadata": {},
     "output_type": "execute_result"
    },
    {
     "data": {
      "image/png": "[encoded data removed]",
      "text/plain": [
       "<Figure size 5000x1000 with 1 Axes>"
      ]
     },
     "metadata": {},
     "output_type": "display_data"
    }
   ],
   "source": [
    "# Boxplot of review count\n",
    "# Resource: https://www.geeksforgeeks.org/boxplot-using-seaborn-in-python/\n",
    "# Create a figure with a specific size\n",
    "plt.figure(figsize=(50, 10))\n",
    "# use to set style of background of plot\n",
    "sns.set(style=\"whitegrid\")\n",
    " \n",
    "sns.boxplot(x =df_b['review_count'])"
   ]
  },
  {
   "cell_type": "code",
   "execution_count": 83,
   "id": "740396b2-f45f-4d00-aafb-437cc917208e",
   "metadata": {},
   "outputs": [
    {
     "data": {
      "text/plain": [
       "44.87"
      ]
     },
     "execution_count": 83,
     "metadata": {},
     "output_type": "execute_result"
    }
   ],
   "source": [
    "round(df_b['review_count'].mean(),2)"
   ]
  },
  {
   "cell_type": "code",
   "execution_count": 85,
   "id": "343dd529-ad6d-4b49-8d18-aaa3c632f4c4",
   "metadata": {},
   "outputs": [
    {
     "data": {
      "text/plain": [
       "15.0"
      ]
     },
     "execution_count": 85,
     "metadata": {},
     "output_type": "execute_result"
    }
   ],
   "source": [
    "df_b['review_count'].median()"
   ]
  },
  {
   "cell_type": "markdown",
   "id": "e42ab19e-1d85-4854-92ac-1ab0e51e5031",
   "metadata": {},
   "source": [
    "The plot wasn't the best visual, but it did highlight the enormous range in the number of reviews a business receives. You can also get a sense of spread from the median and mean, the latter being significantly higher at 45 average reviews per business. "
   ]
  },
  {
   "cell_type": "markdown",
   "id": "f75e0ef9-935f-4904-b417-123ca9c0447a",
   "metadata": {
    "jp-MarkdownHeadingCollapsed": true
   },
   "source": [
    "## Is Open\n",
    "The binary column indicates where a business is still open and operating or permanently closed."
   ]
  },
  {
   "cell_type": "code",
   "execution_count": 87,
   "id": "0d172f19-8659-4484-a49f-dee77fab674f",
   "metadata": {},
   "outputs": [
    {
     "data": {
      "text/plain": [
       "1    119698\n",
       "0     30648\n",
       "Name: is_open, dtype: int64"
      ]
     },
     "execution_count": 87,
     "metadata": {},
     "output_type": "execute_result"
    }
   ],
   "source": [
    "# Count of open and closed businesses\n",
    "df_b['is_open'].value_counts()"
   ]
  },
  {
   "cell_type": "markdown",
   "id": "84687b9d-750d-4ea3-ae65-4d7042d03a43",
   "metadata": {},
   "source": [
    "30,648 businesses are closed which accounts for 20% of the data. On the surface, you probably wouldn't want 'out-of-date' data; however, for my project, it could still be helpful to make connections between users and businesses that they visited, regardless of whether they are still open. "
   ]
  },
  {
   "cell_type": "markdown",
   "id": "89b7f25c-71aa-420c-a38c-ccf7efab658b",
   "metadata": {
    "jp-MarkdownHeadingCollapsed": true
   },
   "source": [
    "## Attributes\n",
    "The column contains a dictionary containing a set of attributes that are different for each business category and the boolean value represents whether the business offers that attribute or not."
   ]
  },
  {
   "cell_type": "code",
   "execution_count": null,
   "id": "145aa742-7f14-4784-a86d-6ce25426d6bd",
   "metadata": {},
   "outputs": [],
   "source": [
    "# May drop, it may be too computationally expensive to flatten "
   ]
  },
  {
   "cell_type": "markdown",
   "id": "8425288d-b40a-43f2-90db-bd495971ea93",
   "metadata": {
    "jp-MarkdownHeadingCollapsed": true
   },
   "source": [
    "## Categories\n",
    "[Yelp Categories](https://blog.yelp.com/businesses/yelp_category_list/)<br/>\n",
    "The column contains a list of categories the business falls under; for more info, click the link above, where Yelp provides a breakdown of their category organization. "
   ]
  },
  {
   "cell_type": "code",
   "execution_count": 109,
   "id": "aa2198fb-03d3-4492-81c0-267a7bcf81b9",
   "metadata": {},
   "outputs": [
    {
     "data": {
      "text/plain": [
       "103"
      ]
     },
     "execution_count": 109,
     "metadata": {},
     "output_type": "execute_result"
    }
   ],
   "source": [
    "# Need to drop rows with empty categories\n",
    "df_b['categories'].isna().sum()"
   ]
  },
  {
   "cell_type": "code",
   "execution_count": 41,
   "id": "87f2a5c3-7c5e-43b4-a0f4-cb4a4eb1abfc",
   "metadata": {},
   "outputs": [],
   "source": [
    "# Need to flatten or explode subcategories into there own column "
   ]
  },
  {
   "cell_type": "code",
   "execution_count": null,
   "id": "5c9efdb7-845d-4fb4-9fc1-c563e483ef68",
   "metadata": {},
   "outputs": [],
   "source": [
    "# Need to drop categories not relevant for travel"
   ]
  },
  {
   "cell_type": "code",
   "execution_count": 138,
   "id": "c47489a0-123c-4e9d-bf86-1450ceddef78",
   "metadata": {},
   "outputs": [
    {
     "name": "stdout",
     "output_type": "stream",
     "text": [
      "               Category  Count\n",
      "0           Restaurants  52268\n",
      "1                  Food  14533\n",
      "5             Nightlife  12281\n",
      "2           Active Life   7687\n",
      "4       Hotels & Travel   5857\n",
      "3  Arts & Entertainment   5434\n"
     ]
    }
   ],
   "source": [
    "# initialize list using counts of each main category\n",
    "category_counts = [['Restaurants', df_b['categories'].str.contains(\"Restaurants\").fillna(False).sum()], \n",
    "        ['Food', df_b['categories'].str.contains(\", Food,\").fillna(False).sum()], \n",
    "        ['Active Life', df_b['categories'].str.contains(\"Active Life\").fillna(False).sum()],\n",
    "        ['Arts & Entertainment', df_b['categories'].str.contains(\"Arts & Entertainment\").fillna(False).sum()],\n",
    "        ['Hotels & Travel', df_b['categories'].str.contains(\"Hotels & Travel\").fillna(False).sum()],\n",
    "        ['Nightlife', df_b['categories'].str.contains(\"Nightlife\").fillna(False).sum()]]\n",
    " \n",
    "# Create the pandas DataFrame\n",
    "df_categories = pd.DataFrame(category_counts, columns=['Category', 'Count'])\n",
    "\n",
    "# Sort Values\n",
    "df_categories = df_categories.sort_values('Count', ascending=False)\n",
    "# print dataframe.\n",
    "print(df_categories)"
   ]
  },
  {
   "cell_type": "code",
   "execution_count": 144,
   "id": "3f78c1a0-d644-4c03-9bc1-677d53ef4e9a",
   "metadata": {},
   "outputs": [
    {
     "data": {
      "text/plain": [
       "98060"
      ]
     },
     "execution_count": 144,
     "metadata": {},
     "output_type": "execute_result"
    }
   ],
   "source": [
    "# Get a total count of all travel related businesses\n",
    "df_categories['Count'].sum()"
   ]
  },
  {
   "cell_type": "code",
   "execution_count": 140,
   "id": "15c13e62-94f3-41e2-9cff-150d7ff191b0",
   "metadata": {},
   "outputs": [
    {
     "data": {
      "image/png": "[encoded data removed]",
      "text/plain": [
       "<Figure size 640x480 with 1 Axes>"
      ]
     },
     "metadata": {},
     "output_type": "display_data"
    }
   ],
   "source": [
    "df_categories.plot('Category', 'Count', kind='bar', width=1)\n",
    "\n",
    "# Rotating X-axis labels\n",
    "plt.xticks(rotation = -60)\n",
    " \n",
    "# Setting title and axis labels\n",
    "plt.title('Businesses per Category')\n",
    "plt.xlabel(\"Categories\")\n",
    "plt.ylabel(\"Number of Businesses\")\n",
    " \n",
    "# Show plot\n",
    "plt.show()"
   ]
  },
  {
   "cell_type": "markdown",
   "id": "47026cb6-46b0-4c8c-960a-03e5ce7214d7",
   "metadata": {},
   "source": [
    "These six categories represent the businesses you typically would visit when traveling. <br>\n",
    "Restaurants are by far the most represented business category, this category is further broken down by the type of cuisine served. The food category is a catch-all category for any food-related business that isn't a restaurant—places like bakeries, coffee shops, pastry shops, food trucks, etc. The nightlife category contains businesses such as bars, comedy clubs, dance clubs, etc. Active life includes Amusement parks, experiences, parks, zoos, etc. The hotels & travel category can include hotels, hostels, tours, vacation rentals, etc. Lastly, the least represented group can include places such as cultural centers, festivals, museums, etc. In total, I have almost 100,000 businesses I can use for the model. "
   ]
  },
  {
   "cell_type": "code",
   "execution_count": 141,
   "id": "63cdcaed-cfed-4e97-994d-1df9d7af0826",
   "metadata": {},
   "outputs": [
    {
     "data": {
      "text/plain": [
       "<Figure size 640x480 with 0 Axes>"
      ]
     },
     "metadata": {},
     "output_type": "display_data"
    }
   ],
   "source": [
    "# Save bar chart to file\n",
    "plt.savefig('figures/BusinessMainCategoriesChart.png')"
   ]
  },
  {
   "cell_type": "markdown",
   "id": "21d0a48e-02ea-4b1e-9d86-fb4450fcea67",
   "metadata": {
    "jp-MarkdownHeadingCollapsed": true
   },
   "source": [
    "## Hours\n",
    "The column contains a dictionary of business hours by day of the week."
   ]
  },
  {
   "cell_type": "code",
   "execution_count": null,
   "id": "4344c3fc-e8f5-479b-9c13-203c65d20a3b",
   "metadata": {},
   "outputs": [],
   "source": [
    "# May drop, it may be too computationally expensive to flatten "
   ]
  },
  {
   "cell_type": "markdown",
   "id": "eca252dd-e810-48c9-b4de-d832eb7d72bf",
   "metadata": {},
   "source": [
    "# User Data Set\n",
    "#### Data Dictionary\n",
    "- **user_id**  \tUnique identifier for each user  \t**string**\n",
    "- **name**\t        Name of user\t                **string**\n",
    "- **review_count**\tNumber of reviews by user\t**int64**\n",
    "- **yelping_since**\tDate account opened\t**Datetime**\n",
    "- **useful**\tCount of how many other users found current user reviews useful\t**int64**\n",
    "- **funny**\tCount of how many other users found current user reviews funny\t**int64**\n",
    "- **cool**\tCount of how many other users found current user reviews cool\t**int64**\n",
    "- **elite**\tyears user was labeled as elite reviewer\t**string**\n",
    "- **friends**\tlist of friends user ids\t**string**\n",
    "- **fans**\tnumber of other users considered fans\t**int64**\n",
    "- **average_stars**\taverage number of stars given to businesses\t**float64**\n",
    "- **compliment_hot**\tcompliments received labeled as hot\t**int64**\n",
    "- **compliment_more**\tcompliments received labeled as more\t**int64**\n",
    "- **compliment_profile**\tcompliments received labeled as profile\t**int64**\n",
    "- **compliment_cute**\tcompliments received labeled as cute\t**int64**\n",
    "- **compliment_list**\tcompliments received labeled as list\t**int64**\n",
    "- **compliment_note**\tcompliments received labeled as note\t**int64**\n",
    "- **compliment_plain**\tcompliments received labeled as plain\t**int64**\n",
    "- **compliment_cool**\tcompliments received labeled as cool\t**int64**\n",
    "- **compliment_funny**\tcompliments received labeled as funny\t**int64**\n",
    "- **compliment_writer**\tcompliments received labeled as writer\t**int64**\n",
    "- **compliment_photos**\tcompliments received labeled as photos\t**int64**"
   ]
  },
  {
   "cell_type": "code",
   "execution_count": 150,
   "id": "2764d565-d988-4146-813c-8d6183cfa774",
   "metadata": {},
   "outputs": [],
   "source": [
    "# Reading CSV file into notebook and saving it to pandas df\n",
    "df_u = pd.read_csv('data/yelp_user.csv', index_col=0)"
   ]
  },
  {
   "cell_type": "code",
   "execution_count": 151,
   "id": "fbfddc1b-74e9-4674-81ab-46c913c57d7d",
   "metadata": {
    "scrolled": true
   },
   "outputs": [
    {
     "data": {
      "text/html": [
       "<div>\n",
       "<style scoped>\n",
       "    .dataframe tbody tr th:only-of-type {\n",
       "        vertical-align: middle;\n",
       "    }\n",
       "\n",
       "    .dataframe tbody tr th {\n",
       "        vertical-align: top;\n",
       "    }\n",
       "\n",
       "    .dataframe thead th {\n",
       "        text-align: right;\n",
       "    }\n",
       "</style>\n",
       "<table border=\"1\" class=\"dataframe\">\n",
       "  <thead>\n",
       "    <tr style=\"text-align: right;\">\n",
       "      <th></th>\n",
       "      <th>user_id</th>\n",
       "      <th>name</th>\n",
       "      <th>review_count</th>\n",
       "      <th>yelping_since</th>\n",
       "      <th>useful</th>\n",
       "      <th>funny</th>\n",
       "      <th>cool</th>\n",
       "      <th>elite</th>\n",
       "      <th>fans</th>\n",
       "      <th>average_stars</th>\n",
       "      <th>...</th>\n",
       "      <th>compliment_more</th>\n",
       "      <th>compliment_profile</th>\n",
       "      <th>compliment_cute</th>\n",
       "      <th>compliment_list</th>\n",
       "      <th>compliment_note</th>\n",
       "      <th>compliment_plain</th>\n",
       "      <th>compliment_cool</th>\n",
       "      <th>compliment_funny</th>\n",
       "      <th>compliment_writer</th>\n",
       "      <th>compliment_photos</th>\n",
       "    </tr>\n",
       "  </thead>\n",
       "  <tbody>\n",
       "    <tr>\n",
       "      <th>0</th>\n",
       "      <td>qVc8ODYU5SZjKXVBgXdI7w</td>\n",
       "      <td>Walker</td>\n",
       "      <td>585</td>\n",
       "      <td>2007-01-25 16:47:26</td>\n",
       "      <td>7217</td>\n",
       "      <td>1259</td>\n",
       "      <td>5994</td>\n",
       "      <td>2007</td>\n",
       "      <td>267</td>\n",
       "      <td>3.91</td>\n",
       "      <td>...</td>\n",
       "      <td>65</td>\n",
       "      <td>55</td>\n",
       "      <td>56</td>\n",
       "      <td>18</td>\n",
       "      <td>232</td>\n",
       "      <td>844</td>\n",
       "      <td>467</td>\n",
       "      <td>467</td>\n",
       "      <td>239</td>\n",
       "      <td>180</td>\n",
       "    </tr>\n",
       "    <tr>\n",
       "      <th>1</th>\n",
       "      <td>j14WgRoU_-2ZE1aw1dXrJg</td>\n",
       "      <td>Daniel</td>\n",
       "      <td>4333</td>\n",
       "      <td>2009-01-25 04:35:42</td>\n",
       "      <td>43091</td>\n",
       "      <td>13066</td>\n",
       "      <td>27281</td>\n",
       "      <td>2009,2010,2011,2012,2013,2014,2015,2016,2017,2...</td>\n",
       "      <td>3138</td>\n",
       "      <td>3.74</td>\n",
       "      <td>...</td>\n",
       "      <td>264</td>\n",
       "      <td>184</td>\n",
       "      <td>157</td>\n",
       "      <td>251</td>\n",
       "      <td>1847</td>\n",
       "      <td>7054</td>\n",
       "      <td>3131</td>\n",
       "      <td>3131</td>\n",
       "      <td>1521</td>\n",
       "      <td>1946</td>\n",
       "    </tr>\n",
       "    <tr>\n",
       "      <th>2</th>\n",
       "      <td>2WnXYQFK0hXEoTxPtV2zvg</td>\n",
       "      <td>Steph</td>\n",
       "      <td>665</td>\n",
       "      <td>2008-07-25 10:41:00</td>\n",
       "      <td>2086</td>\n",
       "      <td>1010</td>\n",
       "      <td>1003</td>\n",
       "      <td>2009,2010,2011,2012,2013</td>\n",
       "      <td>52</td>\n",
       "      <td>3.32</td>\n",
       "      <td>...</td>\n",
       "      <td>13</td>\n",
       "      <td>10</td>\n",
       "      <td>17</td>\n",
       "      <td>3</td>\n",
       "      <td>66</td>\n",
       "      <td>96</td>\n",
       "      <td>119</td>\n",
       "      <td>119</td>\n",
       "      <td>35</td>\n",
       "      <td>18</td>\n",
       "    </tr>\n",
       "    <tr>\n",
       "      <th>3</th>\n",
       "      <td>SZDeASXq7o05mMNLshsdIA</td>\n",
       "      <td>Gwen</td>\n",
       "      <td>224</td>\n",
       "      <td>2005-11-29 04:38:33</td>\n",
       "      <td>512</td>\n",
       "      <td>330</td>\n",
       "      <td>299</td>\n",
       "      <td>2009,2010,2011</td>\n",
       "      <td>28</td>\n",
       "      <td>4.27</td>\n",
       "      <td>...</td>\n",
       "      <td>4</td>\n",
       "      <td>1</td>\n",
       "      <td>6</td>\n",
       "      <td>2</td>\n",
       "      <td>12</td>\n",
       "      <td>16</td>\n",
       "      <td>26</td>\n",
       "      <td>26</td>\n",
       "      <td>10</td>\n",
       "      <td>9</td>\n",
       "    </tr>\n",
       "    <tr>\n",
       "      <th>4</th>\n",
       "      <td>hA5lMy-EnncsH4JoR-hFGQ</td>\n",
       "      <td>Karen</td>\n",
       "      <td>79</td>\n",
       "      <td>2007-01-05 19:40:59</td>\n",
       "      <td>29</td>\n",
       "      <td>15</td>\n",
       "      <td>7</td>\n",
       "      <td>NaN</td>\n",
       "      <td>1</td>\n",
       "      <td>3.54</td>\n",
       "      <td>...</td>\n",
       "      <td>1</td>\n",
       "      <td>0</td>\n",
       "      <td>0</td>\n",
       "      <td>0</td>\n",
       "      <td>1</td>\n",
       "      <td>1</td>\n",
       "      <td>0</td>\n",
       "      <td>0</td>\n",
       "      <td>0</td>\n",
       "      <td>0</td>\n",
       "    </tr>\n",
       "  </tbody>\n",
       "</table>\n",
       "<p>5 rows × 21 columns</p>\n",
       "</div>"
      ],
      "text/plain": [
       "                  user_id    name  review_count        yelping_since  useful  \\\n",
       "0  qVc8ODYU5SZjKXVBgXdI7w  Walker           585  2007-01-25 16:47:26    7217   \n",
       "1  j14WgRoU_-2ZE1aw1dXrJg  Daniel          4333  2009-01-25 04:35:42   43091   \n",
       "2  2WnXYQFK0hXEoTxPtV2zvg   Steph           665  2008-07-25 10:41:00    2086   \n",
       "3  SZDeASXq7o05mMNLshsdIA    Gwen           224  2005-11-29 04:38:33     512   \n",
       "4  hA5lMy-EnncsH4JoR-hFGQ   Karen            79  2007-01-05 19:40:59      29   \n",
       "\n",
       "   funny   cool                                              elite  fans  \\\n",
       "0   1259   5994                                               2007   267   \n",
       "1  13066  27281  2009,2010,2011,2012,2013,2014,2015,2016,2017,2...  3138   \n",
       "2   1010   1003                           2009,2010,2011,2012,2013    52   \n",
       "3    330    299                                     2009,2010,2011    28   \n",
       "4     15      7                                                NaN     1   \n",
       "\n",
       "   average_stars  ...  compliment_more  compliment_profile  compliment_cute  \\\n",
       "0           3.91  ...               65                  55               56   \n",
       "1           3.74  ...              264                 184              157   \n",
       "2           3.32  ...               13                  10               17   \n",
       "3           4.27  ...                4                   1                6   \n",
       "4           3.54  ...                1                   0                0   \n",
       "\n",
       "   compliment_list  compliment_note  compliment_plain  compliment_cool  \\\n",
       "0               18              232               844              467   \n",
       "1              251             1847              7054             3131   \n",
       "2                3               66                96              119   \n",
       "3                2               12                16               26   \n",
       "4                0                1                 1                0   \n",
       "\n",
       "   compliment_funny  compliment_writer  compliment_photos  \n",
       "0               467                239                180  \n",
       "1              3131               1521               1946  \n",
       "2               119                 35                 18  \n",
       "3                26                 10                  9  \n",
       "4                 0                  0                  0  \n",
       "\n",
       "[5 rows x 21 columns]"
      ]
     },
     "execution_count": 151,
     "metadata": {},
     "output_type": "execute_result"
    }
   ],
   "source": [
    "# Quick peak into data \n",
    "df_u.head()"
   ]
  },
  {
   "cell_type": "code",
   "execution_count": 152,
   "id": "c4068070-e651-4779-911c-be6c367b08f1",
   "metadata": {
    "scrolled": true
   },
   "outputs": [
    {
     "name": "stdout",
     "output_type": "stream",
     "text": [
      "<class 'pandas.core.frame.DataFrame'>\n",
      "Int64Index: 1987897 entries, 0 to 1987896\n",
      "Data columns (total 21 columns):\n",
      " #   Column              Dtype  \n",
      "---  ------              -----  \n",
      " 0   user_id             object \n",
      " 1   name                object \n",
      " 2   review_count        int64  \n",
      " 3   yelping_since       object \n",
      " 4   useful              int64  \n",
      " 5   funny               int64  \n",
      " 6   cool                int64  \n",
      " 7   elite               object \n",
      " 8   fans                int64  \n",
      " 9   average_stars       float64\n",
      " 10  compliment_hot      int64  \n",
      " 11  compliment_more     int64  \n",
      " 12  compliment_profile  int64  \n",
      " 13  compliment_cute     int64  \n",
      " 14  compliment_list     int64  \n",
      " 15  compliment_note     int64  \n",
      " 16  compliment_plain    int64  \n",
      " 17  compliment_cool     int64  \n",
      " 18  compliment_funny    int64  \n",
      " 19  compliment_writer   int64  \n",
      " 20  compliment_photos   int64  \n",
      "dtypes: float64(1), int64(16), object(4)\n",
      "memory usage: 333.7+ MB\n"
     ]
    }
   ],
   "source": [
    "# Gives me a a quick look at the data types for each column, number of entries, and columns.\n",
    "df_u.info()"
   ]
  },
  {
   "cell_type": "code",
   "execution_count": 153,
   "id": "340f89e7-b1f9-4ec9-9e1a-89249aa08f41",
   "metadata": {
    "scrolled": true
   },
   "outputs": [
    {
     "data": {
      "text/plain": [
       "user_id                     0\n",
       "name                        8\n",
       "review_count                0\n",
       "yelping_since               0\n",
       "useful                      0\n",
       "funny                       0\n",
       "cool                        0\n",
       "elite                 1896699\n",
       "fans                        0\n",
       "average_stars               0\n",
       "compliment_hot              0\n",
       "compliment_more             0\n",
       "compliment_profile          0\n",
       "compliment_cute             0\n",
       "compliment_list             0\n",
       "compliment_note             0\n",
       "compliment_plain            0\n",
       "compliment_cool             0\n",
       "compliment_funny            0\n",
       "compliment_writer           0\n",
       "compliment_photos           0\n",
       "dtype: int64"
      ]
     },
     "execution_count": 153,
     "metadata": {},
     "output_type": "execute_result"
    }
   ],
   "source": [
    "# Quick check to count the number of null values per column\n",
    "df_u.isna().sum()"
   ]
  },
  {
   "cell_type": "code",
   "execution_count": 164,
   "id": "89655a39-e53c-4266-be1e-920c36ccf6e5",
   "metadata": {
    "scrolled": true
   },
   "outputs": [
    {
     "data": {
      "text/plain": [
       "user_id               0.0\n",
       "name                  0.0\n",
       "review_count          0.0\n",
       "yelping_since         0.0\n",
       "useful                0.0\n",
       "funny                 0.0\n",
       "cool                  0.0\n",
       "elite                 0.0\n",
       "fans                  0.0\n",
       "average_stars         0.0\n",
       "compliment_hot        0.0\n",
       "compliment_more       0.0\n",
       "compliment_profile    0.0\n",
       "compliment_cute       0.0\n",
       "compliment_list       0.0\n",
       "compliment_note       0.0\n",
       "compliment_plain      0.0\n",
       "compliment_cool       0.0\n",
       "compliment_funny      0.0\n",
       "compliment_writer     0.0\n",
       "compliment_photos     0.0\n",
       "dtype: float64"
      ]
     },
     "execution_count": 164,
     "metadata": {},
     "output_type": "execute_result"
    }
   ],
   "source": [
    "# Check for duplicate rows \n",
    "df_u[df_u.duplicated()].sum()"
   ]
  },
  {
   "cell_type": "markdown",
   "id": "1aa77cc9-1f0d-4fad-9cf4-08815c6499a1",
   "metadata": {},
   "source": [
    "## Users\n",
    "First column is a unique identifier assigned by Yelp for each user. Second column provides the users first name."
   ]
  },
  {
   "cell_type": "code",
   "execution_count": null,
   "id": "26f0350c-ebc1-470d-ad59-e4777308c217",
   "metadata": {},
   "outputs": [],
   "source": [
    "# May need to drop 8 rows that are missing user names"
   ]
  },
  {
   "cell_type": "markdown",
   "id": "9eb1d2bf-69f1-42a7-9d36-484c845a5958",
   "metadata": {},
   "source": [
    "## Review Count\n",
    "Column contains a count of how many reviews a user has provided."
   ]
  },
  {
   "cell_type": "code",
   "execution_count": null,
   "id": "2806b572-c2ea-4d1b-9d55-dff6b1d8d021",
   "metadata": {},
   "outputs": [],
   "source": [
    "# Histogram of review counts for all users"
   ]
  },
  {
   "cell_type": "markdown",
   "id": "af2ad296-6a4e-4642-bd49-ed345ec9d23b",
   "metadata": {},
   "source": [
    "## Yelping Since\n",
    "Column contains the date the user created their Yelp account."
   ]
  },
  {
   "cell_type": "code",
   "execution_count": null,
   "id": "7b16c1ae-3fa1-4f8e-bf50-815cd1bce3f7",
   "metadata": {},
   "outputs": [],
   "source": [
    "# Possibly unrelated to my goal but could preform a time series of register user on the site and spot any trends"
   ]
  },
  {
   "cell_type": "code",
   "execution_count": 155,
   "id": "3c7fefa4-035e-49a3-9c96-e7c657c8ef7f",
   "metadata": {},
   "outputs": [],
   "source": [
    "# Need to convert to date time"
   ]
  },
  {
   "cell_type": "markdown",
   "id": "7b6686c9-11f9-4f99-8733-a905c1f8fd4c",
   "metadata": {},
   "source": [
    "## Review Feedback\n",
    "Columns useful, funny, and cool all provide a count of feedback received from other users regarding their written reviews."
   ]
  },
  {
   "cell_type": "code",
   "execution_count": null,
   "id": "a08a91a9-6def-4d30-a140-2acd6ed05aae",
   "metadata": {},
   "outputs": [],
   "source": [
    "# Visualize responses to user reviews "
   ]
  },
  {
   "cell_type": "markdown",
   "id": "38694b8c-db2f-4c87-9a98-e6d982bcaf45",
   "metadata": {},
   "source": [
    "## Elite \n",
    "List of years a user was considered an 'elite' reviewer"
   ]
  },
  {
   "cell_type": "code",
   "execution_count": null,
   "id": "67a76cfd-8a1e-45c9-a516-e8062f999c73",
   "metadata": {},
   "outputs": [],
   "source": [
    "# May drop this column not sure is this will add value "
   ]
  },
  {
   "cell_type": "markdown",
   "id": "8590bd8f-eb47-4058-ae0d-0e3d519161a8",
   "metadata": {},
   "source": [
    "## Friends - Dropped\n",
    "The column contains a list of other user IDs who have connected as friends within the Yelp platform.\n",
    "The column was deleted before import to reduce the size of the data for computational efficiency. "
   ]
  },
  {
   "cell_type": "markdown",
   "id": "a7c0dd7c-6758-429f-8101-07cfae48f31f",
   "metadata": {},
   "source": [
    "## Fans\n",
    "Column contains a count of how many fans each user has. "
   ]
  },
  {
   "cell_type": "code",
   "execution_count": null,
   "id": "79f62a49-b49e-4ede-a3b0-2f49e18cea91",
   "metadata": {},
   "outputs": [],
   "source": [
    "# Histogram of distribution of fans"
   ]
  },
  {
   "cell_type": "markdown",
   "id": "e9410724-29bc-44b4-aeaf-405c66495199",
   "metadata": {},
   "source": [
    "## Average Stars\n",
    "Column contains average of all user ratings for businesses  "
   ]
  },
  {
   "cell_type": "code",
   "execution_count": null,
   "id": "ffd477cd-4fd8-46a6-b00e-2b4553f6f1d3",
   "metadata": {},
   "outputs": [],
   "source": [
    "# Create distribution plot of ratings "
   ]
  },
  {
   "cell_type": "markdown",
   "id": "1aff9729-2f30-4e8a-bac9-b3bbbcba07b2",
   "metadata": {},
   "source": [
    "## Compliments \n",
    "The last 11 columns contain counts for various compliments that other users can send each other. "
   ]
  },
  {
   "cell_type": "code",
   "execution_count": null,
   "id": "418a19c3-8e97-46aa-8fc5-4758c7c46688",
   "metadata": {},
   "outputs": [],
   "source": [
    "# Visualize the amount of compliments users receive"
   ]
  },
  {
   "cell_type": "markdown",
   "id": "93abddea-be8e-447e-89c7-de15ad527406",
   "metadata": {},
   "source": [
    "# Review Data Set\n",
    "#### Data Dictionary\n",
    "- **review_id**  \tUnique identifier for each review  \t**string**\n",
    "- **user_id**  \tUnique identifier for each user  \t**string**\n",
    "- **business_id**  \tUnique identifier for businesses  \t**string**\n",
    "- **stars**\trating given to the business between 1 and 5\t**float64**\n",
    "- **useful**\tcount of users who found the review useful\t**string**\n",
    "- **funny**\tcount of users who found the review funny\t**string**\n",
    "- **cool**\tcount of users who found the review cool\t**int64**\n",
    "- **text**\ttext of the review\t**int64**\n",
    "- **date**\tdate the user submitted the review\t**datetime**"
   ]
  },
  {
   "cell_type": "code",
   "execution_count": 158,
   "id": "0e328b8a-92fd-4f2b-9369-4eab19add44f",
   "metadata": {},
   "outputs": [],
   "source": [
    "# Reading CSV file into notebook and saving it to pandas df\n",
    "df_r = pd.read_csv('data/yelp_review.csv', index_col=0)"
   ]
  },
  {
   "cell_type": "code",
   "execution_count": 166,
   "id": "6a235cdf-041f-4e2d-ac47-134d9d4600e1",
   "metadata": {},
   "outputs": [
    {
     "data": {
      "text/plain": [
       "(6990280, 8)"
      ]
     },
     "execution_count": 166,
     "metadata": {},
     "output_type": "execute_result"
    }
   ],
   "source": [
    "# Shape of data frame\n",
    "df_r.shape"
   ]
  },
  {
   "cell_type": "code",
   "execution_count": 159,
   "id": "3bf359ef-6d7c-4046-80df-7f1d647a9b11",
   "metadata": {},
   "outputs": [
    {
     "data": {
      "text/html": [
       "<div>\n",
       "<style scoped>\n",
       "    .dataframe tbody tr th:only-of-type {\n",
       "        vertical-align: middle;\n",
       "    }\n",
       "\n",
       "    .dataframe tbody tr th {\n",
       "        vertical-align: top;\n",
       "    }\n",
       "\n",
       "    .dataframe thead th {\n",
       "        text-align: right;\n",
       "    }\n",
       "</style>\n",
       "<table border=\"1\" class=\"dataframe\">\n",
       "  <thead>\n",
       "    <tr style=\"text-align: right;\">\n",
       "      <th></th>\n",
       "      <th>review_id</th>\n",
       "      <th>user_id</th>\n",
       "      <th>business_id</th>\n",
       "      <th>stars</th>\n",
       "      <th>useful</th>\n",
       "      <th>funny</th>\n",
       "      <th>cool</th>\n",
       "      <th>date</th>\n",
       "    </tr>\n",
       "  </thead>\n",
       "  <tbody>\n",
       "    <tr>\n",
       "      <th>0</th>\n",
       "      <td>KU_O5udG6zpxOg-VcAEodg</td>\n",
       "      <td>mh_-eMZ6K5RLWhZyISBhwA</td>\n",
       "      <td>XQfwVwDr-v0ZS3_CbbE5Xw</td>\n",
       "      <td>3.0</td>\n",
       "      <td>0</td>\n",
       "      <td>0</td>\n",
       "      <td>0</td>\n",
       "      <td>2018-07-07 22:09:11</td>\n",
       "    </tr>\n",
       "    <tr>\n",
       "      <th>1</th>\n",
       "      <td>BiTunyQ73aT9WBnpR9DZGw</td>\n",
       "      <td>OyoGAe7OKpv6SyGZT5g77Q</td>\n",
       "      <td>7ATYjTIgM3jUlt4UM3IypQ</td>\n",
       "      <td>5.0</td>\n",
       "      <td>1</td>\n",
       "      <td>0</td>\n",
       "      <td>1</td>\n",
       "      <td>2012-01-03 15:28:18</td>\n",
       "    </tr>\n",
       "    <tr>\n",
       "      <th>2</th>\n",
       "      <td>saUsX_uimxRlCVr67Z4Jig</td>\n",
       "      <td>8g_iMtfSiwikVnbP2etR0A</td>\n",
       "      <td>YjUWPpI6HXG530lwP-fb2A</td>\n",
       "      <td>3.0</td>\n",
       "      <td>0</td>\n",
       "      <td>0</td>\n",
       "      <td>0</td>\n",
       "      <td>2014-02-05 20:30:30</td>\n",
       "    </tr>\n",
       "    <tr>\n",
       "      <th>3</th>\n",
       "      <td>AqPFMleE6RsU23_auESxiA</td>\n",
       "      <td>_7bHUi9Uuf5__HHc_Q8guQ</td>\n",
       "      <td>kxX2SOes4o-D3ZQBkiMRfA</td>\n",
       "      <td>5.0</td>\n",
       "      <td>1</td>\n",
       "      <td>0</td>\n",
       "      <td>1</td>\n",
       "      <td>2015-01-04 00:01:03</td>\n",
       "    </tr>\n",
       "    <tr>\n",
       "      <th>4</th>\n",
       "      <td>Sx8TMOWLNuJBWer-0pcmoA</td>\n",
       "      <td>bcjbaE6dDog4jkNY91ncLQ</td>\n",
       "      <td>e4Vwtrqf-wpJfwesgvdgxQ</td>\n",
       "      <td>4.0</td>\n",
       "      <td>1</td>\n",
       "      <td>0</td>\n",
       "      <td>1</td>\n",
       "      <td>2017-01-14 20:54:15</td>\n",
       "    </tr>\n",
       "  </tbody>\n",
       "</table>\n",
       "</div>"
      ],
      "text/plain": [
       "                review_id                 user_id             business_id  \\\n",
       "0  KU_O5udG6zpxOg-VcAEodg  mh_-eMZ6K5RLWhZyISBhwA  XQfwVwDr-v0ZS3_CbbE5Xw   \n",
       "1  BiTunyQ73aT9WBnpR9DZGw  OyoGAe7OKpv6SyGZT5g77Q  7ATYjTIgM3jUlt4UM3IypQ   \n",
       "2  saUsX_uimxRlCVr67Z4Jig  8g_iMtfSiwikVnbP2etR0A  YjUWPpI6HXG530lwP-fb2A   \n",
       "3  AqPFMleE6RsU23_auESxiA  _7bHUi9Uuf5__HHc_Q8guQ  kxX2SOes4o-D3ZQBkiMRfA   \n",
       "4  Sx8TMOWLNuJBWer-0pcmoA  bcjbaE6dDog4jkNY91ncLQ  e4Vwtrqf-wpJfwesgvdgxQ   \n",
       "\n",
       "   stars  useful  funny  cool                 date  \n",
       "0    3.0       0      0     0  2018-07-07 22:09:11  \n",
       "1    5.0       1      0     1  2012-01-03 15:28:18  \n",
       "2    3.0       0      0     0  2014-02-05 20:30:30  \n",
       "3    5.0       1      0     1  2015-01-04 00:01:03  \n",
       "4    4.0       1      0     1  2017-01-14 20:54:15  "
      ]
     },
     "execution_count": 159,
     "metadata": {},
     "output_type": "execute_result"
    }
   ],
   "source": [
    "# Quick peak into data \n",
    "df_r.head()"
   ]
  },
  {
   "cell_type": "code",
   "execution_count": 160,
   "id": "de58157a-93e2-4945-bdf1-aa4dfd8bf60d",
   "metadata": {
    "scrolled": true
   },
   "outputs": [
    {
     "name": "stdout",
     "output_type": "stream",
     "text": [
      "<class 'pandas.core.frame.DataFrame'>\n",
      "Int64Index: 6990280 entries, 0 to 6990279\n",
      "Data columns (total 8 columns):\n",
      " #   Column       Dtype  \n",
      "---  ------       -----  \n",
      " 0   review_id    object \n",
      " 1   user_id      object \n",
      " 2   business_id  object \n",
      " 3   stars        float64\n",
      " 4   useful       int64  \n",
      " 5   funny        int64  \n",
      " 6   cool         int64  \n",
      " 7   date         object \n",
      "dtypes: float64(1), int64(3), object(4)\n",
      "memory usage: 480.0+ MB\n"
     ]
    }
   ],
   "source": [
    "# Gives me a a quick look at the data types for each column, number of entries, and columns.\n",
    "df_r.info()"
   ]
  },
  {
   "cell_type": "code",
   "execution_count": 161,
   "id": "38ec21de-f75b-4ec4-8452-1731733d97a3",
   "metadata": {
    "scrolled": true
   },
   "outputs": [
    {
     "data": {
      "text/plain": [
       "review_id      0\n",
       "user_id        0\n",
       "business_id    0\n",
       "stars          0\n",
       "useful         0\n",
       "funny          0\n",
       "cool           0\n",
       "date           0\n",
       "dtype: int64"
      ]
     },
     "execution_count": 161,
     "metadata": {},
     "output_type": "execute_result"
    }
   ],
   "source": [
    "# Quick check to count the number of null values per column\n",
    "df_r.isna().sum()"
   ]
  },
  {
   "cell_type": "code",
   "execution_count": 163,
   "id": "b5058626-e9ca-4bb5-9c3a-0d6babd292b2",
   "metadata": {},
   "outputs": [
    {
     "data": {
      "text/plain": [
       "review_id      0.0\n",
       "user_id        0.0\n",
       "business_id    0.0\n",
       "stars          0.0\n",
       "useful         0.0\n",
       "funny          0.0\n",
       "cool           0.0\n",
       "date           0.0\n",
       "dtype: float64"
      ]
     },
     "execution_count": 163,
     "metadata": {},
     "output_type": "execute_result"
    }
   ],
   "source": [
    "# Check for duplicate rows \n",
    "df_r[df_r.duplicated()].sum()"
   ]
  },
  {
   "cell_type": "markdown",
   "id": "5758d32f-cd80-4bb2-96bd-250891a39bd5",
   "metadata": {},
   "source": [
    "The data set needs minimal cleaning; there is definitely a lot of value to be discovered as I explore relationships between users, businesses, and their ratings. "
   ]
  },
  {
   "cell_type": "markdown",
   "id": "6f449310-c4d2-415d-abd4-73ab041b44de",
   "metadata": {},
   "source": [
    "## Unique Identifiers\n",
    "The first column contains a unique identifier for each review. The second and Third column are foreign keys to link with the business and user data tables.  "
   ]
  },
  {
   "cell_type": "code",
   "execution_count": null,
   "id": "bc90ceef-b89f-4a56-b655-ef976d6f024b",
   "metadata": {},
   "outputs": [],
   "source": [
    "# Count NaNs"
   ]
  },
  {
   "cell_type": "markdown",
   "id": "c9dbf032-0889-46d2-90b6-387d21043b92",
   "metadata": {},
   "source": [
    "## Stars\n",
    "Column contains the rating between 1 and 5 given to the specificfied business. "
   ]
  },
  {
   "cell_type": "code",
   "execution_count": null,
   "id": "868e257f-12a6-4ff0-8074-6fa43fede8a4",
   "metadata": {},
   "outputs": [],
   "source": [
    "# Create a distribution plot for stars "
   ]
  },
  {
   "cell_type": "markdown",
   "id": "66f45576-1b5f-4355-b534-dabf50bd980c",
   "metadata": {},
   "source": [
    "## Review Feedback\n",
    "Columns useful, funny, and cool all provide a count of feedback received from other users regarding their written review."
   ]
  },
  {
   "cell_type": "code",
   "execution_count": null,
   "id": "591bf14f-28f8-4d2b-b556-182c3bb08df0",
   "metadata": {},
   "outputs": [],
   "source": [
    "# May be unrelated to my goal but I could find correlations between feedback and stars given to a business "
   ]
  },
  {
   "cell_type": "markdown",
   "id": "1e9ffe41-4799-4d87-99e1-616b97934e23",
   "metadata": {},
   "source": [
    "## Text - Dropped\n",
    "The column contains the user's written review.\n",
    "The column was deleted before import to reduce the size of the data for computational efficiency. \n",
    "I may do a separate NLP analysis in the future to gain potential insights. "
   ]
  },
  {
   "cell_type": "markdown",
   "id": "578785c0-b5f1-4bee-82f8-3ec488f2685d",
   "metadata": {},
   "source": [
    "## Date\n",
    "Column contains a date-time object for the date the review was submitted. "
   ]
  },
  {
   "cell_type": "code",
   "execution_count": null,
   "id": "0f2d5edb-8164-4590-818e-aa6d56f0fac9",
   "metadata": {},
   "outputs": [],
   "source": [
    "# Time series analysis?"
   ]
  },
  {
   "cell_type": "markdown",
   "id": "90506664-7edc-46ad-8015-fec87826d9d9",
   "metadata": {},
   "source": []
  },
  {
   "cell_type": "markdown",
   "id": "7a3bd791-5978-490a-9678-0e2c09cf0883",
   "metadata": {},
   "source": []
  },
  {
   "cell_type": "markdown",
   "id": "68a28dcd-113a-41dc-80d9-b47f93db9e44",
   "metadata": {},
   "source": []
  },
  {
   "cell_type": "code",
   "execution_count": null,
   "id": "0f1bcdb5-420b-4764-9940-caa6ff2e348a",
   "metadata": {},
   "outputs": [],
   "source": []
  },
  {
   "cell_type": "code",
   "execution_count": null,
   "id": "7debcd8d-7a32-4ce9-9a6f-2446b1df5f38",
   "metadata": {},
   "outputs": [],
   "source": []
  },
  {
   "cell_type": "code",
   "execution_count": null,
   "id": "91e27260-9617-4967-9c7a-65471a7d0e80",
   "metadata": {},
   "outputs": [],
   "source": []
  },
  {
   "cell_type": "code",
   "execution_count": null,
   "id": "b637efce-dd50-4366-95a9-c5d8437e95f0",
   "metadata": {},
   "outputs": [],
   "source": []
  },
  {
   "cell_type": "code",
   "execution_count": null,
   "id": "a7364af8-f04a-4ec6-bde7-34eca0d43441",
   "metadata": {},
   "outputs": [],
   "source": []
  }
 ],
 "metadata": {
  "kernelspec": {
   "display_name": "Python 3 (ipykernel)",
   "language": "python",
   "name": "python3"
  },
  "language_info": {
   "codemirror_mode": {
    "name": "ipython",
    "version": 3
   },
   "file_extension": ".py",
   "mimetype": "text/x-python",
   "name": "python",
   "nbconvert_exporter": "python",
   "pygments_lexer": "ipython3",
   "version": "3.11.5"
  }
 },
 "nbformat": 4,
 "nbformat_minor": 5
}
